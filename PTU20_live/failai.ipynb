{
 "cells": [
  {
   "cell_type": "code",
   "execution_count": 34,
   "metadata": {},
   "outputs": [
    {
     "name": "stdout",
     "output_type": "stream",
     "text": [
      "42\n"
     ]
    }
   ],
   "source": [
    "with open(\"daiktai.txt\", \"a\") as daiktu_f:\n",
    "    print(daiktu_f.tell())\n",
    "    # daiktu_f.write(\"dangtis\\n\")\n"
   ]
  },
  {
   "cell_type": "code",
   "execution_count": 39,
   "metadata": {},
   "outputs": [
    {
     "name": "stdout",
     "output_type": "stream",
     "text": [
      "Pradinis turinys:\n",
      " Poperius\n",
      "ankas\n",
      "kibiras\n",
      "akmuo\n",
      "dangtis\n",
      "\n",
      "\n",
      "Pakeistas:\n",
      " Poperiux\n",
      "ankas\n",
      "kibiras\n",
      "akmuo\n",
      "dangtis\n",
      "\n"
     ]
    }
   ],
   "source": [
    "with open(\"daiktai.txt\", \"r+\") as failas:\n",
    "    # Skaitymas\n",
    "    turinys = failas.read()\n",
    "    print(\"Pradinis turinys:\\n\", turinys)\n",
    "\n",
    "    # Rašymas\n",
    "    failas.seek(0)\n",
    "    failas.write(\"Poperiux\\n\")\n",
    "\n",
    "    failas.seek(0)\n",
    "    turinys = failas.read()\n",
    "    print(\"\\nPakeistas:\\n\", turinys)\n"
   ]
  },
  {
   "cell_type": "code",
   "execution_count": 42,
   "metadata": {},
   "outputs": [
    {
     "name": "stdout",
     "output_type": "stream",
     "text": [
      "18\n",
      "Poperiux\n",
      "Tankas\n",
      "kibaaaa\n",
      "akmuo\n",
      "dangtis\n",
      "\n"
     ]
    }
   ],
   "source": [
    "with open(\"daiktai.txt\", \"r+\") as failas:\n",
    "    visi = failas.read()\n",
    "    kur_kibiras = visi.find(\"kibiras\") + visi.count(\"\\n\", 0, visi.find(\"kibiras\"))\n",
    "    print(kur_kibiras)\n",
    "    failas.seek(kur_kibiras + 3)\n",
    "    failas.write(\"aaaa\")\n",
    "    failas.seek(0)\n",
    "    visi = failas.read()\n",
    "    print(visi)"
   ]
  },
  {
   "cell_type": "code",
   "execution_count": 43,
   "metadata": {},
   "outputs": [],
   "source": [
    "import json"
   ]
  },
  {
   "cell_type": "code",
   "execution_count": 44,
   "metadata": {},
   "outputs": [
    {
     "name": "stdout",
     "output_type": "stream",
     "text": [
      "{\"vardas\": \"Jonas\", \"pavard\\u0117\": \"Kibirinis\", \"am\\u017eius\": 40}\n"
     ]
    }
   ],
   "source": [
    "zmogus = {\n",
    "    \"vardas\": \"Jonas\",\n",
    "    \"pavardė\": \"Kibirinis\",\n",
    "    \"amžius\": 40,\n",
    "}\n",
    "print(json.dumps(zmogus))"
   ]
  },
  {
   "cell_type": "code",
   "execution_count": 45,
   "metadata": {},
   "outputs": [],
   "source": [
    "with open(\"zmogus.json\", \"w\", encoding=\"utf-8\") as zmogaus_f:\n",
    "    json.dump(zmogus, zmogaus_f)\n"
   ]
  },
  {
   "cell_type": "code",
   "execution_count": 46,
   "metadata": {},
   "outputs": [
    {
     "name": "stdout",
     "output_type": "stream",
     "text": [
      "{'vardas': 'Jonas', 'amžius': 30, 'ar_studentas': False, 'pomėgiai': ['knygos', 'filmai', 'kelionės'], 'adresas': {'gatvė': 'Vytauto g. 10', 'miestas': 'Vilnius', 'šalis': 'Lietuva'}}\n"
     ]
    }
   ],
   "source": [
    "with open(\"asmuo.json\", \"r\", encoding=\"utf-8\") as asmens_f:\n",
    "    asmuo = json.load(asmens_f)\n",
    "\n",
    "print(asmuo)"
   ]
  },
  {
   "cell_type": "code",
   "execution_count": 49,
   "metadata": {},
   "outputs": [
    {
     "name": "stdout",
     "output_type": "stream",
     "text": [
      "{'vardas': 'Kazys', 'batų dydis': 46}\n"
     ]
    }
   ],
   "source": [
    "json_data = '{\"vardas\": \"Kazys\", \"batų dydis\": 46}'\n",
    "kazys = json.loads(json_data)\n",
    "print(kazys)"
   ]
  }
 ],
 "metadata": {
  "kernelspec": {
   "display_name": "venv",
   "language": "python",
   "name": "python3"
  },
  "language_info": {
   "codemirror_mode": {
    "name": "ipython",
    "version": 3
   },
   "file_extension": ".py",
   "mimetype": "text/x-python",
   "name": "python",
   "nbconvert_exporter": "python",
   "pygments_lexer": "ipython3",
   "version": "3.12.1"
  }
 },
 "nbformat": 4,
 "nbformat_minor": 2
}
