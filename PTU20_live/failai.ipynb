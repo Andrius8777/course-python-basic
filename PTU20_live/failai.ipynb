{
 "cells": [
  {
   "cell_type": "code",
   "execution_count": 34,
   "metadata": {},
   "outputs": [
    {
     "name": "stdout",
     "output_type": "stream",
     "text": [
      "EILUTE\n"
     ]
    }
   ],
   "source": [
    "with open(\"pakeitimai.txt\", \"r\") as failai:\n",
    "    turinys = failai.readline()\n",
    "    naujas_turinys = turinys.swapcase()\n",
    "    print(naujas_turinys)"
   ]
  },
  {
   "cell_type": "code",
   "execution_count": 38,
   "metadata": {},
   "outputs": [],
   "source": [
    "with open(\"skaiciai.txt\", \"w+\") as failai:\n",
    "    for eilutes in range(1, 100):\n",
    "        failai.write(f'{eilutes}\\n')\n",
    "\n",
    "        "
   ]
  },
  {
   "cell_type": "code",
   "execution_count": 70,
   "metadata": {},
   "outputs": [
    {
     "name": "stdout",
     "output_type": "stream",
     "text": [
      "švelniai.\n",
      "Vakare vėjas šnypščia medžius.\n",
      "Vėjas nerimsta, šnypščia ir švilpia.\n"
     ]
    }
   ],
   "source": [
    "with open(\"tekstas.txt\", \"r\", encoding='UTF-8') as failas:\n",
    "    failas.seek(0, 2)\n",
    "    failo_ilgis = failas.tell()\n",
    "    vidurys = failo_ilgis // 4\n",
    "\n",
    "    failas.seek(vidurys - 3)\n",
    "    likusi_dalis = failas.read()\n",
    "    print(likusi_dalis)"
   ]
  },
  {
   "cell_type": "code",
   "execution_count": 74,
   "metadata": {},
   "outputs": [],
   "source": [
    "import json"
   ]
  },
  {
   "cell_type": "code",
   "execution_count": 75,
   "metadata": {},
   "outputs": [
    {
     "name": "stdout",
     "output_type": "stream",
     "text": [
      "{\"vardas\": \"jonas\", \"pavarde\": \"balvonas\"}\n"
     ]
    }
   ],
   "source": [
    "zmogus = {\n",
    "    \"vardas\": \"jonas\",\n",
    "    \"pavarde\": \"balvonas\"\n",
    "}\n",
    "print(json.dumps(zmogus))"
   ]
  }
 ],
 "metadata": {
  "kernelspec": {
   "display_name": "venv",
   "language": "python",
   "name": "python3"
  },
  "language_info": {
   "codemirror_mode": {
    "name": "ipython",
    "version": 3
   },
   "file_extension": ".py",
   "mimetype": "text/x-python",
   "name": "python",
   "nbconvert_exporter": "python",
   "pygments_lexer": "ipython3",
   "version": "3.12.1"
  }
 },
 "nbformat": 4,
 "nbformat_minor": 2
}
