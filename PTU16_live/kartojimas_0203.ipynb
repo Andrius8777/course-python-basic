{
 "cells": [
  {
   "cell_type": "markdown",
   "metadata": {},
   "source": [
    "## Variables"
   ]
  },
  {
   "cell_type": "code",
   "execution_count": 924,
   "metadata": {},
   "outputs": [
    {
     "name": "stdout",
     "output_type": "stream",
     "text": [
      "1 2 3\n"
     ]
    }
   ],
   "source": [
    "vienas, du, trys = 1, 2, 3\n",
    "print(vienas, du, trys)"
   ]
  },
  {
   "cell_type": "code",
   "execution_count": 925,
   "metadata": {},
   "outputs": [
    {
     "name": "stdout",
     "output_type": "stream",
     "text": [
      "vienetukas\n",
      "1\n"
     ]
    }
   ],
   "source": [
    "Vienas = \"vienetukas\"\n",
    "print(Vienas)\n",
    "print(vienas)"
   ]
  },
  {
   "cell_type": "code",
   "execution_count": 926,
   "metadata": {},
   "outputs": [
    {
     "name": "stdout",
     "output_type": "stream",
     "text": [
      "<class 'int'>\n",
      "<class 'str'>\n",
      "<class 'float'>\n"
     ]
    }
   ],
   "source": [
    "x = 5\n",
    "y = \"Hello, world!\"\n",
    "z = 3.14\n",
    "print(type(x))  # išspausdina <class 'int'>\n",
    "print(type(y))  # išspausdina <class 'str'>\n",
    "print(type(z))  # išspausdina <class 'float'>"
   ]
  },
  {
   "cell_type": "code",
   "execution_count": 927,
   "metadata": {},
   "outputs": [
    {
     "name": "stdout",
     "output_type": "stream",
     "text": [
      "10 5\n",
      "5 7\n"
     ]
    }
   ],
   "source": [
    "pirmas = 10\n",
    "antras = 5\n",
    "print(pirmas, antras)\n",
    "pirmas = antras\n",
    "antras = 7\n",
    "print(pirmas, antras)"
   ]
  },
  {
   "cell_type": "code",
   "execution_count": 928,
   "metadata": {},
   "outputs": [
    {
     "name": "stdout",
     "output_type": "stream",
     "text": [
      "6.0 <class 'float'>\n"
     ]
    }
   ],
   "source": [
    "pusantro = 1.5\n",
    "sesi = pusantro * 4\n",
    "print(sesi, type(sesi))"
   ]
  },
  {
   "cell_type": "markdown",
   "metadata": {},
   "source": [
    "## Basic Logic"
   ]
  },
  {
   "cell_type": "code",
   "execution_count": 929,
   "metadata": {},
   "outputs": [
    {
     "name": "stdout",
     "output_type": "stream",
     "text": [
      "a ir b yra lygūs\n"
     ]
    }
   ],
   "source": [
    "a = 10\n",
    "b = 10\n",
    "if a == b:\n",
    "    print(\"a ir b yra lygūs\")\n",
    "else:\n",
    "    print(\"a ir b nėra lygūs\")"
   ]
  },
  {
   "cell_type": "code",
   "execution_count": 930,
   "metadata": {},
   "outputs": [
    {
     "data": {
      "text/plain": [
       "True"
      ]
     },
     "execution_count": 930,
     "metadata": {},
     "output_type": "execute_result"
    }
   ],
   "source": [
    "c = a == b\n",
    "c"
   ]
  },
  {
   "cell_type": "code",
   "execution_count": 931,
   "metadata": {},
   "outputs": [
    {
     "name": "stdout",
     "output_type": "stream",
     "text": [
      "a ir b yra lygūs\n"
     ]
    }
   ],
   "source": [
    "a = 10\n",
    "b = 10\n",
    "if a != b:\n",
    "    print(\"a ir b yra nelygūs\")\n",
    "else:\n",
    "    print(\"a ir b yra lygūs\")"
   ]
  },
  {
   "cell_type": "code",
   "execution_count": 932,
   "metadata": {},
   "outputs": [
    {
     "name": "stdout",
     "output_type": "stream",
     "text": [
      "False\n"
     ]
    }
   ],
   "source": [
    "print(a != b)"
   ]
  },
  {
   "cell_type": "code",
   "execution_count": 933,
   "metadata": {},
   "outputs": [
    {
     "name": "stdout",
     "output_type": "stream",
     "text": [
      "b yra didesnis arba lygus a\n"
     ]
    }
   ],
   "source": [
    "a = 10\n",
    "b = 10\n",
    "if b < a:\n",
    "    print(\"b yra mažesnis nei a\")\n",
    "else:\n",
    "    print(\"b yra didesnis arba lygus a\")"
   ]
  },
  {
   "cell_type": "code",
   "execution_count": 934,
   "metadata": {},
   "outputs": [
    {
     "name": "stdout",
     "output_type": "stream",
     "text": [
      "True\n"
     ]
    }
   ],
   "source": [
    "print(b <= a)"
   ]
  },
  {
   "cell_type": "code",
   "execution_count": 935,
   "metadata": {},
   "outputs": [
    {
     "name": "stdout",
     "output_type": "stream",
     "text": [
      "True\n",
      "False\n"
     ]
    }
   ],
   "source": [
    "x = True\n",
    "y = False\n",
    "\n",
    "print(x) # išvestų \"True\"\n",
    "print(y) # išvestų \"False\""
   ]
  },
  {
   "cell_type": "code",
   "execution_count": 936,
   "metadata": {},
   "outputs": [
    {
     "name": "stdout",
     "output_type": "stream",
     "text": [
      "True\n"
     ]
    }
   ],
   "source": [
    "a = 10\n",
    "b = 5\n",
    "teiginys = a > b\n",
    "print(teiginys)"
   ]
  },
  {
   "cell_type": "code",
   "execution_count": 937,
   "metadata": {},
   "outputs": [
    {
     "name": "stdout",
     "output_type": "stream",
     "text": [
      "a yra didesnis už b\n",
      "teiginys: True\n"
     ]
    }
   ],
   "source": [
    "if teiginys:\n",
    "    print(\"a yra didesnis už b\")\n",
    "else:\n",
    "    print(\"a yra mažesnis arba lygus b\")\n",
    "\n",
    "# pasitikrinimui\n",
    "print(f\"teiginys: {teiginys}\")"
   ]
  },
  {
   "cell_type": "code",
   "execution_count": 938,
   "metadata": {},
   "outputs": [
    {
     "data": {
      "text/plain": [
       "bool"
      ]
     },
     "execution_count": 938,
     "metadata": {},
     "output_type": "execute_result"
    }
   ],
   "source": [
    "type(teiginys)"
   ]
  },
  {
   "cell_type": "code",
   "execution_count": 939,
   "metadata": {},
   "outputs": [
    {
     "data": {
      "text/plain": [
       "True"
      ]
     },
     "execution_count": 939,
     "metadata": {},
     "output_type": "execute_result"
    }
   ],
   "source": [
    "True == 1"
   ]
  },
  {
   "cell_type": "code",
   "execution_count": 940,
   "metadata": {},
   "outputs": [
    {
     "data": {
      "text/plain": [
       "True"
      ]
     },
     "execution_count": 940,
     "metadata": {},
     "output_type": "execute_result"
    }
   ],
   "source": [
    "False == 0"
   ]
  },
  {
   "cell_type": "code",
   "execution_count": 941,
   "metadata": {},
   "outputs": [
    {
     "data": {
      "text/plain": [
       "False"
      ]
     },
     "execution_count": 941,
     "metadata": {},
     "output_type": "execute_result"
    }
   ],
   "source": [
    "True == False"
   ]
  },
  {
   "cell_type": "code",
   "execution_count": 942,
   "metadata": {},
   "outputs": [
    {
     "data": {
      "text/plain": [
       "True"
      ]
     },
     "execution_count": 942,
     "metadata": {},
     "output_type": "execute_result"
    }
   ],
   "source": [
    "True != False"
   ]
  },
  {
   "cell_type": "code",
   "execution_count": 943,
   "metadata": {},
   "outputs": [
    {
     "data": {
      "text/plain": [
       "True"
      ]
     },
     "execution_count": 943,
     "metadata": {},
     "output_type": "execute_result"
    }
   ],
   "source": [
    "True > False"
   ]
  },
  {
   "cell_type": "code",
   "execution_count": 944,
   "metadata": {},
   "outputs": [
    {
     "data": {
      "text/plain": [
       "False"
      ]
     },
     "execution_count": 944,
     "metadata": {},
     "output_type": "execute_result"
    }
   ],
   "source": [
    "True < False"
   ]
  },
  {
   "cell_type": "code",
   "execution_count": 945,
   "metadata": {},
   "outputs": [],
   "source": [
    "skaicius = 17\n",
    "kitas = 0"
   ]
  },
  {
   "cell_type": "code",
   "execution_count": 946,
   "metadata": {},
   "outputs": [
    {
     "name": "stdout",
     "output_type": "stream",
     "text": [
      "suveike\n"
     ]
    }
   ],
   "source": [
    "if skaicius:\n",
    "    print(\"suveike\")"
   ]
  },
  {
   "cell_type": "code",
   "execution_count": 947,
   "metadata": {},
   "outputs": [
    {
     "name": "stdout",
     "output_type": "stream",
     "text": [
      "oops\n"
     ]
    }
   ],
   "source": [
    "if kitas:\n",
    "    print(\"suveike\")\n",
    "else:\n",
    "    print(\"oops\")"
   ]
  },
  {
   "cell_type": "code",
   "execution_count": 948,
   "metadata": {},
   "outputs": [
    {
     "name": "stdout",
     "output_type": "stream",
     "text": [
      "3\n"
     ]
    }
   ],
   "source": [
    "kitas = 3\n",
    "print(skaicius and kitas)"
   ]
  },
  {
   "cell_type": "code",
   "execution_count": 949,
   "metadata": {},
   "outputs": [
    {
     "name": "stdout",
     "output_type": "stream",
     "text": [
      "Kazko truksta\n"
     ]
    }
   ],
   "source": [
    "kitas = False\n",
    "if skaicius and kitas:\n",
    "    print(\"abu skaiciai yra\")\n",
    "else:\n",
    "    print(\"Kazko truksta\")"
   ]
  },
  {
   "cell_type": "code",
   "execution_count": 950,
   "metadata": {},
   "outputs": [
    {
     "name": "stdout",
     "output_type": "stream",
     "text": [
      "bent vienas skaicius yra OK\n"
     ]
    }
   ],
   "source": [
    "kitas = False\n",
    "if skaicius or kitas:\n",
    "    print(\"bent vienas skaicius yra OK\")\n",
    "else:\n",
    "    print(\"Kazko truksta\")"
   ]
  },
  {
   "cell_type": "code",
   "execution_count": 951,
   "metadata": {},
   "outputs": [
    {
     "name": "stdout",
     "output_type": "stream",
     "text": [
      "17\n"
     ]
    }
   ],
   "source": [
    "print(kitas or skaicius)"
   ]
  },
  {
   "cell_type": "code",
   "execution_count": 952,
   "metadata": {},
   "outputs": [
    {
     "name": "stdout",
     "output_type": "stream",
     "text": [
      "Abu teiginiai yra tiesa\n"
     ]
    }
   ],
   "source": [
    "a = 10\n",
    "b = 5\n",
    "if a > 5 and b < 10:\n",
    "    print(\"Abu teiginiai yra tiesa\")\n",
    "else:\n",
    "    print(\"Vienas ar abu teiginiai yra netiesa\")"
   ]
  },
  {
   "cell_type": "code",
   "execution_count": 953,
   "metadata": {},
   "outputs": [
    {
     "data": {
      "text/plain": [
       "False"
      ]
     },
     "execution_count": 953,
     "metadata": {},
     "output_type": "execute_result"
    }
   ],
   "source": [
    "True and False"
   ]
  },
  {
   "cell_type": "code",
   "execution_count": 954,
   "metadata": {},
   "outputs": [
    {
     "data": {
      "text/plain": [
       "False"
      ]
     },
     "execution_count": 954,
     "metadata": {},
     "output_type": "execute_result"
    }
   ],
   "source": [
    "False and False"
   ]
  },
  {
   "cell_type": "code",
   "execution_count": 955,
   "metadata": {},
   "outputs": [
    {
     "data": {
      "text/plain": [
       "True"
      ]
     },
     "execution_count": 955,
     "metadata": {},
     "output_type": "execute_result"
    }
   ],
   "source": [
    "True and True"
   ]
  },
  {
   "cell_type": "code",
   "execution_count": 956,
   "metadata": {},
   "outputs": [
    {
     "data": {
      "text/plain": [
       "True"
      ]
     },
     "execution_count": 956,
     "metadata": {},
     "output_type": "execute_result"
    }
   ],
   "source": [
    "False or True"
   ]
  },
  {
   "cell_type": "code",
   "execution_count": 957,
   "metadata": {},
   "outputs": [
    {
     "data": {
      "text/plain": [
       "True"
      ]
     },
     "execution_count": 957,
     "metadata": {},
     "output_type": "execute_result"
    }
   ],
   "source": [
    "True or True"
   ]
  },
  {
   "cell_type": "code",
   "execution_count": 958,
   "metadata": {},
   "outputs": [
    {
     "data": {
      "text/plain": [
       "True"
      ]
     },
     "execution_count": 958,
     "metadata": {},
     "output_type": "execute_result"
    }
   ],
   "source": [
    "not (False and False)"
   ]
  },
  {
   "cell_type": "code",
   "execution_count": 959,
   "metadata": {},
   "outputs": [
    {
     "data": {
      "text/plain": [
       "True"
      ]
     },
     "execution_count": 959,
     "metadata": {},
     "output_type": "execute_result"
    }
   ],
   "source": [
    "not False and True"
   ]
  },
  {
   "cell_type": "code",
   "execution_count": 960,
   "metadata": {},
   "outputs": [
    {
     "data": {
      "text/plain": [
       "False"
      ]
     },
     "execution_count": 960,
     "metadata": {},
     "output_type": "execute_result"
    }
   ],
   "source": [
    "not True and True"
   ]
  },
  {
   "cell_type": "code",
   "execution_count": 961,
   "metadata": {},
   "outputs": [
    {
     "data": {
      "text/plain": [
       "True"
      ]
     },
     "execution_count": 961,
     "metadata": {},
     "output_type": "execute_result"
    }
   ],
   "source": [
    "not True or True"
   ]
  },
  {
   "cell_type": "code",
   "execution_count": 962,
   "metadata": {},
   "outputs": [
    {
     "data": {
      "text/plain": [
       "True"
      ]
     },
     "execution_count": 962,
     "metadata": {},
     "output_type": "execute_result"
    }
   ],
   "source": [
    "a = 10\n",
    "b = 5\n",
    "c = 20\n",
    "d = a > b and b < c or c != 20\n",
    "d"
   ]
  },
  {
   "cell_type": "code",
   "execution_count": 963,
   "metadata": {},
   "outputs": [
    {
     "data": {
      "text/plain": [
       "1.0"
      ]
     },
     "execution_count": 963,
     "metadata": {},
     "output_type": "execute_result"
    }
   ],
   "source": [
    "a = 5\n",
    "# a *= 5\n",
    "a /= 5\n",
    "a"
   ]
  },
  {
   "cell_type": "code",
   "execution_count": 964,
   "metadata": {},
   "outputs": [
    {
     "data": {
      "text/plain": [
       "65536"
      ]
     },
     "execution_count": 964,
     "metadata": {},
     "output_type": "execute_result"
    }
   ],
   "source": [
    "2 ** 16"
   ]
  },
  {
   "cell_type": "code",
   "execution_count": 965,
   "metadata": {},
   "outputs": [
    {
     "data": {
      "text/plain": [
       "5832"
      ]
     },
     "execution_count": 965,
     "metadata": {},
     "output_type": "execute_result"
    }
   ],
   "source": [
    "18 ** 3"
   ]
  },
  {
   "cell_type": "code",
   "execution_count": 966,
   "metadata": {},
   "outputs": [
    {
     "data": {
      "text/plain": [
       "0.0101"
      ]
     },
     "execution_count": 966,
     "metadata": {},
     "output_type": "execute_result"
    }
   ],
   "source": [
    "kisene = 0.01\n",
    "palukanos = 0.01\n",
    "po_minutes = kisene * (1 + palukanos)\n",
    "po_minutes"
   ]
  },
  {
   "cell_type": "code",
   "execution_count": 967,
   "metadata": {},
   "outputs": [
    {
     "data": {
      "text/plain": [
       "1440"
      ]
     },
     "execution_count": 967,
     "metadata": {},
     "output_type": "execute_result"
    }
   ],
   "source": [
    "dienoj_minuciu = 24 * 60\n",
    "dienoj_minuciu"
   ]
  },
  {
   "cell_type": "code",
   "execution_count": 968,
   "metadata": {},
   "outputs": [
    {
     "data": {
      "text/plain": [
       "27896935223.95062"
      ]
     },
     "execution_count": 968,
     "metadata": {},
     "output_type": "execute_result"
    }
   ],
   "source": [
    "kisene = 0.01\n",
    "palukanos = 0.01\n",
    "for minute in range(dienoj_minuciu * 2):\n",
    "    kisene *= 1 + palukanos\n",
    "    # kisene = kisene * (1 + palukanos)\n",
    "kisene"
   ]
  },
  {
   "cell_type": "markdown",
   "metadata": {},
   "source": [
    "## Stringuliai"
   ]
  },
  {
   "cell_type": "code",
   "execution_count": 969,
   "metadata": {},
   "outputs": [],
   "source": [
    "pasisveikinimas = 'Labas, pasauli!'\n",
    "klausimas = \"Kaip sekasi?\""
   ]
  },
  {
   "cell_type": "code",
   "execution_count": 970,
   "metadata": {},
   "outputs": [
    {
     "name": "stdout",
     "output_type": "stream",
     "text": [
      "Labas, pasauli!\n",
      "Kaip sekasi?\n"
     ]
    }
   ],
   "source": [
    "print(pasisveikinimas)\n",
    "print(klausimas)"
   ]
  },
  {
   "cell_type": "code",
   "execution_count": 971,
   "metadata": {},
   "outputs": [
    {
     "name": "stdout",
     "output_type": "stream",
     "text": [
      "s\n"
     ]
    }
   ],
   "source": [
    "print(pasisveikinimas[4])"
   ]
  },
  {
   "cell_type": "code",
   "execution_count": 972,
   "metadata": {},
   "outputs": [
    {
     "name": "stdout",
     "output_type": "stream",
     "text": [
      "!\n"
     ]
    }
   ],
   "source": [
    "print(pasisveikinimas[-1])"
   ]
  },
  {
   "cell_type": "code",
   "execution_count": 973,
   "metadata": {},
   "outputs": [
    {
     "name": "stdout",
     "output_type": "stream",
     "text": [
      "Labas rytas, pasauli!\n"
     ]
    }
   ],
   "source": [
    "rytinis = pasisveikinimas[:5] + \" rytas\" + pasisveikinimas[5:]\n",
    "print(rytinis)"
   ]
  },
  {
   "cell_type": "code",
   "execution_count": 974,
   "metadata": {},
   "outputs": [
    {
     "name": "stdout",
     "output_type": "stream",
     "text": [
      "Sveikas, Jonai\n",
      "Sveikas, Petrai\n",
      "Sveika, Zose\n",
      "Sveikas, Kodžiau\n"
     ]
    }
   ],
   "source": [
    "vardai = [\"Jonas\", \"Petras\", \"Zosė\", \"Kodžius\"]\n",
    "for vardas in vardai:\n",
    "    pasisveikinimas = \"Sveikas\"\n",
    "    if vardas.endswith(\"as\"):\n",
    "        vardas = vardas[:-2] + \"ai\"\n",
    "    elif vardas.endswith(\"ius\"):\n",
    "        vardas = vardas[:-2] + \"au\"\n",
    "    elif vardas.endswith(\"ė\"):\n",
    "        vardas = vardas[:-1] + \"e\"\n",
    "        pasisveikinimas = pasisveikinimas[:-1]\n",
    "    print(f\"{pasisveikinimas}, {vardas}\")"
   ]
  },
  {
   "cell_type": "code",
   "execution_count": 975,
   "metadata": {},
   "outputs": [
    {
     "name": "stdout",
     "output_type": "stream",
     "text": [
      "Vienoje eiluteje\n",
      "dar viena eilute\n"
     ]
    }
   ],
   "source": [
    "tekstas = \"Vienoje eiluteje\\ndar viena eilute\"\n",
    "print(tekstas)"
   ]
  },
  {
   "cell_type": "code",
   "execution_count": 976,
   "metadata": {},
   "outputs": [
    {
     "name": "stdout",
     "output_type": "stream",
     "text": [
      "Nr.\tVardas\tPinigai\n",
      "1\tKestas\t1000\n",
      "2\tRomualdas\t400\n"
     ]
    }
   ],
   "source": [
    "antraste = \"Nr.\\tVardas\\tPinigai\"\n",
    "pirma = \"1\\tKestas\\t1000\"\n",
    "antra = \"2\\tRomualdas\\t400\"\n",
    "print(antraste, pirma, antra, sep=\"\\n\")"
   ]
  },
  {
   "cell_type": "code",
   "execution_count": 977,
   "metadata": {},
   "outputs": [
    {
     "name": "stdout",
     "output_type": "stream",
     "text": [
      "Nr. | vardas                         | pinigai   \n",
      "  1 | Jonas                          |    1000.00\n",
      "  2 | Petras                         |     400.00\n",
      "  3 | Zosė                           |       0.50\n",
      "  4 | Kodžius                        |   99000.01\n"
     ]
    }
   ],
   "source": [
    "pinigai = [1000, 400, 0.50, 99000.01]\n",
    "print(f\"{'Nr.':3s} | {'vardas':30s} | {'pinigai':10s}\")\n",
    "for numeris in range(4):\n",
    "    print(f\"{numeris+1:>3d} | {vardai[numeris]:30s} | {pinigai[numeris]:10.2f}\")\n"
   ]
  },
  {
   "cell_type": "code",
   "execution_count": 978,
   "metadata": {},
   "outputs": [
    {
     "name": "stdout",
     "output_type": "stream",
     "text": [
      "© 2023 Middle of Nowhere oy\n"
     ]
    }
   ],
   "source": [
    "print(\"\\u00A9 2023 Middle of Nowhere oy\")"
   ]
  },
  {
   "cell_type": "code",
   "execution_count": 979,
   "metadata": {},
   "outputs": [
    {
     "name": "stdout",
     "output_type": "stream",
     "text": [
      "🧡\n"
     ]
    }
   ],
   "source": [
    "sirdele = \"\\U0001F9E1\"\n",
    "print(sirdele)"
   ]
  },
  {
   "cell_type": "markdown",
   "metadata": {},
   "source": [
    "### String metodai"
   ]
  },
  {
   "cell_type": "code",
   "execution_count": 980,
   "metadata": {},
   "outputs": [
    {
     "data": {
      "text/plain": [
       "'Sveiki vyrai!'"
      ]
     },
     "execution_count": 980,
     "metadata": {},
     "output_type": "execute_result"
    }
   ],
   "source": [
    "sakinys = \"Sveiki vyrai!\"\n",
    "sakinys"
   ]
  },
  {
   "cell_type": "code",
   "execution_count": 981,
   "metadata": {},
   "outputs": [
    {
     "data": {
      "text/plain": [
       "'SVEIKI VYRAI!'"
      ]
     },
     "execution_count": 981,
     "metadata": {},
     "output_type": "execute_result"
    }
   ],
   "source": [
    "sakinys.upper()"
   ]
  },
  {
   "cell_type": "code",
   "execution_count": 982,
   "metadata": {},
   "outputs": [
    {
     "data": {
      "text/plain": [
       "'sveiki vyrai!'"
      ]
     },
     "execution_count": 982,
     "metadata": {},
     "output_type": "execute_result"
    }
   ],
   "source": [
    "sakinys_mazosiomis = sakinys.lower()\n",
    "sakinys_mazosiomis"
   ]
  },
  {
   "cell_type": "code",
   "execution_count": 983,
   "metadata": {},
   "outputs": [
    {
     "data": {
      "text/plain": [
       "['obuolys',\n",
       " 'braškė',\n",
       " 'vynuogė',\n",
       " 'vynuogė',\n",
       " 'bananas',\n",
       " 'vynuogė',\n",
       " 'kiwi',\n",
       " 'braškė',\n",
       " 'marakuja',\n",
       " 'apelsinas',\n",
       " 'ananasas',\n",
       " 'vynuogė']"
      ]
     },
     "execution_count": 983,
     "metadata": {},
     "output_type": "execute_result"
    }
   ],
   "source": [
    "vaisiai = [\"obuolys\", \"braškė\", \"vynuogė\", \"vynuogė\", \"bananas\", \"vynuogė\", \"kiwi\", \"braškė\", \"marakuja\", \"apelsinas\", \"ananasas\", \"vynuogė\"]\n",
    "vaisiai"
   ]
  },
  {
   "cell_type": "code",
   "execution_count": 984,
   "metadata": {},
   "outputs": [
    {
     "name": "stdout",
     "output_type": "stream",
     "text": [
      "obuolys;\n",
      "braškė;\n",
      "vynuogė;\n",
      "vynuogė;\n",
      "bananas;\n",
      "vynuogė;\n",
      "kiwi;\n",
      "braškė;\n",
      "marakuja;\n",
      "apelsinas;\n",
      "ananasas;\n",
      "vynuogė\n"
     ]
    }
   ],
   "source": [
    "print(\";\\n\".join(vaisiai))"
   ]
  },
  {
   "cell_type": "code",
   "execution_count": 985,
   "metadata": {},
   "outputs": [
    {
     "name": "stdout",
     "output_type": "stream",
     "text": [
      "1: obuolys\n",
      "2: braškė\n",
      "3: vynuogė\n",
      "4: vynuogė\n",
      "5: bananas\n",
      "6: vynuogė\n",
      "7: kiwi\n",
      "8: braškė\n",
      "9: marakuja\n",
      "10: apelsinas\n",
      "11: ananasas\n",
      "12: vynuogė\n"
     ]
    }
   ],
   "source": [
    "sunumeruoti_vaisiai = []\n",
    "for nr, vaisius in enumerate(vaisiai):\n",
    "    sunumeruoti_vaisiai.append(f'{nr + 1}: {vaisius}')\n",
    "vaisiu_salotos = \"\\n\".join(sunumeruoti_vaisiai)\n",
    "print(vaisiu_salotos)"
   ]
  },
  {
   "cell_type": "code",
   "execution_count": 986,
   "metadata": {},
   "outputs": [
    {
     "data": {
      "text/plain": [
       "['1: obuolys',\n",
       " '2: braškė',\n",
       " '3: vynuogė',\n",
       " '4: vynuogė',\n",
       " '5: bananas',\n",
       " '6: vynuogė',\n",
       " '7: kiwi',\n",
       " '8: braškė',\n",
       " '9: marakuja',\n",
       " '10: apelsinas',\n",
       " '11: ananasas',\n",
       " '12: vynuogė']"
      ]
     },
     "execution_count": 986,
     "metadata": {},
     "output_type": "execute_result"
    }
   ],
   "source": [
    "salotu_vaisiai = vaisiu_salotos.split('\\n')\n",
    "salotu_vaisiai"
   ]
  },
  {
   "cell_type": "code",
   "execution_count": 987,
   "metadata": {},
   "outputs": [
    {
     "name": "stdout",
     "output_type": "stream",
     "text": [
      "['obuolys', 'braškė', 'vynuogė', 'vynuogė', 'bananas', 'vynuogė', 'kiwi', 'braškė', 'marakuja', 'apelsinas', 'ananasas', 'vynuogė']\n"
     ]
    }
   ],
   "source": [
    "teisingi_vaisiai = []\n",
    "for vaisius in salotu_vaisiai:\n",
    "    teisingi_vaisiai.append(vaisius.split(\": \")[1])\n",
    "print(teisingi_vaisiai)"
   ]
  },
  {
   "cell_type": "code",
   "execution_count": 988,
   "metadata": {},
   "outputs": [
    {
     "name": "stdout",
     "output_type": "stream",
     "text": [
      "['obuolys', 'braškė', 'vynuogė', 'vynuogė', 'bananas', 'vynuogė', 'kiwi', 'braškė', 'marakuja', 'apelsinas', 'ananasas', 'vynuogė']\n"
     ]
    }
   ],
   "source": [
    "for indeksas, vaisius in enumerate(salotu_vaisiai):\n",
    "    salotu_vaisiai[indeksas] = vaisius[3:].strip()\n",
    "print(salotu_vaisiai)"
   ]
  },
  {
   "cell_type": "code",
   "execution_count": 989,
   "metadata": {},
   "outputs": [
    {
     "name": "stdout",
     "output_type": "stream",
     "text": [
      "1: Obuolys\n",
      "2: Braškė\n",
      "3: Vynuogė\n",
      "4: Vynuogė\n",
      "5: Bananas\n",
      "6: Vynuogė\n",
      "7: Kiwi\n",
      "8: Braškė\n",
      "9: Marakuja\n",
      "10: Apelsinas\n",
      "11: Ananasas\n",
      "12: Vynuogė\n"
     ]
    }
   ],
   "source": [
    "print(vaisiu_salotos.title())"
   ]
  },
  {
   "cell_type": "code",
   "execution_count": 990,
   "metadata": {},
   "outputs": [
    {
     "name": "stdout",
     "output_type": "stream",
     "text": [
      "Vynuogė\n"
     ]
    }
   ],
   "source": [
    "print(vaisiai[3].capitalize())"
   ]
  },
  {
   "cell_type": "code",
   "execution_count": 991,
   "metadata": {},
   "outputs": [
    {
     "data": {
      "text/plain": [
       "'Sveiki Vyrai!'"
      ]
     },
     "execution_count": 991,
     "metadata": {},
     "output_type": "execute_result"
    }
   ],
   "source": [
    "sakinys.title()"
   ]
  },
  {
   "cell_type": "code",
   "execution_count": 992,
   "metadata": {},
   "outputs": [
    {
     "data": {
      "text/plain": [
       "17"
      ]
     },
     "execution_count": 992,
     "metadata": {},
     "output_type": "execute_result"
    }
   ],
   "source": [
    "vaisiu_salotos.find(\"š\")"
   ]
  },
  {
   "cell_type": "code",
   "execution_count": 993,
   "metadata": {},
   "outputs": [
    {
     "name": "stdout",
     "output_type": "stream",
     "text": [
      "Radau 1\n"
     ]
    }
   ],
   "source": [
    "if vaisiu_salotos.find(\"1\") >= 0:\n",
    "    print(\"Radau 1\")\n",
    "else:\n",
    "    print(\"Neradau 1\")"
   ]
  },
  {
   "cell_type": "code",
   "execution_count": 994,
   "metadata": {},
   "outputs": [
    {
     "name": "stdout",
     "output_type": "stream",
     "text": [
      "1: obuolys\n",
      "2: braškė\n",
      "3: vyšnia\n",
      "4: vyšnia\n",
      "5: bananas\n",
      "6: vynuogė\n",
      "7: kiwi\n",
      "8: braškė\n",
      "9: marakuja\n",
      "10: apelsinas\n",
      "11: ananasas\n",
      "12: vynuogė\n"
     ]
    }
   ],
   "source": [
    "naujos_salotos = vaisiu_salotos.replace(\"vynuogė\", \"vyšnia\", 2)\n",
    "print(naujos_salotos)"
   ]
  },
  {
   "cell_type": "code",
   "execution_count": 995,
   "metadata": {},
   "outputs": [
    {
     "name": "stdout",
     "output_type": "stream",
     "text": [
      "1. obuolys\n",
      "2. braškė\n",
      "3. vynuogė\n",
      "4. vynuogė\n",
      "5. bananas\n",
      "6. vynuogė\n",
      "7. kiwi\n",
      "8. braškė\n",
      "9. marakuja\n",
      "10. apelsinas\n",
      "11. ananasas\n",
      "12. vynuogė\n"
     ]
    }
   ],
   "source": [
    "naujos_salotos = vaisiu_salotos.replace(\":\", \".\")\n",
    "print(naujos_salotos)"
   ]
  },
  {
   "cell_type": "markdown",
   "metadata": {},
   "source": [
    "### Formataviams"
   ]
  },
  {
   "cell_type": "code",
   "execution_count": 996,
   "metadata": {},
   "outputs": [
    {
     "name": "stdout",
     "output_type": "stream",
     "text": [
      "Vaisiai: obuolys, vynuogė...\n"
     ]
    }
   ],
   "source": [
    "tekstas = \"Vaisiai: \" + vaisiai[0] + \", \" + vaisiai[5] + \"...\"\n",
    "print(tekstas)"
   ]
  },
  {
   "cell_type": "code",
   "execution_count": 997,
   "metadata": {},
   "outputs": [
    {
     "name": "stdout",
     "output_type": "stream",
     "text": [
      "Viso vaisių: 12\n"
     ]
    }
   ],
   "source": [
    "ataskaita = \"Viso vaisių: \" + str(len(vaisiai))\n",
    "print(ataskaita)"
   ]
  },
  {
   "cell_type": "code",
   "execution_count": 998,
   "metadata": {},
   "outputs": [
    {
     "name": "stdout",
     "output_type": "stream",
     "text": [
      "Vaisiai: obuolys, vynuogė, braškė...\n"
     ]
    }
   ],
   "source": [
    "kitos_salotos = f\"Vaisiai: {vaisiai[0]}, {vaisiai[3]}, {vaisiai[7]}...\"\n",
    "print(kitos_salotos)"
   ]
  },
  {
   "cell_type": "code",
   "execution_count": 999,
   "metadata": {},
   "outputs": [
    {
     "name": "stdout",
     "output_type": "stream",
     "text": [
      "Sveiki, mano vardas yra Kestutis ir man yra 40 metų.\n"
     ]
    }
   ],
   "source": [
    "vardas = \"Kestutis\"\n",
    "amzius = 40\n",
    "\n",
    "tekstas = \"Sveiki, mano vardas yra %s ir man yra %d metų.\" % (vardas, amzius)\n",
    "print(tekstas)"
   ]
  },
  {
   "cell_type": "code",
   "execution_count": 1000,
   "metadata": {},
   "outputs": [
    {
     "name": "stdout",
     "output_type": "stream",
     "text": [
      "Vaisiai: obuolys, vynuogė, braškė, obuolys...\n"
     ]
    }
   ],
   "source": [
    "tekstas = \"Vaisiai: {0}, {2}, {1}, {0}...\".format(vaisiai[0], vaisiai[1], vaisiai[2])\n",
    "print(tekstas)"
   ]
  },
  {
   "cell_type": "code",
   "execution_count": 1001,
   "metadata": {},
   "outputs": [
    {
     "name": "stdout",
     "output_type": "stream",
     "text": [
      "Vaisiai: vynuogė, braškė, kiwi, vynuogė...\n"
     ]
    }
   ],
   "source": [
    "tekstas = \"Vaisiai: {0}, {2}, {1}, {0}...\".format(*vaisiai[5:8])\n",
    "print(tekstas)"
   ]
  },
  {
   "cell_type": "code",
   "execution_count": 1002,
   "metadata": {},
   "outputs": [
    {
     "name": "stdout",
     "output_type": "stream",
     "text": [
      "Mano sąskaitoje yra: 456,823,991.78\n"
     ]
    }
   ],
   "source": [
    "labai_daug_pinigu = 456823991.777\n",
    "suformatuoti_pinigai = f\"Mano sąskaitoje yra: {labai_daug_pinigu:,.2f}\"\n",
    "print(suformatuoti_pinigai)"
   ]
  },
  {
   "cell_type": "code",
   "execution_count": 1003,
   "metadata": {},
   "outputs": [
    {
     "name": "stdout",
     "output_type": "stream",
     "text": [
      "4.56824e+08\n"
     ]
    }
   ],
   "source": [
    "print(f\"{labai_daug_pinigu:g}\")"
   ]
  },
  {
   "cell_type": "code",
   "execution_count": 1004,
   "metadata": {},
   "outputs": [
    {
     "name": "stdout",
     "output_type": "stream",
     "text": [
      "7777.76\n"
     ]
    }
   ],
   "source": [
    "nelabai_daug = 7777.7575150051515\n",
    "print(f\"{nelabai_daug:g}\")"
   ]
  },
  {
   "cell_type": "code",
   "execution_count": 1005,
   "metadata": {},
   "outputs": [
    {
     "name": "stdout",
     "output_type": "stream",
     "text": [
      "0.0\n",
      "0\n"
     ]
    }
   ],
   "source": [
    "absoliutus_nulis = float(0)\n",
    "print(absoliutus_nulis)\n",
    "print(f\"{absoliutus_nulis:g}\")"
   ]
  },
  {
   "cell_type": "code",
   "execution_count": 1006,
   "metadata": {},
   "outputs": [
    {
     "name": "stdout",
     "output_type": "stream",
     "text": [
      "     77.5\n",
      "    100.9\n",
      "      1.1\n",
      "   3541.8\n"
     ]
    }
   ],
   "source": [
    "skaiciai = [77.5, 100.9, 1.05, 3541.777]\n",
    "for skaicius in skaiciai:\n",
    "    print(f\"{skaicius:9.1f}\")"
   ]
  },
  {
   "cell_type": "code",
   "execution_count": 1007,
   "metadata": {},
   "outputs": [
    {
     "name": "stdout",
     "output_type": "stream",
     "text": [
      "0123\n",
      "7711\n",
      "0002\n"
     ]
    }
   ],
   "source": [
    "kodai = [123, 7711, 2]\n",
    "for kodas in kodai:\n",
    "    print(f\"{kodas:04d}\")"
   ]
  },
  {
   "cell_type": "code",
   "execution_count": 1008,
   "metadata": {},
   "outputs": [
    {
     "name": "stdout",
     "output_type": "stream",
     "text": [
      "  77.5    | kazkas dar\n",
      "  100.9   | kazkas dar\n",
      "   1.1    | kazkas dar\n",
      " 3541.8   | kazkas dar\n"
     ]
    }
   ],
   "source": [
    "skaiciai = [77.5, 100.9, 1.05, 3541.777]\n",
    "for skaicius in skaiciai:\n",
    "    print(f\"{skaicius:^9.1f} | kazkas dar\")"
   ]
  },
  {
   "cell_type": "code",
   "execution_count": 1009,
   "metadata": {},
   "outputs": [
    {
     "name": "stdout",
     "output_type": "stream",
     "text": [
      "77.5      | kazkas dar\n",
      "100.9     | kazkas dar\n",
      "1.1       | kazkas dar\n",
      "3541.8    | kazkas dar\n"
     ]
    }
   ],
   "source": [
    "skaiciai = [77.5, 100.9, 1.05, 3541.777]\n",
    "for skaicius in skaiciai:\n",
    "    print(f\"{skaicius:<9.1f} | kazkas dar\")"
   ]
  },
  {
   "cell_type": "markdown",
   "metadata": {},
   "source": [
    "### input"
   ]
  },
  {
   "cell_type": "code",
   "execution_count": 1010,
   "metadata": {},
   "outputs": [],
   "source": [
    "# skaicius = float(input(\"Duokite skaičių: \"))\n",
    "# print(f\"Jūsų skaičius: {skaicius:g}\")"
   ]
  },
  {
   "cell_type": "code",
   "execution_count": 1011,
   "metadata": {},
   "outputs": [
    {
     "name": "stdout",
     "output_type": "stream",
     "text": [
      "obuolys, braškė, vynuogė, vynuogė, bananas, vynuogė, kiwi, braškė, marakuja, apelsinas, ananasas, vynuogė..."
     ]
    }
   ],
   "source": [
    "print(*vaisiai, sep=', ', end=\"...\")"
   ]
  },
  {
   "cell_type": "code",
   "execution_count": 1012,
   "metadata": {},
   "outputs": [
    {
     "name": "stdout",
     "output_type": "stream",
     "text": [
      "obuolys braškė vynuogė vynuogė bananas vynuogė kiwi braškė marakuja apelsinas ananasas vynuogė\n"
     ]
    }
   ],
   "source": [
    "print(*vaisiai)"
   ]
  },
  {
   "cell_type": "markdown",
   "metadata": {},
   "source": [
    "## kalkuliatorius"
   ]
  },
  {
   "cell_type": "code",
   "execution_count": 1013,
   "metadata": {},
   "outputs": [],
   "source": [
    "# print(\"Sveiki atvykę į interaktyvų skaičiuotuvą!\")\n",
    "# print(\"Pasirinkite veiksmą, kuriuo norite atlikti su dviem skaičiais:\")\n",
    "# print(\"1 - Sudėtis\")\n",
    "# print(\"2 - Atimtis\")\n",
    "# print(\"3 - Daugyba\")\n",
    "# print(\"4 - Dalyba\")\n",
    "\n",
    "# pasirinkimas = input(\"Pasirinkite: \")\n",
    "# skaicius1 = float(input(\"Pirmas skai2ius: \"))\n",
    "# skaicius2 = float(input(\"Antras skai2ius: \"))\n",
    "\n",
    "# if pasirinkimas == \"1\":\n",
    "#     suma = skaicius1 + skaicius2\n",
    "#     print(f\"Suma: {suma:10.2f}\")\n",
    "# elif pasirinkimas == \"2\":\n",
    "#     skirtumas = skaicius1 - skaicius2\n",
    "#     print(f\"Skitrumas: {skirtumas:10.2f}\")\n",
    "# elif pasirinkimas == \"3\":\n",
    "#     sandauga = skaicius1 * skaicius2\n",
    "#     print(f\"Sandauga: {sandauga:10.2f}\")\n",
    "# elif pasirinkimas == \"4\":\n",
    "#     dalmuo = skaicius1 / skaicius2\n",
    "#     print(f\"Dalmuo: {dalmuo:10.2f}\")\n",
    "# else:\n",
    "#     print(f\"Klaida: {pasirinkimas} n4ra teisingas pasirinkimas\")\n"
   ]
  },
  {
   "cell_type": "markdown",
   "metadata": {},
   "source": [
    "## Sąrašai / lists"
   ]
  },
  {
   "cell_type": "code",
   "execution_count": 1014,
   "metadata": {},
   "outputs": [
    {
     "name": "stdout",
     "output_type": "stream",
     "text": [
      "[]\n"
     ]
    }
   ],
   "source": [
    "tuscias_sarasas = list()\n",
    "skaiciu_sarasas = [1, 2, 3, 4, 5]\n",
    "zodziu_sarasas = ['obuolys', 'kriaušė', 'bananas']\n",
    "misrus_sarasas = ['obuolys', 2, 1.4, 'kriaušė', True, 'bananas']\n",
    "print(tuscias_sarasas)"
   ]
  },
  {
   "cell_type": "code",
   "execution_count": 1015,
   "metadata": {},
   "outputs": [
    {
     "data": {
      "text/plain": [
       "'kriaušė'"
      ]
     },
     "execution_count": 1015,
     "metadata": {},
     "output_type": "execute_result"
    }
   ],
   "source": [
    "zodziu_sarasas[1]"
   ]
  },
  {
   "cell_type": "code",
   "execution_count": 1016,
   "metadata": {},
   "outputs": [
    {
     "data": {
      "text/plain": [
       "True"
      ]
     },
     "execution_count": 1016,
     "metadata": {},
     "output_type": "execute_result"
    }
   ],
   "source": [
    "misrus_sarasas[-2]"
   ]
  },
  {
   "cell_type": "code",
   "execution_count": 1017,
   "metadata": {},
   "outputs": [
    {
     "data": {
      "text/plain": [
       "list"
      ]
     },
     "execution_count": 1017,
     "metadata": {},
     "output_type": "execute_result"
    }
   ],
   "source": [
    "type(misrus_sarasas)"
   ]
  },
  {
   "cell_type": "code",
   "execution_count": 1018,
   "metadata": {},
   "outputs": [
    {
     "data": {
      "text/plain": [
       "bool"
      ]
     },
     "execution_count": 1018,
     "metadata": {},
     "output_type": "execute_result"
    }
   ],
   "source": [
    "type(misrus_sarasas[-2])"
   ]
  },
  {
   "cell_type": "code",
   "execution_count": 1019,
   "metadata": {},
   "outputs": [
    {
     "data": {
      "text/plain": [
       "['vynuogė', 'kiwi', 'braškė']"
      ]
     },
     "execution_count": 1019,
     "metadata": {},
     "output_type": "execute_result"
    }
   ],
   "source": [
    "vaisiai[5:8]"
   ]
  },
  {
   "cell_type": "code",
   "execution_count": 1020,
   "metadata": {},
   "outputs": [
    {
     "data": {
      "text/plain": [
       "['obuolys', 'braškė', 'vynuogė', 'vynuogė', 'bananas', 'vynuogė', 'kiwi']"
      ]
     },
     "execution_count": 1020,
     "metadata": {},
     "output_type": "execute_result"
    }
   ],
   "source": [
    "vaisiai[:7]"
   ]
  },
  {
   "cell_type": "code",
   "execution_count": 1021,
   "metadata": {},
   "outputs": [
    {
     "data": {
      "text/plain": [
       "['vynuogė', 'marakuja', 'vynuogė', 'vynuogė']"
      ]
     },
     "execution_count": 1021,
     "metadata": {},
     "output_type": "execute_result"
    }
   ],
   "source": [
    "vaisiai[::-3]"
   ]
  },
  {
   "cell_type": "code",
   "execution_count": 1022,
   "metadata": {},
   "outputs": [
    {
     "data": {
      "text/plain": [
       "['obuolys',\n",
       " 'braškė',\n",
       " 'vynuogė',\n",
       " 'kriaušė',\n",
       " 'bananas',\n",
       " 'vynuogė',\n",
       " 'kiwi',\n",
       " 'braškė',\n",
       " 'marakuja',\n",
       " 'apelsinas',\n",
       " 'ananasas',\n",
       " 'vynuogė']"
      ]
     },
     "execution_count": 1022,
     "metadata": {},
     "output_type": "execute_result"
    }
   ],
   "source": [
    "vaisiai[3] = 'kriaušė'\n",
    "vaisiai"
   ]
  },
  {
   "cell_type": "code",
   "execution_count": 1023,
   "metadata": {},
   "outputs": [
    {
     "name": "stdout",
     "output_type": "stream",
     "text": [
      "obuolys, braškė, vynuogė, kriaušė, bananas, persimonas, avokadas, žemuogė, kiwi, bruknė, braškė, marakuja, apelsinas, ananasas, vynuogė\n",
      "obuolys, braškė, vynuogė, kriaušė, bananas, persimonas, avokadas, žemuogė, kiwi, bruknė, braškė, marakuja, apelsinas, ananasas, vynuogė\n"
     ]
    }
   ],
   "source": [
    "vaisiai[5:7] = ['persimonas', 'avokadas', 'žemuogė', 'kiwi', 'bruknė']\n",
    "print(*vaisiai, sep=', ')\n",
    "print(\", \".join(vaisiai))"
   ]
  },
  {
   "cell_type": "code",
   "execution_count": 1024,
   "metadata": {},
   "outputs": [],
   "source": [
    "vaisiai.append('kokosas')"
   ]
  },
  {
   "cell_type": "code",
   "execution_count": 1025,
   "metadata": {},
   "outputs": [
    {
     "name": "stdout",
     "output_type": "stream",
     "text": [
      "obuolys, braškė, vynuogė, kriaušė, bananas, persimonas, avokadas, žemuogė, kiwi, bruknė, braškė, marakuja, apelsinas, ananasas, vynuogė, kokosas\n"
     ]
    }
   ],
   "source": [
    "print(\", \".join(vaisiai))"
   ]
  },
  {
   "cell_type": "code",
   "execution_count": 1026,
   "metadata": {},
   "outputs": [
    {
     "name": "stdout",
     "output_type": "stream",
     "text": [
      "obuolys braškė vynuogė kriaušė bananas persimonas avokadas žemuogė kiwi bruknė braškė marakuja apelsinas ananasas vynuogė kokosas morka rabarbaras čiliukas ropė\n"
     ]
    }
   ],
   "source": [
    "darzoves = ['morka', 'rabarbaras', 'čiliukas', 'ropė']\n",
    "vaisiai.extend(darzoves)\n",
    "print(*vaisiai)"
   ]
  },
  {
   "cell_type": "code",
   "execution_count": 1027,
   "metadata": {},
   "outputs": [
    {
     "name": "stdout",
     "output_type": "stream",
     "text": [
      "obuolys braškė vynuogė kriaušė bananas persimonas avokadas lime žemuogė kiwi bruknė braškė marakuja apelsinas ananasas vynuogė kokosas morka rabarbaras čiliukas ropė\n",
      "\n",
      "\n"
     ]
    }
   ],
   "source": [
    "vaisiai.insert(7, 'lime')\n",
    "print(*vaisiai, end=\"\\n\\n\\n\")"
   ]
  },
  {
   "cell_type": "code",
   "execution_count": 1028,
   "metadata": {},
   "outputs": [
    {
     "data": {
      "text/plain": [
       "['obuolys',\n",
       " 'braškė',\n",
       " 'vynuogė',\n",
       " 'kriaušė',\n",
       " 'bananas',\n",
       " 'persimonas',\n",
       " 'avokadas',\n",
       " 'žemuogė',\n",
       " 'kiwi',\n",
       " 'bruknė',\n",
       " 'braškė',\n",
       " 'marakuja',\n",
       " 'apelsinas',\n",
       " 'ananasas',\n",
       " 'vynuogė',\n",
       " 'kokosas',\n",
       " 'morka',\n",
       " 'rabarbaras',\n",
       " 'čiliukas',\n",
       " 'ropė']"
      ]
     },
     "execution_count": 1028,
     "metadata": {},
     "output_type": "execute_result"
    }
   ],
   "source": [
    "vaisiai.remove('lime')\n",
    "vaisiai"
   ]
  },
  {
   "cell_type": "code",
   "execution_count": 1029,
   "metadata": {},
   "outputs": [],
   "source": [
    "# while True:\n",
    "#     try:\n",
    "#         vaisiai.remove('braškė')\n",
    "#         print('išbemėm vieną braškę')\n",
    "#     except Exception as e:\n",
    "#         print('nebėra:', e)\n",
    "#         break"
   ]
  },
  {
   "cell_type": "code",
   "execution_count": 1030,
   "metadata": {},
   "outputs": [
    {
     "name": "stdout",
     "output_type": "stream",
     "text": [
      "['obuolys', 'vynuogė', 'kriaušė', 'bananas', 'persimonas', 'avokadas', 'žemuogė', 'kiwi', 'bruknė', 'marakuja', 'apelsinas', 'ananasas', 'vynuogė', 'kokosas', 'morka', 'rabarbaras', 'čiliukas', 'ropė']\n"
     ]
    }
   ],
   "source": [
    "while 'braškė' in vaisiai:\n",
    "    vaisiai.remove('braškė')\n",
    "print(vaisiai)"
   ]
  },
  {
   "cell_type": "code",
   "execution_count": 1031,
   "metadata": {},
   "outputs": [
    {
     "name": "stdout",
     "output_type": "stream",
     "text": [
      "persimonas\n",
      "['obuolys', 'vynuogė', 'kriaušė', 'bananas', 'avokadas', 'žemuogė', 'kiwi', 'bruknė', 'marakuja', 'apelsinas', 'ananasas', 'vynuogė', 'kokosas', 'morka', 'rabarbaras', 'čiliukas', 'ropė']\n"
     ]
    }
   ],
   "source": [
    "print(vaisiai.pop(4))\n",
    "print(vaisiai)"
   ]
  },
  {
   "cell_type": "code",
   "execution_count": 1032,
   "metadata": {},
   "outputs": [],
   "source": [
    "# del vaisiai[3:-3]\n",
    "# vaisiai"
   ]
  },
  {
   "cell_type": "code",
   "execution_count": 1033,
   "metadata": {},
   "outputs": [
    {
     "name": "stdout",
     "output_type": "stream",
     "text": [
      "1\n",
      "11\n",
      "'vynuogė' is not in list\n"
     ]
    }
   ],
   "source": [
    "indeksas = 0\n",
    "while True:\n",
    "    try:\n",
    "        indeksas = vaisiai.index('vynuogė', indeksas+1)\n",
    "        print(indeksas)\n",
    "    except Exception as e:\n",
    "        print(e)\n",
    "        break"
   ]
  },
  {
   "cell_type": "code",
   "execution_count": 1034,
   "metadata": {},
   "outputs": [
    {
     "name": "stdout",
     "output_type": "stream",
     "text": [
      "obuolys\n",
      "vynuogė\n",
      "kriaušė\n",
      "bananas\n",
      "avokadas\n"
     ]
    }
   ],
   "source": [
    "for vaisius in vaisiai:\n",
    "    print(vaisius)\n",
    "    if vaisius == 'avokadas':\n",
    "        break"
   ]
  },
  {
   "cell_type": "code",
   "execution_count": 1035,
   "metadata": {},
   "outputs": [
    {
     "data": {
      "text/plain": [
       "2"
      ]
     },
     "execution_count": 1035,
     "metadata": {},
     "output_type": "execute_result"
    }
   ],
   "source": [
    "vaisiai.count('vynuogė')"
   ]
  },
  {
   "cell_type": "code",
   "execution_count": 1036,
   "metadata": {},
   "outputs": [
    {
     "data": {
      "text/plain": [
       "17"
      ]
     },
     "execution_count": 1036,
     "metadata": {},
     "output_type": "execute_result"
    }
   ],
   "source": [
    "len(vaisiai)"
   ]
  },
  {
   "cell_type": "code",
   "execution_count": 1037,
   "metadata": {},
   "outputs": [],
   "source": [
    "# vaisiai.sort()\n",
    "# print(vaisiai)"
   ]
  },
  {
   "cell_type": "code",
   "execution_count": 1038,
   "metadata": {},
   "outputs": [],
   "source": [
    "# vaisiai.sort(reverse=True)\n",
    "# print(*vaisiai)"
   ]
  },
  {
   "cell_type": "code",
   "execution_count": 1039,
   "metadata": {},
   "outputs": [
    {
     "name": "stdout",
     "output_type": "stream",
     "text": [
      "ropė čiliukas rabarbaras morka kokosas vynuogė ananasas apelsinas marakuja bruknė kiwi žemuogė avokadas bananas kriaušė vynuogė obuolys\n"
     ]
    }
   ],
   "source": [
    "vaisiai.reverse()\n",
    "print(*vaisiai)"
   ]
  },
  {
   "cell_type": "code",
   "execution_count": 1040,
   "metadata": {},
   "outputs": [
    {
     "name": "stdout",
     "output_type": "stream",
     "text": [
      "True\n"
     ]
    }
   ],
   "source": [
    "print('obuolys' in vaisiai)"
   ]
  }
 ],
 "metadata": {
  "kernelspec": {
   "display_name": "venv",
   "language": "python",
   "name": "python3"
  },
  "language_info": {
   "codemirror_mode": {
    "name": "ipython",
    "version": 3
   },
   "file_extension": ".py",
   "mimetype": "text/x-python",
   "name": "python",
   "nbconvert_exporter": "python",
   "pygments_lexer": "ipython3",
   "version": "3.10.12"
  },
  "orig_nbformat": 4
 },
 "nbformat": 4,
 "nbformat_minor": 2
}
