{
 "cells": [
  {
   "cell_type": "markdown",
   "metadata": {},
   "source": [
    "## Variables"
   ]
  },
  {
   "cell_type": "code",
   "execution_count": null,
   "metadata": {},
   "outputs": [],
   "source": [
    "vienas, du, trys = 1, 2, 3\n",
    "print(vienas, du, trys)"
   ]
  },
  {
   "cell_type": "code",
   "execution_count": null,
   "metadata": {},
   "outputs": [],
   "source": [
    "Vienas = \"vienetukas\"\n",
    "print(Vienas)\n",
    "print(vienas)"
   ]
  },
  {
   "cell_type": "code",
   "execution_count": null,
   "metadata": {},
   "outputs": [],
   "source": [
    "x = 5\n",
    "y = \"Hello, world!\"\n",
    "z = 3.14\n",
    "print(type(x))  # išspausdina <class 'int'>\n",
    "print(type(y))  # išspausdina <class 'str'>\n",
    "print(type(z))  # išspausdina <class 'float'>"
   ]
  },
  {
   "cell_type": "code",
   "execution_count": 1,
   "metadata": {},
   "outputs": [
    {
     "name": "stdout",
     "output_type": "stream",
     "text": [
      "10 5\n",
      "5 7\n"
     ]
    }
   ],
   "source": [
    "pirmas = 10\n",
    "antras = 5\n",
    "print(pirmas, antras)\n",
    "pirmas = antras\n",
    "antras = 7\n",
    "print(pirmas, antras)"
   ]
  },
  {
   "cell_type": "code",
   "execution_count": 2,
   "metadata": {},
   "outputs": [
    {
     "name": "stdout",
     "output_type": "stream",
     "text": [
      "6.0 <class 'float'>\n"
     ]
    }
   ],
   "source": [
    "pusantro = 1.5\n",
    "sesi = pusantro * 4\n",
    "print(sesi, type(sesi))"
   ]
  },
  {
   "cell_type": "markdown",
   "metadata": {},
   "source": [
    "## Basic Logic"
   ]
  },
  {
   "cell_type": "code",
   "execution_count": 4,
   "metadata": {},
   "outputs": [
    {
     "name": "stdout",
     "output_type": "stream",
     "text": [
      "a ir b yra lygūs\n"
     ]
    }
   ],
   "source": [
    "a = 10\n",
    "b = 10\n",
    "if a == b:\n",
    "    print(\"a ir b yra lygūs\")\n",
    "else:\n",
    "    print(\"a ir b nėra lygūs\")"
   ]
  },
  {
   "cell_type": "code",
   "execution_count": 6,
   "metadata": {},
   "outputs": [
    {
     "data": {
      "text/plain": [
       "True"
      ]
     },
     "execution_count": 6,
     "metadata": {},
     "output_type": "execute_result"
    }
   ],
   "source": [
    "c = a == b\n",
    "c"
   ]
  },
  {
   "cell_type": "code",
   "execution_count": 11,
   "metadata": {},
   "outputs": [
    {
     "name": "stdout",
     "output_type": "stream",
     "text": [
      "a ir b yra lygūs\n"
     ]
    }
   ],
   "source": [
    "a = 10\n",
    "b = 10\n",
    "if a != b:\n",
    "    print(\"a ir b yra nelygūs\")\n",
    "else:\n",
    "    print(\"a ir b yra lygūs\")"
   ]
  },
  {
   "cell_type": "code",
   "execution_count": 12,
   "metadata": {},
   "outputs": [
    {
     "name": "stdout",
     "output_type": "stream",
     "text": [
      "False\n"
     ]
    }
   ],
   "source": [
    "print(a != b)"
   ]
  },
  {
   "cell_type": "code",
   "execution_count": 17,
   "metadata": {},
   "outputs": [
    {
     "name": "stdout",
     "output_type": "stream",
     "text": [
      "b yra didesnis arba lygus a\n"
     ]
    }
   ],
   "source": [
    "a = 10\n",
    "b = 10\n",
    "if b < a:\n",
    "    print(\"b yra mažesnis nei a\")\n",
    "else:\n",
    "    print(\"b yra didesnis arba lygus a\")"
   ]
  },
  {
   "cell_type": "code",
   "execution_count": 18,
   "metadata": {},
   "outputs": [
    {
     "name": "stdout",
     "output_type": "stream",
     "text": [
      "True\n"
     ]
    }
   ],
   "source": [
    "print(b <= a)"
   ]
  },
  {
   "cell_type": "code",
   "execution_count": 19,
   "metadata": {},
   "outputs": [
    {
     "name": "stdout",
     "output_type": "stream",
     "text": [
      "True\n",
      "False\n"
     ]
    }
   ],
   "source": [
    "x = True\n",
    "y = False\n",
    "\n",
    "print(x) # išvestų \"True\"\n",
    "print(y) # išvestų \"False\""
   ]
  },
  {
   "cell_type": "code",
   "execution_count": 20,
   "metadata": {},
   "outputs": [
    {
     "name": "stdout",
     "output_type": "stream",
     "text": [
      "True\n"
     ]
    }
   ],
   "source": [
    "a = 10\n",
    "b = 5\n",
    "teiginys = a > b\n",
    "print(teiginys)"
   ]
  },
  {
   "cell_type": "code",
   "execution_count": 21,
   "metadata": {},
   "outputs": [
    {
     "name": "stdout",
     "output_type": "stream",
     "text": [
      "a yra didesnis už b\n",
      "teiginys: True\n"
     ]
    }
   ],
   "source": [
    "if teiginys:\n",
    "    print(\"a yra didesnis už b\")\n",
    "else:\n",
    "    print(\"a yra mažesnis arba lygus b\")\n",
    "\n",
    "# pasitikrinimui\n",
    "print(f\"teiginys: {teiginys}\")"
   ]
  },
  {
   "cell_type": "code",
   "execution_count": 24,
   "metadata": {},
   "outputs": [
    {
     "data": {
      "text/plain": [
       "bool"
      ]
     },
     "execution_count": 24,
     "metadata": {},
     "output_type": "execute_result"
    }
   ],
   "source": [
    "type(teiginys)"
   ]
  },
  {
   "cell_type": "code",
   "execution_count": 25,
   "metadata": {},
   "outputs": [
    {
     "data": {
      "text/plain": [
       "True"
      ]
     },
     "execution_count": 25,
     "metadata": {},
     "output_type": "execute_result"
    }
   ],
   "source": [
    "True == 1"
   ]
  },
  {
   "cell_type": "code",
   "execution_count": 26,
   "metadata": {},
   "outputs": [
    {
     "data": {
      "text/plain": [
       "True"
      ]
     },
     "execution_count": 26,
     "metadata": {},
     "output_type": "execute_result"
    }
   ],
   "source": [
    "False == 0"
   ]
  },
  {
   "cell_type": "code",
   "execution_count": 27,
   "metadata": {},
   "outputs": [
    {
     "data": {
      "text/plain": [
       "False"
      ]
     },
     "execution_count": 27,
     "metadata": {},
     "output_type": "execute_result"
    }
   ],
   "source": [
    "True == False"
   ]
  },
  {
   "cell_type": "code",
   "execution_count": 28,
   "metadata": {},
   "outputs": [
    {
     "data": {
      "text/plain": [
       "True"
      ]
     },
     "execution_count": 28,
     "metadata": {},
     "output_type": "execute_result"
    }
   ],
   "source": [
    "True != False"
   ]
  },
  {
   "cell_type": "code",
   "execution_count": 29,
   "metadata": {},
   "outputs": [
    {
     "data": {
      "text/plain": [
       "True"
      ]
     },
     "execution_count": 29,
     "metadata": {},
     "output_type": "execute_result"
    }
   ],
   "source": [
    "True > False"
   ]
  },
  {
   "cell_type": "code",
   "execution_count": 30,
   "metadata": {},
   "outputs": [
    {
     "data": {
      "text/plain": [
       "False"
      ]
     },
     "execution_count": 30,
     "metadata": {},
     "output_type": "execute_result"
    }
   ],
   "source": [
    "True < False"
   ]
  },
  {
   "cell_type": "code",
   "execution_count": 31,
   "metadata": {},
   "outputs": [],
   "source": [
    "skaicius = 17\n",
    "kitas = 0"
   ]
  },
  {
   "cell_type": "code",
   "execution_count": 33,
   "metadata": {},
   "outputs": [
    {
     "name": "stdout",
     "output_type": "stream",
     "text": [
      "suveike\n"
     ]
    }
   ],
   "source": [
    "if skaicius:\n",
    "    print(\"suveike\")"
   ]
  },
  {
   "cell_type": "code",
   "execution_count": 34,
   "metadata": {},
   "outputs": [
    {
     "name": "stdout",
     "output_type": "stream",
     "text": [
      "oops\n"
     ]
    }
   ],
   "source": [
    "if kitas:\n",
    "    print(\"suveike\")\n",
    "else:\n",
    "    print(\"oops\")"
   ]
  },
  {
   "cell_type": "code",
   "execution_count": 38,
   "metadata": {},
   "outputs": [
    {
     "name": "stdout",
     "output_type": "stream",
     "text": [
      "3\n"
     ]
    }
   ],
   "source": [
    "kitas = 3\n",
    "print(skaicius and kitas)"
   ]
  },
  {
   "cell_type": "code",
   "execution_count": 40,
   "metadata": {},
   "outputs": [
    {
     "name": "stdout",
     "output_type": "stream",
     "text": [
      "Kazko truksta\n"
     ]
    }
   ],
   "source": [
    "kitas = False\n",
    "if skaicius and kitas:\n",
    "    print(\"abu skaiciai yra\")\n",
    "else:\n",
    "    print(\"Kazko truksta\")"
   ]
  },
  {
   "cell_type": "code",
   "execution_count": 42,
   "metadata": {},
   "outputs": [
    {
     "name": "stdout",
     "output_type": "stream",
     "text": [
      "bent vienas skaicius yra OK\n"
     ]
    }
   ],
   "source": [
    "kitas = False\n",
    "if skaicius or kitas:\n",
    "    print(\"bent vienas skaicius yra OK\")\n",
    "else:\n",
    "    print(\"Kazko truksta\")"
   ]
  },
  {
   "cell_type": "code",
   "execution_count": 37,
   "metadata": {},
   "outputs": [
    {
     "name": "stdout",
     "output_type": "stream",
     "text": [
      "17\n"
     ]
    }
   ],
   "source": [
    "print(kitas or skaicius)"
   ]
  },
  {
   "cell_type": "code",
   "execution_count": 43,
   "metadata": {},
   "outputs": [
    {
     "name": "stdout",
     "output_type": "stream",
     "text": [
      "Abu teiginiai yra tiesa\n"
     ]
    }
   ],
   "source": [
    "a = 10\n",
    "b = 5\n",
    "if a > 5 and b < 10:\n",
    "    print(\"Abu teiginiai yra tiesa\")\n",
    "else:\n",
    "    print(\"Vienas ar abu teiginiai yra netiesa\")"
   ]
  },
  {
   "cell_type": "code",
   "execution_count": 44,
   "metadata": {},
   "outputs": [
    {
     "data": {
      "text/plain": [
       "False"
      ]
     },
     "execution_count": 44,
     "metadata": {},
     "output_type": "execute_result"
    }
   ],
   "source": [
    "True and False"
   ]
  },
  {
   "cell_type": "code",
   "execution_count": 45,
   "metadata": {},
   "outputs": [
    {
     "data": {
      "text/plain": [
       "False"
      ]
     },
     "execution_count": 45,
     "metadata": {},
     "output_type": "execute_result"
    }
   ],
   "source": [
    "False and False"
   ]
  },
  {
   "cell_type": "code",
   "execution_count": 46,
   "metadata": {},
   "outputs": [
    {
     "data": {
      "text/plain": [
       "True"
      ]
     },
     "execution_count": 46,
     "metadata": {},
     "output_type": "execute_result"
    }
   ],
   "source": [
    "True and True"
   ]
  },
  {
   "cell_type": "code",
   "execution_count": 47,
   "metadata": {},
   "outputs": [
    {
     "data": {
      "text/plain": [
       "True"
      ]
     },
     "execution_count": 47,
     "metadata": {},
     "output_type": "execute_result"
    }
   ],
   "source": [
    "False or True"
   ]
  },
  {
   "cell_type": "code",
   "execution_count": 48,
   "metadata": {},
   "outputs": [
    {
     "data": {
      "text/plain": [
       "True"
      ]
     },
     "execution_count": 48,
     "metadata": {},
     "output_type": "execute_result"
    }
   ],
   "source": [
    "True or True"
   ]
  },
  {
   "cell_type": "code",
   "execution_count": 52,
   "metadata": {},
   "outputs": [
    {
     "data": {
      "text/plain": [
       "True"
      ]
     },
     "execution_count": 52,
     "metadata": {},
     "output_type": "execute_result"
    }
   ],
   "source": [
    "not (False and False)"
   ]
  },
  {
   "cell_type": "code",
   "execution_count": 53,
   "metadata": {},
   "outputs": [
    {
     "data": {
      "text/plain": [
       "True"
      ]
     },
     "execution_count": 53,
     "metadata": {},
     "output_type": "execute_result"
    }
   ],
   "source": [
    "not False and True"
   ]
  },
  {
   "cell_type": "code",
   "execution_count": 54,
   "metadata": {},
   "outputs": [
    {
     "data": {
      "text/plain": [
       "False"
      ]
     },
     "execution_count": 54,
     "metadata": {},
     "output_type": "execute_result"
    }
   ],
   "source": [
    "not True and True"
   ]
  },
  {
   "cell_type": "code",
   "execution_count": 55,
   "metadata": {},
   "outputs": [
    {
     "data": {
      "text/plain": [
       "True"
      ]
     },
     "execution_count": 55,
     "metadata": {},
     "output_type": "execute_result"
    }
   ],
   "source": [
    "not True or True"
   ]
  },
  {
   "cell_type": "code",
   "execution_count": 63,
   "metadata": {},
   "outputs": [
    {
     "data": {
      "text/plain": [
       "True"
      ]
     },
     "execution_count": 63,
     "metadata": {},
     "output_type": "execute_result"
    }
   ],
   "source": [
    "a = 10\n",
    "b = 5\n",
    "c = 20\n",
    "d = a > b and b < c or c != 20\n",
    "d"
   ]
  },
  {
   "cell_type": "code",
   "execution_count": 66,
   "metadata": {},
   "outputs": [
    {
     "data": {
      "text/plain": [
       "1.0"
      ]
     },
     "execution_count": 66,
     "metadata": {},
     "output_type": "execute_result"
    }
   ],
   "source": [
    "a = 5\n",
    "# a *= 5\n",
    "a /= 5\n",
    "a"
   ]
  },
  {
   "cell_type": "code",
   "execution_count": 67,
   "metadata": {},
   "outputs": [
    {
     "data": {
      "text/plain": [
       "65536"
      ]
     },
     "execution_count": 67,
     "metadata": {},
     "output_type": "execute_result"
    }
   ],
   "source": [
    "2 ** 16"
   ]
  },
  {
   "cell_type": "code",
   "execution_count": 68,
   "metadata": {},
   "outputs": [
    {
     "data": {
      "text/plain": [
       "5832"
      ]
     },
     "execution_count": 68,
     "metadata": {},
     "output_type": "execute_result"
    }
   ],
   "source": [
    "18 ** 3"
   ]
  },
  {
   "cell_type": "code",
   "execution_count": 70,
   "metadata": {},
   "outputs": [
    {
     "data": {
      "text/plain": [
       "0.0101"
      ]
     },
     "execution_count": 70,
     "metadata": {},
     "output_type": "execute_result"
    }
   ],
   "source": [
    "kisene = 0.01\n",
    "palukanos = 0.01\n",
    "po_minutes = kisene * (1 + palukanos)\n",
    "po_minutes"
   ]
  },
  {
   "cell_type": "code",
   "execution_count": 71,
   "metadata": {},
   "outputs": [
    {
     "data": {
      "text/plain": [
       "1440"
      ]
     },
     "execution_count": 71,
     "metadata": {},
     "output_type": "execute_result"
    }
   ],
   "source": [
    "dienoj_minuciu = 24 * 60\n",
    "dienoj_minuciu"
   ]
  },
  {
   "cell_type": "code",
   "execution_count": 77,
   "metadata": {},
   "outputs": [
    {
     "data": {
      "text/plain": [
       "27896935223.95062"
      ]
     },
     "execution_count": 77,
     "metadata": {},
     "output_type": "execute_result"
    }
   ],
   "source": [
    "kisene = 0.01\n",
    "palukanos = 0.01\n",
    "for minute in range(dienoj_minuciu * 2):\n",
    "    kisene *= 1 + palukanos\n",
    "    # kisene = kisene * (1 + palukanos)\n",
    "kisene"
   ]
  },
  {
   "cell_type": "markdown",
   "metadata": {},
   "source": [
    "## Stringuliai"
   ]
  },
  {
   "cell_type": "code",
   "execution_count": 78,
   "metadata": {},
   "outputs": [],
   "source": [
    "pasisveikinimas = 'Labas, pasauli!'\n",
    "klausimas = \"Kaip sekasi?\""
   ]
  },
  {
   "cell_type": "code",
   "execution_count": 79,
   "metadata": {},
   "outputs": [
    {
     "name": "stdout",
     "output_type": "stream",
     "text": [
      "Labas, pasauli!\n",
      "Kaip sekasi?\n"
     ]
    }
   ],
   "source": [
    "print(pasisveikinimas)\n",
    "print(klausimas)"
   ]
  },
  {
   "cell_type": "code",
   "execution_count": 80,
   "metadata": {},
   "outputs": [
    {
     "name": "stdout",
     "output_type": "stream",
     "text": [
      "s\n"
     ]
    }
   ],
   "source": [
    "print(pasisveikinimas[4])"
   ]
  },
  {
   "cell_type": "code",
   "execution_count": 81,
   "metadata": {},
   "outputs": [
    {
     "name": "stdout",
     "output_type": "stream",
     "text": [
      "!\n"
     ]
    }
   ],
   "source": [
    "print(pasisveikinimas[-1])"
   ]
  },
  {
   "cell_type": "code",
   "execution_count": 83,
   "metadata": {},
   "outputs": [
    {
     "name": "stdout",
     "output_type": "stream",
     "text": [
      "Labas rytas, pasauli!\n"
     ]
    }
   ],
   "source": [
    "rytinis = pasisveikinimas[:5] + \" rytas\" + pasisveikinimas[5:]\n",
    "print(rytinis)"
   ]
  },
  {
   "cell_type": "code",
   "execution_count": 89,
   "metadata": {},
   "outputs": [
    {
     "name": "stdout",
     "output_type": "stream",
     "text": [
      "Sveikas, Jonai\n",
      "Sveikas, Petrai\n",
      "Sveika, Zose\n",
      "Sveikas, Kodžiau\n"
     ]
    }
   ],
   "source": [
    "vardai = [\"Jonas\", \"Petras\", \"Zosė\", \"Kodžius\"]\n",
    "for vardas in vardai:\n",
    "    pasisveikinimas = \"Sveikas\"\n",
    "    if vardas.endswith(\"as\"):\n",
    "        vardas = vardas[:-2] + \"ai\"\n",
    "    elif vardas.endswith(\"ius\"):\n",
    "        vardas = vardas[:-2] + \"au\"\n",
    "    elif vardas.endswith(\"ė\"):\n",
    "        vardas = vardas[:-1] + \"e\"\n",
    "        pasisveikinimas = pasisveikinimas[:-1]\n",
    "    print(f\"{pasisveikinimas}, {vardas}\")"
   ]
  },
  {
   "cell_type": "code",
   "execution_count": 91,
   "metadata": {},
   "outputs": [
    {
     "name": "stdout",
     "output_type": "stream",
     "text": [
      "Vienoje eiluteje\n",
      "dar viena eilute\n"
     ]
    }
   ],
   "source": [
    "tekstas = \"Vienoje eiluteje\\ndar viena eilute\"\n",
    "print(tekstas)"
   ]
  },
  {
   "cell_type": "code",
   "execution_count": 93,
   "metadata": {},
   "outputs": [
    {
     "name": "stdout",
     "output_type": "stream",
     "text": [
      "Nr.\tVardas\tPinigai\n",
      "1\tKestas\t1000\n",
      "2\tRomualdas\t400\n"
     ]
    }
   ],
   "source": [
    "antraste = \"Nr.\\tVardas\\tPinigai\"\n",
    "pirma = \"1\\tKestas\\t1000\"\n",
    "antra = \"2\\tRomualdas\\t400\"\n",
    "print(antraste, pirma, antra, sep=\"\\n\")"
   ]
  },
  {
   "cell_type": "code",
   "execution_count": 100,
   "metadata": {},
   "outputs": [
    {
     "name": "stdout",
     "output_type": "stream",
     "text": [
      "Nr. | vardas                         | pinigai   \n",
      "  1 | Jonas                          |    1000.00\n",
      "  2 | Petras                         |     400.00\n",
      "  3 | Zosė                           |       0.50\n",
      "  4 | Kodžius                        |   99000.01\n"
     ]
    }
   ],
   "source": [
    "pinigai = [1000, 400, 0.50, 99000.01]\n",
    "print(f\"{'Nr.':3s} | {'vardas':30s} | {'pinigai':10s}\")\n",
    "for numeris in range(4):\n",
    "    print(f\"{numeris+1:>3d} | {vardai[numeris]:30s} | {pinigai[numeris]:10.2f}\")\n"
   ]
  },
  {
   "cell_type": "code",
   "execution_count": 101,
   "metadata": {},
   "outputs": [
    {
     "name": "stdout",
     "output_type": "stream",
     "text": [
      "© 2023 Middle of Nowhere oy\n"
     ]
    }
   ],
   "source": [
    "print(\"\\u00A9 2023 Middle of Nowhere oy\")"
   ]
  },
  {
   "cell_type": "code",
   "execution_count": 102,
   "metadata": {},
   "outputs": [
    {
     "name": "stdout",
     "output_type": "stream",
     "text": [
      "🧡\n"
     ]
    }
   ],
   "source": [
    "sirdele = \"\\U0001F9E1\"\n",
    "print(sirdele)"
   ]
  },
  {
   "cell_type": "markdown",
   "metadata": {},
   "source": [
    "### String metodai"
   ]
  },
  {
   "cell_type": "code",
   "execution_count": 103,
   "metadata": {},
   "outputs": [
    {
     "data": {
      "text/plain": [
       "'Sveiki vyrai!'"
      ]
     },
     "execution_count": 103,
     "metadata": {},
     "output_type": "execute_result"
    }
   ],
   "source": [
    "sakinys = \"Sveiki vyrai!\"\n",
    "sakinys"
   ]
  },
  {
   "cell_type": "code",
   "execution_count": 104,
   "metadata": {},
   "outputs": [
    {
     "data": {
      "text/plain": [
       "'SVEIKI VYRAI!'"
      ]
     },
     "execution_count": 104,
     "metadata": {},
     "output_type": "execute_result"
    }
   ],
   "source": [
    "sakinys.upper()"
   ]
  },
  {
   "cell_type": "code",
   "execution_count": 107,
   "metadata": {},
   "outputs": [
    {
     "data": {
      "text/plain": [
       "'sveiki vyrai!'"
      ]
     },
     "execution_count": 107,
     "metadata": {},
     "output_type": "execute_result"
    }
   ],
   "source": [
    "sakinys_mazosiomis = sakinys.lower()\n",
    "sakinys_mazosiomis"
   ]
  },
  {
   "cell_type": "code",
   "execution_count": 132,
   "metadata": {},
   "outputs": [
    {
     "data": {
      "text/plain": [
       "['obuolys',\n",
       " 'braškė',\n",
       " 'vynuogė',\n",
       " 'vynuogė',\n",
       " 'bananas',\n",
       " 'vynuogė',\n",
       " 'kiwi',\n",
       " 'braškė',\n",
       " 'marakuja',\n",
       " 'apelsinas',\n",
       " 'ananasas',\n",
       " 'vynuogė']"
      ]
     },
     "execution_count": 132,
     "metadata": {},
     "output_type": "execute_result"
    }
   ],
   "source": [
    "vaisiai = [\"obuolys\", \"braškė\", \"vynuogė\", \"vynuogė\", \"bananas\", \"vynuogė\", \"kiwi\", \"braškė\", \"marakuja\", \"apelsinas\", \"ananasas\", \"vynuogė\"]\n",
    "vaisiai"
   ]
  },
  {
   "cell_type": "code",
   "execution_count": 133,
   "metadata": {},
   "outputs": [
    {
     "name": "stdout",
     "output_type": "stream",
     "text": [
      "obuolys;\n",
      "braškė;\n",
      "vynuogė;\n",
      "vynuogė;\n",
      "bananas;\n",
      "vynuogė;\n",
      "kiwi;\n",
      "braškė;\n",
      "marakuja;\n",
      "apelsinas;\n",
      "ananasas;\n",
      "vynuogė\n"
     ]
    }
   ],
   "source": [
    "print(\";\\n\".join(vaisiai))"
   ]
  },
  {
   "cell_type": "code",
   "execution_count": 134,
   "metadata": {},
   "outputs": [
    {
     "name": "stdout",
     "output_type": "stream",
     "text": [
      "1: obuolys\n",
      "2: braškė\n",
      "3: vynuogė\n",
      "4: vynuogė\n",
      "5: bananas\n",
      "6: vynuogė\n",
      "7: kiwi\n",
      "8: braškė\n",
      "9: marakuja\n",
      "10: apelsinas\n",
      "11: ananasas\n",
      "12: vynuogė\n"
     ]
    }
   ],
   "source": [
    "sunumeruoti_vaisiai = []\n",
    "for nr, vaisius in enumerate(vaisiai):\n",
    "    sunumeruoti_vaisiai.append(f'{nr + 1}: {vaisius}')\n",
    "vaisiu_salotos = \"\\n\".join(sunumeruoti_vaisiai)\n",
    "print(vaisiu_salotos)"
   ]
  },
  {
   "cell_type": "code",
   "execution_count": 147,
   "metadata": {},
   "outputs": [
    {
     "data": {
      "text/plain": [
       "['1: obuolys',\n",
       " '2: braškė',\n",
       " '3: vynuogė',\n",
       " '4: vynuogė',\n",
       " '5: bananas',\n",
       " '6: vynuogė',\n",
       " '7: kiwi',\n",
       " '8: braškė',\n",
       " '9: marakuja',\n",
       " '10: apelsinas',\n",
       " '11: ananasas',\n",
       " '12: vynuogė']"
      ]
     },
     "execution_count": 147,
     "metadata": {},
     "output_type": "execute_result"
    }
   ],
   "source": [
    "salotu_vaisiai = vaisiu_salotos.split('\\n')\n",
    "salotu_vaisiai"
   ]
  },
  {
   "cell_type": "code",
   "execution_count": 148,
   "metadata": {},
   "outputs": [
    {
     "name": "stdout",
     "output_type": "stream",
     "text": [
      "['obuolys', 'braškė', 'vynuogė', 'vynuogė', 'bananas', 'vynuogė', 'kiwi', 'braškė', 'marakuja', 'apelsinas', 'ananasas', 'vynuogė']\n"
     ]
    }
   ],
   "source": [
    "teisingi_vaisiai = []\n",
    "for vaisius in salotu_vaisiai:\n",
    "    teisingi_vaisiai.append(vaisius.split(\": \")[1])\n",
    "print(teisingi_vaisiai)"
   ]
  },
  {
   "cell_type": "code",
   "execution_count": 144,
   "metadata": {},
   "outputs": [
    {
     "name": "stdout",
     "output_type": "stream",
     "text": [
      "['obuolys', 'braškė', 'vynuogė', 'vynuogė', 'bananas', 'vynuogė', 'kiwi', 'braškė', 'marakuja', 'apelsinas', 'ananasas', 'vynuogė']\n"
     ]
    }
   ],
   "source": [
    "for indeksas, vaisius in enumerate(salotu_vaisiai):\n",
    "    salotu_vaisiai[indeksas] = vaisius[3:].strip()\n",
    "print(salotu_vaisiai)"
   ]
  },
  {
   "cell_type": "code",
   "execution_count": 152,
   "metadata": {},
   "outputs": [
    {
     "name": "stdout",
     "output_type": "stream",
     "text": [
      "1: Obuolys\n",
      "2: Braškė\n",
      "3: Vynuogė\n",
      "4: Vynuogė\n",
      "5: Bananas\n",
      "6: Vynuogė\n",
      "7: Kiwi\n",
      "8: Braškė\n",
      "9: Marakuja\n",
      "10: Apelsinas\n",
      "11: Ananasas\n",
      "12: Vynuogė\n"
     ]
    }
   ],
   "source": [
    "print(vaisiu_salotos.title())"
   ]
  },
  {
   "cell_type": "code",
   "execution_count": 155,
   "metadata": {},
   "outputs": [
    {
     "name": "stdout",
     "output_type": "stream",
     "text": [
      "Vynuogė\n"
     ]
    }
   ],
   "source": [
    "print(vaisiai[3].capitalize())"
   ]
  },
  {
   "cell_type": "code",
   "execution_count": 160,
   "metadata": {},
   "outputs": [
    {
     "data": {
      "text/plain": [
       "'Sveiki Vyrai!'"
      ]
     },
     "execution_count": 160,
     "metadata": {},
     "output_type": "execute_result"
    }
   ],
   "source": [
    "sakinys.title()"
   ]
  },
  {
   "cell_type": "code",
   "execution_count": 162,
   "metadata": {},
   "outputs": [
    {
     "data": {
      "text/plain": [
       "17"
      ]
     },
     "execution_count": 162,
     "metadata": {},
     "output_type": "execute_result"
    }
   ],
   "source": [
    "vaisiu_salotos.find(\"š\")"
   ]
  },
  {
   "cell_type": "code",
   "execution_count": 167,
   "metadata": {},
   "outputs": [
    {
     "name": "stdout",
     "output_type": "stream",
     "text": [
      "Radau 1\n"
     ]
    }
   ],
   "source": [
    "if vaisiu_salotos.find(\"1\") >= 0:\n",
    "    print(\"Radau 1\")\n",
    "else:\n",
    "    print(\"Neradau 1\")"
   ]
  },
  {
   "cell_type": "code",
   "execution_count": 172,
   "metadata": {},
   "outputs": [
    {
     "name": "stdout",
     "output_type": "stream",
     "text": [
      "1: obuolys\n",
      "2: braškė\n",
      "3: vyšnia\n",
      "4: vyšnia\n",
      "5: bananas\n",
      "6: vynuogė\n",
      "7: kiwi\n",
      "8: braškė\n",
      "9: marakuja\n",
      "10: apelsinas\n",
      "11: ananasas\n",
      "12: vynuogė\n"
     ]
    }
   ],
   "source": [
    "naujos_salotos = vaisiu_salotos.replace(\"vynuogė\", \"vyšnia\", 2)\n",
    "print(naujos_salotos)"
   ]
  },
  {
   "cell_type": "code",
   "execution_count": 174,
   "metadata": {},
   "outputs": [
    {
     "name": "stdout",
     "output_type": "stream",
     "text": [
      "1. obuolys\n",
      "2. braškė\n",
      "3. vynuogė\n",
      "4. vynuogė\n",
      "5. bananas\n",
      "6. vynuogė\n",
      "7. kiwi\n",
      "8. braškė\n",
      "9. marakuja\n",
      "10. apelsinas\n",
      "11. ananasas\n",
      "12. vynuogė\n"
     ]
    }
   ],
   "source": [
    "naujos_salotos = vaisiu_salotos.replace(\":\", \".\")\n",
    "print(naujos_salotos)"
   ]
  },
  {
   "cell_type": "markdown",
   "metadata": {},
   "source": [
    "### Formataviams"
   ]
  },
  {
   "cell_type": "code",
   "execution_count": 176,
   "metadata": {},
   "outputs": [
    {
     "name": "stdout",
     "output_type": "stream",
     "text": [
      "Vaisiai: obuolys, vynuogė...\n"
     ]
    }
   ],
   "source": [
    "tekstas = \"Vaisiai: \" + vaisiai[0] + \", \" + vaisiai[5] + \"...\"\n",
    "print(tekstas)"
   ]
  },
  {
   "cell_type": "code",
   "execution_count": 179,
   "metadata": {},
   "outputs": [
    {
     "name": "stdout",
     "output_type": "stream",
     "text": [
      "Viso vaisių: 12\n"
     ]
    }
   ],
   "source": [
    "ataskaita = \"Viso vaisių: \" + str(len(vaisiai))\n",
    "print(ataskaita)"
   ]
  },
  {
   "cell_type": "code",
   "execution_count": 182,
   "metadata": {},
   "outputs": [
    {
     "name": "stdout",
     "output_type": "stream",
     "text": [
      "Vaisiai: obuolys, vynuogė, braškė...\n"
     ]
    }
   ],
   "source": [
    "kitos_salotos = f\"Vaisiai: {vaisiai[0]}, {vaisiai[3]}, {vaisiai[7]}...\"\n",
    "print(kitos_salotos)"
   ]
  },
  {
   "cell_type": "code",
   "execution_count": 187,
   "metadata": {},
   "outputs": [
    {
     "name": "stdout",
     "output_type": "stream",
     "text": [
      "Sveiki, mano vardas yra Kestutis ir man yra 40 metų.\n"
     ]
    }
   ],
   "source": [
    "vardas = \"Kestutis\"\n",
    "amzius = 40\n",
    "\n",
    "tekstas = \"Sveiki, mano vardas yra %s ir man yra %d metų.\" % (vardas, amzius)\n",
    "print(tekstas)"
   ]
  },
  {
   "cell_type": "code",
   "execution_count": 189,
   "metadata": {},
   "outputs": [
    {
     "name": "stdout",
     "output_type": "stream",
     "text": [
      "Vaisiai: obuolys, vynuogė, braškė, obuolys...\n"
     ]
    }
   ],
   "source": [
    "tekstas = \"Vaisiai: {0}, {2}, {1}, {0}...\".format(vaisiai[0], vaisiai[1], vaisiai[2])\n",
    "print(tekstas)"
   ]
  },
  {
   "cell_type": "code",
   "execution_count": 194,
   "metadata": {},
   "outputs": [
    {
     "name": "stdout",
     "output_type": "stream",
     "text": [
      "Vaisiai: vynuogė, braškė, kiwi, vynuogė...\n"
     ]
    }
   ],
   "source": [
    "tekstas = \"Vaisiai: {0}, {2}, {1}, {0}...\".format(*vaisiai[5:8])\n",
    "print(tekstas)"
   ]
  },
  {
   "cell_type": "code",
   "execution_count": 197,
   "metadata": {},
   "outputs": [
    {
     "name": "stdout",
     "output_type": "stream",
     "text": [
      "Mano sąskaitoje yra: 456,823,991.78\n"
     ]
    }
   ],
   "source": [
    "labai_daug_pinigu = 456823991.777\n",
    "suformatuoti_pinigai = f\"Mano sąskaitoje yra: {labai_daug_pinigu:,.2f}\"\n",
    "print(suformatuoti_pinigai)"
   ]
  },
  {
   "cell_type": "code",
   "execution_count": 200,
   "metadata": {},
   "outputs": [
    {
     "name": "stdout",
     "output_type": "stream",
     "text": [
      "4.56824e+08\n"
     ]
    }
   ],
   "source": [
    "print(f\"{labai_daug_pinigu:g}\")"
   ]
  },
  {
   "cell_type": "code",
   "execution_count": 210,
   "metadata": {},
   "outputs": [
    {
     "name": "stdout",
     "output_type": "stream",
     "text": [
      "7777.76\n"
     ]
    }
   ],
   "source": [
    "nelabai_daug = 7777.7575150051515\n",
    "print(f\"{nelabai_daug:g}\")"
   ]
  },
  {
   "cell_type": "code",
   "execution_count": 199,
   "metadata": {},
   "outputs": [
    {
     "name": "stdout",
     "output_type": "stream",
     "text": [
      "0.0\n",
      "0\n"
     ]
    }
   ],
   "source": [
    "absoliutus_nulis = float(0)\n",
    "print(absoliutus_nulis)\n",
    "print(f\"{absoliutus_nulis:g}\")"
   ]
  },
  {
   "cell_type": "code",
   "execution_count": 212,
   "metadata": {},
   "outputs": [
    {
     "name": "stdout",
     "output_type": "stream",
     "text": [
      "     77.5\n",
      "    100.9\n",
      "      1.1\n",
      "   3541.8\n"
     ]
    }
   ],
   "source": [
    "skaiciai = [77.5, 100.9, 1.05, 3541.777]\n",
    "for skaicius in skaiciai:\n",
    "    print(f\"{skaicius:9.1f}\")"
   ]
  },
  {
   "cell_type": "code",
   "execution_count": 213,
   "metadata": {},
   "outputs": [
    {
     "name": "stdout",
     "output_type": "stream",
     "text": [
      "0123\n",
      "7711\n",
      "0002\n"
     ]
    }
   ],
   "source": [
    "kodai = [123, 7711, 2]\n",
    "for kodas in kodai:\n",
    "    print(f\"{kodas:04d}\")"
   ]
  },
  {
   "cell_type": "code",
   "execution_count": 218,
   "metadata": {},
   "outputs": [
    {
     "name": "stdout",
     "output_type": "stream",
     "text": [
      "  77.5    | kazkas dar\n",
      "  100.9   | kazkas dar\n",
      "   1.1    | kazkas dar\n",
      " 3541.8   | kazkas dar\n"
     ]
    }
   ],
   "source": [
    "skaiciai = [77.5, 100.9, 1.05, 3541.777]\n",
    "for skaicius in skaiciai:\n",
    "    print(f\"{skaicius:^9.1f} | kazkas dar\")"
   ]
  },
  {
   "cell_type": "code",
   "execution_count": 219,
   "metadata": {},
   "outputs": [
    {
     "name": "stdout",
     "output_type": "stream",
     "text": [
      "77.5      | kazkas dar\n",
      "100.9     | kazkas dar\n",
      "1.1       | kazkas dar\n",
      "3541.8    | kazkas dar\n"
     ]
    }
   ],
   "source": [
    "skaiciai = [77.5, 100.9, 1.05, 3541.777]\n",
    "for skaicius in skaiciai:\n",
    "    print(f\"{skaicius:<9.1f} | kazkas dar\")"
   ]
  },
  {
   "cell_type": "code",
   "execution_count": 221,
   "metadata": {},
   "outputs": [
    {
     "name": "stdout",
     "output_type": "stream",
     "text": [
      "Jūsų skaičius: 1.51616e+30\n"
     ]
    }
   ],
   "source": [
    "skaicius = float(input(\"Duokite skaičių: \"))\n",
    "print(f\"Jūsų skaičius: {skaicius:g}\")"
   ]
  },
  {
   "cell_type": "code",
   "execution_count": 222,
   "metadata": {},
   "outputs": [
    {
     "name": "stdout",
     "output_type": "stream",
     "text": [
      "obuolys, braškė, vynuogė, vynuogė, bananas, vynuogė, kiwi, braškė, marakuja, apelsinas, ananasas, vynuogė..."
     ]
    }
   ],
   "source": [
    "print(*vaisiai, sep=', ', end=\"...\")"
   ]
  },
  {
   "cell_type": "code",
   "execution_count": 224,
   "metadata": {},
   "outputs": [
    {
     "name": "stdout",
     "output_type": "stream",
     "text": [
      "obuolys braškė vynuogė vynuogė bananas vynuogė kiwi braškė marakuja apelsinas ananasas vynuogė\n"
     ]
    }
   ],
   "source": [
    "print(*vaisiai)"
   ]
  },
  {
   "cell_type": "markdown",
   "metadata": {},
   "source": [
    "## kalkuliatorius"
   ]
  },
  {
   "cell_type": "code",
   "execution_count": 225,
   "metadata": {},
   "outputs": [
    {
     "name": "stdout",
     "output_type": "stream",
     "text": [
      "Sveiki atvykę į interaktyvų skaičiuotuvą!\n",
      "Pasirinkite veiksmą, kuriuo norite atlikti su dviem skaičiais:\n",
      "1 - Sudėtis\n",
      "2 - Atimtis\n",
      "3 - Daugyba\n",
      "4 - Dalyba\n",
      "Klaida: 5 n4ra teisingas pasirinkimas\n"
     ]
    }
   ],
   "source": [
    "print(\"Sveiki atvykę į interaktyvų skaičiuotuvą!\")\n",
    "print(\"Pasirinkite veiksmą, kuriuo norite atlikti su dviem skaičiais:\")\n",
    "print(\"1 - Sudėtis\")\n",
    "print(\"2 - Atimtis\")\n",
    "print(\"3 - Daugyba\")\n",
    "print(\"4 - Dalyba\")\n",
    "\n",
    "pasirinkimas = input(\"Pasirinkite: \")\n",
    "skaicius1 = float(input(\"Pirmas skai2ius: \"))\n",
    "skaicius2 = float(input(\"Antras skai2ius: \"))\n",
    "\n",
    "if pasirinkimas == \"1\":\n",
    "    suma = skaicius1 + skaicius2\n",
    "    print(f\"Suma: {suma:10.2f}\")\n",
    "elif pasirinkimas == \"2\":\n",
    "    skirtumas = skaicius1 - skaicius2\n",
    "    print(f\"Skitrumas: {skirtumas:10.2f}\")\n",
    "elif pasirinkimas == \"3\":\n",
    "    sandauga = skaicius1 * skaicius2\n",
    "    print(f\"Sandauga: {sandauga:10.2f}\")\n",
    "elif pasirinkimas == \"4\":\n",
    "    dalmuo = skaicius1 / skaicius2\n",
    "    print(f\"Dalmuo: {dalmuo:10.2f}\")\n",
    "else:\n",
    "    print(f\"Klaida: {pasirinkimas} n4ra teisingas pasirinkimas\")\n"
   ]
  }
 ],
 "metadata": {
  "kernelspec": {
   "display_name": "venv",
   "language": "python",
   "name": "python3"
  },
  "language_info": {
   "codemirror_mode": {
    "name": "ipython",
    "version": 3
   },
   "file_extension": ".py",
   "mimetype": "text/x-python",
   "name": "python",
   "nbconvert_exporter": "python",
   "pygments_lexer": "ipython3",
   "version": "3.10.12"
  },
  "orig_nbformat": 4
 },
 "nbformat": 4,
 "nbformat_minor": 2
}
