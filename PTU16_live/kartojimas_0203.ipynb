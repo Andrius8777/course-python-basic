{
 "cells": [
  {
   "cell_type": "markdown",
   "metadata": {},
   "source": [
    "## Variables"
   ]
  },
  {
   "cell_type": "code",
   "execution_count": 61,
   "metadata": {},
   "outputs": [
    {
     "name": "stdout",
     "output_type": "stream",
     "text": [
      "1 2 3\n"
     ]
    }
   ],
   "source": [
    "vienas, du, trys = 1, 2, 3\n",
    "print(vienas, du, trys)"
   ]
  },
  {
   "cell_type": "code",
   "execution_count": 62,
   "metadata": {},
   "outputs": [
    {
     "name": "stdout",
     "output_type": "stream",
     "text": [
      "vienetukas\n",
      "1\n"
     ]
    }
   ],
   "source": [
    "Vienas = \"vienetukas\"\n",
    "print(Vienas)\n",
    "print(vienas)"
   ]
  },
  {
   "cell_type": "code",
   "execution_count": 63,
   "metadata": {},
   "outputs": [
    {
     "name": "stdout",
     "output_type": "stream",
     "text": [
      "<class 'int'>\n",
      "<class 'str'>\n",
      "<class 'float'>\n"
     ]
    }
   ],
   "source": [
    "x = 5\n",
    "y = \"Hello, world!\"\n",
    "z = 3.14\n",
    "print(type(x))  # išspausdina <class 'int'>\n",
    "print(type(y))  # išspausdina <class 'str'>\n",
    "print(type(z))  # išspausdina <class 'float'>"
   ]
  },
  {
   "cell_type": "code",
   "execution_count": 64,
   "metadata": {},
   "outputs": [
    {
     "name": "stdout",
     "output_type": "stream",
     "text": [
      "10 5\n",
      "5 7\n"
     ]
    }
   ],
   "source": [
    "pirmas = 10\n",
    "antras = 5\n",
    "print(pirmas, antras)\n",
    "pirmas = antras\n",
    "antras = 7\n",
    "print(pirmas, antras)"
   ]
  },
  {
   "cell_type": "code",
   "execution_count": 65,
   "metadata": {},
   "outputs": [
    {
     "name": "stdout",
     "output_type": "stream",
     "text": [
      "6.0 <class 'float'>\n"
     ]
    }
   ],
   "source": [
    "pusantro = 1.5\n",
    "sesi = pusantro * 4\n",
    "print(sesi, type(sesi))"
   ]
  },
  {
   "cell_type": "markdown",
   "metadata": {},
   "source": [
    "## Basic Logic"
   ]
  },
  {
   "cell_type": "code",
   "execution_count": 66,
   "metadata": {},
   "outputs": [
    {
     "name": "stdout",
     "output_type": "stream",
     "text": [
      "a ir b yra lygūs\n"
     ]
    }
   ],
   "source": [
    "a = 10\n",
    "b = 10\n",
    "if a == b:\n",
    "    print(\"a ir b yra lygūs\")\n",
    "else:\n",
    "    print(\"a ir b nėra lygūs\")"
   ]
  },
  {
   "cell_type": "code",
   "execution_count": 67,
   "metadata": {},
   "outputs": [
    {
     "data": {
      "text/plain": [
       "True"
      ]
     },
     "execution_count": 67,
     "metadata": {},
     "output_type": "execute_result"
    }
   ],
   "source": [
    "c = a == b\n",
    "c"
   ]
  },
  {
   "cell_type": "code",
   "execution_count": 68,
   "metadata": {},
   "outputs": [
    {
     "name": "stdout",
     "output_type": "stream",
     "text": [
      "a ir b yra lygūs\n"
     ]
    }
   ],
   "source": [
    "a = 10\n",
    "b = 10\n",
    "if a != b:\n",
    "    print(\"a ir b yra nelygūs\")\n",
    "else:\n",
    "    print(\"a ir b yra lygūs\")"
   ]
  },
  {
   "cell_type": "code",
   "execution_count": 69,
   "metadata": {},
   "outputs": [
    {
     "name": "stdout",
     "output_type": "stream",
     "text": [
      "False\n"
     ]
    }
   ],
   "source": [
    "print(a != b)"
   ]
  },
  {
   "cell_type": "code",
   "execution_count": 70,
   "metadata": {},
   "outputs": [
    {
     "name": "stdout",
     "output_type": "stream",
     "text": [
      "b yra didesnis arba lygus a\n"
     ]
    }
   ],
   "source": [
    "a = 10\n",
    "b = 10\n",
    "if b < a:\n",
    "    print(\"b yra mažesnis nei a\")\n",
    "else:\n",
    "    print(\"b yra didesnis arba lygus a\")"
   ]
  },
  {
   "cell_type": "code",
   "execution_count": 71,
   "metadata": {},
   "outputs": [
    {
     "name": "stdout",
     "output_type": "stream",
     "text": [
      "True\n"
     ]
    }
   ],
   "source": [
    "print(b <= a)"
   ]
  },
  {
   "cell_type": "code",
   "execution_count": 72,
   "metadata": {},
   "outputs": [
    {
     "name": "stdout",
     "output_type": "stream",
     "text": [
      "True\n",
      "False\n"
     ]
    }
   ],
   "source": [
    "x = True\n",
    "y = False\n",
    "\n",
    "print(x) # išvestų \"True\"\n",
    "print(y) # išvestų \"False\""
   ]
  },
  {
   "cell_type": "code",
   "execution_count": 73,
   "metadata": {},
   "outputs": [
    {
     "name": "stdout",
     "output_type": "stream",
     "text": [
      "True\n"
     ]
    }
   ],
   "source": [
    "a = 10\n",
    "b = 5\n",
    "teiginys = a > b\n",
    "print(teiginys)"
   ]
  },
  {
   "cell_type": "code",
   "execution_count": 74,
   "metadata": {},
   "outputs": [
    {
     "name": "stdout",
     "output_type": "stream",
     "text": [
      "a yra didesnis už b\n",
      "teiginys: True\n"
     ]
    }
   ],
   "source": [
    "if teiginys:\n",
    "    print(\"a yra didesnis už b\")\n",
    "else:\n",
    "    print(\"a yra mažesnis arba lygus b\")\n",
    "\n",
    "# pasitikrinimui\n",
    "print(f\"teiginys: {teiginys}\")"
   ]
  },
  {
   "cell_type": "code",
   "execution_count": 75,
   "metadata": {},
   "outputs": [
    {
     "data": {
      "text/plain": [
       "bool"
      ]
     },
     "execution_count": 75,
     "metadata": {},
     "output_type": "execute_result"
    }
   ],
   "source": [
    "type(teiginys)"
   ]
  },
  {
   "cell_type": "code",
   "execution_count": 76,
   "metadata": {},
   "outputs": [
    {
     "data": {
      "text/plain": [
       "True"
      ]
     },
     "execution_count": 76,
     "metadata": {},
     "output_type": "execute_result"
    }
   ],
   "source": [
    "True == 1"
   ]
  },
  {
   "cell_type": "code",
   "execution_count": 77,
   "metadata": {},
   "outputs": [
    {
     "data": {
      "text/plain": [
       "True"
      ]
     },
     "execution_count": 77,
     "metadata": {},
     "output_type": "execute_result"
    }
   ],
   "source": [
    "False == 0"
   ]
  },
  {
   "cell_type": "code",
   "execution_count": 78,
   "metadata": {},
   "outputs": [
    {
     "data": {
      "text/plain": [
       "False"
      ]
     },
     "execution_count": 78,
     "metadata": {},
     "output_type": "execute_result"
    }
   ],
   "source": [
    "True == False"
   ]
  },
  {
   "cell_type": "code",
   "execution_count": 79,
   "metadata": {},
   "outputs": [
    {
     "data": {
      "text/plain": [
       "True"
      ]
     },
     "execution_count": 79,
     "metadata": {},
     "output_type": "execute_result"
    }
   ],
   "source": [
    "True != False"
   ]
  },
  {
   "cell_type": "code",
   "execution_count": 80,
   "metadata": {},
   "outputs": [
    {
     "data": {
      "text/plain": [
       "True"
      ]
     },
     "execution_count": 80,
     "metadata": {},
     "output_type": "execute_result"
    }
   ],
   "source": [
    "True > False"
   ]
  },
  {
   "cell_type": "code",
   "execution_count": 81,
   "metadata": {},
   "outputs": [
    {
     "data": {
      "text/plain": [
       "False"
      ]
     },
     "execution_count": 81,
     "metadata": {},
     "output_type": "execute_result"
    }
   ],
   "source": [
    "True < False"
   ]
  },
  {
   "cell_type": "code",
   "execution_count": 82,
   "metadata": {},
   "outputs": [],
   "source": [
    "skaicius = 17\n",
    "kitas = 0"
   ]
  },
  {
   "cell_type": "code",
   "execution_count": 83,
   "metadata": {},
   "outputs": [
    {
     "name": "stdout",
     "output_type": "stream",
     "text": [
      "suveike\n"
     ]
    }
   ],
   "source": [
    "if skaicius:\n",
    "    print(\"suveike\")"
   ]
  },
  {
   "cell_type": "code",
   "execution_count": 84,
   "metadata": {},
   "outputs": [
    {
     "name": "stdout",
     "output_type": "stream",
     "text": [
      "oops\n"
     ]
    }
   ],
   "source": [
    "if kitas:\n",
    "    print(\"suveike\")\n",
    "else:\n",
    "    print(\"oops\")"
   ]
  },
  {
   "cell_type": "code",
   "execution_count": 85,
   "metadata": {},
   "outputs": [
    {
     "name": "stdout",
     "output_type": "stream",
     "text": [
      "3\n"
     ]
    }
   ],
   "source": [
    "kitas = 3\n",
    "print(skaicius and kitas)"
   ]
  },
  {
   "cell_type": "code",
   "execution_count": 86,
   "metadata": {},
   "outputs": [
    {
     "name": "stdout",
     "output_type": "stream",
     "text": [
      "Kazko truksta\n"
     ]
    }
   ],
   "source": [
    "kitas = False\n",
    "if skaicius and kitas:\n",
    "    print(\"abu skaiciai yra\")\n",
    "else:\n",
    "    print(\"Kazko truksta\")"
   ]
  },
  {
   "cell_type": "code",
   "execution_count": 87,
   "metadata": {},
   "outputs": [
    {
     "name": "stdout",
     "output_type": "stream",
     "text": [
      "bent vienas skaicius yra OK\n"
     ]
    }
   ],
   "source": [
    "kitas = False\n",
    "if skaicius or kitas:\n",
    "    print(\"bent vienas skaicius yra OK\")\n",
    "else:\n",
    "    print(\"Kazko truksta\")"
   ]
  },
  {
   "cell_type": "code",
   "execution_count": 88,
   "metadata": {},
   "outputs": [
    {
     "name": "stdout",
     "output_type": "stream",
     "text": [
      "17\n"
     ]
    }
   ],
   "source": [
    "print(kitas or skaicius)"
   ]
  },
  {
   "cell_type": "code",
   "execution_count": 89,
   "metadata": {},
   "outputs": [
    {
     "name": "stdout",
     "output_type": "stream",
     "text": [
      "Abu teiginiai yra tiesa\n"
     ]
    }
   ],
   "source": [
    "a = 10\n",
    "b = 5\n",
    "if a > 5 and b < 10:\n",
    "    print(\"Abu teiginiai yra tiesa\")\n",
    "else:\n",
    "    print(\"Vienas ar abu teiginiai yra netiesa\")"
   ]
  },
  {
   "cell_type": "code",
   "execution_count": 90,
   "metadata": {},
   "outputs": [
    {
     "data": {
      "text/plain": [
       "False"
      ]
     },
     "execution_count": 90,
     "metadata": {},
     "output_type": "execute_result"
    }
   ],
   "source": [
    "True and False"
   ]
  },
  {
   "cell_type": "code",
   "execution_count": 91,
   "metadata": {},
   "outputs": [
    {
     "data": {
      "text/plain": [
       "False"
      ]
     },
     "execution_count": 91,
     "metadata": {},
     "output_type": "execute_result"
    }
   ],
   "source": [
    "False and False"
   ]
  },
  {
   "cell_type": "code",
   "execution_count": 92,
   "metadata": {},
   "outputs": [
    {
     "data": {
      "text/plain": [
       "True"
      ]
     },
     "execution_count": 92,
     "metadata": {},
     "output_type": "execute_result"
    }
   ],
   "source": [
    "True and True"
   ]
  },
  {
   "cell_type": "code",
   "execution_count": 93,
   "metadata": {},
   "outputs": [
    {
     "data": {
      "text/plain": [
       "True"
      ]
     },
     "execution_count": 93,
     "metadata": {},
     "output_type": "execute_result"
    }
   ],
   "source": [
    "False or True"
   ]
  },
  {
   "cell_type": "code",
   "execution_count": 94,
   "metadata": {},
   "outputs": [
    {
     "data": {
      "text/plain": [
       "True"
      ]
     },
     "execution_count": 94,
     "metadata": {},
     "output_type": "execute_result"
    }
   ],
   "source": [
    "True or True"
   ]
  },
  {
   "cell_type": "code",
   "execution_count": 95,
   "metadata": {},
   "outputs": [
    {
     "data": {
      "text/plain": [
       "True"
      ]
     },
     "execution_count": 95,
     "metadata": {},
     "output_type": "execute_result"
    }
   ],
   "source": [
    "not (False and False)"
   ]
  },
  {
   "cell_type": "code",
   "execution_count": 96,
   "metadata": {},
   "outputs": [
    {
     "data": {
      "text/plain": [
       "True"
      ]
     },
     "execution_count": 96,
     "metadata": {},
     "output_type": "execute_result"
    }
   ],
   "source": [
    "not False and True"
   ]
  },
  {
   "cell_type": "code",
   "execution_count": 97,
   "metadata": {},
   "outputs": [
    {
     "data": {
      "text/plain": [
       "False"
      ]
     },
     "execution_count": 97,
     "metadata": {},
     "output_type": "execute_result"
    }
   ],
   "source": [
    "not True and True"
   ]
  },
  {
   "cell_type": "code",
   "execution_count": 98,
   "metadata": {},
   "outputs": [
    {
     "data": {
      "text/plain": [
       "True"
      ]
     },
     "execution_count": 98,
     "metadata": {},
     "output_type": "execute_result"
    }
   ],
   "source": [
    "not True or True"
   ]
  },
  {
   "cell_type": "code",
   "execution_count": 99,
   "metadata": {},
   "outputs": [
    {
     "data": {
      "text/plain": [
       "True"
      ]
     },
     "execution_count": 99,
     "metadata": {},
     "output_type": "execute_result"
    }
   ],
   "source": [
    "a = 10\n",
    "b = 5\n",
    "c = 20\n",
    "d = a > b and b < c or c != 20\n",
    "d"
   ]
  },
  {
   "cell_type": "code",
   "execution_count": 100,
   "metadata": {},
   "outputs": [
    {
     "data": {
      "text/plain": [
       "1.0"
      ]
     },
     "execution_count": 100,
     "metadata": {},
     "output_type": "execute_result"
    }
   ],
   "source": [
    "a = 5\n",
    "# a *= 5\n",
    "a /= 5\n",
    "a"
   ]
  },
  {
   "cell_type": "code",
   "execution_count": 101,
   "metadata": {},
   "outputs": [
    {
     "data": {
      "text/plain": [
       "65536"
      ]
     },
     "execution_count": 101,
     "metadata": {},
     "output_type": "execute_result"
    }
   ],
   "source": [
    "2 ** 16"
   ]
  },
  {
   "cell_type": "code",
   "execution_count": 102,
   "metadata": {},
   "outputs": [
    {
     "data": {
      "text/plain": [
       "5832"
      ]
     },
     "execution_count": 102,
     "metadata": {},
     "output_type": "execute_result"
    }
   ],
   "source": [
    "18 ** 3"
   ]
  },
  {
   "cell_type": "code",
   "execution_count": 103,
   "metadata": {},
   "outputs": [
    {
     "data": {
      "text/plain": [
       "0.0101"
      ]
     },
     "execution_count": 103,
     "metadata": {},
     "output_type": "execute_result"
    }
   ],
   "source": [
    "kisene = 0.01\n",
    "palukanos = 0.01\n",
    "po_minutes = kisene * (1 + palukanos)\n",
    "po_minutes"
   ]
  },
  {
   "cell_type": "code",
   "execution_count": 104,
   "metadata": {},
   "outputs": [
    {
     "data": {
      "text/plain": [
       "1440"
      ]
     },
     "execution_count": 104,
     "metadata": {},
     "output_type": "execute_result"
    }
   ],
   "source": [
    "dienoj_minuciu = 24 * 60\n",
    "dienoj_minuciu"
   ]
  },
  {
   "cell_type": "code",
   "execution_count": 105,
   "metadata": {},
   "outputs": [
    {
     "data": {
      "text/plain": [
       "27896935223.95062"
      ]
     },
     "execution_count": 105,
     "metadata": {},
     "output_type": "execute_result"
    }
   ],
   "source": [
    "kisene = 0.01\n",
    "palukanos = 0.01\n",
    "for minute in range(dienoj_minuciu * 2):\n",
    "    kisene *= 1 + palukanos\n",
    "    # kisene = kisene * (1 + palukanos)\n",
    "kisene"
   ]
  },
  {
   "cell_type": "markdown",
   "metadata": {},
   "source": [
    "## Stringuliai"
   ]
  },
  {
   "cell_type": "code",
   "execution_count": 106,
   "metadata": {},
   "outputs": [],
   "source": [
    "pasisveikinimas = 'Labas, pasauli!'\n",
    "klausimas = \"Kaip sekasi?\""
   ]
  },
  {
   "cell_type": "code",
   "execution_count": 107,
   "metadata": {},
   "outputs": [
    {
     "name": "stdout",
     "output_type": "stream",
     "text": [
      "Labas, pasauli!\n",
      "Kaip sekasi?\n"
     ]
    }
   ],
   "source": [
    "print(pasisveikinimas)\n",
    "print(klausimas)"
   ]
  },
  {
   "cell_type": "code",
   "execution_count": 108,
   "metadata": {},
   "outputs": [
    {
     "name": "stdout",
     "output_type": "stream",
     "text": [
      "s\n"
     ]
    }
   ],
   "source": [
    "print(pasisveikinimas[4])"
   ]
  },
  {
   "cell_type": "code",
   "execution_count": 109,
   "metadata": {},
   "outputs": [
    {
     "name": "stdout",
     "output_type": "stream",
     "text": [
      "!\n"
     ]
    }
   ],
   "source": [
    "print(pasisveikinimas[-1])"
   ]
  },
  {
   "cell_type": "code",
   "execution_count": 110,
   "metadata": {},
   "outputs": [
    {
     "name": "stdout",
     "output_type": "stream",
     "text": [
      "Labas rytas, pasauli!\n"
     ]
    }
   ],
   "source": [
    "rytinis = pasisveikinimas[:5] + \" rytas\" + pasisveikinimas[5:]\n",
    "print(rytinis)"
   ]
  },
  {
   "cell_type": "code",
   "execution_count": 111,
   "metadata": {},
   "outputs": [
    {
     "name": "stdout",
     "output_type": "stream",
     "text": [
      "Sveikas, Jonai\n",
      "Sveikas, Petrai\n",
      "Sveika, Zose\n",
      "Sveikas, Kodžiau\n"
     ]
    }
   ],
   "source": [
    "vardai = [\"Jonas\", \"Petras\", \"Zosė\", \"Kodžius\"]\n",
    "for vardas in vardai:\n",
    "    pasisveikinimas = \"Sveikas\"\n",
    "    if vardas.endswith(\"as\"):\n",
    "        vardas = vardas[:-2] + \"ai\"\n",
    "    elif vardas.endswith(\"ius\"):\n",
    "        vardas = vardas[:-2] + \"au\"\n",
    "    elif vardas.endswith(\"ė\"):\n",
    "        vardas = vardas[:-1] + \"e\"\n",
    "        pasisveikinimas = pasisveikinimas[:-1]\n",
    "    print(f\"{pasisveikinimas}, {vardas}\")"
   ]
  },
  {
   "cell_type": "code",
   "execution_count": 112,
   "metadata": {},
   "outputs": [
    {
     "name": "stdout",
     "output_type": "stream",
     "text": [
      "Vienoje eiluteje\n",
      "dar viena eilute\n"
     ]
    }
   ],
   "source": [
    "tekstas = \"Vienoje eiluteje\\ndar viena eilute\"\n",
    "print(tekstas)"
   ]
  },
  {
   "cell_type": "code",
   "execution_count": 113,
   "metadata": {},
   "outputs": [
    {
     "name": "stdout",
     "output_type": "stream",
     "text": [
      "Nr.\tVardas\tPinigai\n",
      "1\tKestas\t1000\n",
      "2\tRomualdas\t400\n"
     ]
    }
   ],
   "source": [
    "antraste = \"Nr.\\tVardas\\tPinigai\"\n",
    "pirma = \"1\\tKestas\\t1000\"\n",
    "antra = \"2\\tRomualdas\\t400\"\n",
    "print(antraste, pirma, antra, sep=\"\\n\")"
   ]
  },
  {
   "cell_type": "code",
   "execution_count": 114,
   "metadata": {},
   "outputs": [
    {
     "name": "stdout",
     "output_type": "stream",
     "text": [
      "Nr. | vardas                         | pinigai   \n",
      "  1 | Jonas                          |    1000.00\n",
      "  2 | Petras                         |     400.00\n",
      "  3 | Zosė                           |       0.50\n",
      "  4 | Kodžius                        |   99000.01\n"
     ]
    }
   ],
   "source": [
    "pinigai = [1000, 400, 0.50, 99000.01]\n",
    "print(f\"{'Nr.':3s} | {'vardas':30s} | {'pinigai':10s}\")\n",
    "for numeris in range(4):\n",
    "    print(f\"{numeris+1:>3d} | {vardai[numeris]:30s} | {pinigai[numeris]:10.2f}\")\n"
   ]
  },
  {
   "cell_type": "code",
   "execution_count": 115,
   "metadata": {},
   "outputs": [
    {
     "name": "stdout",
     "output_type": "stream",
     "text": [
      "© 2023 Middle of Nowhere oy\n"
     ]
    }
   ],
   "source": [
    "print(\"\\u00A9 2023 Middle of Nowhere oy\")"
   ]
  },
  {
   "cell_type": "code",
   "execution_count": 116,
   "metadata": {},
   "outputs": [
    {
     "name": "stdout",
     "output_type": "stream",
     "text": [
      "🧡\n"
     ]
    }
   ],
   "source": [
    "sirdele = \"\\U0001F9E1\"\n",
    "print(sirdele)"
   ]
  },
  {
   "cell_type": "markdown",
   "metadata": {},
   "source": [
    "### String metodai"
   ]
  },
  {
   "cell_type": "code",
   "execution_count": 117,
   "metadata": {},
   "outputs": [
    {
     "data": {
      "text/plain": [
       "'Sveiki vyrai!'"
      ]
     },
     "execution_count": 117,
     "metadata": {},
     "output_type": "execute_result"
    }
   ],
   "source": [
    "sakinys = \"Sveiki vyrai!\"\n",
    "sakinys"
   ]
  },
  {
   "cell_type": "code",
   "execution_count": 118,
   "metadata": {},
   "outputs": [
    {
     "data": {
      "text/plain": [
       "'SVEIKI VYRAI!'"
      ]
     },
     "execution_count": 118,
     "metadata": {},
     "output_type": "execute_result"
    }
   ],
   "source": [
    "sakinys.upper()"
   ]
  },
  {
   "cell_type": "code",
   "execution_count": 119,
   "metadata": {},
   "outputs": [
    {
     "data": {
      "text/plain": [
       "'sveiki vyrai!'"
      ]
     },
     "execution_count": 119,
     "metadata": {},
     "output_type": "execute_result"
    }
   ],
   "source": [
    "sakinys_mazosiomis = sakinys.lower()\n",
    "sakinys_mazosiomis"
   ]
  },
  {
   "cell_type": "code",
   "execution_count": 120,
   "metadata": {},
   "outputs": [
    {
     "data": {
      "text/plain": [
       "['obuolys',\n",
       " 'braškė',\n",
       " 'vynuogė',\n",
       " 'vynuogė',\n",
       " 'bananas',\n",
       " 'vynuogė',\n",
       " 'kiwi',\n",
       " 'braškė',\n",
       " 'marakuja',\n",
       " 'apelsinas',\n",
       " 'ananasas',\n",
       " 'vynuogė']"
      ]
     },
     "execution_count": 120,
     "metadata": {},
     "output_type": "execute_result"
    }
   ],
   "source": [
    "vaisiai = [\"obuolys\", \"braškė\", \"vynuogė\", \"vynuogė\", \"bananas\", \"vynuogė\", \"kiwi\", \"braškė\", \"marakuja\", \"apelsinas\", \"ananasas\", \"vynuogė\"]\n",
    "vaisiai"
   ]
  },
  {
   "cell_type": "code",
   "execution_count": 121,
   "metadata": {},
   "outputs": [
    {
     "name": "stdout",
     "output_type": "stream",
     "text": [
      "obuolys;\n",
      "braškė;\n",
      "vynuogė;\n",
      "vynuogė;\n",
      "bananas;\n",
      "vynuogė;\n",
      "kiwi;\n",
      "braškė;\n",
      "marakuja;\n",
      "apelsinas;\n",
      "ananasas;\n",
      "vynuogė\n"
     ]
    }
   ],
   "source": [
    "print(\";\\n\".join(vaisiai))"
   ]
  },
  {
   "cell_type": "code",
   "execution_count": 122,
   "metadata": {},
   "outputs": [
    {
     "name": "stdout",
     "output_type": "stream",
     "text": [
      "1: obuolys\n",
      "2: braškė\n",
      "3: vynuogė\n",
      "4: vynuogė\n",
      "5: bananas\n",
      "6: vynuogė\n",
      "7: kiwi\n",
      "8: braškė\n",
      "9: marakuja\n",
      "10: apelsinas\n",
      "11: ananasas\n",
      "12: vynuogė\n"
     ]
    }
   ],
   "source": [
    "sunumeruoti_vaisiai = []\n",
    "for nr, vaisius in enumerate(vaisiai):\n",
    "    sunumeruoti_vaisiai.append(f'{nr + 1}: {vaisius}')\n",
    "vaisiu_salotos = \"\\n\".join(sunumeruoti_vaisiai)\n",
    "print(vaisiu_salotos)"
   ]
  },
  {
   "cell_type": "code",
   "execution_count": 123,
   "metadata": {},
   "outputs": [
    {
     "data": {
      "text/plain": [
       "['1: obuolys',\n",
       " '2: braškė',\n",
       " '3: vynuogė',\n",
       " '4: vynuogė',\n",
       " '5: bananas',\n",
       " '6: vynuogė',\n",
       " '7: kiwi',\n",
       " '8: braškė',\n",
       " '9: marakuja',\n",
       " '10: apelsinas',\n",
       " '11: ananasas',\n",
       " '12: vynuogė']"
      ]
     },
     "execution_count": 123,
     "metadata": {},
     "output_type": "execute_result"
    }
   ],
   "source": [
    "salotu_vaisiai = vaisiu_salotos.split('\\n')\n",
    "salotu_vaisiai"
   ]
  },
  {
   "cell_type": "code",
   "execution_count": 124,
   "metadata": {},
   "outputs": [
    {
     "name": "stdout",
     "output_type": "stream",
     "text": [
      "['obuolys', 'braškė', 'vynuogė', 'vynuogė', 'bananas', 'vynuogė', 'kiwi', 'braškė', 'marakuja', 'apelsinas', 'ananasas', 'vynuogė']\n"
     ]
    }
   ],
   "source": [
    "teisingi_vaisiai = []\n",
    "for vaisius in salotu_vaisiai:\n",
    "    teisingi_vaisiai.append(vaisius.split(\": \")[1])\n",
    "print(teisingi_vaisiai)"
   ]
  },
  {
   "cell_type": "code",
   "execution_count": 125,
   "metadata": {},
   "outputs": [
    {
     "name": "stdout",
     "output_type": "stream",
     "text": [
      "['obuolys', 'braškė', 'vynuogė', 'vynuogė', 'bananas', 'vynuogė', 'kiwi', 'braškė', 'marakuja', 'apelsinas', 'ananasas', 'vynuogė']\n"
     ]
    }
   ],
   "source": [
    "for indeksas, vaisius in enumerate(salotu_vaisiai):\n",
    "    salotu_vaisiai[indeksas] = vaisius[3:].strip()\n",
    "print(salotu_vaisiai)"
   ]
  },
  {
   "cell_type": "code",
   "execution_count": 126,
   "metadata": {},
   "outputs": [
    {
     "name": "stdout",
     "output_type": "stream",
     "text": [
      "1: Obuolys\n",
      "2: Braškė\n",
      "3: Vynuogė\n",
      "4: Vynuogė\n",
      "5: Bananas\n",
      "6: Vynuogė\n",
      "7: Kiwi\n",
      "8: Braškė\n",
      "9: Marakuja\n",
      "10: Apelsinas\n",
      "11: Ananasas\n",
      "12: Vynuogė\n"
     ]
    }
   ],
   "source": [
    "print(vaisiu_salotos.title())"
   ]
  },
  {
   "cell_type": "code",
   "execution_count": 127,
   "metadata": {},
   "outputs": [
    {
     "name": "stdout",
     "output_type": "stream",
     "text": [
      "Vynuogė\n"
     ]
    }
   ],
   "source": [
    "print(vaisiai[3].capitalize())"
   ]
  },
  {
   "cell_type": "code",
   "execution_count": 128,
   "metadata": {},
   "outputs": [
    {
     "data": {
      "text/plain": [
       "'Sveiki Vyrai!'"
      ]
     },
     "execution_count": 128,
     "metadata": {},
     "output_type": "execute_result"
    }
   ],
   "source": [
    "sakinys.title()"
   ]
  },
  {
   "cell_type": "code",
   "execution_count": 129,
   "metadata": {},
   "outputs": [
    {
     "data": {
      "text/plain": [
       "17"
      ]
     },
     "execution_count": 129,
     "metadata": {},
     "output_type": "execute_result"
    }
   ],
   "source": [
    "vaisiu_salotos.find(\"š\")"
   ]
  },
  {
   "cell_type": "code",
   "execution_count": 130,
   "metadata": {},
   "outputs": [
    {
     "name": "stdout",
     "output_type": "stream",
     "text": [
      "Radau 1\n"
     ]
    }
   ],
   "source": [
    "if vaisiu_salotos.find(\"1\") >= 0:\n",
    "    print(\"Radau 1\")\n",
    "else:\n",
    "    print(\"Neradau 1\")"
   ]
  },
  {
   "cell_type": "code",
   "execution_count": 131,
   "metadata": {},
   "outputs": [
    {
     "name": "stdout",
     "output_type": "stream",
     "text": [
      "1: obuolys\n",
      "2: braškė\n",
      "3: vyšnia\n",
      "4: vyšnia\n",
      "5: bananas\n",
      "6: vynuogė\n",
      "7: kiwi\n",
      "8: braškė\n",
      "9: marakuja\n",
      "10: apelsinas\n",
      "11: ananasas\n",
      "12: vynuogė\n"
     ]
    }
   ],
   "source": [
    "naujos_salotos = vaisiu_salotos.replace(\"vynuogė\", \"vyšnia\", 2)\n",
    "print(naujos_salotos)"
   ]
  },
  {
   "cell_type": "code",
   "execution_count": 132,
   "metadata": {},
   "outputs": [
    {
     "name": "stdout",
     "output_type": "stream",
     "text": [
      "1. obuolys\n",
      "2. braškė\n",
      "3. vynuogė\n",
      "4. vynuogė\n",
      "5. bananas\n",
      "6. vynuogė\n",
      "7. kiwi\n",
      "8. braškė\n",
      "9. marakuja\n",
      "10. apelsinas\n",
      "11. ananasas\n",
      "12. vynuogė\n"
     ]
    }
   ],
   "source": [
    "naujos_salotos = vaisiu_salotos.replace(\":\", \".\")\n",
    "print(naujos_salotos)"
   ]
  },
  {
   "cell_type": "markdown",
   "metadata": {},
   "source": [
    "### Formataviams"
   ]
  },
  {
   "cell_type": "code",
   "execution_count": 133,
   "metadata": {},
   "outputs": [
    {
     "name": "stdout",
     "output_type": "stream",
     "text": [
      "Vaisiai: obuolys, vynuogė...\n"
     ]
    }
   ],
   "source": [
    "tekstas = \"Vaisiai: \" + vaisiai[0] + \", \" + vaisiai[5] + \"...\"\n",
    "print(tekstas)"
   ]
  },
  {
   "cell_type": "code",
   "execution_count": 134,
   "metadata": {},
   "outputs": [
    {
     "name": "stdout",
     "output_type": "stream",
     "text": [
      "Viso vaisių: 12\n"
     ]
    }
   ],
   "source": [
    "ataskaita = \"Viso vaisių: \" + str(len(vaisiai))\n",
    "print(ataskaita)"
   ]
  },
  {
   "cell_type": "code",
   "execution_count": 135,
   "metadata": {},
   "outputs": [
    {
     "name": "stdout",
     "output_type": "stream",
     "text": [
      "Vaisiai: obuolys, vynuogė, braškė...\n"
     ]
    }
   ],
   "source": [
    "kitos_salotos = f\"Vaisiai: {vaisiai[0]}, {vaisiai[3]}, {vaisiai[7]}...\"\n",
    "print(kitos_salotos)"
   ]
  },
  {
   "cell_type": "code",
   "execution_count": 136,
   "metadata": {},
   "outputs": [
    {
     "name": "stdout",
     "output_type": "stream",
     "text": [
      "Sveiki, mano vardas yra Kestutis ir man yra 40 metų.\n"
     ]
    }
   ],
   "source": [
    "vardas = \"Kestutis\"\n",
    "zmones = 40\n",
    "\n",
    "tekstas = \"Sveiki, mano vardas yra %s ir man yra %d metų.\" % (vardas, zmones)\n",
    "print(tekstas)"
   ]
  },
  {
   "cell_type": "code",
   "execution_count": 137,
   "metadata": {},
   "outputs": [
    {
     "name": "stdout",
     "output_type": "stream",
     "text": [
      "Vaisiai: obuolys, vynuogė, braškė, obuolys...\n"
     ]
    }
   ],
   "source": [
    "tekstas = \"Vaisiai: {0}, {2}, {1}, {0}...\".format(vaisiai[0], vaisiai[1], vaisiai[2])\n",
    "print(tekstas)"
   ]
  },
  {
   "cell_type": "code",
   "execution_count": 138,
   "metadata": {},
   "outputs": [
    {
     "name": "stdout",
     "output_type": "stream",
     "text": [
      "Vaisiai: vynuogė, braškė, kiwi, vynuogė...\n"
     ]
    }
   ],
   "source": [
    "tekstas = \"Vaisiai: {0}, {2}, {1}, {0}...\".format(*vaisiai[5:8])\n",
    "print(tekstas)"
   ]
  },
  {
   "cell_type": "code",
   "execution_count": 139,
   "metadata": {},
   "outputs": [
    {
     "name": "stdout",
     "output_type": "stream",
     "text": [
      "Mano sąskaitoje yra: 456,823,991.78\n"
     ]
    }
   ],
   "source": [
    "labai_daug_pinigu = 456823991.777\n",
    "suformatuoti_pinigai = f\"Mano sąskaitoje yra: {labai_daug_pinigu:,.2f}\"\n",
    "print(suformatuoti_pinigai)"
   ]
  },
  {
   "cell_type": "code",
   "execution_count": 140,
   "metadata": {},
   "outputs": [
    {
     "name": "stdout",
     "output_type": "stream",
     "text": [
      "4.56824e+08\n"
     ]
    }
   ],
   "source": [
    "print(f\"{labai_daug_pinigu:g}\")"
   ]
  },
  {
   "cell_type": "code",
   "execution_count": 141,
   "metadata": {},
   "outputs": [
    {
     "name": "stdout",
     "output_type": "stream",
     "text": [
      "7777.76\n"
     ]
    }
   ],
   "source": [
    "nelabai_daug = 7777.7575150051515\n",
    "print(f\"{nelabai_daug:g}\")"
   ]
  },
  {
   "cell_type": "code",
   "execution_count": 142,
   "metadata": {},
   "outputs": [
    {
     "name": "stdout",
     "output_type": "stream",
     "text": [
      "0.0\n",
      "0\n"
     ]
    }
   ],
   "source": [
    "absoliutus_nulis = float(0)\n",
    "print(absoliutus_nulis)\n",
    "print(f\"{absoliutus_nulis:g}\")"
   ]
  },
  {
   "cell_type": "code",
   "execution_count": 143,
   "metadata": {},
   "outputs": [
    {
     "name": "stdout",
     "output_type": "stream",
     "text": [
      "     77.5\n",
      "    100.9\n",
      "      1.1\n",
      "   3541.8\n"
     ]
    }
   ],
   "source": [
    "skaiciai = [77.5, 100.9, 1.05, 3541.777]\n",
    "for skaicius in skaiciai:\n",
    "    print(f\"{skaicius:9.1f}\")"
   ]
  },
  {
   "cell_type": "code",
   "execution_count": 144,
   "metadata": {},
   "outputs": [
    {
     "name": "stdout",
     "output_type": "stream",
     "text": [
      "0123\n",
      "7711\n",
      "0002\n"
     ]
    }
   ],
   "source": [
    "kodai = [123, 7711, 2]\n",
    "for kodas in kodai:\n",
    "    print(f\"{kodas:04d}\")"
   ]
  },
  {
   "cell_type": "code",
   "execution_count": 145,
   "metadata": {},
   "outputs": [
    {
     "name": "stdout",
     "output_type": "stream",
     "text": [
      "  77.5    | kazkas dar\n",
      "  100.9   | kazkas dar\n",
      "   1.1    | kazkas dar\n",
      " 3541.8   | kazkas dar\n"
     ]
    }
   ],
   "source": [
    "skaiciai = [77.5, 100.9, 1.05, 3541.777]\n",
    "for skaicius in skaiciai:\n",
    "    print(f\"{skaicius:^9.1f} | kazkas dar\")"
   ]
  },
  {
   "cell_type": "code",
   "execution_count": 146,
   "metadata": {},
   "outputs": [
    {
     "name": "stdout",
     "output_type": "stream",
     "text": [
      "77.5      | kazkas dar\n",
      "100.9     | kazkas dar\n",
      "1.1       | kazkas dar\n",
      "3541.8    | kazkas dar\n"
     ]
    }
   ],
   "source": [
    "skaiciai = [77.5, 100.9, 1.05, 3541.777]\n",
    "for skaicius in skaiciai:\n",
    "    print(f\"{skaicius:<9.1f} | kazkas dar\")"
   ]
  },
  {
   "cell_type": "markdown",
   "metadata": {},
   "source": [
    "### input"
   ]
  },
  {
   "cell_type": "code",
   "execution_count": 147,
   "metadata": {},
   "outputs": [],
   "source": [
    "# skaicius = float(input(\"Duokite skaičių: \"))\n",
    "# print(f\"Jūsų skaičius: {skaicius:g}\")"
   ]
  },
  {
   "cell_type": "code",
   "execution_count": 148,
   "metadata": {},
   "outputs": [
    {
     "name": "stdout",
     "output_type": "stream",
     "text": [
      "obuolys, braškė, vynuogė, vynuogė, bananas, vynuogė, kiwi, braškė, marakuja, apelsinas, ananasas, vynuogė..."
     ]
    }
   ],
   "source": [
    "print(*vaisiai, sep=', ', end=\"...\")"
   ]
  },
  {
   "cell_type": "code",
   "execution_count": 149,
   "metadata": {},
   "outputs": [
    {
     "name": "stdout",
     "output_type": "stream",
     "text": [
      "obuolys braškė vynuogė vynuogė bananas vynuogė kiwi braškė marakuja apelsinas ananasas vynuogė\n"
     ]
    }
   ],
   "source": [
    "print(*vaisiai)"
   ]
  },
  {
   "cell_type": "markdown",
   "metadata": {},
   "source": [
    "## kalkuliatorius"
   ]
  },
  {
   "cell_type": "code",
   "execution_count": 150,
   "metadata": {},
   "outputs": [],
   "source": [
    "# print(\"Sveiki atvykę į interaktyvų skaičiuotuvą!\")\n",
    "# print(\"Pasirinkite veiksmą, kuriuo norite atlikti su dviem skaičiais:\")\n",
    "# print(\"1 - Sudėtis\")\n",
    "# print(\"2 - Atimtis\")\n",
    "# print(\"3 - Daugyba\")\n",
    "# print(\"4 - Dalyba\")\n",
    "\n",
    "# pasirinkimas = input(\"Pasirinkite: \")\n",
    "# skaicius1 = float(input(\"Pirmas skai2ius: \"))\n",
    "# skaicius2 = float(input(\"Antras skai2ius: \"))\n",
    "\n",
    "# if pasirinkimas == \"1\":\n",
    "#     suma = skaicius1 + skaicius2\n",
    "#     print(f\"Suma: {suma:10.2f}\")\n",
    "# elif pasirinkimas == \"2\":\n",
    "#     skirtumas = skaicius1 - skaicius2\n",
    "#     print(f\"Skitrumas: {skirtumas:10.2f}\")\n",
    "# elif pasirinkimas == \"3\":\n",
    "#     sandauga = skaicius1 * skaicius2\n",
    "#     print(f\"Sandauga: {sandauga:10.2f}\")\n",
    "# elif pasirinkimas == \"4\":\n",
    "#     dalmuo = skaicius1 / skaicius2\n",
    "#     print(f\"Dalmuo: {dalmuo:10.2f}\")\n",
    "# else:\n",
    "#     print(f\"Klaida: {pasirinkimas} n4ra teisingas pasirinkimas\")\n"
   ]
  },
  {
   "cell_type": "markdown",
   "metadata": {},
   "source": [
    "## Sąrašai / list"
   ]
  },
  {
   "cell_type": "code",
   "execution_count": 151,
   "metadata": {},
   "outputs": [
    {
     "name": "stdout",
     "output_type": "stream",
     "text": [
      "[]\n"
     ]
    }
   ],
   "source": [
    "tuscias_sarasas = list()\n",
    "skaiciu_sarasas = [1, 2, 3, 4, 5]\n",
    "zodziu_sarasas = ['obuolys', 'kriaušė', 'bananas']\n",
    "misrus_sarasas = ['obuolys', 2, 1.4, 'kriaušė', True, 'bananas']\n",
    "print(tuscias_sarasas)"
   ]
  },
  {
   "cell_type": "code",
   "execution_count": 152,
   "metadata": {},
   "outputs": [
    {
     "data": {
      "text/plain": [
       "'kriaušė'"
      ]
     },
     "execution_count": 152,
     "metadata": {},
     "output_type": "execute_result"
    }
   ],
   "source": [
    "zodziu_sarasas[1]"
   ]
  },
  {
   "cell_type": "code",
   "execution_count": 153,
   "metadata": {},
   "outputs": [
    {
     "data": {
      "text/plain": [
       "True"
      ]
     },
     "execution_count": 153,
     "metadata": {},
     "output_type": "execute_result"
    }
   ],
   "source": [
    "misrus_sarasas[-2]"
   ]
  },
  {
   "cell_type": "code",
   "execution_count": 154,
   "metadata": {},
   "outputs": [
    {
     "data": {
      "text/plain": [
       "list"
      ]
     },
     "execution_count": 154,
     "metadata": {},
     "output_type": "execute_result"
    }
   ],
   "source": [
    "type(misrus_sarasas)"
   ]
  },
  {
   "cell_type": "code",
   "execution_count": 155,
   "metadata": {},
   "outputs": [
    {
     "data": {
      "text/plain": [
       "bool"
      ]
     },
     "execution_count": 155,
     "metadata": {},
     "output_type": "execute_result"
    }
   ],
   "source": [
    "type(misrus_sarasas[-2])"
   ]
  },
  {
   "cell_type": "code",
   "execution_count": 156,
   "metadata": {},
   "outputs": [
    {
     "data": {
      "text/plain": [
       "['vynuogė', 'kiwi', 'braškė']"
      ]
     },
     "execution_count": 156,
     "metadata": {},
     "output_type": "execute_result"
    }
   ],
   "source": [
    "vaisiai[5:8]"
   ]
  },
  {
   "cell_type": "code",
   "execution_count": 157,
   "metadata": {},
   "outputs": [
    {
     "data": {
      "text/plain": [
       "['obuolys', 'braškė', 'vynuogė', 'vynuogė', 'bananas', 'vynuogė', 'kiwi']"
      ]
     },
     "execution_count": 157,
     "metadata": {},
     "output_type": "execute_result"
    }
   ],
   "source": [
    "vaisiai[:7]"
   ]
  },
  {
   "cell_type": "code",
   "execution_count": 158,
   "metadata": {},
   "outputs": [
    {
     "data": {
      "text/plain": [
       "['vynuogė', 'marakuja', 'vynuogė', 'vynuogė']"
      ]
     },
     "execution_count": 158,
     "metadata": {},
     "output_type": "execute_result"
    }
   ],
   "source": [
    "vaisiai[::-3]"
   ]
  },
  {
   "cell_type": "code",
   "execution_count": 159,
   "metadata": {},
   "outputs": [
    {
     "data": {
      "text/plain": [
       "['obuolys',\n",
       " 'braškė',\n",
       " 'vynuogė',\n",
       " 'kriaušė',\n",
       " 'bananas',\n",
       " 'vynuogė',\n",
       " 'kiwi',\n",
       " 'braškė',\n",
       " 'marakuja',\n",
       " 'apelsinas',\n",
       " 'ananasas',\n",
       " 'vynuogė']"
      ]
     },
     "execution_count": 159,
     "metadata": {},
     "output_type": "execute_result"
    }
   ],
   "source": [
    "vaisiai[3] = 'kriaušė'\n",
    "vaisiai"
   ]
  },
  {
   "cell_type": "code",
   "execution_count": 160,
   "metadata": {},
   "outputs": [
    {
     "name": "stdout",
     "output_type": "stream",
     "text": [
      "obuolys, braškė, vynuogė, kriaušė, bananas, persimonas, avokadas, žemuogė, kiwi, bruknė, braškė, marakuja, apelsinas, ananasas, vynuogė\n",
      "obuolys, braškė, vynuogė, kriaušė, bananas, persimonas, avokadas, žemuogė, kiwi, bruknė, braškė, marakuja, apelsinas, ananasas, vynuogė\n"
     ]
    }
   ],
   "source": [
    "vaisiai[5:7] = ['persimonas', 'avokadas', 'žemuogė', 'kiwi', 'bruknė']\n",
    "print(*vaisiai, sep=', ')\n",
    "print(\", \".join(vaisiai))"
   ]
  },
  {
   "cell_type": "code",
   "execution_count": 161,
   "metadata": {},
   "outputs": [],
   "source": [
    "vaisiai.append('kokosas')"
   ]
  },
  {
   "cell_type": "code",
   "execution_count": 162,
   "metadata": {},
   "outputs": [
    {
     "name": "stdout",
     "output_type": "stream",
     "text": [
      "obuolys, braškė, vynuogė, kriaušė, bananas, persimonas, avokadas, žemuogė, kiwi, bruknė, braškė, marakuja, apelsinas, ananasas, vynuogė, kokosas\n"
     ]
    }
   ],
   "source": [
    "print(\", \".join(vaisiai))"
   ]
  },
  {
   "cell_type": "code",
   "execution_count": 163,
   "metadata": {},
   "outputs": [
    {
     "name": "stdout",
     "output_type": "stream",
     "text": [
      "obuolys braškė vynuogė kriaušė bananas persimonas avokadas žemuogė kiwi bruknė braškė marakuja apelsinas ananasas vynuogė kokosas morka rabarbaras čiliukas ropė\n"
     ]
    }
   ],
   "source": [
    "darzoves = ['morka', 'rabarbaras', 'čiliukas', 'ropė']\n",
    "vaisiai.extend(darzoves)\n",
    "print(*vaisiai)"
   ]
  },
  {
   "cell_type": "code",
   "execution_count": 164,
   "metadata": {},
   "outputs": [
    {
     "name": "stdout",
     "output_type": "stream",
     "text": [
      "obuolys braškė vynuogė kriaušė bananas persimonas avokadas lime žemuogė kiwi bruknė braškė marakuja apelsinas ananasas vynuogė kokosas morka rabarbaras čiliukas ropė\n",
      "\n",
      "\n"
     ]
    }
   ],
   "source": [
    "vaisiai.insert(7, 'lime')\n",
    "print(*vaisiai, end=\"\\n\\n\\n\")"
   ]
  },
  {
   "cell_type": "code",
   "execution_count": 165,
   "metadata": {},
   "outputs": [
    {
     "data": {
      "text/plain": [
       "['obuolys',\n",
       " 'braškė',\n",
       " 'vynuogė',\n",
       " 'kriaušė',\n",
       " 'bananas',\n",
       " 'persimonas',\n",
       " 'avokadas',\n",
       " 'žemuogė',\n",
       " 'kiwi',\n",
       " 'bruknė',\n",
       " 'braškė',\n",
       " 'marakuja',\n",
       " 'apelsinas',\n",
       " 'ananasas',\n",
       " 'vynuogė',\n",
       " 'kokosas',\n",
       " 'morka',\n",
       " 'rabarbaras',\n",
       " 'čiliukas',\n",
       " 'ropė']"
      ]
     },
     "execution_count": 165,
     "metadata": {},
     "output_type": "execute_result"
    }
   ],
   "source": [
    "vaisiai.remove('lime')\n",
    "vaisiai"
   ]
  },
  {
   "cell_type": "code",
   "execution_count": 166,
   "metadata": {},
   "outputs": [],
   "source": [
    "# while True:\n",
    "#     try:\n",
    "#         vaisiai.remove('braškė')\n",
    "#         print('išbemėm vieną braškę')\n",
    "#     except Exception as e:\n",
    "#         print('nebėra:', e)\n",
    "#         break"
   ]
  },
  {
   "cell_type": "code",
   "execution_count": 167,
   "metadata": {},
   "outputs": [
    {
     "name": "stdout",
     "output_type": "stream",
     "text": [
      "['obuolys', 'vynuogė', 'kriaušė', 'bananas', 'persimonas', 'avokadas', 'žemuogė', 'kiwi', 'bruknė', 'marakuja', 'apelsinas', 'ananasas', 'vynuogė', 'kokosas', 'morka', 'rabarbaras', 'čiliukas', 'ropė']\n"
     ]
    }
   ],
   "source": [
    "while 'braškė' in vaisiai:\n",
    "    vaisiai.remove('braškė')\n",
    "print(vaisiai)"
   ]
  },
  {
   "cell_type": "code",
   "execution_count": 168,
   "metadata": {},
   "outputs": [
    {
     "name": "stdout",
     "output_type": "stream",
     "text": [
      "persimonas\n",
      "['obuolys', 'vynuogė', 'kriaušė', 'bananas', 'avokadas', 'žemuogė', 'kiwi', 'bruknė', 'marakuja', 'apelsinas', 'ananasas', 'vynuogė', 'kokosas', 'morka', 'rabarbaras', 'čiliukas', 'ropė']\n"
     ]
    }
   ],
   "source": [
    "print(vaisiai.pop(4))\n",
    "print(vaisiai)"
   ]
  },
  {
   "cell_type": "code",
   "execution_count": 169,
   "metadata": {},
   "outputs": [],
   "source": [
    "# del vaisiai[3:-3]\n",
    "# vaisiai"
   ]
  },
  {
   "cell_type": "code",
   "execution_count": 170,
   "metadata": {},
   "outputs": [
    {
     "name": "stdout",
     "output_type": "stream",
     "text": [
      "1\n",
      "11\n",
      "'vynuogė' is not in list\n"
     ]
    }
   ],
   "source": [
    "indeksas = 0\n",
    "while True:\n",
    "    try:\n",
    "        indeksas = vaisiai.index('vynuogė', indeksas+1)\n",
    "        print(indeksas)\n",
    "    except Exception as e:\n",
    "        print(e)\n",
    "        break"
   ]
  },
  {
   "cell_type": "code",
   "execution_count": 171,
   "metadata": {},
   "outputs": [
    {
     "name": "stdout",
     "output_type": "stream",
     "text": [
      "obuolys\n",
      "vynuogė\n",
      "kriaušė\n",
      "bananas\n",
      "avokadas\n"
     ]
    }
   ],
   "source": [
    "for vaisius in vaisiai:\n",
    "    print(vaisius)\n",
    "    if vaisius == 'avokadas':\n",
    "        break"
   ]
  },
  {
   "cell_type": "code",
   "execution_count": 172,
   "metadata": {},
   "outputs": [
    {
     "data": {
      "text/plain": [
       "2"
      ]
     },
     "execution_count": 172,
     "metadata": {},
     "output_type": "execute_result"
    }
   ],
   "source": [
    "vaisiai.count('vynuogė')"
   ]
  },
  {
   "cell_type": "code",
   "execution_count": 173,
   "metadata": {},
   "outputs": [
    {
     "data": {
      "text/plain": [
       "17"
      ]
     },
     "execution_count": 173,
     "metadata": {},
     "output_type": "execute_result"
    }
   ],
   "source": [
    "len(vaisiai)"
   ]
  },
  {
   "cell_type": "code",
   "execution_count": 174,
   "metadata": {},
   "outputs": [],
   "source": [
    "# vaisiai.sort()\n",
    "# print(vaisiai)"
   ]
  },
  {
   "cell_type": "code",
   "execution_count": 175,
   "metadata": {},
   "outputs": [],
   "source": [
    "# vaisiai.sort(reverse=True)\n",
    "# print(*vaisiai)"
   ]
  },
  {
   "cell_type": "code",
   "execution_count": 176,
   "metadata": {},
   "outputs": [
    {
     "name": "stdout",
     "output_type": "stream",
     "text": [
      "ropė čiliukas rabarbaras morka kokosas vynuogė ananasas apelsinas marakuja bruknė kiwi žemuogė avokadas bananas kriaušė vynuogė obuolys\n"
     ]
    }
   ],
   "source": [
    "vaisiai.reverse()\n",
    "print(*vaisiai)"
   ]
  },
  {
   "cell_type": "code",
   "execution_count": 177,
   "metadata": {},
   "outputs": [
    {
     "name": "stdout",
     "output_type": "stream",
     "text": [
      "True\n"
     ]
    }
   ],
   "source": [
    "print('obuolys' in vaisiai)"
   ]
  },
  {
   "cell_type": "markdown",
   "metadata": {},
   "source": [
    "## Žodynai / dict"
   ]
  },
  {
   "cell_type": "code",
   "execution_count": 178,
   "metadata": {},
   "outputs": [
    {
     "data": {
      "text/plain": [
       "{}"
      ]
     },
     "execution_count": 178,
     "metadata": {},
     "output_type": "execute_result"
    }
   ],
   "source": [
    "tuscias_zodynas = {}\n",
    "tuscias_zodynas"
   ]
  },
  {
   "cell_type": "code",
   "execution_count": 179,
   "metadata": {},
   "outputs": [
    {
     "data": {
      "text/plain": [
       "{}"
      ]
     },
     "execution_count": 179,
     "metadata": {},
     "output_type": "execute_result"
    }
   ],
   "source": [
    "tuscias_zodynas = dict()\n",
    "tuscias_zodynas"
   ]
  },
  {
   "cell_type": "code",
   "execution_count": 180,
   "metadata": {},
   "outputs": [
    {
     "name": "stdout",
     "output_type": "stream",
     "text": [
      "{'pienas': 2, 'braškės': 1.5, 'sviestas': 0.4}\n"
     ]
    }
   ],
   "source": [
    "saldytuvas = {\n",
    "    'pienas': 2,\n",
    "    'braškės': 1.5,\n",
    "    'sviestas': 0.4,\n",
    "}\n",
    "print(saldytuvas)"
   ]
  },
  {
   "cell_type": "code",
   "execution_count": 181,
   "metadata": {},
   "outputs": [
    {
     "name": "stdout",
     "output_type": "stream",
     "text": [
      "{'darzoves': {'morkos': 5, 'kopustai': 1}, 'gėrimai': {'pienas': 2, 'alus': 24, 'gira': 7, 'vynas': 0.75}, 'kumpis': 0.8}\n"
     ]
    }
   ],
   "source": [
    "saldytuvas = {\n",
    "    'darzoves': {\n",
    "        'morkos': 5,\n",
    "        'kopustai': 1,\n",
    "    },\n",
    "    'gėrimai': {\n",
    "        'pienas': 2,\n",
    "        'alus': 24,\n",
    "        'gira': 7,\n",
    "        'vynas': 0.75,\n",
    "    },\n",
    "    'kumpis': 0.8,\n",
    "}\n",
    "print(saldytuvas)"
   ]
  },
  {
   "cell_type": "code",
   "execution_count": 182,
   "metadata": {},
   "outputs": [
    {
     "name": "stdout",
     "output_type": "stream",
     "text": [
      "1\n"
     ]
    }
   ],
   "source": [
    "print(saldytuvas['darzoves']['kopustai'])"
   ]
  },
  {
   "cell_type": "code",
   "execution_count": 183,
   "metadata": {},
   "outputs": [
    {
     "name": "stdout",
     "output_type": "stream",
     "text": [
      "0.8\n"
     ]
    }
   ],
   "source": [
    "print(saldytuvas['kumpis'])"
   ]
  },
  {
   "cell_type": "code",
   "execution_count": 184,
   "metadata": {},
   "outputs": [
    {
     "name": "stdout",
     "output_type": "stream",
     "text": [
      "{'darzoves': {'morkos': 5, 'kopustai': 1}, 'gėrimai': {'pienas': 2, 'alus': 24, 'gira': 7, 'vynas': 0.75}, 'mėsa': {'kumpis': 2.8, 'skilandine': 5, 'vista': 4}}\n"
     ]
    }
   ],
   "source": [
    "saldytuvas['mėsa'] = {\n",
    "    'kumpis': 2.8,\n",
    "    'skilandine': 5,\n",
    "    'vista': 4,\n",
    "}\n",
    "del saldytuvas['kumpis']\n",
    "print(saldytuvas)"
   ]
  },
  {
   "cell_type": "code",
   "execution_count": 185,
   "metadata": {},
   "outputs": [
    {
     "name": "stdout",
     "output_type": "stream",
     "text": [
      "darzoves gėrimai mėsa\n"
     ]
    }
   ],
   "source": [
    "print(*saldytuvas.keys())"
   ]
  },
  {
   "cell_type": "code",
   "execution_count": 186,
   "metadata": {},
   "outputs": [
    {
     "name": "stdout",
     "output_type": "stream",
     "text": [
      "{'morkos': 5, 'kopustai': 1}\n",
      "{'pienas': 2, 'alus': 24, 'gira': 7, 'vynas': 0.75}\n",
      "{'kumpis': 2.8, 'skilandine': 5, 'vista': 4}\n"
     ]
    }
   ],
   "source": [
    "print(*saldytuvas.values(), sep=\"\\n\")"
   ]
  },
  {
   "cell_type": "code",
   "execution_count": 187,
   "metadata": {},
   "outputs": [
    {
     "name": "stdout",
     "output_type": "stream",
     "text": [
      "('darzoves', {'morkos': 5, 'kopustai': 1})\n",
      "('gėrimai', {'pienas': 2, 'alus': 24, 'gira': 7, 'vynas': 0.75})\n",
      "('mėsa', {'kumpis': 2.8, 'skilandine': 5, 'vista': 4})\n"
     ]
    }
   ],
   "source": [
    "print(*saldytuvas.items(), sep=\"\\n\")"
   ]
  },
  {
   "cell_type": "code",
   "execution_count": 188,
   "metadata": {},
   "outputs": [
    {
     "name": "stdout",
     "output_type": "stream",
     "text": [
      "{'kumpis': 2.8, 'skilandine': 5, 'vista': 4}\n"
     ]
    }
   ],
   "source": [
    "print(saldytuvas.get('mėsa'))"
   ]
  },
  {
   "cell_type": "code",
   "execution_count": 189,
   "metadata": {},
   "outputs": [
    {
     "name": "stdout",
     "output_type": "stream",
     "text": [
      "24\n"
     ]
    }
   ],
   "source": [
    "gerimai = saldytuvas.get('gėrimai')\n",
    "alus = gerimai.get('alus')\n",
    "print(alus)"
   ]
  },
  {
   "cell_type": "code",
   "execution_count": 190,
   "metadata": {},
   "outputs": [
    {
     "name": "stdout",
     "output_type": "stream",
     "text": [
      "0.75\n",
      "{'pienas': 2, 'alus': 24, 'gira': 7}\n"
     ]
    }
   ],
   "source": [
    "vynas = gerimai.pop('vynas', 0)\n",
    "print(vynas)\n",
    "print(gerimai)"
   ]
  },
  {
   "cell_type": "markdown",
   "metadata": {},
   "source": [
    "## `for` ciklas"
   ]
  },
  {
   "cell_type": "code",
   "execution_count": 191,
   "metadata": {},
   "outputs": [
    {
     "name": "stdout",
     "output_type": "stream",
     "text": [
      "1\n",
      "2\n",
      "3\n",
      "4\n",
      "5\n"
     ]
    }
   ],
   "source": [
    "skaiciai = [1, 2, 3, 4, 5]\n",
    "\n",
    "for skaicius in skaiciai:\n",
    "    print(skaicius)"
   ]
  },
  {
   "cell_type": "code",
   "execution_count": 192,
   "metadata": {},
   "outputs": [
    {
     "name": "stdout",
     "output_type": "stream",
     "text": [
      "904\n"
     ]
    }
   ],
   "source": [
    "skaiciai = [2, 6, 7, 9, 41, 4, 46, 789]\n",
    "\n",
    "skaiciu_suma = 0\n",
    "\n",
    "for skaicius in skaiciai:\n",
    "    skaiciu_suma += skaicius\n",
    "\n",
    "print(skaiciu_suma) # 904"
   ]
  },
  {
   "cell_type": "code",
   "execution_count": 193,
   "metadata": {},
   "outputs": [
    {
     "name": "stdout",
     "output_type": "stream",
     "text": [
      "Rokas\n",
      "Andrius\n",
      "Laura\n"
     ]
    }
   ],
   "source": [
    "zmones = {'Rokas': 20, 'Andrius': 34, 'Laura': 25}\n",
    "\n",
    "for zmogus in zmones:\n",
    "    print(zmogus)"
   ]
  },
  {
   "cell_type": "code",
   "execution_count": 194,
   "metadata": {},
   "outputs": [
    {
     "name": "stdout",
     "output_type": "stream",
     "text": [
      "Rokas: 20\n",
      "Andrius: 34\n",
      "Laura: 25\n"
     ]
    }
   ],
   "source": [
    "for zmogus in zmones:\n",
    "    print(f\"{zmogus}: {zmones[zmogus]}\")"
   ]
  },
  {
   "cell_type": "code",
   "execution_count": 195,
   "metadata": {},
   "outputs": [
    {
     "name": "stdout",
     "output_type": "stream",
     "text": [
      "20\n",
      "34\n",
      "25\n"
     ]
    }
   ],
   "source": [
    "for amzius in zmones.values():\n",
    "    print(amzius)"
   ]
  },
  {
   "cell_type": "code",
   "execution_count": 196,
   "metadata": {},
   "outputs": [
    {
     "name": "stdout",
     "output_type": "stream",
     "text": [
      "20 34 25\n"
     ]
    }
   ],
   "source": [
    "print(*zmones.values())"
   ]
  },
  {
   "cell_type": "code",
   "execution_count": 197,
   "metadata": {},
   "outputs": [
    {
     "name": "stdout",
     "output_type": "stream",
     "text": [
      "Rokas\n",
      "Andrius\n",
      "Laura\n"
     ]
    }
   ],
   "source": [
    "for zmogus in zmones.keys():\n",
    "    print(zmogus)"
   ]
  },
  {
   "cell_type": "code",
   "execution_count": 198,
   "metadata": {},
   "outputs": [
    {
     "name": "stdout",
     "output_type": "stream",
     "text": [
      "Rokas: 20\n",
      "Andrius: 34\n",
      "Laura: 25\n"
     ]
    }
   ],
   "source": [
    "for zmogus, amzius in zmones.items():\n",
    "    print(f\"{zmogus}: {amzius}\")"
   ]
  },
  {
   "cell_type": "code",
   "execution_count": 199,
   "metadata": {},
   "outputs": [
    {
     "name": "stdout",
     "output_type": "stream",
     "text": [
      "Rokas: 21\n",
      "Andrius: 35\n",
      "Laura: 26\n"
     ]
    }
   ],
   "source": [
    "for zmogus, amzius in zmones.items():\n",
    "    amzius += 1\n",
    "    print(f\"{zmogus}: {amzius}\")"
   ]
  },
  {
   "cell_type": "code",
   "execution_count": 200,
   "metadata": {},
   "outputs": [
    {
     "name": "stdout",
     "output_type": "stream",
     "text": [
      "Rokas: 21\n",
      "Andrius: 35\n",
      "Laura: 26\n"
     ]
    }
   ],
   "source": [
    "for zmogus in zmones:\n",
    "    zmones[zmogus] += 1\n",
    "    print(f\"{zmogus}: {zmones[zmogus]}\")"
   ]
  },
  {
   "cell_type": "code",
   "execution_count": 201,
   "metadata": {},
   "outputs": [
    {
     "data": {
      "text/plain": [
       "[0, 1, 2, 3, 4]"
      ]
     },
     "execution_count": 201,
     "metadata": {},
     "output_type": "execute_result"
    }
   ],
   "source": [
    "list(range(5))"
   ]
  },
  {
   "cell_type": "code",
   "execution_count": 202,
   "metadata": {},
   "outputs": [
    {
     "name": "stdout",
     "output_type": "stream",
     "text": [
      "10 11 12 13 14 15 16 17 18 19 20 21 22 23 24 25 26 27 28 29 30 31 32 33 34 35 36 37 38 39 40 41 42 43 44 45 46 47 48 49 50 51 52 53 54 55 56 57 58 59 60 61 62 63 64 65 66 67 68 69 70 71 72 73 74 75 76 77 78 79 80 81 82 83 84 85 86 87 88 89 90 91 92 93 94 95 96 97 98\n"
     ]
    }
   ],
   "source": [
    "print(*range(10, 99))"
   ]
  },
  {
   "cell_type": "code",
   "execution_count": 203,
   "metadata": {},
   "outputs": [
    {
     "name": "stdout",
     "output_type": "stream",
     "text": [
      "2019\n",
      "2020\n",
      "2021\n",
      "2022\n",
      "2023\n"
     ]
    }
   ],
   "source": [
    "for metai in range(2019, 2024):\n",
    "    print(metai)"
   ]
  },
  {
   "cell_type": "code",
   "execution_count": 204,
   "metadata": {},
   "outputs": [
    {
     "name": "stdout",
     "output_type": "stream",
     "text": [
      "2000 pr.kr, 1999 pr.kr, 1998 pr.kr, 1997 pr.kr, 1996 pr.kr, 1995 pr.kr, 1994 pr.kr, 1993 pr.kr, 1992 pr.kr, 1991 pr.kr, 1990 pr.kr, 1989 pr.kr, 1988 pr.kr, 1987 pr.kr, 1986 pr.kr, 1985 pr.kr, 1984 pr.kr, 1983 pr.kr, 1982 pr.kr, 1981 pr.kr, 1980 pr.kr, 1979 pr.kr, 1978 pr.kr, 1977 pr.kr, 1976 pr.kr, 1975 pr.kr, 1974 pr.kr, 1973 pr.kr, 1972 pr.kr, 1971 pr.kr, 1970 pr.kr, 1969 pr.kr, 1968 pr.kr, 1967 pr.kr, 1966 pr.kr, 1965 pr.kr, 1964 pr.kr, 1963 pr.kr, 1962 pr.kr, 1961 pr.kr, 1960 pr.kr, 1959 pr.kr, 1958 pr.kr, 1957 pr.kr, 1956 pr.kr, 1955 pr.kr, 1954 pr.kr, 1953 pr.kr, 1952 pr.kr, 1951 pr.kr, 1950 pr.kr, 1949 pr.kr, 1948 pr.kr, 1947 pr.kr, 1946 pr.kr, 1945 pr.kr, 1944 pr.kr, 1943 pr.kr, 1942 pr.kr, 1941 pr.kr, 1940 pr.kr, 1939 pr.kr, 1938 pr.kr, 1937 pr.kr, 1936 pr.kr, 1935 pr.kr, 1934 pr.kr, 1933 pr.kr, 1932 pr.kr, 1931 pr.kr, 1930 pr.kr, 1929 pr.kr, 1928 pr.kr, 1927 pr.kr, 1926 pr.kr, 1925 pr.kr, 1924 pr.kr, 1923 pr.kr, 1922 pr.kr, 1921 pr.kr, 1920 pr.kr, 1919 pr.kr, 1918 pr.kr, 1917 pr.kr, 1916 pr.kr, 1915 pr.kr, 1914 pr.kr, 1913 pr.kr, 1912 pr.kr, 1911 pr.kr, 1910 pr.kr, 1909 pr.kr, 1908 pr.kr, 1907 pr.kr, 1906 pr.kr, 1905 pr.kr, 1904 pr.kr, 1903 pr.kr, 1902 pr.kr, 1901 pr.kr, 1900 pr.kr, 1899 pr.kr, 1898 pr.kr, 1897 pr.kr, 1896 pr.kr, 1895 pr.kr, 1894 pr.kr, 1893 pr.kr, 1892 pr.kr, 1891 pr.kr, 1890 pr.kr, 1889 pr.kr, 1888 pr.kr, 1887 pr.kr, 1886 pr.kr, 1885 pr.kr, 1884 pr.kr, 1883 pr.kr, 1882 pr.kr, 1881 pr.kr, 1880 pr.kr, 1879 pr.kr, 1878 pr.kr, 1877 pr.kr, 1876 pr.kr, 1875 pr.kr, 1874 pr.kr, 1873 pr.kr, 1872 pr.kr, 1871 pr.kr, 1870 pr.kr, 1869 pr.kr, 1868 pr.kr, 1867 pr.kr, 1866 pr.kr, 1865 pr.kr, 1864 pr.kr, 1863 pr.kr, 1862 pr.kr, 1861 pr.kr, 1860 pr.kr, 1859 pr.kr, 1858 pr.kr, 1857 pr.kr, 1856 pr.kr, 1855 pr.kr, 1854 pr.kr, 1853 pr.kr, 1852 pr.kr, 1851 pr.kr, 1850 pr.kr, 1849 pr.kr, 1848 pr.kr, 1847 pr.kr, 1846 pr.kr, 1845 pr.kr, 1844 pr.kr, 1843 pr.kr, 1842 pr.kr, 1841 pr.kr, 1840 pr.kr, 1839 pr.kr, 1838 pr.kr, 1837 pr.kr, 1836 pr.kr, 1835 pr.kr, 1834 pr.kr, 1833 pr.kr, 1832 pr.kr, 1831 pr.kr, 1830 pr.kr, 1829 pr.kr, 1828 pr.kr, 1827 pr.kr, 1826 pr.kr, 1825 pr.kr, 1824 pr.kr, 1823 pr.kr, 1822 pr.kr, 1821 pr.kr, 1820 pr.kr, 1819 pr.kr, 1818 pr.kr, 1817 pr.kr, 1816 pr.kr, 1815 pr.kr, 1814 pr.kr, 1813 pr.kr, 1812 pr.kr, 1811 pr.kr, 1810 pr.kr, 1809 pr.kr, 1808 pr.kr, 1807 pr.kr, 1806 pr.kr, 1805 pr.kr, 1804 pr.kr, 1803 pr.kr, 1802 pr.kr, 1801 pr.kr, 1800 pr.kr, 1799 pr.kr, 1798 pr.kr, 1797 pr.kr, 1796 pr.kr, 1795 pr.kr, 1794 pr.kr, 1793 pr.kr, 1792 pr.kr, 1791 pr.kr, 1790 pr.kr, 1789 pr.kr, 1788 pr.kr, 1787 pr.kr, 1786 pr.kr, 1785 pr.kr, 1784 pr.kr, 1783 pr.kr, 1782 pr.kr, 1781 pr.kr, 1780 pr.kr, 1779 pr.kr, 1778 pr.kr, 1777 pr.kr, 1776 pr.kr, 1775 pr.kr, 1774 pr.kr, 1773 pr.kr, 1772 pr.kr, 1771 pr.kr, 1770 pr.kr, 1769 pr.kr, 1768 pr.kr, 1767 pr.kr, 1766 pr.kr, 1765 pr.kr, 1764 pr.kr, 1763 pr.kr, 1762 pr.kr, 1761 pr.kr, 1760 pr.kr, 1759 pr.kr, 1758 pr.kr, 1757 pr.kr, 1756 pr.kr, 1755 pr.kr, 1754 pr.kr, 1753 pr.kr, 1752 pr.kr, 1751 pr.kr, 1750 pr.kr, 1749 pr.kr, 1748 pr.kr, 1747 pr.kr, 1746 pr.kr, 1745 pr.kr, 1744 pr.kr, 1743 pr.kr, 1742 pr.kr, 1741 pr.kr, 1740 pr.kr, 1739 pr.kr, 1738 pr.kr, 1737 pr.kr, 1736 pr.kr, 1735 pr.kr, 1734 pr.kr, 1733 pr.kr, 1732 pr.kr, 1731 pr.kr, 1730 pr.kr, 1729 pr.kr, 1728 pr.kr, 1727 pr.kr, 1726 pr.kr, 1725 pr.kr, 1724 pr.kr, 1723 pr.kr, 1722 pr.kr, 1721 pr.kr, 1720 pr.kr, 1719 pr.kr, 1718 pr.kr, 1717 pr.kr, 1716 pr.kr, 1715 pr.kr, 1714 pr.kr, 1713 pr.kr, 1712 pr.kr, 1711 pr.kr, 1710 pr.kr, 1709 pr.kr, 1708 pr.kr, 1707 pr.kr, 1706 pr.kr, 1705 pr.kr, 1704 pr.kr, 1703 pr.kr, 1702 pr.kr, 1701 pr.kr, 1700 pr.kr, 1699 pr.kr, 1698 pr.kr, 1697 pr.kr, 1696 pr.kr, 1695 pr.kr, 1694 pr.kr, 1693 pr.kr, 1692 pr.kr, 1691 pr.kr, 1690 pr.kr, 1689 pr.kr, 1688 pr.kr, 1687 pr.kr, 1686 pr.kr, 1685 pr.kr, 1684 pr.kr, 1683 pr.kr, 1682 pr.kr, 1681 pr.kr, 1680 pr.kr, 1679 pr.kr, 1678 pr.kr, 1677 pr.kr, 1676 pr.kr, 1675 pr.kr, 1674 pr.kr, 1673 pr.kr, 1672 pr.kr, 1671 pr.kr, 1670 pr.kr, 1669 pr.kr, 1668 pr.kr, 1667 pr.kr, 1666 pr.kr, 1665 pr.kr, 1664 pr.kr, 1663 pr.kr, 1662 pr.kr, 1661 pr.kr, 1660 pr.kr, 1659 pr.kr, 1658 pr.kr, 1657 pr.kr, 1656 pr.kr, 1655 pr.kr, 1654 pr.kr, 1653 pr.kr, 1652 pr.kr, 1651 pr.kr, 1650 pr.kr, 1649 pr.kr, 1648 pr.kr, 1647 pr.kr, 1646 pr.kr, 1645 pr.kr, 1644 pr.kr, 1643 pr.kr, 1642 pr.kr, 1641 pr.kr, 1640 pr.kr, 1639 pr.kr, 1638 pr.kr, 1637 pr.kr, 1636 pr.kr, 1635 pr.kr, 1634 pr.kr, 1633 pr.kr, 1632 pr.kr, 1631 pr.kr, 1630 pr.kr, 1629 pr.kr, 1628 pr.kr, 1627 pr.kr, 1626 pr.kr, 1625 pr.kr, 1624 pr.kr, 1623 pr.kr, 1622 pr.kr, 1621 pr.kr, 1620 pr.kr, 1619 pr.kr, 1618 pr.kr, 1617 pr.kr, 1616 pr.kr, 1615 pr.kr, 1614 pr.kr, 1613 pr.kr, 1612 pr.kr, 1611 pr.kr, 1610 pr.kr, 1609 pr.kr, 1608 pr.kr, 1607 pr.kr, 1606 pr.kr, 1605 pr.kr, 1604 pr.kr, 1603 pr.kr, 1602 pr.kr, 1601 pr.kr, 1600 pr.kr, 1599 pr.kr, 1598 pr.kr, 1597 pr.kr, 1596 pr.kr, 1595 pr.kr, 1594 pr.kr, 1593 pr.kr, 1592 pr.kr, 1591 pr.kr, 1590 pr.kr, 1589 pr.kr, 1588 pr.kr, 1587 pr.kr, 1586 pr.kr, 1585 pr.kr, 1584 pr.kr, 1583 pr.kr, 1582 pr.kr, 1581 pr.kr, 1580 pr.kr, 1579 pr.kr, 1578 pr.kr, 1577 pr.kr, 1576 pr.kr, 1575 pr.kr, 1574 pr.kr, 1573 pr.kr, 1572 pr.kr, 1571 pr.kr, 1570 pr.kr, 1569 pr.kr, 1568 pr.kr, 1567 pr.kr, 1566 pr.kr, 1565 pr.kr, 1564 pr.kr, 1563 pr.kr, 1562 pr.kr, 1561 pr.kr, 1560 pr.kr, 1559 pr.kr, 1558 pr.kr, 1557 pr.kr, 1556 pr.kr, 1555 pr.kr, 1554 pr.kr, 1553 pr.kr, 1552 pr.kr, 1551 pr.kr, 1550 pr.kr, 1549 pr.kr, 1548 pr.kr, 1547 pr.kr, 1546 pr.kr, 1545 pr.kr, 1544 pr.kr, 1543 pr.kr, 1542 pr.kr, 1541 pr.kr, 1540 pr.kr, 1539 pr.kr, 1538 pr.kr, 1537 pr.kr, 1536 pr.kr, 1535 pr.kr, 1534 pr.kr, 1533 pr.kr, 1532 pr.kr, 1531 pr.kr, 1530 pr.kr, 1529 pr.kr, 1528 pr.kr, 1527 pr.kr, 1526 pr.kr, 1525 pr.kr, 1524 pr.kr, 1523 pr.kr, 1522 pr.kr, 1521 pr.kr, 1520 pr.kr, 1519 pr.kr, 1518 pr.kr, 1517 pr.kr, 1516 pr.kr, 1515 pr.kr, 1514 pr.kr, 1513 pr.kr, 1512 pr.kr, 1511 pr.kr, 1510 pr.kr, 1509 pr.kr, 1508 pr.kr, 1507 pr.kr, 1506 pr.kr, 1505 pr.kr, 1504 pr.kr, 1503 pr.kr, 1502 pr.kr, 1501 pr.kr, 1500 pr.kr, 1499 pr.kr, 1498 pr.kr, 1497 pr.kr, 1496 pr.kr, 1495 pr.kr, 1494 pr.kr, 1493 pr.kr, 1492 pr.kr, 1491 pr.kr, 1490 pr.kr, 1489 pr.kr, 1488 pr.kr, 1487 pr.kr, 1486 pr.kr, 1485 pr.kr, 1484 pr.kr, 1483 pr.kr, 1482 pr.kr, 1481 pr.kr, 1480 pr.kr, 1479 pr.kr, 1478 pr.kr, 1477 pr.kr, 1476 pr.kr, 1475 pr.kr, 1474 pr.kr, 1473 pr.kr, 1472 pr.kr, 1471 pr.kr, 1470 pr.kr, 1469 pr.kr, 1468 pr.kr, 1467 pr.kr, 1466 pr.kr, 1465 pr.kr, 1464 pr.kr, 1463 pr.kr, 1462 pr.kr, 1461 pr.kr, 1460 pr.kr, 1459 pr.kr, 1458 pr.kr, 1457 pr.kr, 1456 pr.kr, 1455 pr.kr, 1454 pr.kr, 1453 pr.kr, 1452 pr.kr, 1451 pr.kr, 1450 pr.kr, 1449 pr.kr, 1448 pr.kr, 1447 pr.kr, 1446 pr.kr, 1445 pr.kr, 1444 pr.kr, 1443 pr.kr, 1442 pr.kr, 1441 pr.kr, 1440 pr.kr, 1439 pr.kr, 1438 pr.kr, 1437 pr.kr, 1436 pr.kr, 1435 pr.kr, 1434 pr.kr, 1433 pr.kr, 1432 pr.kr, 1431 pr.kr, 1430 pr.kr, 1429 pr.kr, 1428 pr.kr, 1427 pr.kr, 1426 pr.kr, 1425 pr.kr, 1424 pr.kr, 1423 pr.kr, 1422 pr.kr, 1421 pr.kr, 1420 pr.kr, 1419 pr.kr, 1418 pr.kr, 1417 pr.kr, 1416 pr.kr, 1415 pr.kr, 1414 pr.kr, 1413 pr.kr, 1412 pr.kr, 1411 pr.kr, 1410 pr.kr, 1409 pr.kr, 1408 pr.kr, 1407 pr.kr, 1406 pr.kr, 1405 pr.kr, 1404 pr.kr, 1403 pr.kr, 1402 pr.kr, 1401 pr.kr, 1400 pr.kr, 1399 pr.kr, 1398 pr.kr, 1397 pr.kr, 1396 pr.kr, 1395 pr.kr, 1394 pr.kr, 1393 pr.kr, 1392 pr.kr, 1391 pr.kr, 1390 pr.kr, 1389 pr.kr, 1388 pr.kr, 1387 pr.kr, 1386 pr.kr, 1385 pr.kr, 1384 pr.kr, 1383 pr.kr, 1382 pr.kr, 1381 pr.kr, 1380 pr.kr, 1379 pr.kr, 1378 pr.kr, 1377 pr.kr, 1376 pr.kr, 1375 pr.kr, 1374 pr.kr, 1373 pr.kr, 1372 pr.kr, 1371 pr.kr, 1370 pr.kr, 1369 pr.kr, 1368 pr.kr, 1367 pr.kr, 1366 pr.kr, 1365 pr.kr, 1364 pr.kr, 1363 pr.kr, 1362 pr.kr, 1361 pr.kr, 1360 pr.kr, 1359 pr.kr, 1358 pr.kr, 1357 pr.kr, 1356 pr.kr, 1355 pr.kr, 1354 pr.kr, 1353 pr.kr, 1352 pr.kr, 1351 pr.kr, 1350 pr.kr, 1349 pr.kr, 1348 pr.kr, 1347 pr.kr, 1346 pr.kr, 1345 pr.kr, 1344 pr.kr, 1343 pr.kr, 1342 pr.kr, 1341 pr.kr, 1340 pr.kr, 1339 pr.kr, 1338 pr.kr, 1337 pr.kr, 1336 pr.kr, 1335 pr.kr, 1334 pr.kr, 1333 pr.kr, 1332 pr.kr, 1331 pr.kr, 1330 pr.kr, 1329 pr.kr, 1328 pr.kr, 1327 pr.kr, 1326 pr.kr, 1325 pr.kr, 1324 pr.kr, 1323 pr.kr, 1322 pr.kr, 1321 pr.kr, 1320 pr.kr, 1319 pr.kr, 1318 pr.kr, 1317 pr.kr, 1316 pr.kr, 1315 pr.kr, 1314 pr.kr, 1313 pr.kr, 1312 pr.kr, 1311 pr.kr, 1310 pr.kr, 1309 pr.kr, 1308 pr.kr, 1307 pr.kr, 1306 pr.kr, 1305 pr.kr, 1304 pr.kr, 1303 pr.kr, 1302 pr.kr, 1301 pr.kr, 1300 pr.kr, 1299 pr.kr, 1298 pr.kr, 1297 pr.kr, 1296 pr.kr, 1295 pr.kr, 1294 pr.kr, 1293 pr.kr, 1292 pr.kr, 1291 pr.kr, 1290 pr.kr, 1289 pr.kr, 1288 pr.kr, 1287 pr.kr, 1286 pr.kr, 1285 pr.kr, 1284 pr.kr, 1283 pr.kr, 1282 pr.kr, 1281 pr.kr, 1280 pr.kr, 1279 pr.kr, 1278 pr.kr, 1277 pr.kr, 1276 pr.kr, 1275 pr.kr, 1274 pr.kr, 1273 pr.kr, 1272 pr.kr, 1271 pr.kr, 1270 pr.kr, 1269 pr.kr, 1268 pr.kr, 1267 pr.kr, 1266 pr.kr, 1265 pr.kr, 1264 pr.kr, 1263 pr.kr, 1262 pr.kr, 1261 pr.kr, 1260 pr.kr, 1259 pr.kr, 1258 pr.kr, 1257 pr.kr, 1256 pr.kr, 1255 pr.kr, 1254 pr.kr, 1253 pr.kr, 1252 pr.kr, 1251 pr.kr, 1250 pr.kr, 1249 pr.kr, 1248 pr.kr, 1247 pr.kr, 1246 pr.kr, 1245 pr.kr, 1244 pr.kr, 1243 pr.kr, 1242 pr.kr, 1241 pr.kr, 1240 pr.kr, 1239 pr.kr, 1238 pr.kr, 1237 pr.kr, 1236 pr.kr, 1235 pr.kr, 1234 pr.kr, 1233 pr.kr, 1232 pr.kr, 1231 pr.kr, 1230 pr.kr, 1229 pr.kr, 1228 pr.kr, 1227 pr.kr, 1226 pr.kr, 1225 pr.kr, 1224 pr.kr, 1223 pr.kr, 1222 pr.kr, 1221 pr.kr, 1220 pr.kr, 1219 pr.kr, 1218 pr.kr, 1217 pr.kr, 1216 pr.kr, 1215 pr.kr, 1214 pr.kr, 1213 pr.kr, 1212 pr.kr, 1211 pr.kr, 1210 pr.kr, 1209 pr.kr, 1208 pr.kr, 1207 pr.kr, 1206 pr.kr, 1205 pr.kr, 1204 pr.kr, 1203 pr.kr, 1202 pr.kr, 1201 pr.kr, 1200 pr.kr, 1199 pr.kr, 1198 pr.kr, 1197 pr.kr, 1196 pr.kr, 1195 pr.kr, 1194 pr.kr, 1193 pr.kr, 1192 pr.kr, 1191 pr.kr, 1190 pr.kr, 1189 pr.kr, 1188 pr.kr, 1187 pr.kr, 1186 pr.kr, 1185 pr.kr, 1184 pr.kr, 1183 pr.kr, 1182 pr.kr, 1181 pr.kr, 1180 pr.kr, 1179 pr.kr, 1178 pr.kr, 1177 pr.kr, 1176 pr.kr, 1175 pr.kr, 1174 pr.kr, 1173 pr.kr, 1172 pr.kr, 1171 pr.kr, 1170 pr.kr, 1169 pr.kr, 1168 pr.kr, 1167 pr.kr, 1166 pr.kr, 1165 pr.kr, 1164 pr.kr, 1163 pr.kr, 1162 pr.kr, 1161 pr.kr, 1160 pr.kr, 1159 pr.kr, 1158 pr.kr, 1157 pr.kr, 1156 pr.kr, 1155 pr.kr, 1154 pr.kr, 1153 pr.kr, 1152 pr.kr, 1151 pr.kr, 1150 pr.kr, 1149 pr.kr, 1148 pr.kr, 1147 pr.kr, 1146 pr.kr, 1145 pr.kr, 1144 pr.kr, 1143 pr.kr, 1142 pr.kr, 1141 pr.kr, 1140 pr.kr, 1139 pr.kr, 1138 pr.kr, 1137 pr.kr, 1136 pr.kr, 1135 pr.kr, 1134 pr.kr, 1133 pr.kr, 1132 pr.kr, 1131 pr.kr, 1130 pr.kr, 1129 pr.kr, 1128 pr.kr, 1127 pr.kr, 1126 pr.kr, 1125 pr.kr, 1124 pr.kr, 1123 pr.kr, 1122 pr.kr, 1121 pr.kr, 1120 pr.kr, 1119 pr.kr, 1118 pr.kr, 1117 pr.kr, 1116 pr.kr, 1115 pr.kr, 1114 pr.kr, 1113 pr.kr, 1112 pr.kr, 1111 pr.kr, 1110 pr.kr, 1109 pr.kr, 1108 pr.kr, 1107 pr.kr, 1106 pr.kr, 1105 pr.kr, 1104 pr.kr, 1103 pr.kr, 1102 pr.kr, 1101 pr.kr, 1100 pr.kr, 1099 pr.kr, 1098 pr.kr, 1097 pr.kr, 1096 pr.kr, 1095 pr.kr, 1094 pr.kr, 1093 pr.kr, 1092 pr.kr, 1091 pr.kr, 1090 pr.kr, 1089 pr.kr, 1088 pr.kr, 1087 pr.kr, 1086 pr.kr, 1085 pr.kr, 1084 pr.kr, 1083 pr.kr, 1082 pr.kr, 1081 pr.kr, 1080 pr.kr, 1079 pr.kr, 1078 pr.kr, 1077 pr.kr, 1076 pr.kr, 1075 pr.kr, 1074 pr.kr, 1073 pr.kr, 1072 pr.kr, 1071 pr.kr, 1070 pr.kr, 1069 pr.kr, 1068 pr.kr, 1067 pr.kr, 1066 pr.kr, 1065 pr.kr, 1064 pr.kr, 1063 pr.kr, 1062 pr.kr, 1061 pr.kr, 1060 pr.kr, 1059 pr.kr, 1058 pr.kr, 1057 pr.kr, 1056 pr.kr, 1055 pr.kr, 1054 pr.kr, 1053 pr.kr, 1052 pr.kr, 1051 pr.kr, 1050 pr.kr, 1049 pr.kr, 1048 pr.kr, 1047 pr.kr, 1046 pr.kr, 1045 pr.kr, 1044 pr.kr, 1043 pr.kr, 1042 pr.kr, 1041 pr.kr, 1040 pr.kr, 1039 pr.kr, 1038 pr.kr, 1037 pr.kr, 1036 pr.kr, 1035 pr.kr, 1034 pr.kr, 1033 pr.kr, 1032 pr.kr, 1031 pr.kr, 1030 pr.kr, 1029 pr.kr, 1028 pr.kr, 1027 pr.kr, 1026 pr.kr, 1025 pr.kr, 1024 pr.kr, 1023 pr.kr, 1022 pr.kr, 1021 pr.kr, 1020 pr.kr, 1019 pr.kr, 1018 pr.kr, 1017 pr.kr, 1016 pr.kr, 1015 pr.kr, 1014 pr.kr, 1013 pr.kr, 1012 pr.kr, 1011 pr.kr, 1010 pr.kr, 1009 pr.kr, 1008 pr.kr, 1007 pr.kr, 1006 pr.kr, 1005 pr.kr, 1004 pr.kr, 1003 pr.kr, 1002 pr.kr, 1001 pr.kr, 1000 pr.kr, 999 pr.kr, 998 pr.kr, 997 pr.kr, 996 pr.kr, 995 pr.kr, 994 pr.kr, 993 pr.kr, 992 pr.kr, 991 pr.kr, 990 pr.kr, 989 pr.kr, 988 pr.kr, 987 pr.kr, 986 pr.kr, 985 pr.kr, 984 pr.kr, 983 pr.kr, 982 pr.kr, 981 pr.kr, 980 pr.kr, 979 pr.kr, 978 pr.kr, 977 pr.kr, 976 pr.kr, 975 pr.kr, 974 pr.kr, 973 pr.kr, 972 pr.kr, 971 pr.kr, 970 pr.kr, 969 pr.kr, 968 pr.kr, 967 pr.kr, 966 pr.kr, 965 pr.kr, 964 pr.kr, 963 pr.kr, 962 pr.kr, 961 pr.kr, 960 pr.kr, 959 pr.kr, 958 pr.kr, 957 pr.kr, 956 pr.kr, 955 pr.kr, 954 pr.kr, 953 pr.kr, 952 pr.kr, 951 pr.kr, 950 pr.kr, 949 pr.kr, 948 pr.kr, 947 pr.kr, 946 pr.kr, 945 pr.kr, 944 pr.kr, 943 pr.kr, 942 pr.kr, 941 pr.kr, 940 pr.kr, 939 pr.kr, 938 pr.kr, 937 pr.kr, 936 pr.kr, 935 pr.kr, 934 pr.kr, 933 pr.kr, 932 pr.kr, 931 pr.kr, 930 pr.kr, 929 pr.kr, 928 pr.kr, 927 pr.kr, 926 pr.kr, 925 pr.kr, 924 pr.kr, 923 pr.kr, 922 pr.kr, 921 pr.kr, 920 pr.kr, 919 pr.kr, 918 pr.kr, 917 pr.kr, 916 pr.kr, 915 pr.kr, 914 pr.kr, 913 pr.kr, 912 pr.kr, 911 pr.kr, 910 pr.kr, 909 pr.kr, 908 pr.kr, 907 pr.kr, 906 pr.kr, 905 pr.kr, 904 pr.kr, 903 pr.kr, 902 pr.kr, 901 pr.kr, 900 pr.kr, 899 pr.kr, 898 pr.kr, 897 pr.kr, 896 pr.kr, 895 pr.kr, 894 pr.kr, 893 pr.kr, 892 pr.kr, 891 pr.kr, 890 pr.kr, 889 pr.kr, 888 pr.kr, 887 pr.kr, 886 pr.kr, 885 pr.kr, 884 pr.kr, 883 pr.kr, 882 pr.kr, 881 pr.kr, 880 pr.kr, 879 pr.kr, 878 pr.kr, 877 pr.kr, 876 pr.kr, 875 pr.kr, 874 pr.kr, 873 pr.kr, 872 pr.kr, 871 pr.kr, 870 pr.kr, 869 pr.kr, 868 pr.kr, 867 pr.kr, 866 pr.kr, 865 pr.kr, 864 pr.kr, 863 pr.kr, 862 pr.kr, 861 pr.kr, 860 pr.kr, 859 pr.kr, 858 pr.kr, 857 pr.kr, 856 pr.kr, 855 pr.kr, 854 pr.kr, 853 pr.kr, 852 pr.kr, 851 pr.kr, 850 pr.kr, 849 pr.kr, 848 pr.kr, 847 pr.kr, 846 pr.kr, 845 pr.kr, 844 pr.kr, 843 pr.kr, 842 pr.kr, 841 pr.kr, 840 pr.kr, 839 pr.kr, 838 pr.kr, 837 pr.kr, 836 pr.kr, 835 pr.kr, 834 pr.kr, 833 pr.kr, 832 pr.kr, 831 pr.kr, 830 pr.kr, 829 pr.kr, 828 pr.kr, 827 pr.kr, 826 pr.kr, 825 pr.kr, 824 pr.kr, 823 pr.kr, 822 pr.kr, 821 pr.kr, 820 pr.kr, 819 pr.kr, 818 pr.kr, 817 pr.kr, 816 pr.kr, 815 pr.kr, 814 pr.kr, 813 pr.kr, 812 pr.kr, 811 pr.kr, 810 pr.kr, 809 pr.kr, 808 pr.kr, 807 pr.kr, 806 pr.kr, 805 pr.kr, 804 pr.kr, 803 pr.kr, 802 pr.kr, 801 pr.kr, 800 pr.kr, 799 pr.kr, 798 pr.kr, 797 pr.kr, 796 pr.kr, 795 pr.kr, 794 pr.kr, 793 pr.kr, 792 pr.kr, 791 pr.kr, 790 pr.kr, 789 pr.kr, 788 pr.kr, 787 pr.kr, 786 pr.kr, 785 pr.kr, 784 pr.kr, 783 pr.kr, 782 pr.kr, 781 pr.kr, 780 pr.kr, 779 pr.kr, 778 pr.kr, 777 pr.kr, 776 pr.kr, 775 pr.kr, 774 pr.kr, 773 pr.kr, 772 pr.kr, 771 pr.kr, 770 pr.kr, 769 pr.kr, 768 pr.kr, 767 pr.kr, 766 pr.kr, 765 pr.kr, 764 pr.kr, 763 pr.kr, 762 pr.kr, 761 pr.kr, 760 pr.kr, 759 pr.kr, 758 pr.kr, 757 pr.kr, 756 pr.kr, 755 pr.kr, 754 pr.kr, 753 pr.kr, 752 pr.kr, 751 pr.kr, 750 pr.kr, 749 pr.kr, 748 pr.kr, 747 pr.kr, 746 pr.kr, 745 pr.kr, 744 pr.kr, 743 pr.kr, 742 pr.kr, 741 pr.kr, 740 pr.kr, 739 pr.kr, 738 pr.kr, 737 pr.kr, 736 pr.kr, 735 pr.kr, 734 pr.kr, 733 pr.kr, 732 pr.kr, 731 pr.kr, 730 pr.kr, 729 pr.kr, 728 pr.kr, 727 pr.kr, 726 pr.kr, 725 pr.kr, 724 pr.kr, 723 pr.kr, 722 pr.kr, 721 pr.kr, 720 pr.kr, 719 pr.kr, 718 pr.kr, 717 pr.kr, 716 pr.kr, 715 pr.kr, 714 pr.kr, 713 pr.kr, 712 pr.kr, 711 pr.kr, 710 pr.kr, 709 pr.kr, 708 pr.kr, 707 pr.kr, 706 pr.kr, 705 pr.kr, 704 pr.kr, 703 pr.kr, 702 pr.kr, 701 pr.kr, 700 pr.kr, 699 pr.kr, 698 pr.kr, 697 pr.kr, 696 pr.kr, 695 pr.kr, 694 pr.kr, 693 pr.kr, 692 pr.kr, 691 pr.kr, 690 pr.kr, 689 pr.kr, 688 pr.kr, 687 pr.kr, 686 pr.kr, 685 pr.kr, 684 pr.kr, 683 pr.kr, 682 pr.kr, 681 pr.kr, 680 pr.kr, 679 pr.kr, 678 pr.kr, 677 pr.kr, 676 pr.kr, 675 pr.kr, 674 pr.kr, 673 pr.kr, 672 pr.kr, 671 pr.kr, 670 pr.kr, 669 pr.kr, 668 pr.kr, 667 pr.kr, 666 pr.kr, 665 pr.kr, 664 pr.kr, 663 pr.kr, 662 pr.kr, 661 pr.kr, 660 pr.kr, 659 pr.kr, 658 pr.kr, 657 pr.kr, 656 pr.kr, 655 pr.kr, 654 pr.kr, 653 pr.kr, 652 pr.kr, 651 pr.kr, 650 pr.kr, 649 pr.kr, 648 pr.kr, 647 pr.kr, 646 pr.kr, 645 pr.kr, 644 pr.kr, 643 pr.kr, 642 pr.kr, 641 pr.kr, 640 pr.kr, 639 pr.kr, 638 pr.kr, 637 pr.kr, 636 pr.kr, 635 pr.kr, 634 pr.kr, 633 pr.kr, 632 pr.kr, 631 pr.kr, 630 pr.kr, 629 pr.kr, 628 pr.kr, 627 pr.kr, 626 pr.kr, 625 pr.kr, 624 pr.kr, 623 pr.kr, 622 pr.kr, 621 pr.kr, 620 pr.kr, 619 pr.kr, 618 pr.kr, 617 pr.kr, 616 pr.kr, 615 pr.kr, 614 pr.kr, 613 pr.kr, 612 pr.kr, 611 pr.kr, 610 pr.kr, 609 pr.kr, 608 pr.kr, 607 pr.kr, 606 pr.kr, 605 pr.kr, 604 pr.kr, 603 pr.kr, 602 pr.kr, 601 pr.kr, 600 pr.kr, 599 pr.kr, 598 pr.kr, 597 pr.kr, 596 pr.kr, 595 pr.kr, 594 pr.kr, 593 pr.kr, 592 pr.kr, 591 pr.kr, 590 pr.kr, 589 pr.kr, 588 pr.kr, 587 pr.kr, 586 pr.kr, 585 pr.kr, 584 pr.kr, 583 pr.kr, 582 pr.kr, 581 pr.kr, 580 pr.kr, 579 pr.kr, 578 pr.kr, 577 pr.kr, 576 pr.kr, 575 pr.kr, 574 pr.kr, 573 pr.kr, 572 pr.kr, 571 pr.kr, 570 pr.kr, 569 pr.kr, 568 pr.kr, 567 pr.kr, 566 pr.kr, 565 pr.kr, 564 pr.kr, 563 pr.kr, 562 pr.kr, 561 pr.kr, 560 pr.kr, 559 pr.kr, 558 pr.kr, 557 pr.kr, 556 pr.kr, 555 pr.kr, 554 pr.kr, 553 pr.kr, 552 pr.kr, 551 pr.kr, 550 pr.kr, 549 pr.kr, 548 pr.kr, 547 pr.kr, 546 pr.kr, 545 pr.kr, 544 pr.kr, 543 pr.kr, 542 pr.kr, 541 pr.kr, 540 pr.kr, 539 pr.kr, 538 pr.kr, 537 pr.kr, 536 pr.kr, 535 pr.kr, 534 pr.kr, 533 pr.kr, 532 pr.kr, 531 pr.kr, 530 pr.kr, 529 pr.kr, 528 pr.kr, 527 pr.kr, 526 pr.kr, 525 pr.kr, 524 pr.kr, 523 pr.kr, 522 pr.kr, 521 pr.kr, 520 pr.kr, 519 pr.kr, 518 pr.kr, 517 pr.kr, 516 pr.kr, 515 pr.kr, 514 pr.kr, 513 pr.kr, 512 pr.kr, 511 pr.kr, 510 pr.kr, 509 pr.kr, 508 pr.kr, 507 pr.kr, 506 pr.kr, 505 pr.kr, 504 pr.kr, 503 pr.kr, 502 pr.kr, 501 pr.kr, 500 pr.kr, 499 pr.kr, 498 pr.kr, 497 pr.kr, 496 pr.kr, 495 pr.kr, 494 pr.kr, 493 pr.kr, 492 pr.kr, 491 pr.kr, 490 pr.kr, 489 pr.kr, 488 pr.kr, 487 pr.kr, 486 pr.kr, 485 pr.kr, 484 pr.kr, 483 pr.kr, 482 pr.kr, 481 pr.kr, 480 pr.kr, 479 pr.kr, 478 pr.kr, 477 pr.kr, 476 pr.kr, 475 pr.kr, 474 pr.kr, 473 pr.kr, 472 pr.kr, 471 pr.kr, 470 pr.kr, 469 pr.kr, 468 pr.kr, 467 pr.kr, 466 pr.kr, 465 pr.kr, 464 pr.kr, 463 pr.kr, 462 pr.kr, 461 pr.kr, 460 pr.kr, 459 pr.kr, 458 pr.kr, 457 pr.kr, 456 pr.kr, 455 pr.kr, 454 pr.kr, 453 pr.kr, 452 pr.kr, 451 pr.kr, 450 pr.kr, 449 pr.kr, 448 pr.kr, 447 pr.kr, 446 pr.kr, 445 pr.kr, 444 pr.kr, 443 pr.kr, 442 pr.kr, 441 pr.kr, 440 pr.kr, 439 pr.kr, 438 pr.kr, 437 pr.kr, 436 pr.kr, 435 pr.kr, 434 pr.kr, 433 pr.kr, 432 pr.kr, 431 pr.kr, 430 pr.kr, 429 pr.kr, 428 pr.kr, 427 pr.kr, 426 pr.kr, 425 pr.kr, 424 pr.kr, 423 pr.kr, 422 pr.kr, 421 pr.kr, 420 pr.kr, 419 pr.kr, 418 pr.kr, 417 pr.kr, 416 pr.kr, 415 pr.kr, 414 pr.kr, 413 pr.kr, 412 pr.kr, 411 pr.kr, 410 pr.kr, 409 pr.kr, 408 pr.kr, 407 pr.kr, 406 pr.kr, 405 pr.kr, 404 pr.kr, 403 pr.kr, 402 pr.kr, 401 pr.kr, 400 pr.kr, 399 pr.kr, 398 pr.kr, 397 pr.kr, 396 pr.kr, 395 pr.kr, 394 pr.kr, 393 pr.kr, 392 pr.kr, 391 pr.kr, 390 pr.kr, 389 pr.kr, 388 pr.kr, 387 pr.kr, 386 pr.kr, 385 pr.kr, 384 pr.kr, 383 pr.kr, 382 pr.kr, 381 pr.kr, 380 pr.kr, 379 pr.kr, 378 pr.kr, 377 pr.kr, 376 pr.kr, 375 pr.kr, 374 pr.kr, 373 pr.kr, 372 pr.kr, 371 pr.kr, 370 pr.kr, 369 pr.kr, 368 pr.kr, 367 pr.kr, 366 pr.kr, 365 pr.kr, 364 pr.kr, 363 pr.kr, 362 pr.kr, 361 pr.kr, 360 pr.kr, 359 pr.kr, 358 pr.kr, 357 pr.kr, 356 pr.kr, 355 pr.kr, 354 pr.kr, 353 pr.kr, 352 pr.kr, 351 pr.kr, 350 pr.kr, 349 pr.kr, 348 pr.kr, 347 pr.kr, 346 pr.kr, 345 pr.kr, 344 pr.kr, 343 pr.kr, 342 pr.kr, 341 pr.kr, 340 pr.kr, 339 pr.kr, 338 pr.kr, 337 pr.kr, 336 pr.kr, 335 pr.kr, 334 pr.kr, 333 pr.kr, 332 pr.kr, 331 pr.kr, 330 pr.kr, 329 pr.kr, 328 pr.kr, 327 pr.kr, 326 pr.kr, 325 pr.kr, 324 pr.kr, 323 pr.kr, 322 pr.kr, 321 pr.kr, 320 pr.kr, 319 pr.kr, 318 pr.kr, 317 pr.kr, 316 pr.kr, 315 pr.kr, 314 pr.kr, 313 pr.kr, 312 pr.kr, 311 pr.kr, 310 pr.kr, 309 pr.kr, 308 pr.kr, 307 pr.kr, 306 pr.kr, 305 pr.kr, 304 pr.kr, 303 pr.kr, 302 pr.kr, 301 pr.kr, 300 pr.kr, 299 pr.kr, 298 pr.kr, 297 pr.kr, 296 pr.kr, 295 pr.kr, 294 pr.kr, 293 pr.kr, 292 pr.kr, 291 pr.kr, 290 pr.kr, 289 pr.kr, 288 pr.kr, 287 pr.kr, 286 pr.kr, 285 pr.kr, 284 pr.kr, 283 pr.kr, 282 pr.kr, 281 pr.kr, 280 pr.kr, 279 pr.kr, 278 pr.kr, 277 pr.kr, 276 pr.kr, 275 pr.kr, 274 pr.kr, 273 pr.kr, 272 pr.kr, 271 pr.kr, 270 pr.kr, 269 pr.kr, 268 pr.kr, 267 pr.kr, 266 pr.kr, 265 pr.kr, 264 pr.kr, 263 pr.kr, 262 pr.kr, 261 pr.kr, 260 pr.kr, 259 pr.kr, 258 pr.kr, 257 pr.kr, 256 pr.kr, 255 pr.kr, 254 pr.kr, 253 pr.kr, 252 pr.kr, 251 pr.kr, 250 pr.kr, 249 pr.kr, 248 pr.kr, 247 pr.kr, 246 pr.kr, 245 pr.kr, 244 pr.kr, 243 pr.kr, 242 pr.kr, 241 pr.kr, 240 pr.kr, 239 pr.kr, 238 pr.kr, 237 pr.kr, 236 pr.kr, 235 pr.kr, 234 pr.kr, 233 pr.kr, 232 pr.kr, 231 pr.kr, 230 pr.kr, 229 pr.kr, 228 pr.kr, 227 pr.kr, 226 pr.kr, 225 pr.kr, 224 pr.kr, 223 pr.kr, 222 pr.kr, 221 pr.kr, 220 pr.kr, 219 pr.kr, 218 pr.kr, 217 pr.kr, 216 pr.kr, 215 pr.kr, 214 pr.kr, 213 pr.kr, 212 pr.kr, 211 pr.kr, 210 pr.kr, 209 pr.kr, 208 pr.kr, 207 pr.kr, 206 pr.kr, 205 pr.kr, 204 pr.kr, 203 pr.kr, 202 pr.kr, 201 pr.kr, 200 pr.kr, 199 pr.kr, 198 pr.kr, 197 pr.kr, 196 pr.kr, 195 pr.kr, 194 pr.kr, 193 pr.kr, 192 pr.kr, 191 pr.kr, 190 pr.kr, 189 pr.kr, 188 pr.kr, 187 pr.kr, 186 pr.kr, 185 pr.kr, 184 pr.kr, 183 pr.kr, 182 pr.kr, 181 pr.kr, 180 pr.kr, 179 pr.kr, 178 pr.kr, 177 pr.kr, 176 pr.kr, 175 pr.kr, 174 pr.kr, 173 pr.kr, 172 pr.kr, 171 pr.kr, 170 pr.kr, 169 pr.kr, 168 pr.kr, 167 pr.kr, 166 pr.kr, 165 pr.kr, 164 pr.kr, 163 pr.kr, 162 pr.kr, 161 pr.kr, 160 pr.kr, 159 pr.kr, 158 pr.kr, 157 pr.kr, 156 pr.kr, 155 pr.kr, 154 pr.kr, 153 pr.kr, 152 pr.kr, 151 pr.kr, 150 pr.kr, 149 pr.kr, 148 pr.kr, 147 pr.kr, 146 pr.kr, 145 pr.kr, 144 pr.kr, 143 pr.kr, 142 pr.kr, 141 pr.kr, 140 pr.kr, 139 pr.kr, 138 pr.kr, 137 pr.kr, 136 pr.kr, 135 pr.kr, 134 pr.kr, 133 pr.kr, 132 pr.kr, 131 pr.kr, 130 pr.kr, 129 pr.kr, 128 pr.kr, 127 pr.kr, 126 pr.kr, 125 pr.kr, 124 pr.kr, 123 pr.kr, 122 pr.kr, 121 pr.kr, 120 pr.kr, 119 pr.kr, 118 pr.kr, 117 pr.kr, 116 pr.kr, 115 pr.kr, 114 pr.kr, 113 pr.kr, 112 pr.kr, 111 pr.kr, 110 pr.kr, 109 pr.kr, 108 pr.kr, 107 pr.kr, 106 pr.kr, 105 pr.kr, 104 pr.kr, 103 pr.kr, 102 pr.kr, 101 pr.kr, 100 pr.kr, 99 pr.kr, 98 pr.kr, 97 pr.kr, 96 pr.kr, 95 pr.kr, 94 pr.kr, 93 pr.kr, 92 pr.kr, 91 pr.kr, 90 pr.kr, 89 pr.kr, 88 pr.kr, 87 pr.kr, 86 pr.kr, 85 pr.kr, 84 pr.kr, 83 pr.kr, 82 pr.kr, 81 pr.kr, 80 pr.kr, 79 pr.kr, 78 pr.kr, 77 pr.kr, 76 pr.kr, 75 pr.kr, 74 pr.kr, 73 pr.kr, 72 pr.kr, 71 pr.kr, 70 pr.kr, 69 pr.kr, 68 pr.kr, 67 pr.kr, 66 pr.kr, 65 pr.kr, 64 pr.kr, 63 pr.kr, 62 pr.kr, 61 pr.kr, 60 pr.kr, 59 pr.kr, 58 pr.kr, 57 pr.kr, 56 pr.kr, 55 pr.kr, 54 pr.kr, 53 pr.kr, 52 pr.kr, 51 pr.kr, 50 pr.kr, 49 pr.kr, 48 pr.kr, 47 pr.kr, 46 pr.kr, 45 pr.kr, 44 pr.kr, 43 pr.kr, 42 pr.kr, 41 pr.kr, 40 pr.kr, 39 pr.kr, 38 pr.kr, 37 pr.kr, 36 pr.kr, 35 pr.kr, 34 pr.kr, 33 pr.kr, 32 pr.kr, 31 pr.kr, 30 pr.kr, 29 pr.kr, 28 pr.kr, 27 pr.kr, 26 pr.kr, 25 pr.kr, 24 pr.kr, 23 pr.kr, 22 pr.kr, 21 pr.kr, 20 pr.kr, 19 pr.kr, 18 pr.kr, 17 pr.kr, 16 pr.kr, 15 pr.kr, 14 pr.kr, 13 pr.kr, 12 pr.kr, 11 pr.kr, 10 pr.kr, 9 pr.kr, 8 pr.kr, 7 pr.kr, 6 pr.kr, 5 pr.kr, 4 pr.kr, 3 pr.kr, 2 pr.kr, 1 pr.kr, 0, 1, 2, 3, 4, 5, 6, 7, 8, 9, 10, 11, 12, 13, 14, 15, 16, 17, 18, 19, 20, 21, 22, 23, 24, 25, 26, 27, 28, 29, 30, 31, 32, 33, 34, 35, 36, 37, 38, 39, 40, 41, 42, 43, 44, 45, 46, 47, 48, 49, 50, 51, 52, 53, 54, 55, 56, 57, 58, 59, 60, 61, 62, 63, 64, 65, 66, 67, 68, 69, 70, 71, 72, 73, 74, 75, 76, 77, 78, 79, 80, 81, 82, 83, 84, 85, 86, 87, 88, 89, 90, 91, 92, 93, 94, 95, 96, 97, 98, 99, 100, 101, 102, 103, 104, 105, 106, 107, 108, 109, 110, 111, 112, 113, 114, 115, 116, 117, 118, 119, 120, 121, 122, 123, 124, 125, 126, 127, 128, 129, 130, 131, 132, 133, 134, 135, 136, 137, 138, 139, 140, 141, 142, 143, 144, 145, 146, 147, 148, 149, 150, 151, 152, 153, 154, 155, 156, 157, 158, 159, 160, 161, 162, 163, 164, 165, 166, 167, 168, 169, 170, 171, 172, 173, 174, 175, 176, 177, 178, 179, 180, 181, 182, 183, 184, 185, 186, 187, 188, 189, 190, 191, 192, 193, 194, 195, 196, 197, 198, 199, 200, 201, 202, 203, 204, 205, 206, 207, 208, 209, 210, 211, 212, 213, 214, 215, 216, 217, 218, 219, 220, 221, 222, 223, 224, 225, 226, 227, 228, 229, 230, 231, 232, 233, 234, 235, 236, 237, 238, 239, 240, 241, 242, 243, 244, 245, 246, 247, 248, 249, 250, 251, 252, 253, 254, 255, 256, 257, 258, 259, 260, 261, 262, 263, 264, 265, 266, 267, 268, 269, 270, 271, 272, 273, 274, 275, 276, 277, 278, 279, 280, 281, 282, 283, 284, 285, 286, 287, 288, 289, 290, 291, 292, 293, 294, 295, 296, 297, 298, 299, 300, 301, 302, 303, 304, 305, 306, 307, 308, 309, 310, 311, 312, 313, 314, 315, 316, 317, 318, 319, 320, 321, 322, 323, 324, 325, 326, 327, 328, 329, 330, 331, 332, 333, 334, 335, 336, 337, 338, 339, 340, 341, 342, 343, 344, 345, 346, 347, 348, 349, 350, 351, 352, 353, 354, 355, 356, 357, 358, 359, 360, 361, 362, 363, 364, 365, 366, 367, 368, 369, 370, 371, 372, 373, 374, 375, 376, 377, 378, 379, 380, 381, 382, 383, 384, 385, 386, 387, 388, 389, 390, 391, 392, 393, 394, 395, 396, 397, 398, 399, 400, 401, 402, 403, 404, 405, 406, 407, 408, 409, 410, 411, 412, 413, 414, 415, 416, 417, 418, 419, 420, 421, 422, 423, 424, 425, 426, 427, 428, 429, 430, 431, 432, 433, 434, 435, 436, 437, 438, 439, 440, 441, 442, 443, 444, 445, 446, 447, 448, 449, 450, 451, 452, 453, 454, 455, 456, 457, 458, 459, 460, 461, 462, 463, 464, 465, 466, 467, 468, 469, 470, 471, 472, 473, 474, 475, 476, 477, 478, 479, 480, 481, 482, 483, 484, 485, 486, 487, 488, 489, 490, 491, 492, 493, 494, 495, 496, 497, 498, 499, 500, 501, 502, 503, 504, 505, 506, 507, 508, 509, 510, 511, 512, 513, 514, 515, 516, 517, 518, 519, 520, 521, 522, 523, 524, 525, 526, 527, 528, 529, 530, 531, 532, 533, 534, 535, 536, 537, 538, 539, 540, 541, 542, 543, 544, 545, 546, 547, 548, 549, 550, 551, 552, 553, 554, 555, 556, 557, 558, 559, 560, 561, 562, 563, 564, 565, 566, 567, 568, 569, 570, 571, 572, 573, 574, 575, 576, 577, 578, 579, 580, 581, 582, 583, 584, 585, 586, 587, 588, 589, 590, 591, 592, 593, 594, 595, 596, 597, 598, 599, 600, 601, 602, 603, 604, 605, 606, 607, 608, 609, 610, 611, 612, 613, 614, 615, 616, 617, 618, 619, 620, 621, 622, 623, 624, 625, 626, 627, 628, 629, 630, 631, 632, 633, 634, 635, 636, 637, 638, 639, 640, 641, 642, 643, 644, 645, 646, 647, 648, 649, 650, 651, 652, 653, 654, 655, 656, 657, 658, 659, 660, 661, 662, 663, 664, 665, 666, 667, 668, 669, 670, 671, 672, 673, 674, 675, 676, 677, 678, 679, 680, 681, 682, 683, 684, 685, 686, 687, 688, 689, 690, 691, 692, 693, 694, 695, 696, 697, 698, 699, 700, 701, 702, 703, 704, 705, 706, 707, 708, 709, 710, 711, 712, 713, 714, 715, 716, 717, 718, 719, 720, 721, 722, 723, 724, 725, 726, 727, 728, 729, 730, 731, 732, 733, 734, 735, 736, 737, 738, 739, 740, 741, 742, 743, 744, 745, 746, 747, 748, 749, 750, 751, 752, 753, 754, 755, 756, 757, 758, 759, 760, 761, 762, 763, 764, 765, 766, 767, 768, 769, 770, 771, 772, 773, 774, 775, 776, 777, 778, 779, 780, 781, 782, 783, 784, 785, 786, 787, 788, 789, 790, 791, 792, 793, 794, 795, 796, 797, 798, 799, 800, 801, 802, 803, 804, 805, 806, 807, 808, 809, 810, 811, 812, 813, 814, 815, 816, 817, 818, 819, 820, 821, 822, 823, 824, 825, 826, 827, 828, 829, 830, 831, 832, 833, 834, 835, 836, 837, 838, 839, 840, 841, 842, 843, 844, 845, 846, 847, 848, 849, 850, 851, 852, 853, 854, 855, 856, 857, 858, 859, 860, 861, 862, 863, 864, 865, 866, 867, 868, 869, 870, 871, 872, 873, 874, 875, 876, 877, 878, 879, 880, 881, 882, 883, 884, 885, 886, 887, 888, 889, 890, 891, 892, 893, 894, 895, 896, 897, 898, 899, 900, 901, 902, 903, 904, 905, 906, 907, 908, 909, 910, 911, 912, 913, 914, 915, 916, 917, 918, 919, 920, 921, 922, 923, 924, 925, 926, 927, 928, 929, 930, 931, 932, 933, 934, 935, 936, 937, 938, 939, 940, 941, 942, 943, 944, 945, 946, 947, 948, 949, 950, 951, 952, 953, 954, 955, 956, 957, 958, 959, 960, 961, 962, 963, 964, 965, 966, 967, 968, 969, 970, 971, 972, 973, 974, 975, 976, 977, 978, 979, 980, 981, 982, 983, 984, 985, 986, 987, 988, 989, 990, 991, 992, 993, 994, 995, 996, 997, 998, 999, 1000, 1001, 1002, 1003, 1004, 1005, 1006, 1007, 1008, 1009, 1010, 1011, 1012, 1013, 1014, 1015, 1016, 1017, 1018, 1019, 1020, 1021, 1022, 1023, 1024, 1025, 1026, 1027, 1028, 1029, 1030, 1031, 1032, 1033, 1034, 1035, 1036, 1037, 1038, 1039, 1040, 1041, 1042, 1043, 1044, 1045, 1046, 1047, 1048, 1049, 1050, 1051, 1052, 1053, 1054, 1055, 1056, 1057, 1058, 1059, 1060, 1061, 1062, 1063, 1064, 1065, 1066, 1067, 1068, 1069, 1070, 1071, 1072, 1073, 1074, 1075, 1076, 1077, 1078, 1079, 1080, 1081, 1082, 1083, 1084, 1085, 1086, 1087, 1088, 1089, 1090, 1091, 1092, 1093, 1094, 1095, 1096, 1097, 1098, 1099, 1100, 1101, 1102, 1103, 1104, 1105, 1106, 1107, 1108, 1109, 1110, 1111, 1112, 1113, 1114, 1115, 1116, 1117, 1118, 1119, 1120, 1121, 1122, 1123, 1124, 1125, 1126, 1127, 1128, 1129, 1130, 1131, 1132, 1133, 1134, 1135, 1136, 1137, 1138, 1139, 1140, 1141, 1142, 1143, 1144, 1145, 1146, 1147, 1148, 1149, 1150, 1151, 1152, 1153, 1154, 1155, 1156, 1157, 1158, 1159, 1160, 1161, 1162, 1163, 1164, 1165, 1166, 1167, 1168, 1169, 1170, 1171, 1172, 1173, 1174, 1175, 1176, 1177, 1178, 1179, 1180, 1181, 1182, 1183, 1184, 1185, 1186, 1187, 1188, 1189, 1190, 1191, 1192, 1193, 1194, 1195, 1196, 1197, 1198, 1199, 1200, 1201, 1202, 1203, 1204, 1205, 1206, 1207, 1208, 1209, 1210, 1211, 1212, 1213, 1214, 1215, 1216, 1217, 1218, 1219, 1220, 1221, 1222, 1223, 1224, 1225, 1226, 1227, 1228, 1229, 1230, 1231, 1232, 1233, 1234, 1235, 1236, 1237, 1238, 1239, 1240, 1241, 1242, 1243, 1244, 1245, 1246, 1247, 1248, 1249, 1250, 1251, 1252, 1253, 1254, 1255, 1256, 1257, 1258, 1259, 1260, 1261, 1262, 1263, 1264, 1265, 1266, 1267, 1268, 1269, 1270, 1271, 1272, 1273, 1274, 1275, 1276, 1277, 1278, 1279, 1280, 1281, 1282, 1283, 1284, 1285, 1286, 1287, 1288, 1289, 1290, 1291, 1292, 1293, 1294, 1295, 1296, 1297, 1298, 1299, 1300, 1301, 1302, 1303, 1304, 1305, 1306, 1307, 1308, 1309, 1310, 1311, 1312, 1313, 1314, 1315, 1316, 1317, 1318, 1319, 1320, 1321, 1322, 1323, 1324, 1325, 1326, 1327, 1328, 1329, 1330, 1331, 1332, 1333, 1334, 1335, 1336, 1337, 1338, 1339, 1340, 1341, 1342, 1343, 1344, 1345, 1346, 1347, 1348, 1349, 1350, 1351, 1352, 1353, 1354, 1355, 1356, 1357, 1358, 1359, 1360, 1361, 1362, 1363, 1364, 1365, 1366, 1367, 1368, 1369, 1370, 1371, 1372, 1373, 1374, 1375, 1376, 1377, 1378, 1379, 1380, 1381, 1382, 1383, 1384, 1385, 1386, 1387, 1388, 1389, 1390, 1391, 1392, 1393, 1394, 1395, 1396, 1397, 1398, 1399, 1400, 1401, 1402, 1403, 1404, 1405, 1406, 1407, 1408, 1409, 1410, 1411, 1412, 1413, 1414, 1415, 1416, 1417, 1418, 1419, 1420, 1421, 1422, 1423, 1424, 1425, 1426, 1427, 1428, 1429, 1430, 1431, 1432, 1433, 1434, 1435, 1436, 1437, 1438, 1439, 1440, 1441, 1442, 1443, 1444, 1445, 1446, 1447, 1448, 1449, 1450, 1451, 1452, 1453, 1454, 1455, 1456, 1457, 1458, 1459, 1460, 1461, 1462, 1463, 1464, 1465, 1466, 1467, 1468, 1469, 1470, 1471, 1472, 1473, 1474, 1475, 1476, 1477, 1478, 1479, 1480, 1481, 1482, 1483, 1484, 1485, 1486, 1487, 1488, 1489, 1490, 1491, 1492, 1493, 1494, 1495, 1496, 1497, 1498, 1499, 1500, 1501, 1502, 1503, 1504, 1505, 1506, 1507, 1508, 1509, 1510, 1511, 1512, 1513, 1514, 1515, 1516, 1517, 1518, 1519, 1520, 1521, 1522, 1523, 1524, 1525, 1526, 1527, 1528, 1529, 1530, 1531, 1532, 1533, 1534, 1535, 1536, 1537, 1538, 1539, 1540, 1541, 1542, 1543, 1544, 1545, 1546, 1547, 1548, 1549, 1550, 1551, 1552, 1553, 1554, 1555, 1556, 1557, 1558, 1559, 1560, 1561, 1562, 1563, 1564, 1565, 1566, 1567, 1568, 1569, 1570, 1571, 1572, 1573, 1574, 1575, 1576, 1577, 1578, 1579, 1580, 1581, 1582, 1583, 1584, 1585, 1586, 1587, 1588, 1589, 1590, 1591, 1592, 1593, 1594, 1595, 1596, 1597, 1598, 1599, 1600, 1601, 1602, 1603, 1604, 1605, 1606, 1607, 1608, 1609, 1610, 1611, 1612, 1613, 1614, 1615, 1616, 1617, 1618, 1619, 1620, 1621, 1622, 1623, 1624, 1625, 1626, 1627, 1628, 1629, 1630, 1631, 1632, 1633, 1634, 1635, 1636, 1637, 1638, 1639, 1640, 1641, 1642, 1643, 1644, 1645, 1646, 1647, 1648, 1649, 1650, 1651, 1652, 1653, 1654, 1655, 1656, 1657, 1658, 1659, 1660, 1661, 1662, 1663, 1664, 1665, 1666, 1667, 1668, 1669, 1670, 1671, 1672, 1673, 1674, 1675, 1676, 1677, 1678, 1679, 1680, 1681, 1682, 1683, 1684, 1685, 1686, 1687, 1688, 1689, 1690, 1691, 1692, 1693, 1694, 1695, 1696, 1697, 1698, 1699, 1700, 1701, 1702, 1703, 1704, 1705, 1706, 1707, 1708, 1709, 1710, 1711, 1712, 1713, 1714, 1715, 1716, 1717, 1718, 1719, 1720, 1721, 1722, 1723, 1724, 1725, 1726, 1727, 1728, 1729, 1730, 1731, 1732, 1733, 1734, 1735, 1736, 1737, 1738, 1739, 1740, 1741, 1742, 1743, 1744, 1745, 1746, 1747, 1748, 1749, 1750, 1751, 1752, 1753, 1754, 1755, 1756, 1757, 1758, 1759, 1760, 1761, 1762, 1763, 1764, 1765, 1766, 1767, 1768, 1769, 1770, 1771, 1772, 1773, 1774, 1775, 1776, 1777, 1778, 1779, 1780, 1781, 1782, 1783, 1784, 1785, 1786, 1787, 1788, 1789, 1790, 1791, 1792, 1793, 1794, 1795, 1796, 1797, 1798, 1799, 1800, 1801, 1802, 1803, 1804, 1805, 1806, 1807, 1808, 1809, 1810, 1811, 1812, 1813, 1814, 1815, 1816, 1817, 1818, 1819, 1820, 1821, 1822, 1823, 1824, 1825, 1826, 1827, 1828, 1829, 1830, 1831, 1832, 1833, 1834, 1835, 1836, 1837, 1838, 1839, 1840, 1841, 1842, 1843, 1844, 1845, 1846, 1847, 1848, 1849, 1850, 1851, 1852, 1853, 1854, 1855, 1856, 1857, 1858, 1859, 1860, 1861, 1862, 1863, 1864, 1865, 1866, 1867, 1868, 1869, 1870, 1871, 1872, 1873, 1874, 1875, 1876, 1877, 1878, 1879, 1880, 1881, 1882, 1883, 1884, 1885, 1886, 1887, 1888, 1889, 1890, 1891, 1892, 1893, 1894, 1895, 1896, 1897, 1898, 1899, 1900, 1901, 1902, 1903, 1904, 1905, 1906, 1907, 1908, 1909, 1910, 1911, 1912, 1913, 1914, 1915, 1916, 1917, 1918, 1919, 1920, 1921, 1922, 1923, 1924, 1925, 1926, 1927, 1928, 1929, 1930, 1931, 1932, 1933, 1934, 1935, 1936, 1937, 1938, 1939, 1940, 1941, 1942, 1943, 1944, 1945, 1946, 1947, 1948, 1949, 1950, 1951, 1952, 1953, 1954, 1955, 1956, 1957, 1958, 1959, 1960, 1961, 1962, 1963, 1964, 1965, 1966, 1967, 1968, 1969, 1970, 1971, 1972, 1973, 1974, 1975, 1976, 1977, 1978, 1979, 1980, 1981, 1982, 1983, 1984, 1985, 1986, 1987, 1988, 1989, 1990, 1991, 1992, 1993, 1994, 1995, 1996, 1997, 1998, 1999, "
     ]
    }
   ],
   "source": [
    "for metai in range(-2000, 2000):\n",
    "    if metai < 0:\n",
    "        print(f\"{abs(metai)} pr.kr\", end=\", \")\n",
    "    else:\n",
    "        print(metai, end=\", \")"
   ]
  },
  {
   "cell_type": "code",
   "execution_count": 205,
   "metadata": {},
   "outputs": [
    {
     "name": "stdout",
     "output_type": "stream",
     "text": [
      "2\n",
      "6\n",
      "7\n",
      "9\n",
      "vaziuojam toliau\n"
     ]
    }
   ],
   "source": [
    "for skaicius in skaiciai:\n",
    "    if skaicius > 10:\n",
    "        break\n",
    "    print(skaicius)\n",
    "else:\n",
    "    print(\"skaiciai baigesi\")\n",
    "print(\"vaziuojam toliau\")"
   ]
  },
  {
   "cell_type": "code",
   "execution_count": 206,
   "metadata": {},
   "outputs": [
    {
     "name": "stdout",
     "output_type": "stream",
     "text": [
      "2 6 7 9 41 4 46 789\n"
     ]
    }
   ],
   "source": [
    "print(*skaiciai)"
   ]
  },
  {
   "cell_type": "code",
   "execution_count": 207,
   "metadata": {},
   "outputs": [
    {
     "name": "stdout",
     "output_type": "stream",
     "text": [
      "2\n",
      "6\n",
      "7\n",
      "9\n",
      "4\n",
      "skaiciai baigesi\n"
     ]
    }
   ],
   "source": [
    "for skaicius in skaiciai:\n",
    "    if skaicius > 10:\n",
    "        continue\n",
    "    print(skaicius)\n",
    "else:\n",
    "    print(\"skaiciai baigesi\")"
   ]
  },
  {
   "cell_type": "code",
   "execution_count": 208,
   "metadata": {},
   "outputs": [
    {
     "name": "stdout",
     "output_type": "stream",
     "text": [
      "7 nelyginis\n",
      "9 nelyginis\n",
      "41 nelyginis\n",
      "789 nelyginis\n"
     ]
    }
   ],
   "source": [
    "for skaicius in skaiciai:\n",
    "    if skaicius % 2 == 0:\n",
    "        pass\n",
    "    else:\n",
    "        print(f\"{skaicius} nelyginis\")"
   ]
  },
  {
   "cell_type": "code",
   "execution_count": 209,
   "metadata": {},
   "outputs": [
    {
     "name": "stdout",
     "output_type": "stream",
     "text": [
      "    1 --------     2\n",
      "    2 --------     6\n",
      "    3 --------     7\n",
      "    4 --------     9\n",
      "    5 --------    41\n",
      "    6 --------     4\n",
      "    7 --------    46\n",
      "    8 --------   789\n"
     ]
    }
   ],
   "source": [
    "for indeksas, skaicius in enumerate(skaiciai):\n",
    "    print(f\"{(indeksas+1):5d} -------- {skaicius:5d}\")"
   ]
  },
  {
   "cell_type": "code",
   "execution_count": 210,
   "metadata": {},
   "outputs": [
    {
     "name": "stdout",
     "output_type": "stream",
     "text": [
      "1: -3\n",
      "2: 1\n",
      "3: 2\n",
      "4: 4\n",
      "5: 36\n",
      "6: -1\n",
      "7: 41\n",
      "8: 784\n"
     ]
    }
   ],
   "source": [
    "skaiciu_zodynas = dict(enumerate(skaiciai))\n",
    "for indeksas, skaicius in skaiciu_zodynas.items():\n",
    "    # print(f\"{indeksas+1}: {skaicius}\")\n",
    "    skaiciu_zodynas[indeksas] -= 5\n",
    "    print(f\"{indeksas+1}: {skaiciu_zodynas[indeksas]}\")\n"
   ]
  },
  {
   "cell_type": "code",
   "execution_count": 211,
   "metadata": {},
   "outputs": [
    {
     "name": "stdout",
     "output_type": "stream",
     "text": [
      "turime šių spalvų S:\n",
      "balta, juoda, raudona, mėlyna, sidabrinė, \n",
      "turime šių spalvų 3:\n",
      "balta, juoda, raudona, mėlyna, sidabrinė, \n",
      "turime šių spalvų X:\n",
      "balta, juoda, raudona, mėlyna, sidabrinė, \n",
      "turime šių spalvų Y:\n",
      "balta, juoda, raudona, mėlyna, sidabrinė, \n"
     ]
    }
   ],
   "source": [
    "modeliai = \"S 3 X Y\".split()\n",
    "spalvos = [\"balta\", \"juoda\", \"raudona\", \"mėlyna\", \"sidabrinė\"]\n",
    "for modelis in modeliai:\n",
    "    print(f\"turime šių spalvų {modelis}:\")\n",
    "    for spalva in spalvos:\n",
    "        print(f\"{spalva}\", end=\", \")\n",
    "    print()"
   ]
  },
  {
   "cell_type": "code",
   "execution_count": 212,
   "metadata": {},
   "outputs": [
    {
     "data": {
      "text/plain": [
       "{'darzoves': {'morkos': 5, 'kopustai': 1},\n",
       " 'gėrimai': {'pienas': 2, 'alus': 24, 'gira': 7},\n",
       " 'mėsa': {'kumpis': 2.8, 'skilandine': 5, 'vista': 4}}"
      ]
     },
     "execution_count": 212,
     "metadata": {},
     "output_type": "execute_result"
    }
   ],
   "source": [
    "saldytuvas"
   ]
  },
  {
   "cell_type": "markdown",
   "metadata": {},
   "source": [
    "## `while` ciklas"
   ]
  },
  {
   "cell_type": "code",
   "execution_count": 216,
   "metadata": {},
   "outputs": [
    {
     "name": "stdout",
     "output_type": "stream",
     "text": [
      "1\n",
      "2\n",
      "3\n",
      "4\n",
      "5\n",
      "6\n"
     ]
    }
   ],
   "source": [
    "skaicius = 0\n",
    "while skaicius <= 5:\n",
    "    skaicius += 1\n",
    "    print(skaicius)"
   ]
  },
  {
   "cell_type": "code",
   "execution_count": 217,
   "metadata": {},
   "outputs": [
    {
     "name": "stdout",
     "output_type": "stream",
     "text": [
      "nesupratau\n",
      "nesupratau\n",
      "nesupratau\n",
      "nesupratau\n"
     ]
    }
   ],
   "source": [
    "while True:\n",
    "    komanda = input(\"Ka?: \")\n",
    "    if komanda == \"\":\n",
    "        break\n",
    "    print(\"nesupratau\")"
   ]
  },
  {
   "cell_type": "code",
   "execution_count": 225,
   "metadata": {},
   "outputs": [
    {
     "name": "stdout",
     "output_type": "stream",
     "text": [
      "29\n",
      "28\n",
      "27\n",
      "26\n",
      "25\n",
      "24\n",
      "23\n",
      "22\n",
      "21\n",
      "20\n",
      "19\n",
      "18\n",
      "17\n",
      "16\n",
      "15\n",
      "14\n",
      "13\n",
      "12\n",
      "11\n",
      "10\n",
      "9\n",
      "8\n",
      "7\n",
      "6\n",
      "5\n",
      "4\n",
      "3\n",
      "2\n",
      "1\n",
      "0\n",
      "LAUNCH!!!\n"
     ]
    }
   ],
   "source": [
    "skaicius = 1800\n",
    "while skaicius > 0:\n",
    "    skaicius -= 1\n",
    "    if skaicius % 60 > 0:\n",
    "        continue\n",
    "    print(skaicius // 60)\n",
    "else:\n",
    "    print(\"LAUNCH!!!\")"
   ]
  },
  {
   "cell_type": "code",
   "execution_count": 228,
   "metadata": {},
   "outputs": [
    {
     "name": "stdout",
     "output_type": "stream",
     "text": [
      "90\n",
      "80\n",
      "70\n",
      "60\n",
      "50\n",
      "40\n",
      "30\n",
      "20\n",
      "15\n",
      "10\n",
      "5\n",
      "4\n",
      "3\n",
      "2\n",
      "1\n",
      "0\n",
      "LAUNCH!!!\n"
     ]
    }
   ],
   "source": [
    "skaicius = 100\n",
    "while skaicius > 0:\n",
    "    skaicius -= 1\n",
    "    if skaicius % 10 > 0 and skaicius > 20:\n",
    "        continue\n",
    "    elif skaicius % 5 and skaicius > 5:\n",
    "        continue\n",
    "    print(skaicius)\n",
    "else:\n",
    "    print(\"LAUNCH!!!\")"
   ]
  },
  {
   "cell_type": "markdown",
   "metadata": {},
   "source": [
    "## tuples"
   ]
  },
  {
   "cell_type": "code",
   "execution_count": 230,
   "metadata": {},
   "outputs": [
    {
     "name": "stdout",
     "output_type": "stream",
     "text": [
      "('vienas',) <class 'tuple'>\n"
     ]
    }
   ],
   "source": [
    "vienute = (\"vienas\", )\n",
    "print(vienute, type(vienute))"
   ]
  },
  {
   "cell_type": "code",
   "execution_count": 231,
   "metadata": {},
   "outputs": [
    {
     "name": "stdout",
     "output_type": "stream",
     "text": [
      "(1, 2, 3, 4, 5) <class 'tuple'>\n"
     ]
    }
   ],
   "source": [
    "nekeiciamieji = (1, 2, 3, 4, 5)\n",
    "print(nekeiciamieji, type(nekeiciamieji))"
   ]
  },
  {
   "cell_type": "code",
   "execution_count": 232,
   "metadata": {},
   "outputs": [
    {
     "name": "stdout",
     "output_type": "stream",
     "text": [
      "('vienas', 1, 2, 3, 4, 5)\n"
     ]
    }
   ],
   "source": [
    "mixiukas = vienute + nekeiciamieji\n",
    "print(mixiukas)"
   ]
  },
  {
   "cell_type": "code",
   "execution_count": 235,
   "metadata": {},
   "outputs": [
    {
     "data": {
      "text/plain": [
       "(2, 3)"
      ]
     },
     "execution_count": 235,
     "metadata": {},
     "output_type": "execute_result"
    }
   ],
   "source": [
    "mixiukas[2:4]"
   ]
  },
  {
   "cell_type": "code",
   "execution_count": 236,
   "metadata": {},
   "outputs": [
    {
     "data": {
      "text/plain": [
       "5"
      ]
     },
     "execution_count": 236,
     "metadata": {},
     "output_type": "execute_result"
    }
   ],
   "source": [
    "mixiukas[-1]"
   ]
  },
  {
   "cell_type": "code",
   "execution_count": 237,
   "metadata": {},
   "outputs": [
    {
     "data": {
      "text/plain": [
       "(5, 4, 3, 2, 1)"
      ]
     },
     "execution_count": 237,
     "metadata": {},
     "output_type": "execute_result"
    }
   ],
   "source": [
    "mixiukas[:0:-1]"
   ]
  },
  {
   "cell_type": "code",
   "execution_count": 238,
   "metadata": {},
   "outputs": [
    {
     "name": "stdout",
     "output_type": "stream",
     "text": [
      "('vienas', 1, 2, 3, 4, 5, 3, 2, 5, 5, 3, 1, 2, 2, 2, 2)\n"
     ]
    }
   ],
   "source": [
    "mixiukas += (3, 2, 5, 5, 3, 1, 2, 2, 2, 2)\n",
    "print(mixiukas)"
   ]
  },
  {
   "cell_type": "code",
   "execution_count": 239,
   "metadata": {},
   "outputs": [
    {
     "name": "stdout",
     "output_type": "stream",
     "text": [
      "6\n"
     ]
    }
   ],
   "source": [
    "print(mixiukas.count(2))"
   ]
  },
  {
   "cell_type": "code",
   "execution_count": 241,
   "metadata": {},
   "outputs": [
    {
     "name": "stdout",
     "output_type": "stream",
     "text": [
      "7\n"
     ]
    }
   ],
   "source": [
    "print(mixiukas.index(2, 3))"
   ]
  },
  {
   "cell_type": "code",
   "execution_count": 243,
   "metadata": {},
   "outputs": [
    {
     "name": "stdout",
     "output_type": "stream",
     "text": [
      "True\n"
     ]
    }
   ],
   "source": [
    "print(5 in mixiukas)"
   ]
  },
  {
   "cell_type": "code",
   "execution_count": 247,
   "metadata": {},
   "outputs": [
    {
     "name": "stdout",
     "output_type": "stream",
     "text": [
      "1 2 3 4 5 3 2 5 5 3 1 2 2 2 2 "
     ]
    }
   ],
   "source": [
    "for elementas in mixiukas[1:]:\n",
    "    print(elementas, end=\" \")"
   ]
  },
  {
   "cell_type": "code",
   "execution_count": 252,
   "metadata": {},
   "outputs": [
    {
     "name": "stdout",
     "output_type": "stream",
     "text": [
      "123453255312222"
     ]
    }
   ],
   "source": [
    "skaitliukas = 0\n",
    "while skaitliukas < len(mixiukas):\n",
    "    if type(mixiukas[skaitliukas]) == int:\n",
    "        print(mixiukas[skaitliukas], end=\"\")\n",
    "    skaitliukas += 1"
   ]
  }
 ],
 "metadata": {
  "kernelspec": {
   "display_name": "venv",
   "language": "python",
   "name": "python3"
  },
  "language_info": {
   "codemirror_mode": {
    "name": "ipython",
    "version": 3
   },
   "file_extension": ".py",
   "mimetype": "text/x-python",
   "name": "python",
   "nbconvert_exporter": "python",
   "pygments_lexer": "ipython3",
   "version": "3.10.12"
  },
  "orig_nbformat": 4
 },
 "nbformat": 4,
 "nbformat_minor": 2
}
