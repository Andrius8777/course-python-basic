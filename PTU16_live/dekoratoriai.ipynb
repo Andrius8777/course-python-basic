{
 "cells": [
  {
   "cell_type": "markdown",
   "metadata": {},
   "source": [
    "## dekoratorių deklaracija"
   ]
  },
  {
   "cell_type": "code",
   "execution_count": 2,
   "metadata": {},
   "outputs": [
    {
     "name": "stdout",
     "output_type": "stream",
     "text": [
      "[7, 7, 9]\n"
     ]
    }
   ],
   "source": [
    "vaisiai = [\"braškės\", \"bananai\", \"apelsinas\"]\n",
    "ilgiai = map(len, vaisiai)\n",
    "print(list(ilgiai))\n",
    "\n"
   ]
  },
  {
   "cell_type": "code",
   "execution_count": 12,
   "metadata": {},
   "outputs": [
    {
     "name": "stdout",
     "output_type": "stream",
     "text": [
      "sveikas, zmogau\n",
      "viso gero, zmogau\n"
     ]
    }
   ],
   "source": [
    "from typing import Callable\n",
    "\n",
    "def pasisveikinimas(funkcija: Callable) -> None:\n",
    "    def wrapper(vardas: str):\n",
    "        print(f\"sveikas, {vardas}\")\n",
    "        funkcija(vardas)\n",
    "    return wrapper\n",
    "\n",
    "@pasisveikinimas\n",
    "def atsisveikinimas(vardas: str) -> None:\n",
    "    print(f\"viso gero, {vardas}\")\n",
    "\n",
    "atsisveikinimas(\"zmogau\")"
   ]
  },
  {
   "cell_type": "code",
   "execution_count": 31,
   "metadata": {},
   "outputs": [
    {
     "name": "stdout",
     "output_type": "stream",
     "text": [
      "4280\n"
     ]
    }
   ],
   "source": [
    "skaiciai = [3, 7, 5, 4, 10]\n",
    "\n",
    "def tikrinti_teigiamus(funkcija):\n",
    "    def wrapper(*args, **kwargs):\n",
    "        if not all(type(arg) in (int, float) for arg in args) \\\n",
    "                or not all(type(kwarg) in (int, float) for kwarg in kwargs.values()):\n",
    "            raise ValueError(\"Argumentai gali būti tik skaičiai\")\n",
    "        elif not all(arg > 0 for arg in args) \\\n",
    "                or not all(kwarg > 0 for kwarg in kwargs.values()):\n",
    "            raise ValueError('Skaičiai turi būti visi teigiami')\n",
    "        else:\n",
    "            return funkcija(*args, **kwargs)\n",
    "    return wrapper\n",
    "\n",
    "@tikrinti_teigiamus\n",
    "def sudauginti_ir_prideti_kwargus(*args, **kwargs):\n",
    "    multiplied = 1\n",
    "    for number in args:\n",
    "        multiplied *= number\n",
    "    if kwargs:\n",
    "        for kwarg in kwargs.values():\n",
    "            multiplied += kwarg\n",
    "    return multiplied\n",
    "\n",
    "print(sudauginti_ir_prideti_kwargus(*skaiciai, **{'bulvės': 69, 'kečupo': 11}))"
   ]
  },
  {
   "cell_type": "markdown",
   "metadata": {},
   "source": [
    "## klasės dekoratoriai"
   ]
  },
  {
   "cell_type": "code",
   "execution_count": 46,
   "metadata": {},
   "outputs": [
    {
     "name": "stdout",
     "output_type": "stream",
     "text": [
      "Petras Jonaitis\n",
      "einu\n",
      "einu\n",
      "True False\n",
      "True\n"
     ]
    }
   ],
   "source": [
    "class Zmogus:\n",
    "    gyvas = True\n",
    "\n",
    "    def __init__(self, vardas:str, pavarde:str) -> None:\n",
    "        self.vardas = vardas\n",
    "        self.pavarde = pavarde\n",
    "\n",
    "    @property\n",
    "    def pilnas_vardas(self) -> str:\n",
    "        return f\"{self.vardas} {self.pavarde}\"\n",
    "    \n",
    "    def __str__(self) -> str:\n",
    "        return self.pilnas_vardas\n",
    "    \n",
    "    @staticmethod\n",
    "    def eiti():\n",
    "        print(\"einu\")\n",
    "\n",
    "    @classmethod\n",
    "    @property\n",
    "    def nemirtingas(cls):\n",
    "        return cls.gyvas\n",
    "\n",
    "petras = Zmogus(\"Petras\", \"Jonaitis\")\n",
    "print(petras)\n",
    "petras.eiti()\n",
    "Zmogus.eiti()\n",
    "petras.gyvas = False\n",
    "print(petras.nemirtingas, petras.gyvas)\n",
    "print(Zmogus.nemirtingas)"
   ]
  },
  {
   "cell_type": "markdown",
   "metadata": {},
   "source": [
    " ## dekoratorių dokumentavimas"
   ]
  },
  {
   "cell_type": "markdown",
   "metadata": {},
   "source": [
    "## dekoratoriai su argumentais"
   ]
  },
  {
   "cell_type": "code",
   "execution_count": null,
   "metadata": {},
   "outputs": [],
   "source": []
  }
 ],
 "metadata": {
  "kernelspec": {
   "display_name": "venv",
   "language": "python",
   "name": "python3"
  },
  "language_info": {
   "codemirror_mode": {
    "name": "ipython",
    "version": 3
   },
   "file_extension": ".py",
   "mimetype": "text/x-python",
   "name": "python",
   "nbconvert_exporter": "python",
   "pygments_lexer": "ipython3",
   "version": "3.10.12"
  },
  "orig_nbformat": 4
 },
 "nbformat": 4,
 "nbformat_minor": 2
}
