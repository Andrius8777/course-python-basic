{
 "cells": [
  {
   "cell_type": "markdown",
   "metadata": {},
   "source": [
    "## pagalbines listu funkcijos"
   ]
  },
  {
   "cell_type": "code",
   "execution_count": 86,
   "metadata": {},
   "outputs": [],
   "source": [
    "from functools import reduce\n",
    "\n",
    "skaiciai = [7, 4, 11, 4, -17, 2, 4, 6, 9, 7, 2, 4, 2, 6, 4, 12, -3, 15, 2, 2, 27]\n",
    "suma = lambda pirmas, antras: pirmas + antras"
   ]
  },
  {
   "cell_type": "code",
   "execution_count": 87,
   "metadata": {},
   "outputs": [],
   "source": [
    "def suma2(pirmas, antras):\n",
    "    return pirmas + antras"
   ]
  },
  {
   "cell_type": "code",
   "execution_count": 88,
   "metadata": {},
   "outputs": [
    {
     "data": {
      "text/plain": [
       "11"
      ]
     },
     "execution_count": 88,
     "metadata": {},
     "output_type": "execute_result"
    }
   ],
   "source": [
    "suma2(7, 4)"
   ]
  },
  {
   "cell_type": "code",
   "execution_count": 89,
   "metadata": {},
   "outputs": [
    {
     "name": "stdout",
     "output_type": "stream",
     "text": [
      "110\n"
     ]
    }
   ],
   "source": [
    "saraso_suma = reduce(suma, skaiciai)\n",
    "print(saraso_suma)"
   ]
  },
  {
   "cell_type": "code",
   "execution_count": 90,
   "metadata": {},
   "outputs": [
    {
     "name": "stdout",
     "output_type": "stream",
     "text": [
      "11\n"
     ]
    }
   ],
   "source": [
    "didziausias = lambda pirmas, antras: pirmas if pirmas > antras else antras\n",
    "print(didziausias(5, 11))"
   ]
  },
  {
   "cell_type": "code",
   "execution_count": 91,
   "metadata": {},
   "outputs": [
    {
     "name": "stdout",
     "output_type": "stream",
     "text": [
      "17\n"
     ]
    }
   ],
   "source": [
    "def didziausias2(pirmas, antras):\n",
    "    if pirmas > antras:\n",
    "        return pirmas\n",
    "    else:\n",
    "        return antras\n",
    "print(didziausias2(17, 9))"
   ]
  },
  {
   "cell_type": "code",
   "execution_count": 92,
   "metadata": {},
   "outputs": [
    {
     "name": "stdout",
     "output_type": "stream",
     "text": [
      "27\n"
     ]
    }
   ],
   "source": [
    "max_skaicius = reduce(didziausias, skaiciai)\n",
    "print(max_skaicius)"
   ]
  },
  {
   "cell_type": "code",
   "execution_count": 93,
   "metadata": {},
   "outputs": [
    {
     "name": "stdout",
     "output_type": "stream",
     "text": [
      "3 odd 8 even\n"
     ]
    }
   ],
   "source": [
    "odd_even = lambda skaicius: 'even' if skaicius % 2 == 0 else 'odd'\n",
    "print(3, odd_even(3), 8, odd_even(8))"
   ]
  },
  {
   "cell_type": "code",
   "execution_count": 94,
   "metadata": {},
   "outputs": [
    {
     "name": "stdout",
     "output_type": "stream",
     "text": [
      "[7, 4, 11, 4, -17, 2, 4, 6, 9, 7, 2, 4, 2, 6, 4, 12, -3, 15, 2, 2, 27]\n",
      "['odd', 'even', 'odd', 'even', 'odd', 'even', 'even', 'even', 'odd', 'odd', 'even', 'even', 'even', 'even', 'even', 'even', 'odd', 'odd', 'even', 'even', 'odd']\n"
     ]
    }
   ],
   "source": [
    "print(skaiciai)\n",
    "print(list(map(odd_even, skaiciai)))"
   ]
  },
  {
   "cell_type": "code",
   "execution_count": 95,
   "metadata": {},
   "outputs": [
    {
     "name": "stdout",
     "output_type": "stream",
     "text": [
      "[1904, 1908, 1912, 1916, 1920, 1924, 1928, 1932, 1936, 1940, 1944, 1948, 1952, 1956, 1960, 1964, 1968, 1972, 1976, 1980, 1984, 1988, 1992, 1996, 2000, 2004, 2008, 2012, 2016, 2020, 2024, 2028, 2032, 2036, 2040, 2044, 2048, 2052, 2056, 2060, 2064, 2068, 2072, 2076, 2080, 2084, 2088, 2092, 2096]\n"
     ]
    }
   ],
   "source": [
    "keliamieji = lambda metai: True if metai % 4 == 0 and metai % 100 != 0 or metai % 400 == 0 else False\n",
    "print(list(filter(keliamieji, range(1900, 2101))))"
   ]
  },
  {
   "cell_type": "code",
   "execution_count": 96,
   "metadata": {},
   "outputs": [
    {
     "data": {
      "text/plain": [
       "110"
      ]
     },
     "execution_count": 96,
     "metadata": {},
     "output_type": "execute_result"
    }
   ],
   "source": [
    "sum(skaiciai)"
   ]
  },
  {
   "cell_type": "code",
   "execution_count": 97,
   "metadata": {},
   "outputs": [
    {
     "data": {
      "text/plain": [
       "-17"
      ]
     },
     "execution_count": 97,
     "metadata": {},
     "output_type": "execute_result"
    }
   ],
   "source": [
    "min(skaiciai)"
   ]
  },
  {
   "cell_type": "code",
   "execution_count": 98,
   "metadata": {},
   "outputs": [
    {
     "data": {
      "text/plain": [
       "27"
      ]
     },
     "execution_count": 98,
     "metadata": {},
     "output_type": "execute_result"
    }
   ],
   "source": [
    "max(skaiciai)"
   ]
  },
  {
   "cell_type": "code",
   "execution_count": 99,
   "metadata": {},
   "outputs": [
    {
     "data": {
      "text/plain": [
       "5.238095238095238"
      ]
     },
     "execution_count": 99,
     "metadata": {},
     "output_type": "execute_result"
    }
   ],
   "source": [
    "from statistics import mean, median, mode\n",
    "mean(skaiciai)"
   ]
  },
  {
   "cell_type": "code",
   "execution_count": 100,
   "metadata": {},
   "outputs": [
    {
     "data": {
      "text/plain": [
       "3.141592653589793"
      ]
     },
     "execution_count": 100,
     "metadata": {},
     "output_type": "execute_result"
    }
   ],
   "source": [
    "from math import pi\n",
    "pi"
   ]
  },
  {
   "cell_type": "code",
   "execution_count": 101,
   "metadata": {},
   "outputs": [
    {
     "data": {
      "text/plain": [
       "4"
      ]
     },
     "execution_count": 101,
     "metadata": {},
     "output_type": "execute_result"
    }
   ],
   "source": [
    "median(skaiciai)"
   ]
  },
  {
   "cell_type": "code",
   "execution_count": 102,
   "metadata": {},
   "outputs": [
    {
     "data": {
      "text/plain": [
       "4"
      ]
     },
     "execution_count": 102,
     "metadata": {},
     "output_type": "execute_result"
    }
   ],
   "source": [
    "mode(skaiciai)"
   ]
  },
  {
   "cell_type": "code",
   "execution_count": 103,
   "metadata": {},
   "outputs": [
    {
     "name": "stdout",
     "output_type": "stream",
     "text": [
      "5 5\n"
     ]
    }
   ],
   "source": [
    "print(skaiciai.count(2), skaiciai.count(4))"
   ]
  },
  {
   "cell_type": "code",
   "execution_count": 108,
   "metadata": {},
   "outputs": [
    {
     "name": "stdout",
     "output_type": "stream",
     "text": [
      "[-17, -3, 2, 2, 2, 2, 2, 4, 4, 4, 4, 4, 6, 6, 7, 7, 9, 11, 12, 15, 27]\n"
     ]
    }
   ],
   "source": [
    "skaiciai.sort()\n",
    "print(skaiciai)"
   ]
  },
  {
   "cell_type": "code",
   "execution_count": 106,
   "metadata": {},
   "outputs": [
    {
     "name": "stdout",
     "output_type": "stream",
     "text": [
      "[27, 15, 12, 11, 9, 7, 7, 6, 6, 4, 4, 4, 4, 4, 2, 2, 2, 2, 2, -3, -17]\n"
     ]
    }
   ],
   "source": [
    "skaiciai.sort(reverse=True)\n",
    "print(skaiciai)"
   ]
  },
  {
   "cell_type": "code",
   "execution_count": 109,
   "metadata": {},
   "outputs": [
    {
     "name": "stdout",
     "output_type": "stream",
     "text": [
      "[2, 2, 2, 2, 2, 4, 4, 4, 4, 4, 6, 6, 12, -17, -3, 7, 7, 9, 11, 15, 27]\n"
     ]
    }
   ],
   "source": [
    "skaiciai.sort(key=odd_even)\n",
    "print(skaiciai)"
   ]
  },
  {
   "cell_type": "code",
   "execution_count": 111,
   "metadata": {},
   "outputs": [
    {
     "name": "stdout",
     "output_type": "stream",
     "text": [
      "[27, 15, 12, 11, 9, 7, 7, 6, 6, 4, 4, 4, 4, 4, 2, 2, 2, 2, 2, -3, -17]\n",
      "[2, 2, 2, 2, 2, 4, 4, 4, 4, 4, 6, 6, 12, -17, -3, 7, 7, 9, 11, 15, 27]\n"
     ]
    }
   ],
   "source": [
    "atbulinis = sorted(skaiciai, reverse=True)\n",
    "print(atbulinis)\n",
    "print(skaiciai)"
   ]
  },
  {
   "cell_type": "code",
   "execution_count": 125,
   "metadata": {},
   "outputs": [
    {
     "name": "stdout",
     "output_type": "stream",
     "text": [
      "[(Ford, Mustang, 1964, 233), (Volkswagen, Golf, 1997, 90), (Tesla, Model 3, 2021, 364), (Tesla, Model S Plaid, 2023, 1100)]\n",
      "[(Tesla, Model S Plaid, 2023, 1100), (Tesla, Model 3, 2021, 364), (Ford, Mustang, 1964, 233), (Volkswagen, Golf, 1997, 90)]\n",
      "Volkswagen Golf 1997, 90hp: 19.51\n",
      "Tesla Model S Plaid 2023, 1100hp: 9.5075\n",
      "Tesla Model 3 2021, 364hp: 12.8425\n",
      "Ford Mustang 1964, 233hp: 14.8767\n"
     ]
    }
   ],
   "source": [
    "class Vehicle():\n",
    "    def __init__(self, make:str, model:str, year:int, hp:int, drag_times=[]) -> None:\n",
    "        self.make = make\n",
    "        self.model = model\n",
    "        self.year = year\n",
    "        self.hp = hp\n",
    "        self.drag_times = drag_times\n",
    "\n",
    "    def __str__(self) -> str:\n",
    "        return f\"{self.make} {self.model} {self.year}, {self.hp}hp\"\n",
    "    \n",
    "    def __repr__(self) -> str:\n",
    "        return f\"({self.make}, {self.model}, {self.year}, {self.hp})\"\n",
    "    \n",
    "    @property\n",
    "    def drag_average(self) -> float:\n",
    "        return mean(self.drag_times)\n",
    "\n",
    "    \n",
    "vehicles = [\n",
    "    Vehicle(\"Volkswagen\", \"Golf\", 1997, 90, [19.11, 20.01, 19.55, 19.37]),\n",
    "    Vehicle(\"Tesla\", \"Model S Plaid\", 2023, 1100, [9.7, 9.66, 9.42, 9.25]),\n",
    "    Vehicle(\"Tesla\", \"Model 3\", 2021, 364, [12.59, 12.66, 12.97, 13.15]),\n",
    "    Vehicle(\"Ford\", \"Mustang\", 1964, 233, [14.55, 14.75, 15.33]),\n",
    "]\n",
    "\n",
    "pagal_metus = sorted(vehicles, key=lambda vehicle: vehicle.year)\n",
    "print(pagal_metus)\n",
    "pagal_draga = sorted(vehicles, key=lambda vehicles: vehicles.drag_average)\n",
    "print(pagal_draga)\n",
    "for vehicle in vehicles:\n",
    "    print(f\"{vehicle}: {vehicle.drag_average:g}\")"
   ]
  },
  {
   "cell_type": "code",
   "execution_count": 126,
   "metadata": {},
   "outputs": [
    {
     "name": "stdout",
     "output_type": "stream",
     "text": [
      "[(Volkswagen, Golf, 1997, 90), (Ford, Mustang, 1964, 233), (Tesla, Model 3, 2021, 364), (Tesla, Model S Plaid, 2023, 1100)]\n"
     ]
    }
   ],
   "source": [
    "from operator import attrgetter\n",
    "pagal_hp = sorted(vehicles, key=attrgetter('hp'))\n",
    "print(pagal_hp)"
   ]
  },
  {
   "cell_type": "code",
   "execution_count": 127,
   "metadata": {},
   "outputs": [
    {
     "name": "stdout",
     "output_type": "stream",
     "text": [
      "[(Ford, Mustang, 1964, 233), (Tesla, Model 3, 2021, 364), (Tesla, Model S Plaid, 2023, 1100), (Volkswagen, Golf, 1997, 90)]\n"
     ]
    }
   ],
   "source": [
    "pagal_pavadinima = sorted(vehicles, key=attrgetter('make', 'model'))\n",
    "print(pagal_pavadinima)"
   ]
  },
  {
   "cell_type": "markdown",
   "metadata": {},
   "source": [
    "## list comprehension"
   ]
  },
  {
   "cell_type": "markdown",
   "metadata": {},
   "source": [
    "## iteratoriai"
   ]
  },
  {
   "cell_type": "markdown",
   "metadata": {},
   "source": [
    "## generatoriai"
   ]
  },
  {
   "cell_type": "code",
   "execution_count": null,
   "metadata": {},
   "outputs": [],
   "source": []
  }
 ],
 "metadata": {
  "kernelspec": {
   "display_name": "venv",
   "language": "python",
   "name": "python3"
  },
  "language_info": {
   "codemirror_mode": {
    "name": "ipython",
    "version": 3
   },
   "file_extension": ".py",
   "mimetype": "text/x-python",
   "name": "python",
   "nbconvert_exporter": "python",
   "pygments_lexer": "ipython3",
   "version": "3.10.12"
  },
  "orig_nbformat": 4
 },
 "nbformat": 4,
 "nbformat_minor": 2
}
