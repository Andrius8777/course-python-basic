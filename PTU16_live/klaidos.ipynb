{
 "cells": [
  {
   "cell_type": "code",
   "execution_count": 6,
   "metadata": {},
   "outputs": [
    {
     "name": "stdout",
     "output_type": "stream",
     "text": [
      "Klaida!\n"
     ]
    }
   ],
   "source": [
    "try:\n",
    "    nesamone = 10 / 0\n",
    "except:\n",
    "    print(\"Klaida!\")\n",
    "else:\n",
    "    print(nesamone)"
   ]
  },
  {
   "cell_type": "code",
   "execution_count": 10,
   "metadata": {},
   "outputs": [
    {
     "name": "stdout",
     "output_type": "stream",
     "text": [
      "Klaida!\n"
     ]
    }
   ],
   "source": [
    "try:\n",
    "    nesamone = 10 / 0\n",
    "except ZeroDivisionError:\n",
    "    print(\"Klaida!\")\n",
    "else:\n",
    "    print(nesamone)"
   ]
  },
  {
   "cell_type": "code",
   "execution_count": 9,
   "metadata": {},
   "outputs": [
    {
     "name": "stdout",
     "output_type": "stream",
     "text": [
      "0.0\n"
     ]
    }
   ],
   "source": [
    "from math import inf\n",
    "try:\n",
    "    nesamone = 1 / inf\n",
    "except ZeroDivisionError:\n",
    "    print(\"Klaida!\")\n",
    "else:\n",
    "    print(nesamone)"
   ]
  },
  {
   "cell_type": "code",
   "execution_count": 15,
   "metadata": {},
   "outputs": [
    {
     "name": "stdout",
     "output_type": "stream",
     "text": [
      "2.5\n",
      "viskas. done.\n"
     ]
    }
   ],
   "source": [
    "try:\n",
    "    padalinta = 5 / 2\n",
    "except ZeroDivisionError:\n",
    "    pass\n",
    "else:\n",
    "    print(padalinta)\n",
    "finally:\n",
    "    print(\"viskas. done.\")"
   ]
  },
  {
   "cell_type": "code",
   "execution_count": 21,
   "metadata": {},
   "outputs": [
    {
     "name": "stdout",
     "output_type": "stream",
     "text": [
      "Klaida: dalinti is 0 negalima.\n"
     ]
    }
   ],
   "source": [
    "try:\n",
    "    skaicius = int(input(\"Duok skaiciu: \"))\n",
    "    padalinta = 10 / skaicius\n",
    "except ZeroDivisionError:\n",
    "    print(\"Klaida: dalinti is 0 negalima.\")\n",
    "except ValueError:\n",
    "    print(\"Ivestas ne skaicius\")\n",
    "except:\n",
    "    print(\"oops\")\n",
    "else:\n",
    "    print(padalinta)"
   ]
  },
  {
   "cell_type": "code",
   "execution_count": 24,
   "metadata": {},
   "outputs": [
    {
     "name": "stdout",
     "output_type": "stream",
     "text": [
      "<class 'ValueError'>\n"
     ]
    }
   ],
   "source": [
    "try:\n",
    "    skaicius = int(input(\"Duok skaiciu: \"))\n",
    "    padalinta = 10 / skaicius\n",
    "except Exception as error:\n",
    "    print(error.__class__)\n",
    "else:\n",
    "    print(padalinta)"
   ]
  },
  {
   "cell_type": "code",
   "execution_count": 27,
   "metadata": {},
   "outputs": [
    {
     "name": "stdout",
     "output_type": "stream",
     "text": [
      "1.4285714285714286\n"
     ]
    }
   ],
   "source": [
    "skaicius = input(\"Duok skaiciu: \")\n",
    "\n",
    "if skaicius.isdigit():\n",
    "    skaicius = int(skaicius)\n",
    "    if skaicius == 0:\n",
    "        print(\"Dalinti is nulio negalima\")\n",
    "    else:\n",
    "        padalinta = 10 / skaicius\n",
    "        print(padalinta)\n",
    "else:\n",
    "    print(\"Ivestas ne skaicius\")"
   ]
  }
 ],
 "metadata": {
  "kernelspec": {
   "display_name": "venv",
   "language": "python",
   "name": "python3"
  },
  "language_info": {
   "codemirror_mode": {
    "name": "ipython",
    "version": 3
   },
   "file_extension": ".py",
   "mimetype": "text/x-python",
   "name": "python",
   "nbconvert_exporter": "python",
   "pygments_lexer": "ipython3",
   "version": "3.10.12"
  },
  "orig_nbformat": 4
 },
 "nbformat": 4,
 "nbformat_minor": 2
}
