{
 "cells": [
  {
   "cell_type": "code",
   "execution_count": 1,
   "metadata": {},
   "outputs": [],
   "source": [
    "from datetime import datetime"
   ]
  },
  {
   "cell_type": "code",
   "execution_count": 11,
   "metadata": {},
   "outputs": [
    {
     "name": "stdout",
     "output_type": "stream",
     "text": [
      "1983-03-19 17:35:17\n"
     ]
    }
   ],
   "source": [
    "gimtalaikis = datetime(1983, 3, 19, 17, 35, 17)\n",
    "print(gimtalaikis)"
   ]
  },
  {
   "cell_type": "code",
   "execution_count": 12,
   "metadata": {},
   "outputs": [
    {
     "data": {
      "text/plain": [
       "datetime.datetime"
      ]
     },
     "execution_count": 12,
     "metadata": {},
     "output_type": "execute_result"
    }
   ],
   "source": [
    "type(gimtalaikis)"
   ]
  },
  {
   "cell_type": "code",
   "execution_count": 13,
   "metadata": {},
   "outputs": [
    {
     "name": "stdout",
     "output_type": "stream",
     "text": [
      "2023-08-25 11:22:19.377434\n"
     ]
    }
   ],
   "source": [
    "dabar = datetime.now()\n",
    "print(dabar)"
   ]
  },
  {
   "cell_type": "code",
   "execution_count": 14,
   "metadata": {},
   "outputs": [
    {
     "name": "stdout",
     "output_type": "stream",
     "text": [
      "1983-03-19\n"
     ]
    }
   ],
   "source": [
    "from datetime import date\n",
    "\n",
    "gimtadienis = date(1983, 3, 19)\n",
    "print(gimtadienis)"
   ]
  },
  {
   "cell_type": "code",
   "execution_count": 17,
   "metadata": {},
   "outputs": [
    {
     "name": "stdout",
     "output_type": "stream",
     "text": [
      "1983-03-19\n"
     ]
    }
   ],
   "source": [
    "print(gimtalaikis.date())"
   ]
  },
  {
   "cell_type": "code",
   "execution_count": 18,
   "metadata": {},
   "outputs": [
    {
     "name": "stdout",
     "output_type": "stream",
     "text": [
      "17:35:17\n"
     ]
    }
   ],
   "source": [
    "print(gimtalaikis.time())"
   ]
  },
  {
   "cell_type": "code",
   "execution_count": 21,
   "metadata": {},
   "outputs": [
    {
     "name": "stdout",
     "output_type": "stream",
     "text": [
      "1983-03-19 17:35:17\n",
      "2023-08-25 11:22:19.377434\n",
      "14768 days, 17:47:02.377434\n"
     ]
    }
   ],
   "source": [
    "amzius = dabar - gimtalaikis\n",
    "print(gimtalaikis, dabar, amzius, sep=\"\\n\")"
   ]
  },
  {
   "cell_type": "code",
   "execution_count": 22,
   "metadata": {},
   "outputs": [
    {
     "name": "stdout",
     "output_type": "stream",
     "text": [
      "2023-08-30\n"
     ]
    }
   ],
   "source": [
    "from datetime import timedelta\n",
    "\n",
    "po_5_dienu = date.today() + timedelta(days=5)\n",
    "print(po_5_dienu)"
   ]
  },
  {
   "cell_type": "code",
   "execution_count": 23,
   "metadata": {},
   "outputs": [
    {
     "name": "stdout",
     "output_type": "stream",
     "text": [
      "2023-08-25 12:26:52.715703\n"
     ]
    }
   ],
   "source": [
    "uz_valandos = datetime.now() + timedelta(hours=1)\n",
    "print(uz_valandos)"
   ]
  },
  {
   "cell_type": "code",
   "execution_count": 24,
   "metadata": {},
   "outputs": [
    {
     "name": "stdout",
     "output_type": "stream",
     "text": [
      "2023-08-25 09:27:46.976283\n"
     ]
    }
   ],
   "source": [
    "uz_valandos_utc = datetime.utcnow() + timedelta(hours=1)\n",
    "print(uz_valandos_utc)"
   ]
  },
  {
   "cell_type": "code",
   "execution_count": 31,
   "metadata": {},
   "outputs": [
    {
     "name": "stdout",
     "output_type": "stream",
     "text": [
      "40\n"
     ]
    }
   ],
   "source": [
    "amzius_dienomis = date.today() - gimtadienis\n",
    "print(amzius_dienomis.days // 365)"
   ]
  },
  {
   "cell_type": "code",
   "execution_count": 51,
   "metadata": {},
   "outputs": [
    {
     "name": "stdout",
     "output_type": "stream",
     "text": [
      "1 day, 12:15:33\n",
      "12\n",
      "15\n",
      "33\n",
      "['12', '15', '33']\n"
     ]
    }
   ],
   "source": [
    "simtas_val = timedelta(hours=36, minutes=15, seconds=33)\n",
    "print(simtas_val)\n",
    "# print(simtas_val.days)\n",
    "valandos = simtas_val.seconds // 60 // 60\n",
    "print(valandos)\n",
    "minutes = (simtas_val.seconds - valandos * 60 ** 2) // 60\n",
    "print(minutes)\n",
    "sekundes = (simtas_val.seconds - valandos * 60 ** 2 - minutes * 60)\n",
    "print(sekundes)\n",
    "print(str(simtas_val).split(', ')[1].split(':'))"
   ]
  },
  {
   "cell_type": "code",
   "execution_count": 62,
   "metadata": {},
   "outputs": [
    {
     "name": "stdout",
     "output_type": "stream",
     "text": [
      "2000-01-01 00:00:00\n",
      "nuo to praėjo 8637 dienų\n"
     ]
    }
   ],
   "source": [
    "ivesta_data = \"2000-01-01\"\n",
    "datos_formatas = \"%Y-%m-%d\"\n",
    "sukramtyta_data = datetime.strptime(ivesta_data, datos_formatas)\n",
    "print(sukramtyta_data)\n",
    "print(f\"nuo to praėjo {(date.today() - sukramtyta_data.date()).days} dienų\")"
   ]
  },
  {
   "cell_type": "code",
   "execution_count": 70,
   "metadata": {},
   "outputs": [
    {
     "name": "stdout",
     "output_type": "stream",
     "text": [
      "1983 March 19, Saturday\n",
      "Sat Mar 19 17:35:17 1983\n"
     ]
    }
   ],
   "source": [
    "formatas = \"%Y %B %d, %A\"\n",
    "print(datetime.strftime(gimtalaikis, formatas))\n",
    "print(datetime.strftime(gimtalaikis, \"%c\"))"
   ]
  },
  {
   "cell_type": "code",
   "execution_count": 75,
   "metadata": {},
   "outputs": [
    {
     "name": "stdout",
     "output_type": "stream",
     "text": [
      "time.struct_time(tm_year=1983, tm_mon=3, tm_mday=19, tm_hour=17, tm_min=35, tm_sec=17, tm_wday=5, tm_yday=78, tm_isdst=-1)\n",
      "416932517.0\n"
     ]
    }
   ],
   "source": [
    "import time\n",
    "\n",
    "gimtalaikio_tuple = gimtalaikis.timetuple()\n",
    "print(gimtalaikio_tuple)\n",
    "gimtalaikio_timestamp = time.mktime(gimtalaikio_tuple)\n",
    "print(gimtalaikio_timestamp)"
   ]
  },
  {
   "cell_type": "code",
   "execution_count": 85,
   "metadata": {},
   "outputs": [
    {
     "name": "stdout",
     "output_type": "stream",
     "text": [
      "2025-09-02 07:05:44.311351\n"
     ]
    }
   ],
   "source": [
    "mistinis_laikas = 1756785944.3113514\n",
    "mistine_data = datetime.fromtimestamp(mistinis_laikas)\n",
    "print(mistine_data)"
   ]
  }
 ],
 "metadata": {
  "kernelspec": {
   "display_name": "venv",
   "language": "python",
   "name": "python3"
  },
  "language_info": {
   "codemirror_mode": {
    "name": "ipython",
    "version": 3
   },
   "file_extension": ".py",
   "mimetype": "text/x-python",
   "name": "python",
   "nbconvert_exporter": "python",
   "pygments_lexer": "ipython3",
   "version": "3.10.12"
  },
  "orig_nbformat": 4
 },
 "nbformat": 4,
 "nbformat_minor": 2
}
