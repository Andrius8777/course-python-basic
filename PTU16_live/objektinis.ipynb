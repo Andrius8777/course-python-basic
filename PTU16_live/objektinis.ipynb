{
 "cells": [
  {
   "cell_type": "markdown",
   "metadata": {},
   "source": [
    "## Objektai, klasės"
   ]
  },
  {
   "cell_type": "code",
   "execution_count": 195,
   "metadata": {},
   "outputs": [],
   "source": [
    "class Automobilis:\n",
    "    def vaziuoti(self):\n",
    "        print('Vaziuoju')\n",
    "\n",
    "    def pypseti(self, zinute=\"pyyp\", kiekis=1):\n",
    "        print(zinute * kiekis)\n",
    "\n",
    "    def __init__(self, marke, modelis, *args, metai=2023, spalva='balta', **kwargs):\n",
    "        self.marke = marke\n",
    "        self.modelis = modelis\n",
    "        self.metai = metai\n",
    "        self.spalva = spalva\n",
    "        self.papildomi = args\n",
    "        for attribute, value in kwargs.items():\n",
    "            setattr(self, attribute, value)\n",
    "\n",
    "    def __str__(self) -> str:\n",
    "        return f\"{self.marke} {self.modelis} {self.metai}, {self.spalva}\"\n",
    "    \n",
    "    def __repr__(self) -> str:\n",
    "        return f\"({self.marke}, {self.modelis}, {self.metai}, {self.spalva})\"\n",
    "\n",
    "    def spausdinti_papildomus(self):\n",
    "        print(\", \".join(self.papildomi))\n"
   ]
  },
  {
   "cell_type": "code",
   "execution_count": 196,
   "metadata": {},
   "outputs": [
    {
     "name": "stdout",
     "output_type": "stream",
     "text": [
      "Ford Escort 1979\n",
      "surudijes, dar rieda\n",
      "dyzelis\n"
     ]
    }
   ],
   "source": [
    "kibiriukas = Automobilis(\n",
    "    \"Ford\", \"Escort\", \"surudijes\", \"dar rieda\", \n",
    "    metai=1979, kuras='dyzelis'\n",
    ")\n",
    "# kibiriukas.metai = 1979\n",
    "kibiriukas.spalva = 'Surudijusi balta'\n",
    "\n",
    "print(kibiriukas.marke, kibiriukas.modelis, kibiriukas.metai)\n",
    "kibiriukas.spausdinti_papildomus()\n",
    "print(kibiriukas.kuras)"
   ]
  },
  {
   "cell_type": "code",
   "execution_count": 119,
   "metadata": {},
   "outputs": [
    {
     "name": "stdout",
     "output_type": "stream",
     "text": [
      "1987\n"
     ]
    }
   ],
   "source": [
    "fordukas = kibiriukas\n",
    "fordukas.metai = 1987\n",
    "print(kibiriukas.metai)"
   ]
  },
  {
   "cell_type": "code",
   "execution_count": 120,
   "metadata": {},
   "outputs": [
    {
     "name": "stdout",
     "output_type": "stream",
     "text": [
      "Ford Escort 1987, Surudijusi balta\n",
      "Ford Escort 1987, Surudijusi balta\n"
     ]
    }
   ],
   "source": [
    "print(fordukas)\n",
    "print(kibiriukas)"
   ]
  },
  {
   "cell_type": "code",
   "execution_count": 121,
   "metadata": {},
   "outputs": [
    {
     "name": "stdout",
     "output_type": "stream",
     "text": [
      "ZAZ-69, tarybine zalia\n"
     ]
    }
   ],
   "source": [
    "zaziukas = Automobilis('ZAZ', '69')\n",
    "zaziukas.metai = 1969\n",
    "zaziukas.spalva = 'tarybine zalia'\n",
    "print(f\"{zaziukas.marke}-{zaziukas.modelis}, {zaziukas.spalva}\")"
   ]
  },
  {
   "cell_type": "code",
   "execution_count": 197,
   "metadata": {},
   "outputs": [
    {
     "name": "stdout",
     "output_type": "stream",
     "text": [
      "Tesla Model 3 2023 balta\n"
     ]
    }
   ],
   "source": [
    "tesla_3 = Automobilis('Tesla', 'Model 3')\n",
    "print(tesla_3.marke, tesla_3.modelis, tesla_3.metai, tesla_3.spalva)"
   ]
  },
  {
   "cell_type": "code",
   "execution_count": 123,
   "metadata": {},
   "outputs": [
    {
     "name": "stdout",
     "output_type": "stream",
     "text": [
      "Tesla Elektrinis\n"
     ]
    }
   ],
   "source": [
    "tesla_3.tipas = 'Elektrinis'\n",
    "print(tesla_3.marke, tesla_3.tipas)"
   ]
  },
  {
   "cell_type": "code",
   "execution_count": 124,
   "metadata": {},
   "outputs": [
    {
     "data": {
      "text/plain": [
       "True"
      ]
     },
     "execution_count": 124,
     "metadata": {},
     "output_type": "execute_result"
    }
   ],
   "source": [
    "hasattr(tesla_3, 'tipas')"
   ]
  },
  {
   "cell_type": "code",
   "execution_count": 125,
   "metadata": {},
   "outputs": [
    {
     "data": {
      "text/plain": [
       "False"
      ]
     },
     "execution_count": 125,
     "metadata": {},
     "output_type": "execute_result"
    }
   ],
   "source": [
    "hasattr(zaziukas, 'tipas')"
   ]
  },
  {
   "cell_type": "code",
   "execution_count": 126,
   "metadata": {},
   "outputs": [
    {
     "name": "stdout",
     "output_type": "stream",
     "text": [
      "pyyppyyppyyppyyppyyppyyppyyp\n"
     ]
    }
   ],
   "source": [
    "tesla_3.pypseti(kiekis=7)"
   ]
  },
  {
   "cell_type": "code",
   "execution_count": 127,
   "metadata": {},
   "outputs": [
    {
     "name": "stdout",
     "output_type": "stream",
     "text": [
      "pyyp\n"
     ]
    }
   ],
   "source": [
    "Automobilis.pypseti(tesla_3)"
   ]
  },
  {
   "cell_type": "code",
   "execution_count": 128,
   "metadata": {},
   "outputs": [
    {
     "name": "stdout",
     "output_type": "stream",
     "text": [
      "Tesla Model 3 2023, balta\n",
      "Ford Escort 1987, Surudijusi balta\n",
      "ZAZ 69 1969, tarybine zalia\n",
      "Tesla Model X 2023, Juodas\n"
     ]
    }
   ],
   "source": [
    "automobiliai = [tesla_3, fordukas, zaziukas]\n",
    "automobiliai.append(Automobilis(\"Tesla\", \"Model X\", spalva=\"Juodas\"))\n",
    "\n",
    "for automobilis in automobiliai:\n",
    "    print(automobilis)"
   ]
  },
  {
   "cell_type": "code",
   "execution_count": 129,
   "metadata": {},
   "outputs": [
    {
     "name": "stdout",
     "output_type": "stream",
     "text": [
      "[(Tesla, Model 3, 2023, balta), (Ford, Escort, 1987, Surudijusi balta), (ZAZ, 69, 1969, tarybine zalia), (Tesla, Model X, 2023, Juodas)]\n"
     ]
    }
   ],
   "source": [
    "print(automobiliai)"
   ]
  },
  {
   "cell_type": "code",
   "execution_count": 130,
   "metadata": {},
   "outputs": [
    {
     "name": "stdout",
     "output_type": "stream",
     "text": [
      "Tesla Model X 2023, Juodas\n"
     ]
    }
   ],
   "source": [
    "print(automobiliai[3])"
   ]
  },
  {
   "cell_type": "code",
   "execution_count": 131,
   "metadata": {},
   "outputs": [
    {
     "data": {
      "text/plain": [
       "{'Vytautas': (ZAZ, 69, 1969, tarybine zalia),\n",
       " 'Deivida': (Tesla, Model 3, 2023, balta),\n",
       " 'Destytojas': (Fiat-Dethleffs, A5881, 2023, margas)}"
      ]
     },
     "execution_count": 131,
     "metadata": {},
     "output_type": "execute_result"
    }
   ],
   "source": [
    "privatizuoti = {\n",
    "    'Vytautas': zaziukas,\n",
    "    'Deivida': tesla_3,\n",
    "    'Destytojas': Automobilis(\n",
    "        'Fiat-Dethleffs', 'A5881', 'kemperis', 2002, \n",
    "        spalva='margas', kuras='dyzelis',\n",
    "    )\n",
    "}\n",
    "\n",
    "privatizuoti"
   ]
  },
  {
   "cell_type": "markdown",
   "metadata": {},
   "source": [
    "## Inkapsuliacija"
   ]
  },
  {
   "cell_type": "code",
   "execution_count": 180,
   "metadata": {},
   "outputs": [],
   "source": [
    "class Automobilis:\n",
    "    def __init__(self, marke, modelis, rida=0, **kwargs) -> None:\n",
    "        self.marke = marke\n",
    "        self.modelis = modelis\n",
    "        self.__rida = rida\n",
    "        for savybe, reiksme in kwargs.items():\n",
    "            setattr(self, savybe, reiksme)\n",
    "\n",
    "    def vaziuoti(self, atstumas):\n",
    "        print(f'Vaziuojam {abs(atstumas)} km')\n",
    "        self.__rida += abs(atstumas)\n",
    "\n",
    "    @property\n",
    "    def rida(self):\n",
    "        return self.__rida\n",
    "    \n",
    "    def __str__(self) -> str:\n",
    "        return f\"{self.marke} {self.modelis}\"\n",
    "    \n",
    "    def __atsukti_rida(self, naujas_kilometrazas):\n",
    "        self.__rida = naujas_kilometrazas\n",
    "\n",
    "    def keisti_varikli(self):\n",
    "        print(f'Variklis pakeistas. Senas, nuvažiavęs {self.rida} km, išmestas.')\n",
    "        self.__atsukti_rida(0)\n",
    "\n"
   ]
  },
  {
   "cell_type": "code",
   "execution_count": 181,
   "metadata": {},
   "outputs": [
    {
     "name": "stdout",
     "output_type": "stream",
     "text": [
      "Tesla Model Y 2023\n",
      "Variklis pakeistas. Senas, nuvažiavęs 312 km, išmestas.\n",
      "Vaziuojam 1 km\n",
      "1\n"
     ]
    }
   ],
   "source": [
    "tesliukas = Automobilis(\"Tesla\", \"Model Y\", rida=312, metai=2023)\n",
    "print(tesliukas, tesliukas.metai)\n",
    "tesliukas.keisti_varikli()\n",
    "tesliukas.vaziuoti(1)\n",
    "print(tesliukas.rida)"
   ]
  },
  {
   "cell_type": "markdown",
   "metadata": {},
   "source": [
    "## Paveldėjimas"
   ]
  },
  {
   "cell_type": "code",
   "execution_count": 198,
   "metadata": {},
   "outputs": [],
   "source": [
    "class Elektromobilis(Automobilis):\n",
    "    kuro_tipas = 'elektra'\n",
    "\n",
    "    def krauti_elektra(self):\n",
    "        print('kraunamės...')\n"
   ]
  },
  {
   "cell_type": "code",
   "execution_count": 199,
   "metadata": {},
   "outputs": [
    {
     "name": "stdout",
     "output_type": "stream",
     "text": [
      "Tesla Model Y 2023, balta 2023 elektra\n",
      "kraunamės...\n",
      "312\n"
     ]
    }
   ],
   "source": [
    "tesliukas = Elektromobilis(\"Tesla\", \"Model Y\", rida=312, metai=2023)\n",
    "print(tesliukas, tesliukas.metai, tesliukas.kuro_tipas)\n",
    "tesliukas.krauti_elektra()\n",
    "print(tesliukas.rida)"
   ]
  },
  {
   "cell_type": "code",
   "execution_count": 206,
   "metadata": {},
   "outputs": [
    {
     "name": "stdout",
     "output_type": "stream",
     "text": [
      "Tesla Model Y 2023, balta True\n",
      "Ford Escort 1979, Surudijusi balta False\n",
      "Ford Escort 1979, Surudijusi balta True\n",
      "Tesla Model Y 2023, balta True\n",
      "True\n",
      "False\n"
     ]
    }
   ],
   "source": [
    "print(tesliukas, isinstance(tesliukas, Elektromobilis))\n",
    "print(kibiriukas, isinstance(kibiriukas, Elektromobilis))\n",
    "print(kibiriukas, isinstance(kibiriukas, Automobilis))\n",
    "print(tesliukas, isinstance(tesliukas, Automobilis))\n",
    "\n",
    "print(type(tesliukas) == Elektromobilis)\n",
    "print(type(tesliukas) == Automobilis)"
   ]
  },
  {
   "cell_type": "markdown",
   "metadata": {},
   "source": [
    "## Abstrakcija"
   ]
  },
  {
   "cell_type": "code",
   "execution_count": 217,
   "metadata": {},
   "outputs": [
    {
     "name": "stdout",
     "output_type": "stream",
     "text": [
      "Volkswagen Golf 2023 pilka\n",
      "stoviu\n",
      "važiuoju 10 km/h greičiu\n",
      "važiuoju 20 km/h greičiu\n",
      "važiuoju 40 km/h greičiu\n",
      "važiuoju 60 km/h greičiu\n",
      "važiuoju 160 km/h greičiu\n",
      "važiuoju 180 km/h greičiu\n",
      "važiuoju 200 km/h greičiu\n",
      "važiuoju 200 km/h greičiu\n",
      "važiuoju 100 km/h greičiu\n",
      "važiuoju 50 km/h greičiu\n",
      "stoviu\n",
      "važiuoju 10 km/h greičiu atgal\n",
      "stoviu\n"
     ]
    }
   ],
   "source": [
    "class Automobilis:\n",
    "    def __init__(self, marke, modelis, metai=2023, spalva='pilka', **kwargs):\n",
    "        self.marke = marke\n",
    "        self.modelis = modelis\n",
    "        self.metai = metai\n",
    "        self.spalva = spalva\n",
    "        self.max_greitis = 200\n",
    "        for key, value in kwargs.items():\n",
    "            setattr(self, key, value)\n",
    "        self.__greitis = 0\n",
    "\n",
    "    # šį privatų abstraktų metodą panaudosime keliose vietose\n",
    "    def __keisti_greiti(self, greitis):\n",
    "        if greitis > self.max_greitis:\n",
    "            greitis = self.max_greitis\n",
    "        if greitis < -10:\n",
    "            greitis = -10\n",
    "        self.__greitis = greitis\n",
    "        return greitis\n",
    "\n",
    "    # šį viešą abstraktų metodą irgi panaudosime keliose vietose\n",
    "    def vaziuoti(self):\n",
    "        greitis = self.__greitis\n",
    "        if greitis > 0:\n",
    "            print(f\"važiuoju {greitis} km/h greičiu\")\n",
    "        elif greitis < 0:\n",
    "            print(f\"važiuoju {abs(greitis)} km/h greičiu atgal\")\n",
    "        else:\n",
    "            print(\"stoviu\")\n",
    "\n",
    "    def didinti_greiti(self, pagreitis=10):\n",
    "        # panaudojame privatų metodą maksimalaus greičio ribojimui\n",
    "        self.__keisti_greiti(self.__greitis + pagreitis)\n",
    "        # panaudojame vieša metodą važiavimo situacijai išvesti\n",
    "        self.vaziuoti()\n",
    "\n",
    "    def mazinti_greiti(self, pagreitis=10):\n",
    "        # panaudojame privatų metodą maksimalaus greičio ribojimui\n",
    "        self.__keisti_greiti(self.__greitis - pagreitis)\n",
    "        # panaudojame vieša metodą važiavimo situacijai išvesti\n",
    "        self.vaziuoti()\n",
    "\n",
    "    def __str__(self) -> str:\n",
    "        return f\"{self.marke} {self.modelis}\"\n",
    "    \n",
    "\n",
    "guolis = Automobilis(\"Volkswagen\", \"Golf\")\n",
    "print(guolis.marke, guolis.modelis, guolis.metai, guolis.spalva)\n",
    "guolis.vaziuoti()\n",
    "guolis.didinti_greiti()\n",
    "guolis.didinti_greiti()\n",
    "guolis.didinti_greiti(20)\n",
    "guolis.didinti_greiti(20)\n",
    "guolis.didinti_greiti(100)\n",
    "guolis.didinti_greiti(20)\n",
    "guolis.didinti_greiti(20)\n",
    "guolis.didinti_greiti(100)\n",
    "guolis.mazinti_greiti(100)\n",
    "guolis.mazinti_greiti(50)\n",
    "guolis.mazinti_greiti(50)\n",
    "guolis.mazinti_greiti()\n",
    "guolis.didinti_greiti()"
   ]
  },
  {
   "cell_type": "code",
   "execution_count": 224,
   "metadata": {},
   "outputs": [
    {
     "name": "stdout",
     "output_type": "stream",
     "text": [
      "Tesla Model 3 elektra 250\n",
      "Ford F150 dyzelis\n",
      "važiuoju 10 km/h greičiu\n",
      "stoviu\n"
     ]
    }
   ],
   "source": [
    "class Elektromobilis(Automobilis):\n",
    "    kuro_tipas = 'elektra'\n",
    "    variklis = 'elektrinis'\n",
    "\n",
    "class Dyzelinis(Automobilis):\n",
    "    kuro_tipas = 'dyzelis'\n",
    "\n",
    "tesliukas = Elektromobilis(\"Tesla\", \"Model 3\", max_greitis=250)\n",
    "print(tesliukas, tesliukas.kuro_tipas, tesliukas.max_greitis)\n",
    "fordukas = Dyzelinis(\"Ford\", \"F150\", variklis=\"5.2 JTD\")\n",
    "print(fordukas, fordukas.kuro_tipas)\n",
    "\n",
    "fordukas.didinti_greiti()\n",
    "fordukas.mazinti_greiti()"
   ]
  },
  {
   "cell_type": "code",
   "execution_count": 225,
   "metadata": {},
   "outputs": [
    {
     "name": "stdout",
     "output_type": "stream",
     "text": [
      "Opel Astra 1.6 benzinas 130\n"
     ]
    }
   ],
   "source": [
    "astra = Automobilis(\n",
    "    \"Opel\", \"Astra\", metai=1997, \n",
    "    variklis=1.6, max_greitis=130, kuro_tipas='benzinas'\n",
    ")\n",
    "print(astra, astra.variklis, astra.kuro_tipas, astra.max_greitis)"
   ]
  },
  {
   "cell_type": "code",
   "execution_count": 230,
   "metadata": {},
   "outputs": [
    {
     "name": "stdout",
     "output_type": "stream",
     "text": [
      "Ford F150 2023 m., pilka, Variklis: 5.2 JTD dyzelis. Max greitis: 200 km/h.\n",
      "Tesla Model 3 2023 m., pilka, Variklis: elektrinis elektra. Max greitis: 250 km/h.\n",
      "Opel Astra 1997 m., pilka, Variklis: 1.6 benzinas. Max greitis: 130 km/h.\n"
     ]
    }
   ],
   "source": [
    "def info(obj):\n",
    "    print(f\"{obj.marke} {obj.modelis} {obj.metai} m., \"\n",
    "        f\"{obj.spalva}, Variklis: {obj.variklis} {obj.kuro_tipas}. \" \n",
    "        f\"Max greitis: {obj.max_greitis} km/h.\")\n",
    "\n",
    "info(fordukas)\n",
    "info(tesliukas)\n",
    "info(astra)"
   ]
  },
  {
   "cell_type": "markdown",
   "metadata": {},
   "source": [
    "## Polimorfizmas"
   ]
  }
 ],
 "metadata": {
  "kernelspec": {
   "display_name": "venv",
   "language": "python",
   "name": "python3"
  },
  "language_info": {
   "codemirror_mode": {
    "name": "ipython",
    "version": 3
   },
   "file_extension": ".py",
   "mimetype": "text/x-python",
   "name": "python",
   "nbconvert_exporter": "python",
   "pygments_lexer": "ipython3",
   "version": "3.10.12"
  },
  "orig_nbformat": 4
 },
 "nbformat": 4,
 "nbformat_minor": 2
}
