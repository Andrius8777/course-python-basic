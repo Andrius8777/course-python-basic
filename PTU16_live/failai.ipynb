{
 "cells": [
  {
   "cell_type": "markdown",
   "metadata": {},
   "source": [
    "## `open`"
   ]
  },
  {
   "cell_type": "code",
   "execution_count": 33,
   "metadata": {},
   "outputs": [],
   "source": [
    "joke = \"\"\"One joke, coming up!\n",
    "- What is a sea monster’s favorite snack? \n",
    "    - Ships and dip. 🛳\n",
    "\"\"\""
   ]
  },
  {
   "cell_type": "code",
   "execution_count": 34,
   "metadata": {},
   "outputs": [],
   "source": [
    "joke_failas = open(\"joke.txt\", \"w\")\n",
    "joke_failas.close()"
   ]
  },
  {
   "cell_type": "code",
   "execution_count": 35,
   "metadata": {},
   "outputs": [],
   "source": [
    "with open(\"joke.txt\", \"w\"):\n",
    "    pass"
   ]
  },
  {
   "cell_type": "code",
   "execution_count": 36,
   "metadata": {},
   "outputs": [],
   "source": [
    "with open(\"joke.txt\", \"w\") as joke_failas:\n",
    "    joke_failas.write(joke)"
   ]
  },
  {
   "cell_type": "code",
   "execution_count": 37,
   "metadata": {},
   "outputs": [
    {
     "name": "stdout",
     "output_type": "stream",
     "text": [
      "One joke, coming up!\n",
      "- What is a sea monster’s favorite snack?\n",
      "- Ships and dip. 🛳\n"
     ]
    }
   ],
   "source": [
    "with open(\"joke.txt\", \"r\") as joke_failas:\n",
    "    for eilute in joke_failas:\n",
    "        print(eilute.strip())"
   ]
  },
  {
   "cell_type": "code",
   "execution_count": 38,
   "metadata": {},
   "outputs": [
    {
     "name": "stdout",
     "output_type": "stream",
     "text": [
      "One joke, coming up!\n",
      "- What is a sea monster’s favorite snack?\n",
      "    - Ships and dip. 🛳\n"
     ]
    }
   ],
   "source": [
    "with open(\"joke.txt\", \"r\") as joke_failas:\n",
    "    for eilute in joke_failas:\n",
    "        print(eilute.rstrip())"
   ]
  },
  {
   "cell_type": "code",
   "execution_count": 39,
   "metadata": {},
   "outputs": [
    {
     "name": "stdout",
     "output_type": "stream",
     "text": [
      "  0. One joke, coming up!\n",
      "  1. - What is a sea monster’s favorite snack?\n",
      "  2.     - Ships and dip. 🛳\n"
     ]
    }
   ],
   "source": [
    "with open(\"joke.txt\", \"r\") as joke_failas:\n",
    "    eilutes = joke_failas.readlines()\n",
    "    for num, eilute in enumerate(eilutes):\n",
    "        print(f\"{num:>3}. {eilute.rstrip()}\")"
   ]
  },
  {
   "cell_type": "code",
   "execution_count": 40,
   "metadata": {},
   "outputs": [
    {
     "name": "stdout",
     "output_type": "stream",
     "text": [
      "  0. class Fridge:\n",
      "  1.     contents = {}\n",
      "  2. \n",
      "  3.     def add(self, product:str, quantity:float):\n",
      "  4.         self.contents[product] = quantity\n",
      "  5. \n",
      "  6.     def remove(self, product:str, quantity:float):\n",
      "  7.         if self.check(product, quantity):\n",
      "  8.             self.contents[product] -= quantity\n",
      "  9.         else:\n",
      " 10.             print(\"No such product or quantity is not enough\")\n",
      " 11. \n",
      " 12.     def check(self, product:str, quantity:float):\n",
      " 13.         if product in self.contents:\n",
      " 14.             print(f\"{product} found, removing...\")\n",
      " 15.             if quantity <= self.contents[product]:\n",
      " 16.                 return True\n",
      " 17.         return False\n",
      " 18. \n",
      " 19.     def list_products(self, ):\n",
      " 20.         pass\n"
     ]
    }
   ],
   "source": [
    "with open(\"../PTU12_live/fridge.py\", \"r\") as code_failas:\n",
    "    eilutes = code_failas.readlines()\n",
    "    for num, eilute in enumerate(eilutes):\n",
    "        print(f\"{num:>3}. {eilute.rstrip()}\")"
   ]
  },
  {
   "cell_type": "code",
   "execution_count": 41,
   "metadata": {},
   "outputs": [
    {
     "name": "stdout",
     "output_type": "stream",
     "text": [
      "When I interviewed for my job, the interviewer said to me, \"What's the difference between a duck?\" And I said, \"I don't know.\" And he said, \"You're hired.\"\n",
      "I don’t know Python, so I have a part-time job at Starbucks.\n",
      "I’m looking for someone who can do both Python and JavaScript.\n",
      "So Python programmers, it’s time we make a deal- - I’ll stop watching your show if you get rid of those stupid hats.\n",
      "I hear it's also the only language that will get you laid.\n",
      "\n"
     ]
    }
   ],
   "source": [
    "with open(\"../PTU12_live/jokes.txt\") as ptu12_jokes_file:\n",
    "    visi_bajeriai = ptu12_jokes_file.read()\n",
    "print(visi_bajeriai)"
   ]
  },
  {
   "cell_type": "code",
   "execution_count": 42,
   "metadata": {},
   "outputs": [
    {
     "name": "stdout",
     "output_type": "stream",
     "text": [
      "When I interviewed for my job, t\n",
      "he interviewer said to me, \"What\n",
      "'s the difference between a duck\n",
      "?\" And I said, \"I don't know.\" A\n",
      "nd he said, \"You're hired.\"\n",
      "I do\n",
      "n’t know Python, so I have a par\n",
      "t-time job at Starbucks.\n",
      "I’m loo\n",
      "king for someone who can do both\n",
      " Python and JavaScript.\n",
      "So Pytho\n",
      "n programmers, it’s time we make\n",
      " a deal- - I’ll stop watching yo\n",
      "ur show if you get rid of those \n",
      "stupid hats.\n",
      "I hear it's also th\n",
      "e only language that will get yo\n",
      "u laid.\n",
      "\n"
     ]
    }
   ],
   "source": [
    "with open(\"../PTU12_live/jokes.txt\") as ptu12_jokes_file:\n",
    "    while True:\n",
    "        buferis = ptu12_jokes_file.read(32)\n",
    "        if not buferis:\n",
    "            break\n",
    "        print(buferis)"
   ]
  },
  {
   "cell_type": "code",
   "execution_count": 43,
   "metadata": {},
   "outputs": [
    {
     "name": "stdout",
     "output_type": "stream",
     "text": [
      "   0: class Fridge:\n",
      "  14:     contents = {}\n",
      "  32: \n",
      "  33:     def add(self, product:str, quantity:float):\n",
      "  81:         self.contents[product] = quantity\n",
      " 123: \n",
      " 124:     def remove(self, product:str, quantity:float):\n",
      " 175:         if self.check(product, quantity):\n",
      " 217:             self.contents[product] -= quantity\n",
      " 264:         else:\n",
      " 278:             print(\"No such product or quantity is not enough\")\n",
      " 341: \n",
      " 342:     def check(self, product:str, quantity:float):\n",
      " 392:         if product in self.contents:\n",
      " 429:             print(f\"{product} found, removing...\")\n",
      " 480:             if quantity <= self.contents[product]:\n",
      " 531:                 return True\n",
      " 559:         return False\n",
      " 580: \n",
      " 581:     def list_products(self, ):\n",
      " 612:         pass\n",
      " 625: \n",
      " 580: \n",
      " 581:     def list_products(self, ):\n",
      " 612:         pass\n",
      " 625: \n",
      " 580: \n",
      " 581:     def list_products(self, ):\n",
      " 612:         pass\n",
      " 625: \n"
     ]
    }
   ],
   "source": [
    "with open(\"../PTU12_live/fridge.py\", \"r\") as code_file:\n",
    "    counter = 3\n",
    "    while counter > 0:\n",
    "        pozicija = code_file.tell()\n",
    "        eilute = code_file.readline()\n",
    "        print(f\"{pozicija:>4}: {eilute.rstrip()}\")\n",
    "        if pozicija == code_file.tell():\n",
    "            counter -= 1\n",
    "            code_file.seek(580)\n"
   ]
  },
  {
   "cell_type": "code",
   "execution_count": 44,
   "metadata": {},
   "outputs": [
    {
     "name": "stdout",
     "output_type": "stream",
     "text": [
      "['vienas\\n', 'du\\n', 'trys\\n']\n",
      "vienas\n",
      "du\n",
      "trys\n",
      "\n"
     ]
    }
   ],
   "source": [
    "eilutes = \"vienas\\n du\\n trys\\n\".split(\" \")\n",
    "print(eilutes)\n",
    "with open(\"trys_eilutes.txt\", \"w\") as trys_failas:\n",
    "    trys_failas.writelines(eilutes)\n",
    "with open(\"trys_eilutes.txt\", \"r\") as skaitomas:\n",
    "    print(skaitomas.read())\n"
   ]
  },
  {
   "cell_type": "code",
   "execution_count": 45,
   "metadata": {},
   "outputs": [
    {
     "name": "stdout",
     "output_type": "stream",
     "text": [
      "['vienas\\n', 'du\\n', 'trys\\n']\n",
      "15\n",
      "vienas\n",
      "du\n",
      "trys\n",
      "keturi\n",
      "penki\n",
      "\n"
     ]
    }
   ],
   "source": [
    "keturi_penki = \"keturi\\n penki\\n\".split(\" \")\n",
    "print(eilutes)\n",
    "with open(\"trys_eilutes.txt\", \"a\") as trys_failas:\n",
    "    print(trys_failas.tell())\n",
    "    trys_failas.writelines(keturi_penki)\n",
    "with open(\"trys_eilutes.txt\", \"r\") as skaitomas:\n",
    "    print(skaitomas.read())"
   ]
  },
  {
   "cell_type": "code",
   "execution_count": 46,
   "metadata": {},
   "outputs": [
    {
     "name": "stdout",
     "output_type": "stream",
     "text": [
      "penki\n",
      "keturi\n",
      "trys\n",
      "du\n",
      "vienas\n",
      "\n"
     ]
    }
   ],
   "source": [
    "with open(\"skaitymas_rasymas.txt\", \"w+\") as rasomas:\n",
    "    rasomas.write(\"penki\\nketuri\\ntrys\\ndu\\nvienas\\n\")\n",
    "    rasomas.seek(0)\n",
    "    irasyta = rasomas.readlines()\n",
    "    print(\"\".join(irasyta))"
   ]
  },
  {
   "cell_type": "code",
   "execution_count": 47,
   "metadata": {},
   "outputs": [
    {
     "name": "stdout",
     "output_type": "stream",
     "text": [
      "0\n",
      "123456KETURI\n",
      "TRYS\n",
      "DU\n",
      "VIENAS\n",
      "\n"
     ]
    }
   ],
   "source": [
    "with open(\"skaitymas_rasymas.txt\", \"r+\") as rasomas:\n",
    "    print(rasomas.tell())\n",
    "    rasomas.write(\"123456\")\n",
    "    rasomas.seek(0)\n",
    "\n",
    "    print(rasomas.read().swapcase())"
   ]
  },
  {
   "cell_type": "markdown",
   "metadata": {},
   "source": [
    "## JSON"
   ]
  },
  {
   "cell_type": "code",
   "execution_count": 48,
   "metadata": {},
   "outputs": [],
   "source": [
    "import json\n",
    "\n",
    "saldytuvas = {\n",
    "    \"pienas\": 2,\n",
    "    \"braškės\": 1.5,\n",
    "    \"kava\": 0.5,\n",
    "    \"alus\": 24,\n",
    "}"
   ]
  },
  {
   "cell_type": "code",
   "execution_count": 49,
   "metadata": {},
   "outputs": [],
   "source": [
    "with open(\"saldytuvas.json\", \"w\") as saldytuvo_failas:\n",
    "    json.dump(saldytuvas, saldytuvo_failas, indent=2, ensure_ascii=False)"
   ]
  },
  {
   "cell_type": "code",
   "execution_count": 50,
   "metadata": {},
   "outputs": [
    {
     "name": "stdout",
     "output_type": "stream",
     "text": [
      "{'pienas': 2, 'braškės': 1.5, 'kava': 0.5, 'alus': 24}\n"
     ]
    }
   ],
   "source": [
    "with open(\"saldytuvas.json\", \"r\", encoding=\"utf-8\") as saldytuvo_failas:\n",
    "    saldytuvas = json.load(saldytuvo_failas)\n",
    "print(saldytuvas)"
   ]
  },
  {
   "cell_type": "code",
   "execution_count": 51,
   "metadata": {},
   "outputs": [
    {
     "name": "stdout",
     "output_type": "stream",
     "text": [
      "{\n",
      "  \"pienas\": 2,\n",
      "  \"braškės\": 1.5,\n",
      "  \"kava\": 0.5,\n",
      "  \"alus\": 24\n",
      "}\n"
     ]
    }
   ],
   "source": [
    "json_saldyvas = json.dumps(saldytuvas, indent=2, ensure_ascii=False)\n",
    "print(json_saldyvas)"
   ]
  },
  {
   "cell_type": "code",
   "execution_count": 52,
   "metadata": {},
   "outputs": [
    {
     "name": "stdout",
     "output_type": "stream",
     "text": [
      "{'pienas': 2, 'braškės': 1.5, 'kava': 0.5, 'alus': 24}\n"
     ]
    }
   ],
   "source": [
    "saldytuvas = json.loads(json_saldyvas)\n",
    "print(saldytuvas)"
   ]
  },
  {
   "cell_type": "markdown",
   "metadata": {},
   "source": [
    "## os"
   ]
  },
  {
   "cell_type": "code",
   "execution_count": 53,
   "metadata": {},
   "outputs": [],
   "source": [
    "import os"
   ]
  },
  {
   "cell_type": "code",
   "execution_count": 54,
   "metadata": {},
   "outputs": [
    {
     "data": {
      "text/plain": [
       "'/home/kestas/codeacademy/course-python-basic/PTU16_live'"
      ]
     },
     "execution_count": 54,
     "metadata": {},
     "output_type": "execute_result"
    }
   ],
   "source": [
    "os.getcwd()"
   ]
  },
  {
   "cell_type": "code",
   "execution_count": 55,
   "metadata": {},
   "outputs": [
    {
     "data": {
      "text/plain": [
       "'/home/kestas/codeacademy/course-python-basic'"
      ]
     },
     "execution_count": 55,
     "metadata": {},
     "output_type": "execute_result"
    }
   ],
   "source": [
    "os.chdir('/home/kestas/codeacademy/course-python-basic/')\n",
    "os.getcwd()"
   ]
  },
  {
   "cell_type": "code",
   "execution_count": 56,
   "metadata": {},
   "outputs": [],
   "source": [
    "os.chdir('/home/kestas/codeacademy/course-python-basic/PTU16_live')"
   ]
  },
  {
   "cell_type": "code",
   "execution_count": 57,
   "metadata": {},
   "outputs": [],
   "source": [
    "os.makedirs('siuksles/daug/')"
   ]
  },
  {
   "cell_type": "code",
   "execution_count": 58,
   "metadata": {},
   "outputs": [],
   "source": [
    "os.removedirs('siuksles/daug/')"
   ]
  },
  {
   "cell_type": "code",
   "execution_count": 59,
   "metadata": {},
   "outputs": [
    {
     "data": {
      "text/plain": [
       "<module 'posixpath' from '/usr/lib/python3.10/posixpath.py'>"
      ]
     },
     "execution_count": 59,
     "metadata": {},
     "output_type": "execute_result"
    }
   ],
   "source": [
    "os.path"
   ]
  },
  {
   "cell_type": "code",
   "execution_count": 60,
   "metadata": {},
   "outputs": [
    {
     "name": "stdout",
     "output_type": "stream",
     "text": [
      "{'pienas': 2, 'braškės': 1.5, 'kava': 0.5, 'alus': 24}\n"
     ]
    }
   ],
   "source": [
    "if os.path.exists('saldytuvas.json'):\n",
    "    with open('saldytuvas.json', 'r') as saldytuvo_json:\n",
    "        saldytuvas = json.load(saldytuvo_json)\n",
    "else:\n",
    "    saldytuvas = {}\n",
    "print(saldytuvas)"
   ]
  },
  {
   "cell_type": "code",
   "execution_count": 61,
   "metadata": {},
   "outputs": [
    {
     "name": "stdout",
     "output_type": "stream",
     "text": [
      "saldytuvas dingo\n"
     ]
    }
   ],
   "source": [
    "if os.path.exists('saldytuvas.json'):\n",
    "    os.remove('saldytuvas.json')\n",
    "    print('saldytuvas dingo')\n",
    "else:\n",
    "    print('saldytuvo jau senai neber')"
   ]
  },
  {
   "cell_type": "code",
   "execution_count": 68,
   "metadata": {},
   "outputs": [
    {
     "name": "stdout",
     "output_type": "stream",
     "text": [
      ".git\n",
      ".gitignore\n",
      "02_programavimo_pagrindai\n",
      "03_ciklai_sarasai_tuples_aibes_zodynai\n",
      "04_funkcijos\n",
      "05_objekinio_programavimo_principai\n",
      "06_projektai_moduliai_importavimas\n",
      "07_data_laikas\n",
      "08_darbas_su_failais\n",
      "09_klaidu_gaudymas_isimtys_debug\n",
      "10_Iteratoriai_generatoriai_sarasu_triukai\n",
      "11_dekoratoriai\n",
      "12_testavimas_unit_testai\n",
      "13_darbas_su_paveiksliukais\n",
      "14_PySimpleGUI\n",
      "15_paleidziamieji_failai\n",
      "16_DB\n",
      "LICENSE\n",
      "PTU12_live\n",
      "PTU16_live\n",
      "README.md\n",
      "images\n",
      "pavyzdinis.py\n",
      "requirements.txt\n",
      "venv\n"
     ]
    }
   ],
   "source": [
    "turinys = os.listdir('..')\n",
    "for elementas in sorted(turinys):\n",
    "    print(elementas)"
   ]
  },
  {
   "cell_type": "code",
   "execution_count": 88,
   "metadata": {},
   "outputs": [
    {
     "name": "stdout",
     "output_type": "stream",
     "text": [
      "os.stat_result(st_mode=33188, st_ino=183270, st_dev=2080, st_nlink=1, st_uid=1000, st_gid=1000, st_size=22665, st_atime=1693291087, st_mtime=1692689835, st_ctime=1692689835)\n",
      "22665\n",
      "4096\n",
      "48\n",
      "24576\n"
     ]
    }
   ],
   "source": [
    "failo_atributai = os.stat('funkcijos.ipynb')\n",
    "print(failo_atributai)\n",
    "print(failo_atributai.st_size)\n",
    "print(failo_atributai.st_blksize)\n",
    "print(failo_atributai.st_blocks)\n",
    "print(failo_atributai.st_blocks * failo_atributai.st_blksize // 8)\n"
   ]
  },
  {
   "cell_type": "code",
   "execution_count": 97,
   "metadata": {},
   "outputs": [
    {
     "name": "stdout",
     "output_type": "stream",
     "text": [
      "data_laikas.ipynb                   14127      16kB 2023-08-25 15:56:12\n",
      "failai.ipynb                        18509      20kB 2023-08-29 10:15:11\n",
      "funkcijos.ipynb                     22665      24kB 2023-08-22 10:37:15\n",
      "importai.ipynb                       4863       8kB 2023-08-25 09:55:21\n",
      "joke.txt                               92       4kB 2023-08-29 09:49:57\n",
      "kalkuliatorius.py                     808       4kB 2023-08-17 10:48:50\n",
      "kartojimas_0203.ipynb              108858     108kB 2023-08-18 13:39:09\n",
      "objektinis.ipynb                    22636      24kB 2023-08-24 14:06:23\n",
      "paketai.py                            109       4kB 2023-08-25 09:38:44\n",
      "skaitymas_rasymas.txt                  28       4kB 2023-08-29 09:49:57\n",
      "trys_eilutes.txt                       28       4kB 2023-08-29 09:49:57\n"
     ]
    }
   ],
   "source": [
    "from datetime import datetime\n",
    "katalogo_turinys = os.listdir('.')\n",
    "for elementas in sorted(katalogo_turinys):\n",
    "    kelias = os.path.join('.', elementas)\n",
    "    if os.path.isfile(kelias):\n",
    "        failo_statsai = os.stat(kelias)\n",
    "        tikras_dydis = failo_statsai.st_blocks * failo_statsai.st_blksize / 8 / 1024\n",
    "        modifikuotas = datetime.fromtimestamp(int(failo_statsai.st_ctime))\n",
    "        print(f\"{elementas:30s} {failo_statsai.st_size:>10g} {tikras_dydis:>7g}kB {modifikuotas}\")"
   ]
  },
  {
   "cell_type": "markdown",
   "metadata": {},
   "source": [
    "## binary"
   ]
  }
 ],
 "metadata": {
  "kernelspec": {
   "display_name": "venv",
   "language": "python",
   "name": "python3"
  },
  "language_info": {
   "codemirror_mode": {
    "name": "ipython",
    "version": 3
   },
   "file_extension": ".py",
   "mimetype": "text/x-python",
   "name": "python",
   "nbconvert_exporter": "python",
   "pygments_lexer": "ipython3",
   "version": "3.10.12"
  },
  "orig_nbformat": 4
 },
 "nbformat": 4,
 "nbformat_minor": 2
}
