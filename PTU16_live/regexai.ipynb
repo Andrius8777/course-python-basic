{
 "cells": [
  {
   "cell_type": "code",
   "execution_count": 1,
   "metadata": {},
   "outputs": [],
   "source": [
    "import re"
   ]
  },
  {
   "cell_type": "code",
   "execution_count": 2,
   "metadata": {},
   "outputs": [],
   "source": [
    "phone_mask = re.compile(r'\\+370\\s?\\d{1,3}\\s?\\d{5,7}')"
   ]
  },
  {
   "cell_type": "code",
   "execution_count": 3,
   "metadata": {},
   "outputs": [],
   "source": [
    "tekstas = \"\"\"\n",
    "Mano telefonas +370 692 95411, tik niekas neskambinkit.\n",
    "Geriau skambinkit mamai +370 46 350017, jei dar veikia.\n",
    "Vilniaus ofisas darbo dienom +370 5 2733441, neaktyvus.\n",
    "\"\"\""
   ]
  },
  {
   "cell_type": "code",
   "execution_count": 4,
   "metadata": {},
   "outputs": [
    {
     "data": {
      "text/plain": [
       "<re.Match object; span=(16, 30), match='+370 692 95411'>"
      ]
     },
     "execution_count": 4,
     "metadata": {},
     "output_type": "execute_result"
    }
   ],
   "source": [
    "res = phone_mask.search(tekstas)\n",
    "res"
   ]
  },
  {
   "cell_type": "code",
   "execution_count": 9,
   "metadata": {},
   "outputs": [
    {
     "data": {
      "text/plain": [
       "'+370 692 95411'"
      ]
     },
     "execution_count": 9,
     "metadata": {},
     "output_type": "execute_result"
    }
   ],
   "source": [
    "res.group()"
   ]
  },
  {
   "cell_type": "code",
   "execution_count": 5,
   "metadata": {},
   "outputs": [
    {
     "data": {
      "text/plain": [
       "['+370 692 95411', '+370 46 350017', '+370 5 2733441']"
      ]
     },
     "execution_count": 5,
     "metadata": {},
     "output_type": "execute_result"
    }
   ],
   "source": [
    "phones = phone_mask.findall(tekstas)\n",
    "phones"
   ]
  },
  {
   "cell_type": "code",
   "execution_count": 10,
   "metadata": {},
   "outputs": [],
   "source": [
    "def validate_email(text):\n",
    "    email_regex = re.compile(r'^[a-zA-Z0-9._%-]+@[a-zA-Z0-9.-]+\\.[a-zA-Z]{2,6}$')\n",
    "    result = email_regex.search(text)\n",
    "    if result:\n",
    "        return True\n",
    "    return False"
   ]
  },
  {
   "cell_type": "code",
   "execution_count": 11,
   "metadata": {},
   "outputs": [
    {
     "data": {
      "text/plain": [
       "True"
      ]
     },
     "execution_count": 11,
     "metadata": {},
     "output_type": "execute_result"
    }
   ],
   "source": [
    "validate_email('info@geras.oras.lt')"
   ]
  },
  {
   "cell_type": "code",
   "execution_count": 24,
   "metadata": {},
   "outputs": [
    {
     "name": "stdout",
     "output_type": "stream",
     "text": [
      "[('', 'Jonas', '', 'Kibirinis'), ('Dr.', 'Marius', 'Petras', 'Gudrutis'), ('Prof.', 'Seniukas', '', 'Gerietis'), ('', 'Stiprus', '', 'Raumenis')]\n"
     ]
    }
   ],
   "source": [
    "def find_names(text):\n",
    "    name_pattern = re.compile(\n",
    "        r\"\\b([A-Z]\\w{1,3}\\.)?\\s?([A-Z]\\w+)\\s?([A-Z]\\w+)?\\s([A-Z]\\w+)\\b\"\n",
    "    )\n",
    "    result = name_pattern.findall(text)\n",
    "    return result\n",
    "\n",
    "tekstas = \"\"\"Direktorius: Jonas Kibirinis.\n",
    "Mokslininkai: Dr. Marius Petras Gudrutis, Prof.Seniukas Gerietis.\n",
    "Asistentai: studentas Stiprus Raumenis.\n",
    "Visi labai gerai ir daug dirba...\n",
    "\"\"\"\n",
    "\n",
    "print(find_names(tekstas))"
   ]
  },
  {
   "cell_type": "code",
   "execution_count": 30,
   "metadata": {},
   "outputs": [
    {
     "name": "stdout",
     "output_type": "stream",
     "text": [
      "Jonas Kibirinis\n",
      "Dr. Marius Petras Gudrutis\n",
      "Prof. Seniukas Gerietis\n",
      "Stiprus Raumenis\n"
     ]
    }
   ],
   "source": [
    "for name in find_names(tekstas):\n",
    "    if name[0]:\n",
    "        print(name[0], end=\" \")\n",
    "    print(name[1], end=\" \")\n",
    "    if name[2]:\n",
    "        print(name[2], end=\" \")\n",
    "    print(name[3])"
   ]
  },
  {
   "cell_type": "code",
   "execution_count": 43,
   "metadata": {},
   "outputs": [],
   "source": [
    "def disect_name(name):\n",
    "    pattern = re.compile(r'^(?P<title>[A-Z]\\w{1,3}\\.)?\\s?(?P<first>[A-Z]\\w+)\\s?(?P<middle>[A-Z]\\w+)?\\s(?P<last>[A-Z]\\w+)$')\n",
    "    result = pattern.search(name)\n",
    "    if result:\n",
    "        print(f'Full name: {result.group(0)}')\n",
    "        print(f'Title: {result.group(\"title\")}')\n",
    "        print(f'First name: {result.group(\"first\")}')\n",
    "        print(f'Middle name: {result.group(\"middle\")}')\n",
    "        print(f'Last name: {result.group(\"last\")}')\n",
    "        # print(f'Title: {result.group(1)}')\n",
    "        # print(f'First name: {result.group(2)}')\n",
    "        # print(f'Middle name: {result.group(3)}')\n",
    "        # print(f'Last name: {result.group(4)}')        print('----------------------------------')\n",
    "        return result.groups()\n",
    "    else:\n",
    "        print('Input is not a valid name')"
   ]
  },
  {
   "cell_type": "code",
   "execution_count": 44,
   "metadata": {},
   "outputs": [
    {
     "name": "stdout",
     "output_type": "stream",
     "text": [
      "Full name: Mr. Kestutis Januskevicius\n",
      "Title: Mr.\n",
      "First name: Kestutis\n",
      "Middle name: None\n",
      "Last name: Januskevicius\n"
     ]
    },
    {
     "data": {
      "text/plain": [
       "('Mr.', 'Kestutis', None, 'Januskevicius')"
      ]
     },
     "execution_count": 44,
     "metadata": {},
     "output_type": "execute_result"
    }
   ],
   "source": [
    "disect_name(\"Mr. Kestutis Januskevicius\")"
   ]
  },
  {
   "cell_type": "code",
   "execution_count": 40,
   "metadata": {},
   "outputs": [
    {
     "name": "stdout",
     "output_type": "stream",
     "text": [
      "Full name: Steven Mark Ryan\n",
      "Title: None\n",
      "First name: Steven\n",
      "Middle name: Mark\n",
      "Last name: Ryan\n",
      "----------------------------------\n"
     ]
    },
    {
     "data": {
      "text/plain": [
       "(None, 'Steven', 'Mark', 'Ryan')"
      ]
     },
     "execution_count": 40,
     "metadata": {},
     "output_type": "execute_result"
    }
   ],
   "source": [
    "disect_name(\"Steven Mark Ryan\")"
   ]
  },
  {
   "cell_type": "code",
   "execution_count": 49,
   "metadata": {},
   "outputs": [
    {
     "name": "stdout",
     "output_type": "stream",
     "text": [
      "\n",
      "PARDUOTUVE\n",
      "Produktas   Kaina\n",
      "Pienas      2.00\n",
      "Desra       8.39\n",
      "Obuoliai    3.23\n",
      "\n",
      "Apmoketa:\n",
      "Kortele: **** **** **** 2323\n",
      "\n"
     ]
    }
   ],
   "source": [
    "cekis = \"\"\"\n",
    "PARDUOTUVE\n",
    "Produktas   Kaina\n",
    "Pienas      2.00\n",
    "Desra       8.39\n",
    "Obuoliai    3.23\n",
    "\n",
    "Apmoketa:\n",
    "Kortele: 4621 1177 6945 2323\n",
    "\"\"\"\n",
    "\n",
    "korteles_maske = re.compile(r\"\\b(\\d{4})\\s?(\\d{4})\\s?(\\d{4})\\s?(\\d{4})\\b\")\n",
    "res = korteles_maske.sub(\"**** **** **** \\g<4>\", cekis)\n",
    "print(res)"
   ]
  },
  {
   "cell_type": "code",
   "execution_count": 51,
   "metadata": {},
   "outputs": [],
   "source": [
    "pattern = re.compile(r'''^\n",
    "    (?P<title>[A-Z]\\w{1,3}\\.)?\n",
    "    \\s?\n",
    "    (?P<first>[A-Z]\\w+)\n",
    "    \\s?\n",
    "    (?P<middle>[A-Z]\\w+)?\n",
    "    \\s\n",
    "    (?P<last>[A-Z]\\w+)\n",
    "    $''',\n",
    "    flags=re.VERBOSE\n",
    ")"
   ]
  },
  {
   "cell_type": "code",
   "execution_count": 64,
   "metadata": {},
   "outputs": [
    {
     "name": "stdout",
     "output_type": "stream",
     "text": [
      "['Trumpas']\n",
      "['Trumpas', 'apie']\n"
     ]
    }
   ],
   "source": [
    "tekstas = '''Trumpas tekstas \n",
    "apie beleką'''\n",
    "\n",
    "pattern = re.compile(r'^\\w+')\n",
    "res = pattern.findall(tekstas)\n",
    "\n",
    "pattern2 = re.compile(r'^\\w+', re.MULTILINE)\n",
    "res2 = pattern2.findall(tekstas)\n",
    "\n",
    "print(res)\n",
    "print(res2)"
   ]
  },
  {
   "cell_type": "code",
   "execution_count": 66,
   "metadata": {},
   "outputs": [
    {
     "name": "stdout",
     "output_type": "stream",
     "text": [
      "['Trumpas', 'tekstas', 'TeXte', 'turinti', 'tekstini', 'turini']\n"
     ]
    }
   ],
   "source": [
    "tekstas = '''Trumpas tekstas dideliame TeXte\n",
    "apie beleką turinti bet koki tekstini turini'''\n",
    "pattern = re.compile(r't\\w+', re.IGNORECASE+re.VERBOSE)\n",
    "res = pattern.findall(tekstas)\n",
    "print(res)"
   ]
  }
 ],
 "metadata": {
  "kernelspec": {
   "display_name": "venv",
   "language": "python",
   "name": "python3"
  },
  "language_info": {
   "codemirror_mode": {
    "name": "ipython",
    "version": 3
   },
   "file_extension": ".py",
   "mimetype": "text/x-python",
   "name": "python",
   "nbconvert_exporter": "python",
   "pygments_lexer": "ipython3",
   "version": "3.10.12"
  }
 },
 "nbformat": 4,
 "nbformat_minor": 2
}
