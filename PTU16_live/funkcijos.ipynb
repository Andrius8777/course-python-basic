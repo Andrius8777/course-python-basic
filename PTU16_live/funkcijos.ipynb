{
 "cells": [
  {
   "cell_type": "code",
   "execution_count": 2,
   "metadata": {},
   "outputs": [
    {
     "name": "stdout",
     "output_type": "stream",
     "text": [
      "betkas padaryta...\n",
      "betkas padaryta...\n",
      "betkas padaryta...\n"
     ]
    }
   ],
   "source": [
    "def darau_betka():\n",
    "    print(\"betkas padaryta...\")\n",
    "\n",
    "darau_betka()\n",
    "darau_betka()\n",
    "darau_betka()"
   ]
  },
  {
   "cell_type": "code",
   "execution_count": 3,
   "metadata": {},
   "outputs": [
    {
     "name": "stdout",
     "output_type": "stream",
     "text": [
      "darau pritupimus...\n"
     ]
    }
   ],
   "source": [
    "def daryti(ka):\n",
    "    print(f\"darau {ka}...\")\n",
    "\n",
    "daryti(\"pritupimus\")"
   ]
  },
  {
   "cell_type": "code",
   "execution_count": 4,
   "metadata": {},
   "outputs": [
    {
     "name": "stdout",
     "output_type": "stream",
     "text": [
      "Įvestas skaičius yra sveikasis.\n",
      "Įvestas skaičius yra trupmeninis.\n",
      "Įvestas argumentas nėra skaičius.\n"
     ]
    }
   ],
   "source": [
    "def skaiciaus_tipas(skaicius):\n",
    "    if type(skaicius) == int:\n",
    "        print(\"Įvestas skaičius yra sveikasis.\")\n",
    "    elif type(skaicius) == float:\n",
    "        print(\"Įvestas skaičius yra trupmeninis.\")\n",
    "    else:\n",
    "        print(\"Įvestas argumentas nėra skaičius.\")\n",
    "\n",
    "skaiciaus_tipas(25)\n",
    "skaiciaus_tipas(7.77)\n",
    "skaiciaus_tipas(\"X\")"
   ]
  },
  {
   "cell_type": "code",
   "execution_count": 5,
   "metadata": {},
   "outputs": [
    {
     "name": "stdout",
     "output_type": "stream",
     "text": [
      "1996 yra keliamieji\n",
      "2000 yra keliamieji\n",
      "1900 yra nekeliamieji\n",
      "2023 yra nekeliamieji\n"
     ]
    }
   ],
   "source": [
    "def ar_keliamieji(metai):\n",
    "    if metai % 4 == 0 and metai % 100 != 0 or metai % 400 == 0:\n",
    "        print(f\"{metai} yra keliamieji\")\n",
    "    else:\n",
    "        print(f\"{metai} yra nekeliamieji\")\n",
    "\n",
    "ar_keliamieji(1996)\n",
    "ar_keliamieji(2000)\n",
    "ar_keliamieji(1900)\n",
    "ar_keliamieji(2023)"
   ]
  },
  {
   "cell_type": "code",
   "execution_count": 6,
   "metadata": {},
   "outputs": [
    {
     "name": "stdout",
     "output_type": "stream",
     "text": [
      "Sveikas Kestutis Januskevicius\n"
     ]
    }
   ],
   "source": [
    "def pasisveikinti(vardas, pavarde):\n",
    "    print(f\"Sveikas {vardas} {pavarde}\")\n",
    "\n",
    "pasisveikinti(\"Kestutis\", \"Januskevicius\")"
   ]
  },
  {
   "cell_type": "code",
   "execution_count": 7,
   "metadata": {},
   "outputs": [
    {
     "name": "stdout",
     "output_type": "stream",
     "text": [
      "2000 yra keliamieji\n",
      "2001 yra nekeliamieji\n",
      "2002 yra nekeliamieji\n",
      "2003 yra nekeliamieji\n",
      "2004 yra keliamieji\n",
      "2005 yra nekeliamieji\n",
      "2006 yra nekeliamieji\n",
      "2007 yra nekeliamieji\n",
      "2008 yra keliamieji\n",
      "2009 yra nekeliamieji\n",
      "2010 yra nekeliamieji\n",
      "2011 yra nekeliamieji\n",
      "2012 yra keliamieji\n",
      "2013 yra nekeliamieji\n",
      "2014 yra nekeliamieji\n",
      "2015 yra nekeliamieji\n",
      "2016 yra keliamieji\n",
      "2017 yra nekeliamieji\n",
      "2018 yra nekeliamieji\n",
      "2019 yra nekeliamieji\n",
      "2020 yra keliamieji\n",
      "2021 yra nekeliamieji\n",
      "2022 yra nekeliamieji\n",
      "2023 yra nekeliamieji\n",
      "2024 yra keliamieji\n",
      "2025 yra nekeliamieji\n",
      "2026 yra nekeliamieji\n",
      "2027 yra nekeliamieji\n",
      "2028 yra keliamieji\n",
      "2029 yra nekeliamieji\n"
     ]
    }
   ],
   "source": [
    "for metai in range(2000, 2030):\n",
    "    ar_keliamieji(metai)"
   ]
  }
 ],
 "metadata": {
  "kernelspec": {
   "display_name": "venv",
   "language": "python",
   "name": "python3"
  },
  "language_info": {
   "codemirror_mode": {
    "name": "ipython",
    "version": 3
   },
   "file_extension": ".py",
   "mimetype": "text/x-python",
   "name": "python",
   "nbconvert_exporter": "python",
   "pygments_lexer": "ipython3",
   "version": "3.10.12"
  },
  "orig_nbformat": 4
 },
 "nbformat": 4,
 "nbformat_minor": 2
}
