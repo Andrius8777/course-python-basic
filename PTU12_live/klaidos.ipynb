{
 "cells": [
  {
   "cell_type": "code",
   "execution_count": 3,
   "metadata": {},
   "outputs": [
    {
     "name": "stdout",
     "output_type": "stream",
     "text": [
      "Klaida\n"
     ]
    }
   ],
   "source": [
    "try:\n",
    "    skaicius = 10 / 0\n",
    "except:\n",
    "    print(\"Klaida\")\n",
    "else:\n",
    "    print(skaicius)"
   ]
  },
  {
   "cell_type": "code",
   "execution_count": 7,
   "metadata": {},
   "outputs": [
    {
     "name": "stdout",
     "output_type": "stream",
     "text": [
      "10000000.0\n"
     ]
    }
   ],
   "source": [
    "try:\n",
    "    skaicius = 1 / 0.0000001\n",
    "except ZeroDivisionError:\n",
    "    print(\"Klaida: negalima dalinti iš nulio\")\n",
    "else:\n",
    "    print(skaicius)"
   ]
  },
  {
   "cell_type": "code",
   "execution_count": 16,
   "metadata": {},
   "outputs": [
    {
     "name": "stdout",
     "output_type": "stream",
     "text": [
      "pabandėm dalinti, pavyko? True\n"
     ]
    }
   ],
   "source": [
    "pavyko = True\n",
    "try:\n",
    "    skaicius = 7 / 2\n",
    "except:\n",
    "    pavyko = False\n",
    "finally:\n",
    "    print(f\"pabandėm dalinti, pavyko? {pavyko}\")\n"
   ]
  },
  {
   "cell_type": "code",
   "execution_count": 18,
   "metadata": {},
   "outputs": [
    {
     "name": "stdout",
     "output_type": "stream",
     "text": [
      "negalima sudėti skaičių su tekstu\n"
     ]
    }
   ],
   "source": [
    "skaicius = 42\n",
    "vardas = \"Kestas\"\n",
    "try:\n",
    "    print(vardas + skaicius)\n",
    "except TypeError:\n",
    "    print(\"negalima sudėti skaičių su tekstu\")\n"
   ]
  },
  {
   "cell_type": "code",
   "execution_count": 19,
   "metadata": {},
   "outputs": [
    {
     "name": "stdout",
     "output_type": "stream",
     "text": [
      "betkas neegzistuoja\n"
     ]
    }
   ],
   "source": [
    "try:\n",
    "    print(betkas)\n",
    "except:\n",
    "    print(\"betkas neegzistuoja\")"
   ]
  },
  {
   "cell_type": "code",
   "execution_count": 20,
   "metadata": {},
   "outputs": [
    {
     "name": "stdout",
     "output_type": "stream",
     "text": [
      "1\n",
      "5\n",
      "7\n",
      "9\n",
      "11\n",
      "21\n",
      "Sąrašas baigėsi\n"
     ]
    }
   ],
   "source": [
    "skaiciai = [1, 5, 7, 9, 11, 21]\n",
    "skaitliukas = 0\n",
    "while True:\n",
    "    try:\n",
    "        print(skaiciai[skaitliukas])\n",
    "    except IndexError:\n",
    "        print(\"Sąrašas baigėsi\")\n",
    "        break\n",
    "    skaitliukas += 1\n"
   ]
  },
  {
   "cell_type": "code",
   "execution_count": 21,
   "metadata": {},
   "outputs": [
    {
     "name": "stdout",
     "output_type": "stream",
     "text": [
      "LABAS\n"
     ]
    }
   ],
   "source": [
    "if hasattr(\"labas\", \"upper\"):\n",
    "    print(\"labas\".upper())"
   ]
  },
  {
   "cell_type": "code",
   "execution_count": 51,
   "metadata": {},
   "outputs": [
    {
     "name": "stdout",
     "output_type": "stream",
     "text": [
      "TypeError\n",
      "unsupported operand type(s) for /: 'str' and 'int'\n",
      "2\n"
     ]
    }
   ],
   "source": [
    "try:\n",
    "    skaicius = \"a\" / 0\n",
    "except Exception as error:\n",
    "    print(error.__class__.__name__)\n",
    "    print(error.with_traceback(error.__traceback__))\n",
    "    print(error.__traceback__.tb_lineno, error.__traceback__)\n"
   ]
  },
  {
   "cell_type": "code",
   "execution_count": 68,
   "metadata": {},
   "outputs": [
    {
     "name": "stdout",
     "output_type": "stream",
     "text": [
      "special case\n"
     ]
    }
   ],
   "source": [
    "import os\n",
    "\n",
    "class FailasNerastas(FileNotFoundError):\n",
    "    kazkas = \"special case\"\n",
    "\n",
    "def print_file(path_to_file=\"failas.txt\"):\n",
    "    if not os.path.exists(path_to_file):\n",
    "        raise FailasNerastas(\"Failas neegzistuoja\")\n",
    "    with open(path_to_file, \"r\") as failas:\n",
    "        print(failas.read())\n",
    "\n",
    "try:\n",
    "    print_file(\"k\")\n",
    "except FailasNerastas as e:\n",
    "    print(e.kazkas)\n"
   ]
  },
  {
   "cell_type": "code",
   "execution_count": 70,
   "metadata": {},
   "outputs": [
    {
     "name": "stdout",
     "output_type": "stream",
     "text": [
      "mailas@gmail.com\n"
     ]
    }
   ],
   "source": [
    "def tikrinti_maila(emailas):\n",
    "    if not '@' in emailas:\n",
    "        raise ValueError(\"emailas neteisingas\")\n",
    "    return emailas\n",
    "\n",
    "emailas = tikrinti_maila(input(\"Iveskite emaila:\"))\n",
    "print(emailas)\n"
   ]
  }
 ],
 "metadata": {
  "kernelspec": {
   "display_name": "venv",
   "language": "python",
   "name": "python3"
  },
  "language_info": {
   "codemirror_mode": {
    "name": "ipython",
    "version": 3
   },
   "file_extension": ".py",
   "mimetype": "text/x-python",
   "name": "python",
   "nbconvert_exporter": "python",
   "pygments_lexer": "ipython3",
   "version": "3.8.10"
  },
  "orig_nbformat": 4
 },
 "nbformat": 4,
 "nbformat_minor": 2
}
