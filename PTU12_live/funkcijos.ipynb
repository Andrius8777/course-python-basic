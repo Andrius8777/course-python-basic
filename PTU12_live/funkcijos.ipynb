{
 "cells": [
  {
   "attachments": {},
   "cell_type": "markdown",
   "metadata": {},
   "source": [
    "## Funkcijos"
   ]
  },
  {
   "cell_type": "code",
   "execution_count": 1,
   "metadata": {},
   "outputs": [
    {
     "name": "stdout",
     "output_type": "stream",
     "text": [
      "Labas Studente\n",
      "Labas Žmogau\n"
     ]
    }
   ],
   "source": [
    "def pasisveikinti(vardas):\n",
    "    print(f\"Labas {vardas}\")\n",
    "\n",
    "pasisveikinti(\"Studente\")\n",
    "pasisveikinti(\"Žmogau\")"
   ]
  },
  {
   "cell_type": "code",
   "execution_count": 2,
   "metadata": {},
   "outputs": [
    {
     "name": "stdout",
     "output_type": "stream",
     "text": [
      "SABAL\n"
     ]
    }
   ],
   "source": [
    "def atbulai(tekstas):\n",
    "    return tekstas[::-1]\n",
    "\n",
    "print(atbulai(\"LABAS\"))"
   ]
  },
  {
   "cell_type": "code",
   "execution_count": 3,
   "metadata": {},
   "outputs": [
    {
     "name": "stdout",
     "output_type": "stream",
     "text": [
      "utar isakus satar\n"
     ]
    }
   ],
   "source": [
    "ratas_atbulai = atbulai(\"ratas sukasi ratu\")\n",
    "print(ratas_atbulai)"
   ]
  },
  {
   "cell_type": "code",
   "execution_count": 4,
   "metadata": {},
   "outputs": [
    {
     "name": "stdout",
     "output_type": "stream",
     "text": [
      "4\n"
     ]
    }
   ],
   "source": [
    "def daugyba(x, y):\n",
    "    return x * y\n",
    "\n",
    "print(daugyba(2, 2))"
   ]
  },
  {
   "cell_type": "code",
   "execution_count": 6,
   "metadata": {},
   "outputs": [
    {
     "name": "stdout",
     "output_type": "stream",
     "text": [
      "pirmas antras\n"
     ]
    }
   ],
   "source": [
    "def kiaura(par1, par2):\n",
    "    return par1, par2\n",
    "\n",
    "# print(kiaura(\"pirmas\", \"antras\"))\n",
    "pirmas, antras = kiaura(\"pirmas\", \"antras\")\n",
    "print(pirmas, antras)"
   ]
  },
  {
   "cell_type": "code",
   "execution_count": 12,
   "metadata": {},
   "outputs": [
    {
     "name": "stdout",
     "output_type": "stream",
     "text": [
      "([1, 2, 4, 6, 8, 11], [-3, -5, -7, -9, -10], ['a'])\n"
     ]
    }
   ],
   "source": [
    "def teigiami_neigiami(skaiciu_sarasas):\n",
    "    teigiami = []\n",
    "    neigiami = []\n",
    "    kiti = []\n",
    "    for skaicius in skaiciu_sarasas:\n",
    "        if type(skaicius) == int or type(skaicius) == float:\n",
    "            if skaicius > 0:\n",
    "                teigiami.append(skaicius)\n",
    "            else:\n",
    "                neigiami.append(skaicius)\n",
    "        else:\n",
    "            kiti.append(skaicius)\n",
    "    return teigiami, neigiami, kiti\n",
    "\n",
    "skaiciai = [1, 2, -3, 4, -5, \"a\", 6, -7, 8, -9, -10, 11]\n",
    "print(teigiami_neigiami(skaiciai))"
   ]
  },
  {
   "cell_type": "code",
   "execution_count": 20,
   "metadata": {},
   "outputs": [
    {
     "data": {
      "text/plain": [
       "[3, 2, 1]"
      ]
     },
     "execution_count": 20,
     "metadata": {},
     "output_type": "execute_result"
    }
   ],
   "source": [
    "def apverstas(sarasas: list):\n",
    "    sarasas.reverse()\n",
    "    return sarasas\n",
    "\n",
    "apverstas([1, 2, 3])\n"
   ]
  },
  {
   "cell_type": "code",
   "execution_count": 21,
   "metadata": {},
   "outputs": [
    {
     "name": "stdout",
     "output_type": "stream",
     "text": [
      "10.825317547305483\n"
     ]
    }
   ],
   "source": [
    "def trikampio_plotas(a, b, c):\n",
    "    s = (a + b + c) / 2  # pusė perimetro\n",
    "    plotas = (s * (s - a) * (s - b) * (s - c)) ** 0.5\n",
    "    return plotas\n",
    "\n",
    "print(trikampio_plotas(5, 5, 5))"
   ]
  },
  {
   "cell_type": "code",
   "execution_count": 22,
   "metadata": {},
   "outputs": [
    {
     "name": "stdout",
     "output_type": "stream",
     "text": [
      "6.25\n"
     ]
    }
   ],
   "source": [
    "from math import sqrt\n",
    "print(trikampio_plotas(5, 2.5, sqrt(5**2 + 2.5**2)))"
   ]
  },
  {
   "cell_type": "code",
   "execution_count": 25,
   "metadata": {},
   "outputs": [
    {
     "data": {
      "text/plain": [
       "5.5901699437494745"
      ]
     },
     "execution_count": 25,
     "metadata": {},
     "output_type": "execute_result"
    }
   ],
   "source": [
    "sqrt(5**2 + 2.5**2)"
   ]
  },
  {
   "attachments": {},
   "cell_type": "markdown",
   "metadata": {},
   "source": [
    "## nebūtini argumentai"
   ]
  },
  {
   "cell_type": "code",
   "execution_count": 27,
   "metadata": {},
   "outputs": [],
   "source": [
    "def gauti_kaina(kaina, nuolaida=0, pvm=21):\n",
    "    kaina *= (1-nuolaida/100)\n",
    "    kaina *= (1+pvm/100)\n",
    "    return kaina"
   ]
  },
  {
   "cell_type": "code",
   "execution_count": 28,
   "metadata": {},
   "outputs": [
    {
     "name": "stdout",
     "output_type": "stream",
     "text": [
      "121.0\n"
     ]
    }
   ],
   "source": [
    "print(gauti_kaina(100))"
   ]
  },
  {
   "cell_type": "code",
   "execution_count": 29,
   "metadata": {},
   "outputs": [
    {
     "name": "stdout",
     "output_type": "stream",
     "text": [
      "108.89999999999999\n"
     ]
    }
   ],
   "source": [
    "print(gauti_kaina(100, 10))"
   ]
  },
  {
   "cell_type": "code",
   "execution_count": 30,
   "metadata": {},
   "outputs": [
    {
     "name": "stdout",
     "output_type": "stream",
     "text": [
      "124.0\n"
     ]
    }
   ],
   "source": [
    "print(gauti_kaina(100, pvm=24))"
   ]
  },
  {
   "cell_type": "code",
   "execution_count": 31,
   "metadata": {},
   "outputs": [
    {
     "name": "stdout",
     "output_type": "stream",
     "text": [
      "99.2\n"
     ]
    }
   ],
   "source": [
    "print(gauti_kaina(100, 20, 24))"
   ]
  },
  {
   "cell_type": "code",
   "execution_count": 32,
   "metadata": {},
   "outputs": [
    {
     "name": "stdout",
     "output_type": "stream",
     "text": [
      "100.3\n"
     ]
    }
   ],
   "source": [
    "print(gauti_kaina(kaina=100, nuolaida=15, pvm=18))"
   ]
  },
  {
   "attachments": {},
   "cell_type": "markdown",
   "metadata": {},
   "source": [
    "## neriboti argai"
   ]
  },
  {
   "cell_type": "code",
   "execution_count": 40,
   "metadata": {},
   "outputs": [],
   "source": [
    "def jungti(*args, skirtukas=\" \"):\n",
    "    zodziai = []\n",
    "    for arg in args:\n",
    "        zodziai.append(str(arg))\n",
    "    tekstas = skirtukas.join(zodziai)\n",
    "    return tekstas"
   ]
  },
  {
   "cell_type": "code",
   "execution_count": 34,
   "metadata": {},
   "outputs": [
    {
     "data": {
      "text/plain": [
       "'laba diena kaip sekasi?'"
      ]
     },
     "execution_count": 34,
     "metadata": {},
     "output_type": "execute_result"
    }
   ],
   "source": [
    "jungti(\"laba\", \"diena\", \"kaip\", \"sekasi?\")"
   ]
  },
  {
   "cell_type": "code",
   "execution_count": 42,
   "metadata": {},
   "outputs": [
    {
     "data": {
      "text/plain": [
       "'1, 2, 3, 5, 7, 9'"
      ]
     },
     "execution_count": 42,
     "metadata": {},
     "output_type": "execute_result"
    }
   ],
   "source": [
    "jungti(1, 2, 3, 5, 7, 9, skirtukas=\", \")"
   ]
  },
  {
   "cell_type": "code",
   "execution_count": 43,
   "metadata": {},
   "outputs": [
    {
     "data": {
      "text/plain": [
       "'X|Y|Z'"
      ]
     },
     "execution_count": 43,
     "metadata": {},
     "output_type": "execute_result"
    }
   ],
   "source": [
    "jungti(\"X\", \"Y\", \"Z\", skirtukas=\"|\")"
   ]
  },
  {
   "cell_type": "code",
   "execution_count": 44,
   "metadata": {},
   "outputs": [],
   "source": [
    "def informacija(vardas, pavarde, *args):\n",
    "    print(f\"{vardas} {pavarde}: {', '.join(args)}\")"
   ]
  },
  {
   "cell_type": "code",
   "execution_count": 45,
   "metadata": {},
   "outputs": [
    {
     "name": "stdout",
     "output_type": "stream",
     "text": [
      "Geras Studentas: viska stebi, atidžiai\n"
     ]
    }
   ],
   "source": [
    "informacija(\"Geras\", \"Studentas\", \"viska stebi\", \"atidžiai\")"
   ]
  },
  {
   "cell_type": "code",
   "execution_count": 46,
   "metadata": {},
   "outputs": [
    {
     "name": "stdout",
     "output_type": "stream",
     "text": [
      "Blogas Studentas: miega, nedaro užduočių, nedalyvauja, neatsako kai į jį kreipiamės\n"
     ]
    }
   ],
   "source": [
    "informacija(\"Blogas\", \"Studentas\", \"miega\", \"nedaro užduočių\", \"nedalyvauja\", \"neatsako kai į jį kreipiamės\")"
   ]
  },
  {
   "attachments": {},
   "cell_type": "markdown",
   "metadata": {},
   "source": [
    "## kwargai (neriboti raktiniai argumentai)"
   ]
  },
  {
   "cell_type": "code",
   "execution_count": 47,
   "metadata": {},
   "outputs": [
    {
     "name": "stdout",
     "output_type": "stream",
     "text": [
      "pienas: 2.00€\n",
      "miltai: 1.00€\n",
      "kiaušiniai: 3.00€\n",
      "Viso: 6.00€\n"
     ]
    }
   ],
   "source": [
    "def saskaita(**produktai):\n",
    "    suma = 0\n",
    "    for produktas, kaina in produktai.items():\n",
    "        suma += kaina\n",
    "        print(f\"{produktas}: {kaina:.2f}€\")\n",
    "    print(f\"Viso: {suma:.2f}€\")\n",
    "\n",
    "saskaita(pienas=2, miltai=1, kiaušiniai=3)"
   ]
  },
  {
   "cell_type": "code",
   "execution_count": 50,
   "metadata": {},
   "outputs": [],
   "source": [
    "def automobilis(marke: str, modelis: str, metai: int, **kwargs):\n",
    "    print(f\"{marke} {modelis} {metai}:\")\n",
    "    for parametras, reiksme in kwargs.items():\n",
    "        print(f\" - {parametras}: {reiksme}\")"
   ]
  },
  {
   "cell_type": "code",
   "execution_count": 52,
   "metadata": {},
   "outputs": [
    {
     "name": "stdout",
     "output_type": "stream",
     "text": [
      "Fiat 500 1964:\n",
      " - variklis: 1.2\n",
      " - kuro_tipas: dyzelis\n"
     ]
    }
   ],
   "source": [
    "automobilis(\"Fiat\", \"500\", 1964, variklis=\"1.2\", kuro_tipas=\"dyzelis\")"
   ]
  },
  {
   "cell_type": "code",
   "execution_count": 51,
   "metadata": {},
   "outputs": [
    {
     "name": "stdout",
     "output_type": "stream",
     "text": [
      "Tesla Model 3 2017:\n",
      " - variklis: ['elektra', 'elektra']\n",
      " - kuro_tipas: elektra\n"
     ]
    }
   ],
   "source": [
    "automobilis(\"Tesla\", \"Model 3\", 2017, variklis=[\"elektra\", \"elektra\"], kuro_tipas=\"elektra\")"
   ]
  },
  {
   "cell_type": "code",
   "execution_count": 2,
   "metadata": {},
   "outputs": [],
   "source": [
    "def miksas(pavadinimas: str, *skaiciai, **kita):\n",
    "    print(pavadinimas)\n",
    "    print(sum(skaiciai))\n",
    "    for raktas, reiksme in kita.items():\n",
    "        print(f\"- {raktas}={str(reiksme)}\")"
   ]
  },
  {
   "cell_type": "code",
   "execution_count": 4,
   "metadata": {},
   "outputs": [
    {
     "name": "stdout",
     "output_type": "stream",
     "text": [
      "Kalnas\n",
      "3457\n",
      "- apsniges=False\n",
      "- grazus=True\n",
      "- zmoniu=daug\n"
     ]
    }
   ],
   "source": [
    "miksas(\"Kalnas\", 20, 30, 400, 3007, apsniges=False, grazus=True, zmoniu=\"daug\")"
   ]
  },
  {
   "attachments": {},
   "cell_type": "markdown",
   "metadata": {},
   "source": [
    "## local/global kintamieji"
   ]
  },
  {
   "cell_type": "code",
   "execution_count": 15,
   "metadata": {},
   "outputs": [
    {
     "name": "stdout",
     "output_type": "stream",
     "text": [
      "iš programos:  Geras pirmadienis\n",
      "iš funkcijos:  ... jau ateina savaitgalis\n",
      "iš funkcijos:  Geras pirmadienis... jau ateina savaitgalis\n",
      "iš programos:  Geras pirmadienis\n",
      "iš funkcijos:  Geras pirmadienis... jau ateina savaitgalis\n",
      "grąžintas:  Geras pirmadienis... jau ateina savaitgalis\n"
     ]
    }
   ],
   "source": [
    "bendras = \"Geras pirmadienis\"\n",
    "\n",
    "def ketvirtadienis():\n",
    "    global bendras\n",
    "    bendras += \"... rytoj ateina savaitgalis\"\n",
    "    print(\"iš funkcijos globalus: \", bendras)\n",
    "\n",
    "def penktadienis(vietinis=\"\"):\n",
    "    # global bendras\n",
    "    vietinis += \"... jau ateina savaitgalis\"\n",
    "    print(\"iš funkcijos: \", vietinis)\n",
    "    return vietinis\n",
    "\n",
    "print(\"iš programos: \", bendras)\n",
    "penktadienis()\n",
    "# ketvirtadienis()\n",
    "penktadienis(bendras)\n",
    "print(\"iš programos: \", bendras)\n",
    "bendras = penktadienis(bendras)\n",
    "print(\"grąžintas: \", bendras)\n"
   ]
  },
  {
   "attachments": {},
   "cell_type": "markdown",
   "metadata": {},
   "source": [
    "## anoniminės funkcijos, lambda"
   ]
  },
  {
   "cell_type": "code",
   "execution_count": 16,
   "metadata": {},
   "outputs": [
    {
     "name": "stdout",
     "output_type": "stream",
     "text": [
      "11\n"
     ]
    }
   ],
   "source": [
    "suma = lambda *args: sum(args)\n",
    "print(suma(1, 2, 3, 5))"
   ]
  },
  {
   "cell_type": "code",
   "execution_count": 20,
   "metadata": {},
   "outputs": [],
   "source": [
    "kvadratu = lambda x: x**2"
   ]
  },
  {
   "cell_type": "code",
   "execution_count": 21,
   "metadata": {},
   "outputs": [
    {
     "name": "stdout",
     "output_type": "stream",
     "text": [
      "[4, 9, 49]\n"
     ]
    }
   ],
   "source": [
    "rez = map(kvadratu, [2, 3, 7])\n",
    "print(list(rez))"
   ]
  },
  {
   "cell_type": "code",
   "execution_count": 22,
   "metadata": {},
   "outputs": [
    {
     "name": "stdout",
     "output_type": "stream",
     "text": [
      "[3.0, 8.0, 10.0, 100.0]\n"
     ]
    }
   ],
   "source": [
    "saknys = map(lambda x: x**0.5, [9, 64, 100, 10000])\n",
    "print(list(saknys))"
   ]
  },
  {
   "cell_type": "code",
   "execution_count": 24,
   "metadata": {},
   "outputs": [
    {
     "name": "stdout",
     "output_type": "stream",
     "text": [
      "['kumpis', 'beeeeeer', 'makaronai', 'parmigiano', 'pesto rosso']\n"
     ]
    }
   ],
   "source": [
    "zodziai = ['makaronai', 'kumpis', 'pesto rosso', 'parmigiano', 'beeeeeer']\n",
    "pagal_ilgi = sorted(zodziai, key=lambda zodis: len(zodis))\n",
    "print(pagal_ilgi)"
   ]
  },
  {
   "cell_type": "code",
   "execution_count": 26,
   "metadata": {},
   "outputs": [
    {
     "name": "stdout",
     "output_type": "stream",
     "text": [
      "['kumpis', 'beeeeeer', 'makaronai', 'parmigiano', 'pesto rosso']\n"
     ]
    }
   ],
   "source": [
    "def grazinti_ilgi(zodis):\n",
    "    return len(zodis)\n",
    "\n",
    "pagal_ilgi = sorted(zodziai, key=len)\n",
    "print(pagal_ilgi)"
   ]
  },
  {
   "cell_type": "code",
   "execution_count": 28,
   "metadata": {},
   "outputs": [
    {
     "name": "stdout",
     "output_type": "stream",
     "text": [
      "[1, 2, 3]\n"
     ]
    }
   ],
   "source": [
    "# blogo programavimo pvz.\n",
    "a = lambda x: x+1\n",
    "b = [0, 1, 2]\n",
    "print(list(map(a, b)))"
   ]
  },
  {
   "cell_type": "code",
   "execution_count": 31,
   "metadata": {},
   "outputs": [
    {
     "name": "stdout",
     "output_type": "stream",
     "text": [
      "[1, 2, 3]\n"
     ]
    }
   ],
   "source": [
    "# gero programavimo pvz.\n",
    "plius_vienas = lambda skaicius: skaicius + 1\n",
    "skaiciai = [0, 1, 2]\n",
    "print(list(map(plius_vienas, skaiciai)))"
   ]
  }
 ],
 "metadata": {
  "kernelspec": {
   "display_name": "venv",
   "language": "python",
   "name": "python3"
  },
  "language_info": {
   "codemirror_mode": {
    "name": "ipython",
    "version": 3
   },
   "file_extension": ".py",
   "mimetype": "text/x-python",
   "name": "python",
   "nbconvert_exporter": "python",
   "pygments_lexer": "ipython3",
   "version": "3.8.10"
  },
  "orig_nbformat": 4
 },
 "nbformat": 4,
 "nbformat_minor": 2
}
