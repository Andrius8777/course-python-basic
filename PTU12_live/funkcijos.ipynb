{
 "cells": [
  {
   "attachments": {},
   "cell_type": "markdown",
   "metadata": {},
   "source": [
    "## Funkcijos"
   ]
  },
  {
   "cell_type": "code",
   "execution_count": 1,
   "metadata": {},
   "outputs": [
    {
     "name": "stdout",
     "output_type": "stream",
     "text": [
      "Labas Studente\n",
      "Labas Žmogau\n"
     ]
    }
   ],
   "source": [
    "def pasisveikinti(vardas):\n",
    "    print(f\"Labas {vardas}\")\n",
    "\n",
    "pasisveikinti(\"Studente\")\n",
    "pasisveikinti(\"Žmogau\")"
   ]
  },
  {
   "cell_type": "code",
   "execution_count": 2,
   "metadata": {},
   "outputs": [
    {
     "name": "stdout",
     "output_type": "stream",
     "text": [
      "SABAL\n"
     ]
    }
   ],
   "source": [
    "def atbulai(tekstas):\n",
    "    return tekstas[::-1]\n",
    "\n",
    "print(atbulai(\"LABAS\"))"
   ]
  },
  {
   "cell_type": "code",
   "execution_count": 3,
   "metadata": {},
   "outputs": [
    {
     "name": "stdout",
     "output_type": "stream",
     "text": [
      "utar isakus satar\n"
     ]
    }
   ],
   "source": [
    "ratas_atbulai = atbulai(\"ratas sukasi ratu\")\n",
    "print(ratas_atbulai)"
   ]
  },
  {
   "cell_type": "code",
   "execution_count": 4,
   "metadata": {},
   "outputs": [
    {
     "name": "stdout",
     "output_type": "stream",
     "text": [
      "4\n"
     ]
    }
   ],
   "source": [
    "def daugyba(x, y):\n",
    "    return x * y\n",
    "\n",
    "print(daugyba(2, 2))"
   ]
  },
  {
   "cell_type": "code",
   "execution_count": 6,
   "metadata": {},
   "outputs": [
    {
     "name": "stdout",
     "output_type": "stream",
     "text": [
      "pirmas antras\n"
     ]
    }
   ],
   "source": [
    "def kiaura(par1, par2):\n",
    "    return par1, par2\n",
    "\n",
    "# print(kiaura(\"pirmas\", \"antras\"))\n",
    "pirmas, antras = kiaura(\"pirmas\", \"antras\")\n",
    "print(pirmas, antras)"
   ]
  },
  {
   "cell_type": "code",
   "execution_count": 12,
   "metadata": {},
   "outputs": [
    {
     "name": "stdout",
     "output_type": "stream",
     "text": [
      "([1, 2, 4, 6, 8, 11], [-3, -5, -7, -9, -10], ['a'])\n"
     ]
    }
   ],
   "source": [
    "def teigiami_neigiami(skaiciu_sarasas):\n",
    "    teigiami = []\n",
    "    neigiami = []\n",
    "    kiti = []\n",
    "    for skaicius in skaiciu_sarasas:\n",
    "        if type(skaicius) == int or type(skaicius) == float:\n",
    "            if skaicius > 0:\n",
    "                teigiami.append(skaicius)\n",
    "            else:\n",
    "                neigiami.append(skaicius)\n",
    "        else:\n",
    "            kiti.append(skaicius)\n",
    "    return teigiami, neigiami, kiti\n",
    "\n",
    "skaiciai = [1, 2, -3, 4, -5, \"a\", 6, -7, 8, -9, -10, 11]\n",
    "print(teigiami_neigiami(skaiciai))"
   ]
  },
  {
   "cell_type": "code",
   "execution_count": 20,
   "metadata": {},
   "outputs": [
    {
     "data": {
      "text/plain": [
       "[3, 2, 1]"
      ]
     },
     "execution_count": 20,
     "metadata": {},
     "output_type": "execute_result"
    }
   ],
   "source": [
    "def apverstas(sarasas: list):\n",
    "    sarasas.reverse()\n",
    "    return sarasas\n",
    "\n",
    "apverstas([1, 2, 3])\n"
   ]
  },
  {
   "cell_type": "code",
   "execution_count": null,
   "metadata": {},
   "outputs": [],
   "source": [
    "def trikampio_plotas(a, b, c):\n",
    "    s = (a + b + c) / 2  # pusė perimetro\n",
    "    plotas = (s * (s - a) * (s - b) * (s - c)) ** 0.5\n",
    "    return plotas\n",
    "\n",
    "print(trikampio_plotas(5, 5, 5))"
   ]
  }
 ],
 "metadata": {
  "kernelspec": {
   "display_name": "venv",
   "language": "python",
   "name": "python3"
  },
  "language_info": {
   "codemirror_mode": {
    "name": "ipython",
    "version": 3
   },
   "file_extension": ".py",
   "mimetype": "text/x-python",
   "name": "python",
   "nbconvert_exporter": "python",
   "pygments_lexer": "ipython3",
   "version": "3.8.10"
  },
  "orig_nbformat": 4
 },
 "nbformat": 4,
 "nbformat_minor": 2
}
