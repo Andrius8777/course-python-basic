{
 "cells": [
  {
   "cell_type": "code",
   "execution_count": 5,
   "metadata": {},
   "outputs": [
    {
     "name": "stdout",
     "output_type": "stream",
     "text": [
      "[9, 8, 7, 6, 5, 4, 3, 2, 1, 0]\n"
     ]
    }
   ],
   "source": [
    "skaiciai = sorted(range(0, 10), reverse=True)\n",
    "print(skaiciai)"
   ]
  },
  {
   "cell_type": "code",
   "execution_count": 6,
   "metadata": {},
   "outputs": [
    {
     "name": "stdout",
     "output_type": "stream",
     "text": [
      "9\n",
      "8\n",
      "7\n",
      "6\n",
      "5\n",
      "4\n",
      "3\n",
      "2\n",
      "1\n",
      "0\n",
      "Lift-off!\n",
      "BOOOM!\n"
     ]
    }
   ],
   "source": [
    "import time\n",
    "countdown = iter(skaiciai)\n",
    "while True:\n",
    "    try:\n",
    "        print(next(countdown))\n",
    "        time.sleep(0.2)\n",
    "    except StopIteration:\n",
    "        print(\"Lift-off!\")\n",
    "        break\n",
    "time.sleep(1)\n",
    "print(\"BOOOM!\")"
   ]
  },
  {
   "cell_type": "code",
   "execution_count": 8,
   "metadata": {},
   "outputs": [
    {
     "name": "stdout",
     "output_type": "stream",
     "text": [
      "ištraukėm 2 kg pienas\n",
      "ištraukėm 11 kg kiaušiniai\n",
      "ištraukėm 2.4 kg sūris\n",
      "ištraukėm 6.1 kg kumpis\n",
      "ištraukėm 4.3 kg pomidorai\n",
      "Produktai baigėsi, šaldytuvas tuščias\n"
     ]
    }
   ],
   "source": [
    "saldytuvas = {\n",
    "    \"pienas\": 2,\n",
    "    \"kiaušiniai\": 11,\n",
    "    \"sūris\": 2.4,\n",
    "    \"kumpis\": 6.1,\n",
    "    \"pomidorai\": 4.3,\n",
    "}\n",
    "traukimas = iter(saldytuvas.items())\n",
    "while True:\n",
    "    try:\n",
    "        produktas, kiekis = next(traukimas)\n",
    "    except StopIteration:\n",
    "        print(\"Produktai baigėsi, šaldytuvas tuščias\")\n",
    "        break\n",
    "    else:\n",
    "        print(f\"ištraukėm {kiekis} kg {produktas}\")\n"
   ]
  },
  {
   "cell_type": "code",
   "execution_count": 10,
   "metadata": {},
   "outputs": [
    {
     "name": "stdout",
     "output_type": "stream",
     "text": [
      "ištraukėm 2 kg pienas\n",
      "ištraukėm 11 kg kiaušiniai\n",
      "[('sūris', 2.4), ('kumpis', 6.1), ('pomidorai', 4.3)]\n"
     ]
    }
   ],
   "source": [
    "saldytuvas = {\n",
    "    \"pienas\": 2,\n",
    "    \"kiaušiniai\": 11,\n",
    "    \"sūris\": 2.4,\n",
    "    \"kumpis\": 6.1,\n",
    "    \"pomidorai\": 4.3,\n",
    "}\n",
    "traukimas = iter(saldytuvas.items())\n",
    "while True:\n",
    "    try:\n",
    "        produktas, kiekis = next(traukimas)\n",
    "    except StopIteration:\n",
    "        print(\"Produktai baigėsi, šaldytuvas tuščias\")\n",
    "        break\n",
    "    else:\n",
    "        print(f\"ištraukėm {kiekis} kg {produktas}\")\n",
    "        if produktas == \"kiaušiniai\":\n",
    "            break\n",
    "print(list(traukimas))"
   ]
  },
  {
   "cell_type": "code",
   "execution_count": 11,
   "metadata": {},
   "outputs": [
    {
     "ename": "StopIteration",
     "evalue": "",
     "output_type": "error",
     "traceback": [
      "\u001b[0;31m---------------------------------------------------------------------------\u001b[0m",
      "\u001b[0;31mStopIteration\u001b[0m                             Traceback (most recent call last)",
      "Cell \u001b[0;32mIn[11], line 1\u001b[0m\n\u001b[0;32m----> 1\u001b[0m \u001b[39mprint\u001b[39m(\u001b[39mnext\u001b[39;49m(traukimas))\n",
      "\u001b[0;31mStopIteration\u001b[0m: "
     ]
    }
   ],
   "source": [
    "print(next(traukimas))"
   ]
  }
 ],
 "metadata": {
  "kernelspec": {
   "display_name": "venv",
   "language": "python",
   "name": "python3"
  },
  "language_info": {
   "codemirror_mode": {
    "name": "ipython",
    "version": 3
   },
   "file_extension": ".py",
   "mimetype": "text/x-python",
   "name": "python",
   "nbconvert_exporter": "python",
   "pygments_lexer": "ipython3",
   "version": "3.8.10"
  },
  "orig_nbformat": 4
 },
 "nbformat": 4,
 "nbformat_minor": 2
}
