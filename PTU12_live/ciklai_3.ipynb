{
 "cells": [
  {
   "attachments": {},
   "cell_type": "markdown",
   "metadata": {},
   "source": [
    "## sąrašai"
   ]
  },
  {
   "cell_type": "code",
   "execution_count": 2,
   "metadata": {},
   "outputs": [
    {
     "name": "stdout",
     "output_type": "stream",
     "text": [
      "[1, 2, 3, 4, 5]\n"
     ]
    }
   ],
   "source": [
    "skaiciai = [1, 2, 3, 4, 5]\n",
    "print(skaiciai)"
   ]
  },
  {
   "cell_type": "code",
   "execution_count": 3,
   "metadata": {},
   "outputs": [
    {
     "name": "stdout",
     "output_type": "stream",
     "text": [
      "['geri', 'buvo', 'pietūs']\n"
     ]
    }
   ],
   "source": [
    "zodziai = [\"geri\", \"buvo\", \"pietūs\"]\n",
    "print(zodziai)"
   ]
  },
  {
   "cell_type": "code",
   "execution_count": 4,
   "metadata": {},
   "outputs": [
    {
     "name": "stdout",
     "output_type": "stream",
     "text": [
      "pietūs\n"
     ]
    }
   ],
   "source": [
    "print(zodziai[2])"
   ]
  },
  {
   "cell_type": "code",
   "execution_count": 5,
   "metadata": {},
   "outputs": [
    {
     "name": "stdout",
     "output_type": "stream",
     "text": [
      "5\n"
     ]
    }
   ],
   "source": [
    "print(skaiciai[-1])"
   ]
  },
  {
   "cell_type": "code",
   "execution_count": 6,
   "metadata": {},
   "outputs": [
    {
     "name": "stdout",
     "output_type": "stream",
     "text": [
      "[1, 2, 3]\n"
     ]
    }
   ],
   "source": [
    "print(skaiciai[:3])"
   ]
  },
  {
   "cell_type": "code",
   "execution_count": 7,
   "metadata": {},
   "outputs": [
    {
     "name": "stdout",
     "output_type": "stream",
     "text": [
      "[3, 4, 5]\n"
     ]
    }
   ],
   "source": [
    "print(skaiciai[2:])"
   ]
  },
  {
   "cell_type": "code",
   "execution_count": 8,
   "metadata": {},
   "outputs": [
    {
     "name": "stdout",
     "output_type": "stream",
     "text": [
      "[5, 3, 1]\n"
     ]
    }
   ],
   "source": [
    "print(skaiciai[::-2])"
   ]
  },
  {
   "cell_type": "code",
   "execution_count": 9,
   "metadata": {},
   "outputs": [
    {
     "name": "stdout",
     "output_type": "stream",
     "text": [
      "atsaren sėluas ,aneid agniteil ižarG\n"
     ]
    }
   ],
   "source": [
    "sakinys = \"Graži lietinga diena, saulės nerasta\"\n",
    "print(sakinys[::-1])"
   ]
  },
  {
   "cell_type": "code",
   "execution_count": 10,
   "metadata": {},
   "outputs": [
    {
     "name": "stdout",
     "output_type": "stream",
     "text": [
      "['Graži', 'lietinga', 'diena', 'saulės', 'nerasta']\n"
     ]
    }
   ],
   "source": [
    "sakinys = sakinys.replace(\",\", \"\")\n",
    "sakinio_zodziai = sakinys.split()\n",
    "print(sakinio_zodziai)"
   ]
  },
  {
   "cell_type": "code",
   "execution_count": 11,
   "metadata": {},
   "outputs": [
    {
     "name": "stdout",
     "output_type": "stream",
     "text": [
      "[1, 2, 3, 4, 5, 6]\n"
     ]
    }
   ],
   "source": [
    "skaiciai.append(6)\n",
    "print(skaiciai)"
   ]
  },
  {
   "cell_type": "code",
   "execution_count": 12,
   "metadata": {},
   "outputs": [
    {
     "name": "stdout",
     "output_type": "stream",
     "text": [
      "[1, 2, 3, 4, 5, 6, 7, 8, 9]\n"
     ]
    }
   ],
   "source": [
    "kiti_skaiciai = [7, 8, 9]\n",
    "skaiciai.extend(kiti_skaiciai)\n",
    "print(skaiciai)"
   ]
  },
  {
   "cell_type": "code",
   "execution_count": 13,
   "metadata": {},
   "outputs": [
    {
     "name": "stdout",
     "output_type": "stream",
     "text": [
      "[1, 2, 3, 11, 4, 5, 6, 7, 8, 9]\n"
     ]
    }
   ],
   "source": [
    "skaiciai.insert(3, 11)\n",
    "print(skaiciai)"
   ]
  },
  {
   "cell_type": "code",
   "execution_count": 14,
   "metadata": {},
   "outputs": [
    {
     "name": "stdout",
     "output_type": "stream",
     "text": [
      "[1, 2, 3, 11, 4, 5, 6, 8, 9]\n"
     ]
    }
   ],
   "source": [
    "skaiciai.remove(7)\n",
    "print(skaiciai)"
   ]
  },
  {
   "cell_type": "code",
   "execution_count": 15,
   "metadata": {},
   "outputs": [
    {
     "name": "stdout",
     "output_type": "stream",
     "text": [
      "9\n",
      "[1, 2, 3, 11, 4, 5, 6, 8]\n"
     ]
    }
   ],
   "source": [
    "devynke = skaiciai.pop()\n",
    "print(devynke)\n",
    "print(skaiciai)"
   ]
  },
  {
   "cell_type": "code",
   "execution_count": 16,
   "metadata": {},
   "outputs": [
    {
     "name": "stdout",
     "output_type": "stream",
     "text": [
      "4\n",
      "[1, 2, 3, 11, 5, 6, 8]\n"
     ]
    }
   ],
   "source": [
    "ketvertas = skaiciai.pop(4)\n",
    "print(ketvertas)\n",
    "print(skaiciai)"
   ]
  },
  {
   "cell_type": "code",
   "execution_count": 17,
   "metadata": {},
   "outputs": [
    {
     "name": "stdout",
     "output_type": "stream",
     "text": [
      "5\n"
     ]
    }
   ],
   "source": [
    "kur_sesi = skaiciai.index(6)\n",
    "print(kur_sesi)"
   ]
  },
  {
   "cell_type": "code",
   "execution_count": 18,
   "metadata": {},
   "outputs": [
    {
     "name": "stdout",
     "output_type": "stream",
     "text": [
      "[1, 2, 3, 11, 5, 6, 8, 7, 2, 3, 5, 5, 8, 11, 4, 6]\n"
     ]
    }
   ],
   "source": [
    "skaiciai.extend([7, 2, 3, 5, 5, 8, 11, 4, 6])\n",
    "print(skaiciai)"
   ]
  },
  {
   "cell_type": "code",
   "execution_count": 19,
   "metadata": {},
   "outputs": [
    {
     "name": "stdout",
     "output_type": "stream",
     "text": [
      "1\n"
     ]
    }
   ],
   "source": [
    "print(skaiciai.count(1))"
   ]
  },
  {
   "cell_type": "code",
   "execution_count": 20,
   "metadata": {},
   "outputs": [
    {
     "name": "stdout",
     "output_type": "stream",
     "text": [
      "[1, 2, 2, 3, 3, 4, 5, 5, 5, 6, 6, 7, 8, 8, 11, 11]\n"
     ]
    }
   ],
   "source": [
    "skaiciai.sort()\n",
    "print(skaiciai)"
   ]
  },
  {
   "cell_type": "code",
   "execution_count": 21,
   "metadata": {},
   "outputs": [
    {
     "name": "stdout",
     "output_type": "stream",
     "text": [
      "[11, 11, 8, 8, 7, 6, 6, 5, 5, 5, 4, 3, 3, 2, 2, 1]\n"
     ]
    }
   ],
   "source": [
    "skaiciai.sort(reverse=True)\n",
    "print(skaiciai)"
   ]
  },
  {
   "cell_type": "code",
   "execution_count": 22,
   "metadata": {},
   "outputs": [
    {
     "name": "stdout",
     "output_type": "stream",
     "text": [
      "['pietūs', 'buvo', 'geri']\n"
     ]
    }
   ],
   "source": [
    "zodziai.reverse()\n",
    "print(zodziai)"
   ]
  },
  {
   "cell_type": "code",
   "execution_count": 23,
   "metadata": {},
   "outputs": [
    {
     "name": "stdout",
     "output_type": "stream",
     "text": [
      "16\n"
     ]
    }
   ],
   "source": [
    "print(len(skaiciai))"
   ]
  },
  {
   "cell_type": "code",
   "execution_count": 24,
   "metadata": {},
   "outputs": [
    {
     "name": "stdout",
     "output_type": "stream",
     "text": [
      "3\n"
     ]
    }
   ],
   "source": [
    "print(len(zodziai))"
   ]
  },
  {
   "cell_type": "code",
   "execution_count": 25,
   "metadata": {},
   "outputs": [
    {
     "name": "stdout",
     "output_type": "stream",
     "text": [
      "False\n"
     ]
    }
   ],
   "source": [
    "print(9 in skaiciai)"
   ]
  },
  {
   "cell_type": "code",
   "execution_count": 26,
   "metadata": {},
   "outputs": [
    {
     "name": "stdout",
     "output_type": "stream",
     "text": [
      "<class 'int'>\n"
     ]
    }
   ],
   "source": [
    "print(type(skaiciai[0]))"
   ]
  },
  {
   "cell_type": "code",
   "execution_count": 27,
   "metadata": {},
   "outputs": [
    {
     "name": "stdout",
     "output_type": "stream",
     "text": [
      "87\n"
     ]
    }
   ],
   "source": [
    "print(sum(skaiciai))"
   ]
  },
  {
   "cell_type": "code",
   "execution_count": 28,
   "metadata": {},
   "outputs": [
    {
     "name": "stdout",
     "output_type": "stream",
     "text": [
      "[11, 11, 8, 8, 7, 6, 6, 5, 5, 5, 4, 3, 3, 2, 2, 1]\n"
     ]
    }
   ],
   "source": [
    "print(skaiciai)"
   ]
  },
  {
   "cell_type": "code",
   "execution_count": 29,
   "metadata": {},
   "outputs": [
    {
     "name": "stdout",
     "output_type": "stream",
     "text": [
      "[11, 11, 8, 8, 8, 6, 6, 5, 5, 5, 4, 3, 3, 2, 2, 1]\n"
     ]
    }
   ],
   "source": [
    "skaiciai[4] = 8\n",
    "print(skaiciai)"
   ]
  },
  {
   "cell_type": "code",
   "execution_count": 30,
   "metadata": {},
   "outputs": [
    {
     "name": "stdout",
     "output_type": "stream",
     "text": [
      "[11, 11, 8, 8, 6, 6, 5, 5, 5, 4, 3, 3, 2, 2, 1]\n"
     ]
    }
   ],
   "source": [
    "del skaiciai[4]\n",
    "print(skaiciai)"
   ]
  },
  {
   "cell_type": "code",
   "execution_count": 31,
   "metadata": {},
   "outputs": [
    {
     "name": "stdout",
     "output_type": "stream",
     "text": [
      "5\n"
     ]
    }
   ],
   "source": [
    "print(skaiciai.pop(6))"
   ]
  },
  {
   "cell_type": "code",
   "execution_count": 32,
   "metadata": {},
   "outputs": [
    {
     "name": "stdout",
     "output_type": "stream",
     "text": [
      "[11, 11, 8, 8, 6, 6, 5, 5, 4, 3, 3, 2, 2, 1]\n"
     ]
    }
   ],
   "source": [
    "print(skaiciai)"
   ]
  },
  {
   "attachments": {},
   "cell_type": "markdown",
   "metadata": {},
   "source": [
    "## žodynai"
   ]
  },
  {
   "cell_type": "code",
   "execution_count": 33,
   "metadata": {},
   "outputs": [
    {
     "name": "stdout",
     "output_type": "stream",
     "text": [
      "{'good': 'geras', 'fun': 'juokingas', 'big': 'didelis'}\n"
     ]
    }
   ],
   "source": [
    "zodynas = {\n",
    "    'good': 'geras',\n",
    "    'fun': 'juokingas',\n",
    "    'big': 'didelis',\n",
    "}\n",
    "print(zodynas)"
   ]
  },
  {
   "cell_type": "code",
   "execution_count": 34,
   "metadata": {},
   "outputs": [
    {
     "name": "stdout",
     "output_type": "stream",
     "text": [
      "{'petras': [5, 3, 2, 1], 'monika': [7, 11, 3, 0]}\n"
     ]
    }
   ],
   "source": [
    "zmones = {\n",
    "    'petras': [5, 3, 2, 1],\n",
    "    'monika': [7, 11, 3, 0],\n",
    "}\n",
    "print(zmones)"
   ]
  },
  {
   "cell_type": "code",
   "execution_count": 35,
   "metadata": {},
   "outputs": [
    {
     "name": "stdout",
     "output_type": "stream",
     "text": [
      "geras\n"
     ]
    }
   ],
   "source": [
    "print(zodynas['good'])"
   ]
  },
  {
   "cell_type": "code",
   "execution_count": 36,
   "metadata": {},
   "outputs": [
    {
     "name": "stdout",
     "output_type": "stream",
     "text": [
      "{'good': 'geras', 'fun': 'juokingas', 'big': 'didelis', 'bad': 'blogas'}\n"
     ]
    }
   ],
   "source": [
    "zodynas['bad'] = 'blogas'\n",
    "print(zodynas)"
   ]
  },
  {
   "cell_type": "code",
   "execution_count": 37,
   "metadata": {},
   "outputs": [
    {
     "name": "stdout",
     "output_type": "stream",
     "text": [
      "{'good': 'geras', 'fun': 'juokingas', 'big': 'didelis', 'bad': 'blogas', 'evil': 'blogis'}\n"
     ]
    }
   ],
   "source": [
    "zodynas['evil'] = 'blogis'\n",
    "print(zodynas)"
   ]
  },
  {
   "cell_type": "code",
   "execution_count": 38,
   "metadata": {},
   "outputs": [
    {
     "name": "stdout",
     "output_type": "stream",
     "text": [
      "{'good': 'geras', 'fun': 'juokingas', 'big': 'didelis', 'bad': 'blogas', 'evil': 'blogis', 'goodness': 'gėris'}\n"
     ]
    }
   ],
   "source": [
    "zodynas['goodness'] = 'gėris'\n",
    "print(zodynas)"
   ]
  },
  {
   "cell_type": "code",
   "execution_count": 39,
   "metadata": {},
   "outputs": [
    {
     "ename": "KeyError",
     "evalue": "'goodnes'",
     "output_type": "error",
     "traceback": [
      "\u001b[0;31m---------------------------------------------------------------------------\u001b[0m",
      "\u001b[0;31mKeyError\u001b[0m                                  Traceback (most recent call last)",
      "Cell \u001b[0;32mIn[39], line 1\u001b[0m\n\u001b[0;32m----> 1\u001b[0m \u001b[39mdel\u001b[39;00m zodynas[\u001b[39m'\u001b[39m\u001b[39mgoodnes\u001b[39m\u001b[39m'\u001b[39m]\n\u001b[1;32m      2\u001b[0m \u001b[39mprint\u001b[39m(zodynas)\n",
      "\u001b[0;31mKeyError\u001b[0m: 'goodnes'"
     ]
    }
   ],
   "source": [
    "del zodynas['goodnes']\n",
    "print(zodynas)"
   ]
  },
  {
   "attachments": {},
   "cell_type": "markdown",
   "metadata": {},
   "source": [
    "## žodyno metodai"
   ]
  },
  {
   "cell_type": "code",
   "execution_count": null,
   "metadata": {},
   "outputs": [
    {
     "name": "stdout",
     "output_type": "stream",
     "text": [
      "dict_keys(['good', 'fun', 'big', 'bad', 'evil', 'goodness'])\n"
     ]
    }
   ],
   "source": [
    "print(zodynas.keys())"
   ]
  },
  {
   "cell_type": "code",
   "execution_count": null,
   "metadata": {},
   "outputs": [
    {
     "name": "stdout",
     "output_type": "stream",
     "text": [
      "big\n"
     ]
    }
   ],
   "source": [
    "print(list(zodynas.keys())[2])"
   ]
  },
  {
   "cell_type": "code",
   "execution_count": null,
   "metadata": {},
   "outputs": [
    {
     "name": "stdout",
     "output_type": "stream",
     "text": [
      "dict_values(['geras', 'juokingas', 'didelis', 'blogas', 'blogis', 'gėris'])\n"
     ]
    }
   ],
   "source": [
    "print(zodynas.values())"
   ]
  },
  {
   "cell_type": "code",
   "execution_count": null,
   "metadata": {},
   "outputs": [
    {
     "name": "stdout",
     "output_type": "stream",
     "text": [
      "dict_items([('good', 'geras'), ('fun', 'juokingas'), ('big', 'didelis'), ('bad', 'blogas'), ('evil', 'blogis'), ('goodness', 'gėris')])\n"
     ]
    }
   ],
   "source": [
    "print(zodynas.items())"
   ]
  },
  {
   "cell_type": "code",
   "execution_count": null,
   "metadata": {},
   "outputs": [
    {
     "name": "stdout",
     "output_type": "stream",
     "text": [
      "None\n"
     ]
    }
   ],
   "source": [
    "print(zodynas.get('funny'))"
   ]
  },
  {
   "cell_type": "code",
   "execution_count": null,
   "metadata": {},
   "outputs": [
    {
     "name": "stdout",
     "output_type": "stream",
     "text": [
      "blogas\n"
     ]
    }
   ],
   "source": [
    "blogas = zodynas.pop('bad')\n",
    "print(blogas)"
   ]
  },
  {
   "cell_type": "code",
   "execution_count": null,
   "metadata": {},
   "outputs": [
    {
     "name": "stdout",
     "output_type": "stream",
     "text": [
      "blogis\n"
     ]
    }
   ],
   "source": [
    "blogis = zodynas.pop('bad', 'blogis')\n",
    "print(blogis)"
   ]
  },
  {
   "cell_type": "code",
   "execution_count": null,
   "metadata": {},
   "outputs": [
    {
     "data": {
      "text/plain": [
       "{}"
      ]
     },
     "execution_count": 82,
     "metadata": {},
     "output_type": "execute_result"
    }
   ],
   "source": [
    "zmones.clear()\n",
    "zmones"
   ]
  },
  {
   "cell_type": "code",
   "execution_count": null,
   "metadata": {},
   "outputs": [],
   "source": [
    "zmones = {}"
   ]
  },
  {
   "cell_type": "code",
   "execution_count": null,
   "metadata": {},
   "outputs": [
    {
     "name": "stdout",
     "output_type": "stream",
     "text": [
      "{'Milda': 'Gyvūnų mėgėja', 'Andrius 1': 'Fūristas'}\n"
     ]
    }
   ],
   "source": [
    "zmones['Milda'] = 'Gyvūnų mėgėja'\n",
    "zmones['Andrius 1'] = 'Fūristas'\n",
    "print(zmones)"
   ]
  },
  {
   "attachments": {},
   "cell_type": "markdown",
   "metadata": {},
   "source": [
    "## for ciklas"
   ]
  },
  {
   "cell_type": "code",
   "execution_count": 41,
   "metadata": {},
   "outputs": [
    {
     "name": "stdout",
     "output_type": "stream",
     "text": [
      "11 | 11 | 8 | 8 | 6 | 6 | 5 | 5 | 4 | 3 | 3 | 2 | 2 | 1 | "
     ]
    }
   ],
   "source": [
    "for skaicius in skaiciai:\n",
    "    print(skaicius, end=\" | \")"
   ]
  },
  {
   "cell_type": "code",
   "execution_count": 56,
   "metadata": {},
   "outputs": [
    {
     "data": {
      "text/plain": [
       "15"
      ]
     },
     "execution_count": 56,
     "metadata": {},
     "output_type": "execute_result"
    }
   ],
   "source": [
    "skaicius += 1\n",
    "skaicius"
   ]
  },
  {
   "cell_type": "code",
   "execution_count": 65,
   "metadata": {},
   "outputs": [
    {
     "name": "stdout",
     "output_type": "stream",
     "text": [
      "turime 0, pridedam 11, gauname 11\n",
      "turime 11, pridedam 11, gauname 22\n",
      "turime 22, pridedam 8, gauname 30\n",
      "turime 30, pridedam 8, gauname 38\n",
      "turime 38, pridedam 6, gauname 44\n",
      "turime 44, pridedam 6, gauname 50\n",
      "turime 50, pridedam 5, gauname 55\n",
      "turime 55, pridedam 5, gauname 60\n",
      "turime 60, pridedam 4, gauname 64\n",
      "turime 64, pridedam 3, gauname 67\n",
      "turime 67, pridedam 3, gauname 70\n",
      "turime 70, pridedam 2, gauname 72\n",
      "turime 72, pridedam 2, gauname 74\n",
      "turime 74, pridedam 1, gauname 75\n",
      "75\n"
     ]
    }
   ],
   "source": [
    "suma = 0\n",
    "for skaicius in skaiciai:\n",
    "    print(f\"turime {suma}\", end=\", \")\n",
    "    suma += skaicius\n",
    "    print(f\"pridedam {skaicius}, gauname {suma}\")\n",
    "print(suma)"
   ]
  },
  {
   "cell_type": "code",
   "execution_count": 68,
   "metadata": {},
   "outputs": [
    {
     "name": "stdout",
     "output_type": "stream",
     "text": [
      "{'good': 'geras', 'fun': 'juokingas', 'big': 'didelis', 'bad': 'blogas', 'evil': 'blogis', 'goodness': 'gėris'}\n",
      "good = geras\n",
      "fun = juokingas\n",
      "big = didelis\n",
      "bad = blogas\n",
      "evil = blogis\n",
      "goodness = gėris\n"
     ]
    }
   ],
   "source": [
    "print(zodynas)\n",
    "for zodis in zodynas:\n",
    "    print(zodis, '=', zodynas[zodis])"
   ]
  },
  {
   "cell_type": "code",
   "execution_count": 69,
   "metadata": {},
   "outputs": [
    {
     "name": "stdout",
     "output_type": "stream",
     "text": [
      "geras\n",
      "juokingas\n",
      "didelis\n",
      "blogas\n",
      "blogis\n",
      "gėris\n"
     ]
    }
   ],
   "source": [
    "for zodis in zodynas.values():\n",
    "    print(zodis)"
   ]
  },
  {
   "cell_type": "code",
   "execution_count": 79,
   "metadata": {},
   "outputs": [
    {
     "name": "stdout",
     "output_type": "stream",
     "text": [
      "dict_items([('good', 'geras'), ('fun', 'juokingas'), ('big', 'didelis'), ('bad', 'blogas'), ('evil', 'blogis'), ('goodness', 'gėris')])\n",
      "good = geras\n",
      "fun = juokingas\n",
      "big = didelis\n",
      "******\n",
      "******\n",
      "goodness = gėris\n"
     ]
    }
   ],
   "source": [
    "print(zodynas.items())\n",
    "for angliskai, lietuviskai in zodynas.items():\n",
    "    if angliskai == \"bad\" or angliskai == \"evil\":\n",
    "        print(\"******\")\n",
    "        continue\n",
    "    print(f\"{angliskai} = {lietuviskai}\")"
   ]
  },
  {
   "cell_type": "code",
   "execution_count": 74,
   "metadata": {},
   "outputs": [
    {
     "name": "stdout",
     "output_type": "stream",
     "text": [
      "2000\n",
      "2001\n",
      "2002\n",
      "2003\n",
      "2004\n",
      "2005\n",
      "2006\n",
      "2007\n",
      "2008\n",
      "2009\n",
      "2010\n",
      "2011\n",
      "2012\n",
      "2013\n",
      "2014\n",
      "2015\n",
      "2016\n",
      "2017\n",
      "2018\n",
      "2019\n",
      "2020\n",
      "2021\n",
      "2022\n",
      "2023\n",
      "2024\n"
     ]
    }
   ],
   "source": [
    "for metai in range(2000, 2025):\n",
    "    print(metai)"
   ]
  },
  {
   "cell_type": "code",
   "execution_count": 75,
   "metadata": {},
   "outputs": [
    {
     "name": "stdout",
     "output_type": "stream",
     "text": [
      "2000\n",
      "2001\n",
      "2002\n",
      "2003\n",
      "2004\n",
      "2005\n",
      "2006\n",
      "2008\n",
      "2009\n",
      "2010\n",
      "2011\n",
      "2012\n",
      "2013\n",
      "2014\n",
      "2015\n",
      "2016\n",
      "2017\n",
      "2018\n",
      "2019\n",
      "2020\n",
      "2021\n",
      "2022\n",
      "2023\n",
      "2024\n"
     ]
    }
   ],
   "source": [
    "for metai in range(2000, 2025):\n",
    "    if metai == 2007:\n",
    "        continue\n",
    "    print(metai)"
   ]
  }
 ],
 "metadata": {
  "kernelspec": {
   "display_name": "venv",
   "language": "python",
   "name": "python3"
  },
  "language_info": {
   "codemirror_mode": {
    "name": "ipython",
    "version": 3
   },
   "file_extension": ".py",
   "mimetype": "text/x-python",
   "name": "python",
   "nbconvert_exporter": "python",
   "pygments_lexer": "ipython3",
   "version": "3.8.10"
  },
  "orig_nbformat": 4
 },
 "nbformat": 4,
 "nbformat_minor": 2
}
