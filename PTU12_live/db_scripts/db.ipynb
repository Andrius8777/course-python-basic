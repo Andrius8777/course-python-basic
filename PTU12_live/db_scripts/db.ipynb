{
 "cells": [
  {
   "attachments": {},
   "cell_type": "markdown",
   "metadata": {},
   "source": [
    "## sukuriam lenteles"
   ]
  },
  {
   "cell_type": "code",
   "execution_count": 31,
   "metadata": {},
   "outputs": [],
   "source": [
    "import sqlite3\n",
    "conn = sqlite3.connect(\"zmones.db\")\n",
    "c = conn.cursor()"
   ]
  },
  {
   "cell_type": "code",
   "execution_count": 10,
   "metadata": {},
   "outputs": [],
   "source": [
    "create_query = \"\"\"CREATE TABLE IF NOT EXISTS draugai (\n",
    "    id INTEGER PRIMARY KEY AUTOINCREMENT,\n",
    "    first_name VARCHAR(50),\n",
    "    last_name VARCHAR(50),\n",
    "    email VARCHAR(100)\n",
    ");\"\"\""
   ]
  },
  {
   "cell_type": "code",
   "execution_count": 11,
   "metadata": {},
   "outputs": [],
   "source": [
    "drop_query = \"\"\"DROP TABLE draugai;\"\"\"\n",
    "# c.execute(drop_query)\n",
    "# conn.commit()"
   ]
  },
  {
   "cell_type": "code",
   "execution_count": 12,
   "metadata": {},
   "outputs": [],
   "source": [
    "c.execute(create_query)\n",
    "conn.commit()"
   ]
  },
  {
   "cell_type": "code",
   "execution_count": 21,
   "metadata": {},
   "outputs": [],
   "source": [
    "insert_friend_query = '''INSERT INTO draugai \n",
    "    (first_name, last_name, email)\n",
    "    VALUES (\"Milda\", \"Auglyte\", \"milda@tesla.com\");\n",
    "'''"
   ]
  },
  {
   "cell_type": "code",
   "execution_count": 15,
   "metadata": {},
   "outputs": [],
   "source": [
    "c.execute(insert_friend_query)\n",
    "conn.commit()"
   ]
  },
  {
   "cell_type": "code",
   "execution_count": 22,
   "metadata": {},
   "outputs": [],
   "source": [
    "with conn:\n",
    "    c.execute(insert_friend_query)"
   ]
  },
  {
   "cell_type": "code",
   "execution_count": 23,
   "metadata": {},
   "outputs": [
    {
     "name": "stdout",
     "output_type": "stream",
     "text": [
      "[(1, 'Elon', 'Musk', 'elon@tesla.com'), (2, 'Elon', 'Musk', 'elon@tesla.com'), (3, 'Elon', 'Musk', 'elon@tesla.com'), (4, 'Arnas', 'Bolisas', 'arnas@tesla.com'), (5, 'Andrius', 'Gedvilas', 'andrius@tesla.com'), (6, 'Milda', 'Auglyte', 'milda@tesla.com')]\n"
     ]
    }
   ],
   "source": [
    "with conn:\n",
    "    c.execute(\"SELECT * FROM draugai\")\n",
    "    print(c.fetchall())"
   ]
  },
  {
   "cell_type": "code",
   "execution_count": 29,
   "metadata": {},
   "outputs": [
    {
     "name": "stdout",
     "output_type": "stream",
     "text": [
      "(1, 'Elon', 'Musk', 'elon@tesla.com')\n",
      "(4, 'Arnas', 'Bolisas', 'arnas@tesla.com')\n",
      "(5, 'Andrius', 'Gedvilas', 'andrius@tesla.com')\n"
     ]
    }
   ],
   "source": [
    "with conn:\n",
    "    c.execute(\"SELECT * FROM draugai\")\n",
    "    print(c.fetchone())\n",
    "    print(c.fetchone())\n",
    "    print(c.fetchone())        "
   ]
  },
  {
   "cell_type": "code",
   "execution_count": 28,
   "metadata": {},
   "outputs": [
    {
     "name": "stdout",
     "output_type": "stream",
     "text": [
      "(1, 'Elon', 'Musk', 'elon@tesla.com')\n",
      "(4, 'Arnas', 'Bolisas', 'arnas@tesla.com')\n",
      "(5, 'Andrius', 'Gedvilas', 'andrius@tesla.com')\n",
      "(6, 'Milda', 'Auglyte', 'milda@tesla.com')\n"
     ]
    }
   ],
   "source": [
    "with conn:\n",
    "    c.execute(\"SELECT * FROM draugai\")\n",
    "    while True:\n",
    "        row = c.fetchone()\n",
    "        if not row:\n",
    "            break\n",
    "        print(row)"
   ]
  },
  {
   "cell_type": "code",
   "execution_count": 27,
   "metadata": {},
   "outputs": [],
   "source": [
    "with conn:\n",
    "    c.execute(\"DELETE FROM draugai WHERE id IN (2, 3)\")\n"
   ]
  },
  {
   "cell_type": "code",
   "execution_count": 30,
   "metadata": {},
   "outputs": [],
   "source": [
    "c.close()"
   ]
  },
  {
   "cell_type": "code",
   "execution_count": 32,
   "metadata": {},
   "outputs": [],
   "source": [
    "nauji_draugai = [\n",
    "    (\"Karolis\", \"Tamulevičius\", \"karolis.t@tesla.com\"),\n",
    "    (\"Karolis\", \"Jasadavičius\", \"karolis.j@tesla.com\"),\n",
    "    (\"Karolis\", \"Venckus\", \"karolis.v@tesla.com\"),\n",
    "]\n",
    "with conn:\n",
    "    c.executemany(\"\"\"INSERT INTO draugai \n",
    "        (first_name, last_name, email) VALUES (?, ?, ?)\"\"\", \n",
    "        nauji_draugai)"
   ]
  }
 ],
 "metadata": {
  "kernelspec": {
   "display_name": "venv",
   "language": "python",
   "name": "python3"
  },
  "language_info": {
   "codemirror_mode": {
    "name": "ipython",
    "version": 3
   },
   "file_extension": ".py",
   "mimetype": "text/x-python",
   "name": "python",
   "nbconvert_exporter": "python",
   "pygments_lexer": "ipython3",
   "version": "3.8.10"
  },
  "orig_nbformat": 4
 },
 "nbformat": 4,
 "nbformat_minor": 2
}
