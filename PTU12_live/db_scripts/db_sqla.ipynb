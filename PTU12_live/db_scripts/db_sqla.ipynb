{
 "cells": [
  {
   "cell_type": "code",
   "execution_count": 2,
   "metadata": {},
   "outputs": [],
   "source": [
    "from sqlalchemy import create_engine, Integer, String, Float, DateTime, ForeignKey\n",
    "from sqlalchemy.orm import DeclarativeBase, mapped_column, relationship, sessionmaker\n",
    "from datetime import datetime"
   ]
  },
  {
   "attachments": {},
   "cell_type": "markdown",
   "metadata": {},
   "source": [
    "## viena lentele - projektai"
   ]
  },
  {
   "cell_type": "code",
   "execution_count": null,
   "metadata": {},
   "outputs": [],
   "source": [
    "db_engine = create_engine('sqlite:///projektai.db', echo=True)"
   ]
  },
  {
   "cell_type": "code",
   "execution_count": null,
   "metadata": {},
   "outputs": [],
   "source": [
    "from typing import Any\n",
    "\n",
    "\n",
    "class Base(DeclarativeBase):\n",
    "    pass\n",
    "\n",
    "\n",
    "class Projektas(Base):\n",
    "    __tablename__ = \"projektas\"\n",
    "    id = mapped_column(Integer, primary_key=True)\n",
    "    name = mapped_column(String(50), nullable=False)\n",
    "    price = mapped_column(Float(2), nullable=False)\n",
    "    created = mapped_column(DateTime, default=datetime.utcnow)\n",
    "\n",
    "    def __init__(self, **kw: Any):\n",
    "        # super().__init__(**kw)\n",
    "        for key, value in kw.items():\n",
    "            setattr(self, key, value)\n",
    "    \n",
    "    def __repr__(self) -> str:\n",
    "        return f\"({self.id}, {self.name}, {self.price}, {self.created})\"\n"
   ]
  },
  {
   "cell_type": "code",
   "execution_count": null,
   "metadata": {},
   "outputs": [],
   "source": [
    "Base.metadata.create_all(db_engine)"
   ]
  },
  {
   "cell_type": "code",
   "execution_count": null,
   "metadata": {},
   "outputs": [],
   "source": [
    "from sqlalchemy.orm import Session"
   ]
  },
  {
   "cell_type": "code",
   "execution_count": null,
   "metadata": {},
   "outputs": [],
   "source": [
    "with Session(db_engine) as session:\n",
    "    python_1 = Projektas(name=\"Python Kursai Pradedantiesiems\", price=2000)\n",
    "    session.add(python_1)\n",
    "    session.commit()"
   ]
  },
  {
   "cell_type": "code",
   "execution_count": null,
   "metadata": {},
   "outputs": [],
   "source": [
    "with Session(db_engine) as session:\n",
    "    db_1 = Projektas(name=\"Duomenų Bazių su Python kursas\", price=5000)\n",
    "    frontas = Projektas(name=\"Frontendo kursai: HTML, CSS\", price=1500)\n",
    "    django = Projektas(name=\"Django kursas\", price=7000)\n",
    "    session.add_all([db_1, frontas, django])\n",
    "    session.commit()"
   ]
  },
  {
   "cell_type": "code",
   "execution_count": null,
   "metadata": {},
   "outputs": [],
   "source": [
    "with Session(db_engine) as session:\n",
    "    projektai = session.query(Projektas).all()"
   ]
  },
  {
   "cell_type": "code",
   "execution_count": null,
   "metadata": {},
   "outputs": [],
   "source": [
    "print(projektai)"
   ]
  },
  {
   "cell_type": "code",
   "execution_count": null,
   "metadata": {},
   "outputs": [],
   "source": [
    "for projektas in projektai:\n",
    "    print(projektas)"
   ]
  },
  {
   "cell_type": "code",
   "execution_count": null,
   "metadata": {},
   "outputs": [],
   "source": [
    "with Session(db_engine) as session:\n",
    "    django_kursas = session.query(Projektas).filter_by(name=\"Django kursas\").one()\n",
    "print(django_kursas)"
   ]
  },
  {
   "cell_type": "code",
   "execution_count": null,
   "metadata": {},
   "outputs": [],
   "source": [
    "with Session(db_engine) as session:\n",
    "    pigus = session.query(Projektas).filter(Projektas.price <= 3000)\n",
    "    pigus = pigus.order_by(Projektas.price).all()\n",
    "for projektas in pigus:\n",
    "    print(projektas.price, projektas.name)"
   ]
  },
  {
   "cell_type": "code",
   "execution_count": null,
   "metadata": {},
   "outputs": [],
   "source": [
    "with Session(db_engine) as session:\n",
    "    kursai = session.query(Projektas)\n",
    "    kursai = kursai.filter(Projektas.name.ilike(\"%Python%\")).all()\n",
    "for kursas in kursai:\n",
    "    print(kursas)"
   ]
  },
  {
   "cell_type": "code",
   "execution_count": null,
   "metadata": {},
   "outputs": [],
   "source": [
    "with Session(db_engine) as session:\n",
    "    kursai = session.query(Projektas)\n",
    "    kursai = kursai.filter(Projektas.name.ilike(\"%Python%\")).all()\n",
    "    kursai[0].price = 4000\n",
    "    print(kursai[0])\n",
    "    session.commit()"
   ]
  },
  {
   "cell_type": "code",
   "execution_count": null,
   "metadata": {},
   "outputs": [],
   "source": [
    "with Session(db_engine) as session:\n",
    "    print(projektas)\n",
    "    projektas.price = 3000\n",
    "    session.commit()"
   ]
  },
  {
   "cell_type": "code",
   "execution_count": null,
   "metadata": {},
   "outputs": [],
   "source": [
    "from sqlalchemy.orm import sessionmaker\n",
    "session = sessionmaker(bind=db_engine)()\n",
    "\n",
    "projektas = session.query(Projektas).filter(Projektas.name.like(\"%Django%\")).one()\n",
    "print(projektas)"
   ]
  },
  {
   "cell_type": "code",
   "execution_count": null,
   "metadata": {},
   "outputs": [],
   "source": [
    "projektas.price = 7775\n",
    "session.commit()"
   ]
  },
  {
   "attachments": {},
   "cell_type": "markdown",
   "metadata": {},
   "source": [
    "## susijusios lenteles - tevai/vaikai"
   ]
  },
  {
   "cell_type": "code",
   "execution_count": 3,
   "metadata": {},
   "outputs": [],
   "source": [
    "from typing import Any\n",
    "\n",
    "\n",
    "class Base(DeclarativeBase):\n",
    "    pass"
   ]
  },
  {
   "cell_type": "code",
   "execution_count": null,
   "metadata": {},
   "outputs": [],
   "source": [
    "engine = create_engine('sqlite:///m21_seima.db')\n",
    "session = sessionmaker(bind=engine)()"
   ]
  },
  {
   "cell_type": "code",
   "execution_count": null,
   "metadata": {},
   "outputs": [],
   "source": [
    "class Tevas(Base):\n",
    "    __tablename__ = \"tevas\"\n",
    "    id = mapped_column(Integer, primary_key=True)\n",
    "    vardas = mapped_column(\"vardas\", String(50))\n",
    "    pavarde = mapped_column(\"pavarde\", String(50))\n",
    "    vaikai = relationship(\"Vaikas\", back_populates=\"tevas\")\n",
    "\n",
    "\n",
    "class Vaikas(Base):\n",
    "    __tablename__ = \"vaikas\"\n",
    "    id = mapped_column(Integer, primary_key=True)\n",
    "    vardas = mapped_column(\"vardas\", String(50))\n",
    "    pavarde = mapped_column(\"pavarde\", String(50))\n",
    "    mokykla = mapped_column(\"mokykla\", String(50))\n",
    "    tevas_id = mapped_column(Integer, ForeignKey(\"tevas.id\"))\n",
    "    tevas = relationship(\"Tevas\", back_populates=\"vaikai\")\n",
    "\n",
    "\n",
    "Base.metadata.create_all(engine)"
   ]
  },
  {
   "cell_type": "code",
   "execution_count": null,
   "metadata": {},
   "outputs": [],
   "source": [
    "kestutis = Tevas(vardas=\"Kestutis\", pavarde=\"J\")\n",
    "emilija = Vaikas(vardas=\"Emilija\", pavarde=\"J\", mokykla=\"gera\", tevas=kestutis)\n",
    "maja = Vaikas(vardas=\"Maja\", pavarde=\"J\")\n",
    "marco = Vaikas(vardas=\"Marco\", pavarde=\"J\")\n",
    "kestutis.vaikai.append(maja)\n",
    "marco.tevas = kestutis\n",
    "session.add_all([kestutis, emilija, maja, marco])\n",
    "session.commit()"
   ]
  },
  {
   "cell_type": "code",
   "execution_count": null,
   "metadata": {},
   "outputs": [],
   "source": [
    "tevas = session.query(Tevas).first()\n",
    "print(tevas.vardas)"
   ]
  },
  {
   "cell_type": "code",
   "execution_count": null,
   "metadata": {},
   "outputs": [],
   "source": [
    "for vaikas in tevas.vaikai:\n",
    "    print(vaikas.vardas, vaikas.pavarde)"
   ]
  },
  {
   "cell_type": "code",
   "execution_count": null,
   "metadata": {},
   "outputs": [],
   "source": [
    "tevas.vaikai[1].pavarde = \"Ja\"\n",
    "session.commit()"
   ]
  },
  {
   "cell_type": "code",
   "execution_count": null,
   "metadata": {},
   "outputs": [],
   "source": [
    "visi_vaikai = session.query(Vaikas).all()\n",
    "for vaikas in visi_vaikai:\n",
    "    print(vaikas.vardas, vaikas.tevas)"
   ]
  },
  {
   "cell_type": "code",
   "execution_count": null,
   "metadata": {},
   "outputs": [],
   "source": [
    "tevas.vaikai.remove(visi_vaikai[1])\n",
    "session.commit()"
   ]
  },
  {
   "cell_type": "code",
   "execution_count": null,
   "metadata": {},
   "outputs": [],
   "source": [
    "visi_vaikai[0].tevas = None\n",
    "session.commit()"
   ]
  },
  {
   "attachments": {},
   "cell_type": "markdown",
   "metadata": {},
   "source": [
    "## m2m"
   ]
  },
  {
   "cell_type": "code",
   "execution_count": 4,
   "metadata": {},
   "outputs": [],
   "source": [
    "from sqlalchemy import Table, Column\n",
    "\n",
    "engine = create_engine('sqlite:///m2m_seima.db')\n",
    "session = sessionmaker(bind=engine)()"
   ]
  },
  {
   "cell_type": "code",
   "execution_count": 5,
   "metadata": {},
   "outputs": [],
   "source": [
    "sasajos_lentele = Table('tevai_vaikai', Base.metadata, \n",
    "    Column('id', Integer, primary_key=True),\n",
    "    Column('tevas_id', Integer, ForeignKey('tevas.id')),\n",
    "    Column('vaikas_id', Integer, ForeignKey('vaikas.id')),\n",
    ")\n",
    "\n",
    "class Tevas(Base):\n",
    "    __tablename__ = \"tevas\"\n",
    "    id = mapped_column(Integer, primary_key=True)\n",
    "    vardas = mapped_column(\"vardas\", String(50))\n",
    "    pavarde = mapped_column(\"pavarde\", String(50))\n",
    "    vaikai = relationship(\n",
    "        \"Vaikas\", \n",
    "        secondary=sasajos_lentele, \n",
    "        back_populates='tevai',\n",
    "    )\n",
    "\n",
    "class Vaikas(Base):\n",
    "    __tablename__ = \"vaikas\"\n",
    "    id = mapped_column(Integer, primary_key=True)\n",
    "    vardas = mapped_column(\"vardas\", String(50))\n",
    "    pavarde = mapped_column(\"pavarde\", String(50))\n",
    "    tevai = relationship(\n",
    "        \"Tevas\",\n",
    "        secondary=sasajos_lentele,\n",
    "        back_populates='vaikai',\n",
    "    )\n",
    "\n",
    "Base.metadata.create_all(engine)"
   ]
  },
  {
   "cell_type": "code",
   "execution_count": 8,
   "metadata": {},
   "outputs": [],
   "source": [
    "kestutis = Tevas(vardas=\"Kestutis\", pavarde=\"J\")\n",
    "nicoletta = Tevas(vardas=\"Nicoletta\", pavarde=\"P\")\n",
    "emilija = Vaikas(vardas=\"Emilija\", pavarde=\"J\")\n",
    "maja = Vaikas(vardas=\"Maja\", pavarde=\"Ja\")\n",
    "marco = Vaikas(vardas=\"Marco\", pavarde=\"Jo\")\n",
    "kestutis.vaikai.append(emilija)\n",
    "kestutis.vaikai.append(marco)\n",
    "kestutis.vaikai.append(maja)\n",
    "emilija.tevai.append(nicoletta)\n",
    "maja.tevai.append(nicoletta)\n",
    "marco.tevai.append(nicoletta)\n",
    "session.add_all([kestutis, emilija, maja, marco, nicoletta])\n",
    "session.commit()"
   ]
  },
  {
   "cell_type": "code",
   "execution_count": 10,
   "metadata": {},
   "outputs": [
    {
     "name": "stdout",
     "output_type": "stream",
     "text": [
      "Emilija J\n",
      "Marco Jo\n",
      "Maja Ja\n",
      "Emilija J\n",
      "Maja Ja\n",
      "Marco Jo\n"
     ]
    }
   ],
   "source": [
    "tevas = session.query(Tevas).filter(Tevas.vardas == \"Kestutis\").first()\n",
    "mama = session.query(Tevas).filter(Tevas.vardas == \"Nicoletta\").first()\n",
    "for vaikas in tevas.vaikai:\n",
    "    print(vaikas.vardas, vaikas.pavarde)\n",
    "for vaikas in mama.vaikai:\n",
    "    print(vaikas.vardas, vaikas.pavarde)"
   ]
  },
  {
   "cell_type": "code",
   "execution_count": 11,
   "metadata": {},
   "outputs": [
    {
     "name": "stdout",
     "output_type": "stream",
     "text": [
      "Emilija J\n",
      "-- Nicoletta P\n",
      "-- Kestutis J\n",
      "Marco Jo\n",
      "-- Nicoletta P\n",
      "-- Kestutis J\n",
      "Maja Ja\n",
      "-- Nicoletta P\n",
      "-- Kestutis J\n"
     ]
    }
   ],
   "source": [
    "vaikai = session.query(Vaikas).all()\n",
    "for vaikas in vaikai:\n",
    "    print(vaikas.vardas, vaikas.pavarde)\n",
    "    for tevas in vaikas.tevai:\n",
    "        print(\"--\", tevas.vardas, tevas.pavarde)"
   ]
  },
  {
   "cell_type": "code",
   "execution_count": 12,
   "metadata": {},
   "outputs": [
    {
     "data": {
      "text/plain": [
       "'Kestutis'"
      ]
     },
     "execution_count": 12,
     "metadata": {},
     "output_type": "execute_result"
    }
   ],
   "source": [
    "mama.vaikai[0].tevai[1].vardas"
   ]
  }
 ],
 "metadata": {
  "kernelspec": {
   "display_name": "venv",
   "language": "python",
   "name": "python3"
  },
  "language_info": {
   "codemirror_mode": {
    "name": "ipython",
    "version": 3
   },
   "file_extension": ".py",
   "mimetype": "text/x-python",
   "name": "python",
   "nbconvert_exporter": "python",
   "pygments_lexer": "ipython3",
   "version": "3.8.10"
  },
  "orig_nbformat": 4
 },
 "nbformat": 4,
 "nbformat_minor": 2
}
