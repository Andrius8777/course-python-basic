{
 "cells": [
  {
   "attachments": {},
   "cell_type": "markdown",
   "metadata": {},
   "source": [
    "## Paprasta klasė"
   ]
  },
  {
   "attachments": {},
   "cell_type": "markdown",
   "metadata": {},
   "source": [
    "### Klasė"
   ]
  },
  {
   "cell_type": "code",
   "execution_count": 25,
   "metadata": {},
   "outputs": [],
   "source": [
    "class Automobilis():\n",
    "    marke = ''\n",
    "    modelis = ''\n",
    "    metai = 2000\n",
    "\n",
    "    def vaziuoti(self):\n",
    "        print(f'{self.modelis} vaziuoja')\n",
    "\n",
    "    def pypinti(self, garsas=\"pyp\", kiekis=1):\n",
    "        print(f\"{self.marke} {garsas * kiekis}\")\n",
    "\n",
    "\n",
    "class GerasAuto():\n",
    "    pass\n"
   ]
  },
  {
   "attachments": {},
   "cell_type": "markdown",
   "metadata": {},
   "source": [
    "### Eksperimentai"
   ]
  },
  {
   "cell_type": "code",
   "execution_count": 26,
   "metadata": {},
   "outputs": [
    {
     "name": "stdout",
     "output_type": "stream",
     "text": [
      "Fiat 500 1990\n"
     ]
    }
   ],
   "source": [
    "pugzlys = Automobilis()\n",
    "pugzlys.marke = \"Fiat\"\n",
    "pugzlys.modelis = \"500\"\n",
    "pugzlys.metai = 1990\n",
    "\n",
    "print(pugzlys.marke, pugzlys.modelis, pugzlys.metai)"
   ]
  },
  {
   "cell_type": "code",
   "execution_count": 27,
   "metadata": {},
   "outputs": [
    {
     "name": "stdout",
     "output_type": "stream",
     "text": [
      "True\n"
     ]
    }
   ],
   "source": [
    "fcc = Automobilis()\n",
    "fcc.marke = \"Fiat\"\n",
    "fcc.modelis = \"500\"\n",
    "\n",
    "print(fcc.modelis == pugzlys.modelis)"
   ]
  },
  {
   "cell_type": "code",
   "execution_count": 28,
   "metadata": {},
   "outputs": [
    {
     "name": "stdout",
     "output_type": "stream",
     "text": [
      "Fiat 500 2000\n"
     ]
    }
   ],
   "source": [
    "print(fcc.marke, fcc.modelis, fcc.metai)"
   ]
  },
  {
   "cell_type": "code",
   "execution_count": 29,
   "metadata": {},
   "outputs": [
    {
     "name": "stdout",
     "output_type": "stream",
     "text": [
      "500 vaziuoja\n"
     ]
    }
   ],
   "source": [
    "fcc.vaziuoti()"
   ]
  },
  {
   "cell_type": "code",
   "execution_count": 30,
   "metadata": {},
   "outputs": [
    {
     "name": "stdout",
     "output_type": "stream",
     "text": [
      "Fiat pyppyppyp\n"
     ]
    }
   ],
   "source": [
    "fcc.pypinti(kiekis=3)"
   ]
  },
  {
   "attachments": {},
   "cell_type": "markdown",
   "metadata": {},
   "source": [
    "## klasė su init"
   ]
  },
  {
   "cell_type": "code",
   "execution_count": 42,
   "metadata": {},
   "outputs": [],
   "source": [
    "class Automobilis():\n",
    "    marke = ''\n",
    "    modelis = ''\n",
    "    metai = 2000\n",
    "\n",
    "    def vaziuoti(self):\n",
    "        print(f'{self.modelis} vaziuoja')\n",
    "\n",
    "    def pypinti(self, garsas=\"pyp\", kiekis=1):\n",
    "        print(f\"{self.marke} {garsas * kiekis}\")\n",
    "\n",
    "    def __init__(self, marke, modelis, **extras):\n",
    "        self.marke = marke\n",
    "        self.modelis = modelis\n",
    "        # self.extras = extras\n",
    "        for attr, extra in extras.items():\n",
    "            setattr(self, attr, extra)\n",
    "\n",
    "    def __str__(self):\n",
    "        return f'{self.marke} {self.modelis}, {self.metai}'\n",
    "    \n",
    "    def __repr__(self) -> str:\n",
    "        return f'({self.marke}, {self.modelis}, {self.metai})'\n"
   ]
  },
  {
   "cell_type": "code",
   "execution_count": 43,
   "metadata": {},
   "outputs": [
    {
     "name": "stdout",
     "output_type": "stream",
     "text": [
      "Tesla Model 3, 2021\n"
     ]
    }
   ],
   "source": [
    "tesla = Automobilis(\"Tesla\", \"Model 3\", kuras=\"elektra\")\n",
    "tesla.metai = 2021\n",
    "print(tesla)\n"
   ]
  },
  {
   "cell_type": "code",
   "execution_count": 41,
   "metadata": {},
   "outputs": [
    {
     "name": "stdout",
     "output_type": "stream",
     "text": [
      "[(Tesla, Model 3, 2021), (Tesla, Model 3, 2021), (Tesla, Model 3, 2021)]\n"
     ]
    }
   ],
   "source": [
    "autos = [tesla, tesla, tesla]\n",
    "print(autos)"
   ]
  },
  {
   "cell_type": "code",
   "execution_count": 45,
   "metadata": {},
   "outputs": [
    {
     "data": {
      "text/plain": [
       "{'kuras': 'elektra'}"
      ]
     },
     "execution_count": 45,
     "metadata": {},
     "output_type": "execute_result"
    }
   ],
   "source": [
    "tesla.extras"
   ]
  }
 ],
 "metadata": {
  "kernelspec": {
   "display_name": "venv",
   "language": "python",
   "name": "python3"
  },
  "language_info": {
   "codemirror_mode": {
    "name": "ipython",
    "version": 3
   },
   "file_extension": ".py",
   "mimetype": "text/x-python",
   "name": "python",
   "nbconvert_exporter": "python",
   "pygments_lexer": "ipython3",
   "version": "3.8.10"
  },
  "orig_nbformat": 4
 },
 "nbformat": 4,
 "nbformat_minor": 2
}
