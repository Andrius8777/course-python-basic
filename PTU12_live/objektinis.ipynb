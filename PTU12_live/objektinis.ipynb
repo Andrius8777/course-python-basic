{
 "cells": [
  {
   "attachments": {},
   "cell_type": "markdown",
   "metadata": {},
   "source": [
    "## Paprasta klasė"
   ]
  },
  {
   "attachments": {},
   "cell_type": "markdown",
   "metadata": {},
   "source": [
    "### Klasė"
   ]
  },
  {
   "cell_type": "code",
   "execution_count": 25,
   "metadata": {},
   "outputs": [],
   "source": [
    "class Automobilis():\n",
    "    marke = ''\n",
    "    modelis = ''\n",
    "    metai = 2000\n",
    "\n",
    "    def vaziuoti(self):\n",
    "        print(f'{self.modelis} vaziuoja')\n",
    "\n",
    "    def pypinti(self, garsas=\"pyp\", kiekis=1):\n",
    "        print(f\"{self.marke} {garsas * kiekis}\")\n",
    "\n",
    "\n",
    "class GerasAuto():\n",
    "    pass\n"
   ]
  },
  {
   "attachments": {},
   "cell_type": "markdown",
   "metadata": {},
   "source": [
    "### Eksperimentai"
   ]
  },
  {
   "cell_type": "code",
   "execution_count": 26,
   "metadata": {},
   "outputs": [
    {
     "name": "stdout",
     "output_type": "stream",
     "text": [
      "Fiat 500 1990\n"
     ]
    }
   ],
   "source": [
    "pugzlys = Automobilis()\n",
    "pugzlys.marke = \"Fiat\"\n",
    "pugzlys.modelis = \"500\"\n",
    "pugzlys.metai = 1990\n",
    "\n",
    "print(pugzlys.marke, pugzlys.modelis, pugzlys.metai)"
   ]
  },
  {
   "cell_type": "code",
   "execution_count": 27,
   "metadata": {},
   "outputs": [
    {
     "name": "stdout",
     "output_type": "stream",
     "text": [
      "True\n"
     ]
    }
   ],
   "source": [
    "fcc = Automobilis()\n",
    "fcc.marke = \"Fiat\"\n",
    "fcc.modelis = \"500\"\n",
    "\n",
    "print(fcc.modelis == pugzlys.modelis)"
   ]
  },
  {
   "cell_type": "code",
   "execution_count": 28,
   "metadata": {},
   "outputs": [
    {
     "name": "stdout",
     "output_type": "stream",
     "text": [
      "Fiat 500 2000\n"
     ]
    }
   ],
   "source": [
    "print(fcc.marke, fcc.modelis, fcc.metai)"
   ]
  },
  {
   "cell_type": "code",
   "execution_count": 29,
   "metadata": {},
   "outputs": [
    {
     "name": "stdout",
     "output_type": "stream",
     "text": [
      "500 vaziuoja\n"
     ]
    }
   ],
   "source": [
    "fcc.vaziuoti()"
   ]
  },
  {
   "cell_type": "code",
   "execution_count": 30,
   "metadata": {},
   "outputs": [
    {
     "name": "stdout",
     "output_type": "stream",
     "text": [
      "Fiat pyppyppyp\n"
     ]
    }
   ],
   "source": [
    "fcc.pypinti(kiekis=3)"
   ]
  },
  {
   "attachments": {},
   "cell_type": "markdown",
   "metadata": {},
   "source": [
    "## klasė su init"
   ]
  },
  {
   "cell_type": "code",
   "execution_count": 46,
   "metadata": {},
   "outputs": [],
   "source": [
    "class Automobilis():\n",
    "    marke = ''\n",
    "    modelis = ''\n",
    "    metai = 2000\n",
    "\n",
    "    def vaziuoti(self):\n",
    "        print(f'{self.modelis} vaziuoja')\n",
    "\n",
    "    def pypinti(self, garsas=\"pyp\", kiekis=1):\n",
    "        print(f\"{self.marke} {garsas * kiekis}\")\n",
    "\n",
    "    def __init__(self, marke, modelis, **extras):\n",
    "        self.marke = marke\n",
    "        self.modelis = modelis\n",
    "        # self.extras = extras\n",
    "        for attr, extra in extras.items():\n",
    "            setattr(self, attr, extra)\n",
    "\n",
    "    def __str__(self):\n",
    "        return f'{self.marke} {self.modelis}, {self.metai}'\n",
    "    \n",
    "    def __repr__(self) -> str:\n",
    "        return f'({self.marke}, {self.modelis}, {self.metai})'\n"
   ]
  },
  {
   "cell_type": "code",
   "execution_count": 53,
   "metadata": {},
   "outputs": [
    {
     "name": "stdout",
     "output_type": "stream",
     "text": [
      "Tesla Model 3, 2020\n"
     ]
    }
   ],
   "source": [
    "tesla = Automobilis(\"Tesla\", \"Model 3\", metai=2020, kuras=\"elektra\")\n",
    "print(tesla)\n"
   ]
  },
  {
   "cell_type": "code",
   "execution_count": 49,
   "metadata": {},
   "outputs": [
    {
     "name": "stdout",
     "output_type": "stream",
     "text": [
      "[(Tesla, Model 3, 2021), (Tesla, Model 3, 2021), (Tesla, Model 3, 2021)]\n"
     ]
    }
   ],
   "source": [
    "autos = [tesla, tesla, tesla]\n",
    "print(autos)"
   ]
  },
  {
   "cell_type": "code",
   "execution_count": 52,
   "metadata": {},
   "outputs": [
    {
     "name": "stdout",
     "output_type": "stream",
     "text": [
      "elektra\n"
     ]
    }
   ],
   "source": [
    "print(tesla.kuras)"
   ]
  },
  {
   "cell_type": "code",
   "execution_count": 54,
   "metadata": {},
   "outputs": [
    {
     "name": "stdout",
     "output_type": "stream",
     "text": [
      "<class 'str'>\n"
     ]
    }
   ],
   "source": [
    "print(type(\"Labas\"))"
   ]
  },
  {
   "cell_type": "code",
   "execution_count": 55,
   "metadata": {},
   "outputs": [
    {
     "name": "stdout",
     "output_type": "stream",
     "text": [
      "<class '__main__.Automobilis'>\n"
     ]
    }
   ],
   "source": [
    "print(type(tesla))"
   ]
  },
  {
   "cell_type": "code",
   "execution_count": 58,
   "metadata": {},
   "outputs": [
    {
     "name": "stdout",
     "output_type": "stream",
     "text": [
      "[<__main__.Automobilis object at 0x7f9ab07648b0>, (Tesla, Model 3, 2020), <__main__.Automobilis object at 0x7f9ab05d3af0>]\n"
     ]
    }
   ],
   "source": [
    "autos = [pugzlys, tesla, fcc]\n",
    "print(autos)"
   ]
  },
  {
   "cell_type": "code",
   "execution_count": 60,
   "metadata": {},
   "outputs": [
    {
     "name": "stdout",
     "output_type": "stream",
     "text": [
      "500\n",
      "Model 3\n",
      "500\n",
      "Model 3\n",
      "Model 3\n"
     ]
    }
   ],
   "source": [
    "autos.append(tesla)\n",
    "for car in autos:\n",
    "    print(car.modelis)"
   ]
  },
  {
   "cell_type": "code",
   "execution_count": 63,
   "metadata": {},
   "outputs": [
    {
     "name": "stdout",
     "output_type": "stream",
     "text": [
      "Tesla Model 3, 2020\n",
      "<__main__.Automobilis object at 0x7f9ab05d3af0>\n",
      "Tesla Model S Plaid, 2023\n"
     ]
    }
   ],
   "source": [
    "employee_cars = {}\n",
    "employee_cars['Petras'] = tesla\n",
    "employee_cars['Diedukas'] = fcc\n",
    "employee_cars['Milda'] = Automobilis(\"Tesla\", \"Model S Plaid\", metai=2023, kuras=\"elektra\")\n",
    "for car in employee_cars.values():\n",
    "    print(car)"
   ]
  },
  {
   "cell_type": "code",
   "execution_count": 64,
   "metadata": {},
   "outputs": [
    {
     "name": "stdout",
     "output_type": "stream",
     "text": [
      "Tesla pyp\n"
     ]
    }
   ],
   "source": [
    "employee_cars['Milda'].pypinti()"
   ]
  },
  {
   "attachments": {},
   "cell_type": "markdown",
   "metadata": {},
   "source": [
    "## inkapsuliacija"
   ]
  },
  {
   "cell_type": "code",
   "execution_count": 75,
   "metadata": {},
   "outputs": [],
   "source": [
    "class Automobilis():\n",
    "    def __init__(self, marke, modelis, metai, spalva=\"baltas\") -> None:\n",
    "        self.marke = marke\n",
    "        self.modelis = modelis\n",
    "        self.__metai = metai\n",
    "        self.__spalva = spalva\n",
    "\n",
    "    def __str__(self) -> str:\n",
    "        return f\"{self.marke} {self.modelis}, {self.__metai}, {self.__spalva}\"\n",
    "    \n",
    "    def get_age(self):\n",
    "        return self.__metai\n",
    "    \n",
    "    def refresh(self, years=10):\n",
    "        from datetime import date\n",
    "        today = date.today()\n",
    "        if today.year >= self.__metai + years:\n",
    "            self.__metai += years\n",
    "        else:\n",
    "            raise ValueError('car cannot become younger than today')\n"
   ]
  },
  {
   "cell_type": "code",
   "execution_count": 76,
   "metadata": {},
   "outputs": [
    {
     "name": "stdout",
     "output_type": "stream",
     "text": [
      "Ford Escort, 1983, baltas\n"
     ]
    }
   ],
   "source": [
    "fordukas = Automobilis(\"Ford\", \"Escort\", 1983)\n",
    "print(fordukas)"
   ]
  },
  {
   "cell_type": "code",
   "execution_count": 71,
   "metadata": {},
   "outputs": [
    {
     "name": "stdout",
     "output_type": "stream",
     "text": [
      "1983\n"
     ]
    }
   ],
   "source": [
    "print(fordukas.get_age())"
   ]
  },
  {
   "cell_type": "code",
   "execution_count": 77,
   "metadata": {},
   "outputs": [
    {
     "ename": "ValueError",
     "evalue": "car cannot become younger than today",
     "output_type": "error",
     "traceback": [
      "\u001b[0;31m---------------------------------------------------------------------------\u001b[0m",
      "\u001b[0;31mValueError\u001b[0m                                Traceback (most recent call last)",
      "Cell \u001b[0;32mIn[77], line 1\u001b[0m\n\u001b[0;32m----> 1\u001b[0m fordukas\u001b[39m.\u001b[39;49mrefresh()\n\u001b[1;32m      2\u001b[0m \u001b[39mprint\u001b[39m(fordukas)\n",
      "Cell \u001b[0;32mIn[75], line 20\u001b[0m, in \u001b[0;36mAutomobilis.refresh\u001b[0;34m(self, years)\u001b[0m\n\u001b[1;32m     18\u001b[0m     \u001b[39mself\u001b[39m\u001b[39m.\u001b[39m__metai \u001b[39m+\u001b[39m\u001b[39m=\u001b[39m years\n\u001b[1;32m     19\u001b[0m \u001b[39melse\u001b[39;00m:\n\u001b[0;32m---> 20\u001b[0m     \u001b[39mraise\u001b[39;00m \u001b[39mValueError\u001b[39;00m(\u001b[39m'\u001b[39m\u001b[39mcar cannot become younger than today\u001b[39m\u001b[39m'\u001b[39m)\n",
      "\u001b[0;31mValueError\u001b[0m: car cannot become younger than today"
     ]
    }
   ],
   "source": [
    "fordukas.refresh()\n",
    "print(fordukas)"
   ]
  }
 ],
 "metadata": {
  "kernelspec": {
   "display_name": "venv",
   "language": "python",
   "name": "python3"
  },
  "language_info": {
   "codemirror_mode": {
    "name": "ipython",
    "version": 3
   },
   "file_extension": ".py",
   "mimetype": "text/x-python",
   "name": "python",
   "nbconvert_exporter": "python",
   "pygments_lexer": "ipython3",
   "version": "3.8.10"
  },
  "orig_nbformat": 4
 },
 "nbformat": 4,
 "nbformat_minor": 2
}
