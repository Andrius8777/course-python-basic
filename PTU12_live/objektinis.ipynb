{
 "cells": [
  {
   "attachments": {},
   "cell_type": "markdown",
   "metadata": {},
   "source": [
    "## Paprasta klasė"
   ]
  },
  {
   "attachments": {},
   "cell_type": "markdown",
   "metadata": {},
   "source": [
    "### Klasė"
   ]
  },
  {
   "cell_type": "code",
   "execution_count": 25,
   "metadata": {},
   "outputs": [],
   "source": [
    "class Automobilis():\n",
    "    marke = ''\n",
    "    modelis = ''\n",
    "    metai = 2000\n",
    "\n",
    "    def vaziuoti(self):\n",
    "        print(f'{self.modelis} vaziuoja')\n",
    "\n",
    "    def pypinti(self, garsas=\"pyp\", kiekis=1):\n",
    "        print(f\"{self.marke} {garsas * kiekis}\")\n",
    "\n",
    "\n",
    "class GerasAuto():\n",
    "    pass\n"
   ]
  },
  {
   "attachments": {},
   "cell_type": "markdown",
   "metadata": {},
   "source": [
    "### Eksperimentai"
   ]
  },
  {
   "cell_type": "code",
   "execution_count": 26,
   "metadata": {},
   "outputs": [
    {
     "name": "stdout",
     "output_type": "stream",
     "text": [
      "Fiat 500 1990\n"
     ]
    }
   ],
   "source": [
    "pugzlys = Automobilis()\n",
    "pugzlys.marke = \"Fiat\"\n",
    "pugzlys.modelis = \"500\"\n",
    "pugzlys.metai = 1990\n",
    "\n",
    "print(pugzlys.marke, pugzlys.modelis, pugzlys.metai)"
   ]
  },
  {
   "cell_type": "code",
   "execution_count": 27,
   "metadata": {},
   "outputs": [
    {
     "name": "stdout",
     "output_type": "stream",
     "text": [
      "True\n"
     ]
    }
   ],
   "source": [
    "fcc = Automobilis()\n",
    "fcc.marke = \"Fiat\"\n",
    "fcc.modelis = \"500\"\n",
    "\n",
    "print(fcc.modelis == pugzlys.modelis)"
   ]
  },
  {
   "cell_type": "code",
   "execution_count": 28,
   "metadata": {},
   "outputs": [
    {
     "name": "stdout",
     "output_type": "stream",
     "text": [
      "Fiat 500 2000\n"
     ]
    }
   ],
   "source": [
    "print(fcc.marke, fcc.modelis, fcc.metai)"
   ]
  },
  {
   "cell_type": "code",
   "execution_count": 29,
   "metadata": {},
   "outputs": [
    {
     "name": "stdout",
     "output_type": "stream",
     "text": [
      "500 vaziuoja\n"
     ]
    }
   ],
   "source": [
    "fcc.vaziuoti()"
   ]
  },
  {
   "cell_type": "code",
   "execution_count": 30,
   "metadata": {},
   "outputs": [
    {
     "name": "stdout",
     "output_type": "stream",
     "text": [
      "Fiat pyppyppyp\n"
     ]
    }
   ],
   "source": [
    "fcc.pypinti(kiekis=3)"
   ]
  },
  {
   "attachments": {},
   "cell_type": "markdown",
   "metadata": {},
   "source": [
    "## klasė su init"
   ]
  },
  {
   "cell_type": "code",
   "execution_count": 46,
   "metadata": {},
   "outputs": [],
   "source": [
    "class Automobilis():\n",
    "    marke = ''\n",
    "    modelis = ''\n",
    "    metai = 2000\n",
    "\n",
    "    def vaziuoti(self):\n",
    "        print(f'{self.modelis} vaziuoja')\n",
    "\n",
    "    def pypinti(self, garsas=\"pyp\", kiekis=1):\n",
    "        print(f\"{self.marke} {garsas * kiekis}\")\n",
    "\n",
    "    def __init__(self, marke, modelis, **extras):\n",
    "        self.marke = marke\n",
    "        self.modelis = modelis\n",
    "        # self.extras = extras\n",
    "        for attr, extra in extras.items():\n",
    "            setattr(self, attr, extra)\n",
    "\n",
    "    def __str__(self):\n",
    "        return f'{self.marke} {self.modelis}, {self.metai}'\n",
    "    \n",
    "    def __repr__(self) -> str:\n",
    "        return f'({self.marke}, {self.modelis}, {self.metai})'\n"
   ]
  },
  {
   "cell_type": "code",
   "execution_count": 53,
   "metadata": {},
   "outputs": [
    {
     "name": "stdout",
     "output_type": "stream",
     "text": [
      "Tesla Model 3, 2020\n"
     ]
    }
   ],
   "source": [
    "tesla = Automobilis(\"Tesla\", \"Model 3\", metai=2020, kuras=\"elektra\")\n",
    "print(tesla)\n"
   ]
  },
  {
   "cell_type": "code",
   "execution_count": 49,
   "metadata": {},
   "outputs": [
    {
     "name": "stdout",
     "output_type": "stream",
     "text": [
      "[(Tesla, Model 3, 2021), (Tesla, Model 3, 2021), (Tesla, Model 3, 2021)]\n"
     ]
    }
   ],
   "source": [
    "autos = [tesla, tesla, tesla]\n",
    "print(autos)"
   ]
  },
  {
   "cell_type": "code",
   "execution_count": 52,
   "metadata": {},
   "outputs": [
    {
     "name": "stdout",
     "output_type": "stream",
     "text": [
      "elektra\n"
     ]
    }
   ],
   "source": [
    "print(tesla.kuras)"
   ]
  },
  {
   "cell_type": "code",
   "execution_count": 54,
   "metadata": {},
   "outputs": [
    {
     "name": "stdout",
     "output_type": "stream",
     "text": [
      "<class 'str'>\n"
     ]
    }
   ],
   "source": [
    "print(type(\"Labas\"))"
   ]
  },
  {
   "cell_type": "code",
   "execution_count": 55,
   "metadata": {},
   "outputs": [
    {
     "name": "stdout",
     "output_type": "stream",
     "text": [
      "<class '__main__.Automobilis'>\n"
     ]
    }
   ],
   "source": [
    "print(type(tesla))"
   ]
  },
  {
   "cell_type": "code",
   "execution_count": 58,
   "metadata": {},
   "outputs": [
    {
     "name": "stdout",
     "output_type": "stream",
     "text": [
      "[<__main__.Automobilis object at 0x7f9ab07648b0>, (Tesla, Model 3, 2020), <__main__.Automobilis object at 0x7f9ab05d3af0>]\n"
     ]
    }
   ],
   "source": [
    "autos = [pugzlys, tesla, fcc]\n",
    "print(autos)"
   ]
  },
  {
   "cell_type": "code",
   "execution_count": 60,
   "metadata": {},
   "outputs": [
    {
     "name": "stdout",
     "output_type": "stream",
     "text": [
      "500\n",
      "Model 3\n",
      "500\n",
      "Model 3\n",
      "Model 3\n"
     ]
    }
   ],
   "source": [
    "autos.append(tesla)\n",
    "for car in autos:\n",
    "    print(car.modelis)"
   ]
  },
  {
   "cell_type": "code",
   "execution_count": 63,
   "metadata": {},
   "outputs": [
    {
     "name": "stdout",
     "output_type": "stream",
     "text": [
      "Tesla Model 3, 2020\n",
      "<__main__.Automobilis object at 0x7f9ab05d3af0>\n",
      "Tesla Model S Plaid, 2023\n"
     ]
    }
   ],
   "source": [
    "employee_cars = {}\n",
    "employee_cars['Petras'] = tesla\n",
    "employee_cars['Diedukas'] = fcc\n",
    "employee_cars['Milda'] = Automobilis(\"Tesla\", \"Model S Plaid\", metai=2023, kuras=\"elektra\")\n",
    "for car in employee_cars.values():\n",
    "    print(car)"
   ]
  },
  {
   "cell_type": "code",
   "execution_count": 64,
   "metadata": {},
   "outputs": [
    {
     "name": "stdout",
     "output_type": "stream",
     "text": [
      "Tesla pyp\n"
     ]
    }
   ],
   "source": [
    "employee_cars['Milda'].pypinti()"
   ]
  },
  {
   "attachments": {},
   "cell_type": "markdown",
   "metadata": {},
   "source": [
    "## inkapsuliacija"
   ]
  },
  {
   "cell_type": "code",
   "execution_count": 26,
   "metadata": {},
   "outputs": [],
   "source": [
    "class Automobilis():\n",
    "    def vaziuoti(self):\n",
    "        print(f'{self.modelis} vaziuoja')\n",
    "\n",
    "    def pypinti(self, garsas=\"pyp\", kiekis=1):\n",
    "        print(f\"{self.marke} {garsas * kiekis}\")\n",
    "\n",
    "    def __init__(self, marke, modelis, metai, spalva=\"baltas\", **extras):\n",
    "        self.marke = marke\n",
    "        self.modelis = modelis\n",
    "        self.__metai = metai\n",
    "        self.__spalva = spalva\n",
    "        for attr, extra in extras.items():\n",
    "            setattr(self, attr, extra)\n",
    "\n",
    "    def __str__(self) -> str:\n",
    "        return f\"{self.marke} {self.modelis}, {self.__metai}, {self.__spalva}\"\n",
    "    \n",
    "    def get_age(self):\n",
    "        return self.__metai\n",
    "    \n",
    "    def refresh(self, years=10):\n",
    "        from datetime import date\n",
    "        today = date.today()\n",
    "        if today.year >= self.__metai + years:\n",
    "            self.__metai += years\n",
    "        else:\n",
    "            raise ValueError('car cannot become younger than today')\n",
    "        \n",
    "    def __change_color(self, new_color):\n",
    "        self.__spalva = new_color\n",
    "\n",
    "    def repaint(self, new_color):\n",
    "        self.__change_color(new_color)\n"
   ]
  },
  {
   "cell_type": "code",
   "execution_count": 27,
   "metadata": {},
   "outputs": [
    {
     "name": "stdout",
     "output_type": "stream",
     "text": [
      "Ford Escort, 1983, baltas\n"
     ]
    }
   ],
   "source": [
    "fordukas = Automobilis(\"Ford\", \"Escort\", 1983)\n",
    "print(fordukas)"
   ]
  },
  {
   "cell_type": "code",
   "execution_count": 71,
   "metadata": {},
   "outputs": [
    {
     "name": "stdout",
     "output_type": "stream",
     "text": [
      "1983\n"
     ]
    }
   ],
   "source": [
    "print(fordukas.get_age())"
   ]
  },
  {
   "cell_type": "code",
   "execution_count": 82,
   "metadata": {},
   "outputs": [
    {
     "name": "stdout",
     "output_type": "stream",
     "text": [
      "Ford Escort, 2003, baltas\n"
     ]
    }
   ],
   "source": [
    "fordukas.refresh(10)\n",
    "print(fordukas)"
   ]
  },
  {
   "cell_type": "code",
   "execution_count": 86,
   "metadata": {},
   "outputs": [
    {
     "name": "stdout",
     "output_type": "stream",
     "text": [
      "Ford Escort, 1983, žalias\n"
     ]
    }
   ],
   "source": [
    "fordukas.repaint(\"žalias\")\n",
    "print(fordukas)"
   ]
  },
  {
   "attachments": {},
   "cell_type": "markdown",
   "metadata": {},
   "source": [
    "## Inheritance"
   ]
  },
  {
   "cell_type": "code",
   "execution_count": 32,
   "metadata": {},
   "outputs": [],
   "source": [
    "class Elektromobilis(Automobilis):\n",
    "    kuro_tipas = 'elektra'\n",
    "    __max_greitis = 300\n",
    "\n",
    "    def max_greitis(self):\n",
    "        print(f'{self.__max_greitis} km/h')\n",
    "        return self.__max_greitis"
   ]
  },
  {
   "cell_type": "code",
   "execution_count": 39,
   "metadata": {},
   "outputs": [
    {
     "name": "stdout",
     "output_type": "stream",
     "text": [
      "Tesla Model Y, 2023, juodas\n",
      "300 km/h\n",
      "elektra\n"
     ]
    }
   ],
   "source": [
    "tesla = Elektromobilis(\"Tesla\", \"Model Y\", 2023, \"juodas\")\n",
    "print(tesla)\n",
    "tesla.max_greitis()\n",
    "print(tesla.kuro_tipas)\n"
   ]
  },
  {
   "cell_type": "code",
   "execution_count": 34,
   "metadata": {},
   "outputs": [
    {
     "name": "stdout",
     "output_type": "stream",
     "text": [
      "Tesla pyp\n",
      "Model Y vaziuoja\n"
     ]
    }
   ],
   "source": [
    "tesla.pypinti()\n",
    "tesla.vaziuoti()"
   ]
  },
  {
   "cell_type": "code",
   "execution_count": 35,
   "metadata": {},
   "outputs": [
    {
     "name": "stdout",
     "output_type": "stream",
     "text": [
      "Tesla Model Y, 2023, juodas Elektromobilis\n",
      "Ford Escort, 1983, baltas Automobilis\n"
     ]
    }
   ],
   "source": [
    "print(tesla, type(tesla).__name__)\n",
    "print(fordukas, type(fordukas).__name__)"
   ]
  },
  {
   "cell_type": "code",
   "execution_count": 36,
   "metadata": {},
   "outputs": [
    {
     "data": {
      "text/plain": [
       "False"
      ]
     },
     "execution_count": 36,
     "metadata": {},
     "output_type": "execute_result"
    }
   ],
   "source": [
    "type(tesla) == type(fordukas)"
   ]
  },
  {
   "cell_type": "code",
   "execution_count": 40,
   "metadata": {},
   "outputs": [
    {
     "name": "stdout",
     "output_type": "stream",
     "text": [
      "True\n",
      "True\n",
      "True\n"
     ]
    }
   ],
   "source": [
    "print(isinstance(fordukas, Automobilis))\n",
    "print(isinstance(tesla, Elektromobilis))\n",
    "print(isinstance(tesla, Automobilis))"
   ]
  },
  {
   "attachments": {},
   "cell_type": "markdown",
   "metadata": {},
   "source": [
    "## Abstraction"
   ]
  },
  {
   "cell_type": "code",
   "execution_count": 93,
   "metadata": {},
   "outputs": [],
   "source": [
    "class Automobilis():\n",
    "    variklis = \"1.0\"\n",
    "    kuro_tipas = \"benzinas\"\n",
    "    __greitis = 0\n",
    "\n",
    "    def __init__(self, marke, modelis, metai=2023, spalva='baltas', **kwargs):\n",
    "        self.marke = marke\n",
    "        self.modelis = modelis\n",
    "        self.metai = metai\n",
    "        self.spalva = spalva\n",
    "        self.max_greitis = 200\n",
    "        for key, value in kwargs.items():\n",
    "            setattr(self, key, value)\n",
    "\n",
    "    def __keisti_greiti(self, greitis):\n",
    "        if greitis > self.max_greitis:\n",
    "            greitis = self.max_greitis\n",
    "        if greitis < -10:\n",
    "            greitis = -10\n",
    "        self.__greitis = greitis\n",
    "        return greitis\n",
    "    \n",
    "    def vaziuoti(self):\n",
    "        greitis = self.__greitis\n",
    "        if greitis > 0:\n",
    "            print(f\"važiuoju {greitis} km/h greičiu\")\n",
    "        elif greitis < 0:\n",
    "            print(f\"važiuoju {abs(greitis)} km/h greičiu atgal\")\n",
    "        else:\n",
    "            print(\"stoviu\")\n",
    "\n",
    "    def didinti_greiti(self, pagreitis=10):\n",
    "        # panaudojame privatų metodą maksimalaus greičio ribojimui\n",
    "        self.__keisti_greiti(self.__greitis + pagreitis)\n",
    "        # panaudojame vieša metodą važiavimo situacijai išvesti\n",
    "        self.vaziuoti()\n",
    "\n",
    "    def mazinti_greiti(self, pagreitis=10):\n",
    "        # panaudojame privatų metodą maksimalaus greičio ribojimui\n",
    "        self.__keisti_greiti(self.__greitis - pagreitis)\n",
    "        # panaudojame vieša metodą važiavimo situacijai išvesti\n",
    "        self.vaziuoti()\n",
    "\n",
    "    def __str__(self) -> str:\n",
    "        return f\"{self.marke} {self.modelis}, {self.metai}, {self.spalva}\"\n",
    "\n"
   ]
  },
  {
   "cell_type": "code",
   "execution_count": 78,
   "metadata": {},
   "outputs": [
    {
     "name": "stdout",
     "output_type": "stream",
     "text": [
      "Ford Escort, 1983, baltas 130\n"
     ]
    }
   ],
   "source": [
    "fordukas = Automobilis(\"Ford\", \"Escort\", 1983)\n",
    "fordukas.max_greitis = 130\n",
    "print(fordukas, fordukas.max_greitis)"
   ]
  },
  {
   "cell_type": "code",
   "execution_count": 79,
   "metadata": {},
   "outputs": [
    {
     "name": "stdout",
     "output_type": "stream",
     "text": [
      "važiuoju 10 km/h greičiu atgal\n"
     ]
    }
   ],
   "source": [
    "fordukas.mazinti_greiti()"
   ]
  },
  {
   "cell_type": "code",
   "execution_count": 88,
   "metadata": {},
   "outputs": [],
   "source": [
    "class Elektromobilis(Automobilis):\n",
    "    kuro_tipas = \"elektra\"\n",
    "    variklis = \"perma-magnetinis\""
   ]
  },
  {
   "cell_type": "code",
   "execution_count": 81,
   "metadata": {},
   "outputs": [],
   "source": [
    "def informacija(obj):\n",
    "    print(f\"{obj.marke} {obj.modelis}, {obj.metai} m. {obj.spalva}. Variklis: {obj.variklis} {obj.kuro_tipas}. Max. {obj.max_greitis} km/h\")"
   ]
  },
  {
   "cell_type": "code",
   "execution_count": 91,
   "metadata": {},
   "outputs": [],
   "source": [
    "teslike = Elektromobilis(\"Tesla\", \"Model Y\", 2020, max_greitis=300)"
   ]
  },
  {
   "cell_type": "code",
   "execution_count": 92,
   "metadata": {},
   "outputs": [
    {
     "name": "stdout",
     "output_type": "stream",
     "text": [
      "Ford Escort, 1983 m. baltas. Variklis: 1.0 benzinas. Max. 130 km/h\n",
      "Tesla Model Y, 2020 m. baltas. Variklis: perma-magnetinis elektra. Max. 300 km/h\n"
     ]
    }
   ],
   "source": [
    "informacija(fordukas)\n",
    "informacija(teslike)"
   ]
  },
  {
   "cell_type": "code",
   "execution_count": 116,
   "metadata": {},
   "outputs": [
    {
     "name": "stdout",
     "output_type": "stream",
     "text": [
      "važiuoju 50 km/h greičiu\n"
     ]
    }
   ],
   "source": [
    "teslike.didinti_greiti()"
   ]
  },
  {
   "cell_type": "code",
   "execution_count": 121,
   "metadata": {},
   "outputs": [
    {
     "name": "stdout",
     "output_type": "stream",
     "text": [
      "stoviu\n"
     ]
    }
   ],
   "source": [
    "teslike.mazinti_greiti()"
   ]
  },
  {
   "cell_type": "code",
   "execution_count": 133,
   "metadata": {},
   "outputs": [],
   "source": [
    "class Baseinas():\n",
    "    def __init__(self, talpa, dabartinis_kiekis):\n",
    "        self.talpa = talpa\n",
    "        self.__dabartinis_kiekis = dabartinis_kiekis\n",
    "\n",
    "    def __keisti_kieki(self, naujas_kiekis):\n",
    "        if naujas_kiekis <= self.talpa and naujas_kiekis >= 0:\n",
    "            self.__dabartinis_kiekis = naujas_kiekis\n",
    "        else:\n",
    "            print('Kiekis nepakeistas')\n",
    "\n",
    "    def didinti_kieki(self, keiciamas_kiekis):\n",
    "        self.__keisti_kieki(self.__dabartinis_kiekis + abs(keiciamas_kiekis))\n",
    "        return self.__dabartinis_kiekis\n",
    "\n",
    "    def mazinti_kieki(self, keiciamas_kiekis):\n",
    "        self.__keisti_kieki(self.__dabartinis_kiekis - abs(keiciamas_kiekis))\n",
    "        return self.__dabartinis_kiekis\n",
    "\n",
    "    def gauti_dabartini_kieki(self):\n",
    "        return self.__dabartinis_kiekis\n"
   ]
  },
  {
   "cell_type": "code",
   "execution_count": 139,
   "metadata": {},
   "outputs": [
    {
     "name": "stdout",
     "output_type": "stream",
     "text": [
      "Baseino talpa: 500, dabartinis kiekis: 200\n",
      "Baseino kiekis: 500\n",
      "Sumazintas kiekis: 0\n"
     ]
    }
   ],
   "source": [
    "vichy = Baseinas(500, 200)\n",
    "print(f\"Baseino talpa: {vichy.talpa}, dabartinis kiekis: {vichy.gauti_dabartini_kieki()}\")\n",
    "print(f\"Baseino kiekis: {vichy.didinti_kieki(300)}\")\n",
    "print(f\"Sumazintas kiekis: {vichy.mazinti_kieki(500)}\")\n"
   ]
  }
 ],
 "metadata": {
  "kernelspec": {
   "display_name": "venv",
   "language": "python",
   "name": "python3"
  },
  "language_info": {
   "codemirror_mode": {
    "name": "ipython",
    "version": 3
   },
   "file_extension": ".py",
   "mimetype": "text/x-python",
   "name": "python",
   "nbconvert_exporter": "python",
   "pygments_lexer": "ipython3",
   "version": "3.8.10"
  },
  "orig_nbformat": 4
 },
 "nbformat": 4,
 "nbformat_minor": 2
}
