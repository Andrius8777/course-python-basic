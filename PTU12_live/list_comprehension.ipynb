{
 "cells": [
  {
   "cell_type": "code",
   "execution_count": 4,
   "metadata": {},
   "outputs": [],
   "source": [
    "def pakelta(skaicius):\n",
    "    return skaicius ** 2"
   ]
  },
  {
   "cell_type": "code",
   "execution_count": 12,
   "metadata": {},
   "outputs": [
    {
     "name": "stdout",
     "output_type": "stream",
     "text": [
      "[1, 49, 4, 81, 9, 16, 25]\n"
     ]
    }
   ],
   "source": [
    "skaiciai = [1, 7, 2, 9, 3, 4, 5]\n",
    "kvadratu = lambda skaicius: skaicius ** 2\n",
    "kvadrainiai = map(pakelta, skaiciai)\n",
    "print(list(kvadrainiai))"
   ]
  },
  {
   "cell_type": "code",
   "execution_count": 5,
   "metadata": {},
   "outputs": [
    {
     "name": "stdout",
     "output_type": "stream",
     "text": [
      "[1, 4, 9, 16, 25]\n"
     ]
    }
   ],
   "source": [
    "skaiciai_kvadratu = []\n",
    "for skaicius in skaiciai:\n",
    "    skaiciai_kvadratu.append(pakelta(skaicius))\n",
    "print(skaiciai_kvadratu)"
   ]
  },
  {
   "cell_type": "code",
   "execution_count": 7,
   "metadata": {},
   "outputs": [],
   "source": [
    "def sudetis(a, b):\n",
    "    return a + b"
   ]
  },
  {
   "cell_type": "code",
   "execution_count": 8,
   "metadata": {},
   "outputs": [
    {
     "name": "stdout",
     "output_type": "stream",
     "text": [
      "15\n"
     ]
    }
   ],
   "source": [
    "from functools import reduce\n",
    "suma = reduce(sudetis, skaiciai)\n",
    "print(suma)"
   ]
  },
  {
   "cell_type": "code",
   "execution_count": 9,
   "metadata": {},
   "outputs": [],
   "source": [
    "def didziausias(x, y):\n",
    "    if x < y:\n",
    "        return y\n",
    "    else:\n",
    "        return x"
   ]
  },
  {
   "cell_type": "code",
   "execution_count": 13,
   "metadata": {},
   "outputs": [
    {
     "name": "stdout",
     "output_type": "stream",
     "text": [
      "9\n"
     ]
    }
   ],
   "source": [
    "didz_skaicius = reduce(didziausias, skaiciai)\n",
    "print(didz_skaicius)"
   ]
  },
  {
   "cell_type": "code",
   "execution_count": 39,
   "metadata": {},
   "outputs": [
    {
     "name": "stdout",
     "output_type": "stream",
     "text": [
      "499999500000\n",
      "0:00:00.153281\n"
     ]
    }
   ],
   "source": [
    "from datetime import datetime\n",
    "pradzia = datetime.now()\n",
    "trys_devynerios = range(1, 1000000)\n",
    "print(reduce(sudetis, trys_devynerios))\n",
    "print(datetime.now() - pradzia)"
   ]
  },
  {
   "cell_type": "code",
   "execution_count": 43,
   "metadata": {},
   "outputs": [
    {
     "name": "stdout",
     "output_type": "stream",
     "text": [
      "499999500000\n",
      "0:00:00.203773\n"
     ]
    }
   ],
   "source": [
    "pradzia = datetime.now()\n",
    "suma = 0\n",
    "for skaicius in trys_devynerios:\n",
    "    suma += skaicius\n",
    "print(suma)\n",
    "print(datetime.now() - pradzia)"
   ]
  },
  {
   "cell_type": "code",
   "execution_count": 49,
   "metadata": {},
   "outputs": [
    {
     "name": "stdout",
     "output_type": "stream",
     "text": [
      "500000\n"
     ]
    }
   ],
   "source": [
    "from statistics import mean, median\n",
    "print(mean(trys_devynerios))"
   ]
  },
  {
   "cell_type": "code",
   "execution_count": 93,
   "metadata": {},
   "outputs": [
    {
     "name": "stdout",
     "output_type": "stream",
     "text": [
      "[914446, 682612, 763857, 342895, 279205, 480403, 161433, 421555, 104464, 654665, 485873, 888999, 76560, 545438, 522507, 300455, 121952, 956647, 968147, 804275]\n"
     ]
    }
   ],
   "source": [
    "from random import shuffle\n",
    "maisytos_devynerios = list(trys_devynerios)\n",
    "shuffle(maisytos_devynerios)\n",
    "print(maisytos_devynerios[:20])"
   ]
  },
  {
   "cell_type": "code",
   "execution_count": 63,
   "metadata": {},
   "outputs": [
    {
     "name": "stdout",
     "output_type": "stream",
     "text": [
      "501823.8617\n"
     ]
    }
   ],
   "source": [
    "print(mean(maisytos_devynerios[:10000]))"
   ]
  },
  {
   "cell_type": "code",
   "execution_count": 64,
   "metadata": {},
   "outputs": [
    {
     "name": "stdout",
     "output_type": "stream",
     "text": [
      "[1, 2, 3, 4, 5, 6, 7, 8, 9, 10]\n"
     ]
    }
   ],
   "source": [
    "isrusiuotos_devynerios = sorted(maisytos_devynerios)\n",
    "print(isrusiuotos_devynerios[:10])"
   ]
  },
  {
   "cell_type": "code",
   "execution_count": 79,
   "metadata": {},
   "outputs": [
    {
     "name": "stdout",
     "output_type": "stream",
     "text": [
      "Petras Petraitis - 9.7\n",
      "Jonas Jonaitis - 8.0\n",
      "Ona Onaitė - 7.0\n"
     ]
    }
   ],
   "source": [
    "class Studentas:\n",
    "    def __init__(self, vardas, pavarde, pazymiai):\n",
    "        self.vardas = vardas\n",
    "        self.pavarde = pavarde\n",
    "        self.pazymiai = pazymiai\n",
    "\n",
    "    @property\n",
    "    def vidurkis(self):\n",
    "        return sum(self.pazymiai) / len(self.pazymiai)\n",
    "    \n",
    "    def __str__(self):\n",
    "        return f\"{self.vardas} {self.pavarde}: {self.vidurkis}\"\n",
    "\n",
    "    def __repr__(self):\n",
    "        return f\"({self.vardas}, {self.pavarde}, {self.vidurkis})\"\n",
    "\n",
    "\n",
    "studentai = [\n",
    "    Studentas(\"Jonas\", \"Jonaitis\", [8, 9, 7]),\n",
    "    Studentas(\"Petras\", \"Petraitis\", [10, 9, 10]),\n",
    "    Studentas(\"Ona\", \"Onaitė\", [6, 8, 7]),\n",
    "]\n",
    "\n",
    "rusiuoti_studentai = sorted(studentai, key=lambda x: x.vidurkis, reverse=True)\n",
    "for studentas in rusiuoti_studentai:\n",
    "    print(f\"{studentas.vardas} {studentas.pavarde} - {studentas.vidurkis:.1f}\")"
   ]
  },
  {
   "cell_type": "code",
   "execution_count": 80,
   "metadata": {},
   "outputs": [
    {
     "name": "stdout",
     "output_type": "stream",
     "text": [
      "[(Jonas, Jonaitis, 8.0), (Ona, Onaitė, 7.0), (Petras, Petraitis, 9.666666666666666)]\n"
     ]
    }
   ],
   "source": [
    "from operator import attrgetter\n",
    "\n",
    "rusiuoti_studentai = sorted(studentai, key=attrgetter(\"pavarde\"))\n",
    "print(rusiuoti_studentai)"
   ]
  },
  {
   "cell_type": "code",
   "execution_count": 81,
   "metadata": {},
   "outputs": [
    {
     "name": "stdout",
     "output_type": "stream",
     "text": [
      "[(Ona, Onaitė, 7.0), (Jonas, Jonaitis, 8.0), (Petras, Petraitis, 9.666666666666666)]\n"
     ]
    }
   ],
   "source": [
    "from operator import attrgetter\n",
    "\n",
    "rusiuoti_studentai = sorted(studentai, key=attrgetter(\"vidurkis\"))\n",
    "print(rusiuoti_studentai)"
   ]
  },
  {
   "cell_type": "code",
   "execution_count": 82,
   "metadata": {},
   "outputs": [
    {
     "name": "stdout",
     "output_type": "stream",
     "text": [
      "[1, 7, 2, 9, 3, 4, 5]\n"
     ]
    }
   ],
   "source": [
    "print(skaiciai)"
   ]
  },
  {
   "cell_type": "code",
   "execution_count": 83,
   "metadata": {},
   "outputs": [
    {
     "name": "stdout",
     "output_type": "stream",
     "text": [
      "[1, 343, 8, 729, 27, 64, 125]\n"
     ]
    }
   ],
   "source": [
    "kubiniai = [skaicius ** 3 for skaicius in skaiciai]\n",
    "print(kubiniai)"
   ]
  },
  {
   "cell_type": "code",
   "execution_count": 87,
   "metadata": {},
   "outputs": [
    {
     "name": "stdout",
     "output_type": "stream",
     "text": [
      "[4, 16]\n"
     ]
    }
   ],
   "source": [
    "ar_lyginis = lambda skaicius: skaicius % 2 == 0\n",
    "lyginiai_kvadratu = [skaicius ** 2 for skaicius in skaiciai if ar_lyginis(skaicius)]\n",
    "print(lyginiai_kvadratu)"
   ]
  },
  {
   "cell_type": "code",
   "execution_count": 89,
   "metadata": {},
   "outputs": [
    {
     "name": "stdout",
     "output_type": "stream",
     "text": [
      "[2, 14, 4, 18, 6, 8, 10]\n"
     ]
    }
   ],
   "source": [
    "dvigubi = [(lambda sk: sk * 2)(skaicius) for skaicius in skaiciai]\n",
    "print(dvigubi)"
   ]
  },
  {
   "cell_type": "code",
   "execution_count": 94,
   "metadata": {},
   "outputs": [
    {
     "name": "stdout",
     "output_type": "stream",
     "text": [
      "699249650850267639191056\n",
      "217117922520339710791936\n",
      "340446012201493065569601\n",
      "13824346466953210050625\n",
      "6077049382204395600625\n",
      "53262658943893564523281\n",
      "679155575423048753121\n",
      "31580352920355354900625\n",
      "119087617036863471616\n",
      "183686184167996461950625\n"
     ]
    }
   ],
   "source": [
    "generuotos_devynerios = (sk ** 4 for sk in maisytos_devynerios)\n",
    "for sk in range(0, 10):\n",
    "    print(generuotos_devynerios.__next__())"
   ]
  }
 ],
 "metadata": {
  "kernelspec": {
   "display_name": "venv",
   "language": "python",
   "name": "python3"
  },
  "language_info": {
   "codemirror_mode": {
    "name": "ipython",
    "version": 3
   },
   "file_extension": ".py",
   "mimetype": "text/x-python",
   "name": "python",
   "nbconvert_exporter": "python",
   "pygments_lexer": "ipython3",
   "version": "3.8.10"
  },
  "orig_nbformat": 4
 },
 "nbformat": 4,
 "nbformat_minor": 2
}
