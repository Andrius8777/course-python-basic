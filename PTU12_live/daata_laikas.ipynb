{
 "cells": [
  {
   "cell_type": "code",
   "execution_count": 1,
   "metadata": {},
   "outputs": [],
   "source": [
    "from datetime import datetime"
   ]
  },
  {
   "cell_type": "code",
   "execution_count": 8,
   "metadata": {},
   "outputs": [
    {
     "name": "stdout",
     "output_type": "stream",
     "text": [
      "2023-04-24 13:05:40.123456 <class 'datetime.datetime'>\n"
     ]
    }
   ],
   "source": [
    "dt = datetime(2023, 4, 24, 13, 5, 40, 123456)\n",
    "print(dt, type(dt))"
   ]
  },
  {
   "cell_type": "code",
   "execution_count": 7,
   "metadata": {},
   "outputs": [
    {
     "name": "stdout",
     "output_type": "stream",
     "text": [
      "2023-04-24 13:06:03.729917\n"
     ]
    }
   ],
   "source": [
    "dabar = datetime.now()\n",
    "print(dabar)"
   ]
  },
  {
   "cell_type": "code",
   "execution_count": 9,
   "metadata": {},
   "outputs": [
    {
     "name": "stdout",
     "output_type": "stream",
     "text": [
      "2023-04-24\n"
     ]
    }
   ],
   "source": [
    "from datetime import date\n",
    "siandien = date.today()\n",
    "print(siandien)"
   ]
  },
  {
   "cell_type": "code",
   "execution_count": 10,
   "metadata": {},
   "outputs": [
    {
     "name": "stdout",
     "output_type": "stream",
     "text": [
      "1983-03-19\n"
     ]
    }
   ],
   "source": [
    "mano_gimtadienis = date(1983, 3, 19)\n",
    "print(mano_gimtadienis)"
   ]
  },
  {
   "cell_type": "code",
   "execution_count": 12,
   "metadata": {},
   "outputs": [
    {
     "name": "stdout",
     "output_type": "stream",
     "text": [
      "14646 days, 0:00:00 <class 'datetime.timedelta'>\n"
     ]
    }
   ],
   "source": [
    "amzius = siandien - mano_gimtadienis\n",
    "print(amzius, type(amzius))"
   ]
  },
  {
   "cell_type": "code",
   "execution_count": 13,
   "metadata": {},
   "outputs": [
    {
     "name": "stdout",
     "output_type": "stream",
     "text": [
      "40.09856262833676\n"
     ]
    }
   ],
   "source": [
    "print(amzius.days / 365.25)"
   ]
  },
  {
   "cell_type": "code",
   "execution_count": 14,
   "metadata": {},
   "outputs": [
    {
     "name": "stdout",
     "output_type": "stream",
     "text": [
      "2023-04-24 13:16:13.764693\n"
     ]
    }
   ],
   "source": [
    "from datetime import timedelta\n",
    "uz_penkiu_min = datetime.now() + timedelta(minutes=5)\n",
    "print(uz_penkiu_min)"
   ]
  },
  {
   "cell_type": "code",
   "execution_count": 15,
   "metadata": {},
   "outputs": [
    {
     "name": "stdout",
     "output_type": "stream",
     "text": [
      "1:00:00\n"
     ]
    }
   ],
   "source": [
    "valanda = timedelta(hours=1)\n",
    "print(valanda)"
   ]
  },
  {
   "cell_type": "code",
   "execution_count": 16,
   "metadata": {},
   "outputs": [
    {
     "name": "stdout",
     "output_type": "stream",
     "text": [
      "0:30:00\n"
     ]
    }
   ],
   "source": [
    "print(valanda + timedelta(minutes=-30))"
   ]
  },
  {
   "cell_type": "code",
   "execution_count": 19,
   "metadata": {},
   "outputs": [
    {
     "name": "stdout",
     "output_type": "stream",
     "text": [
      "2023 04 24 13:06\n"
     ]
    }
   ],
   "source": [
    "print(dabar.strftime(\"%Y %m %d %H:%M\"))"
   ]
  },
  {
   "cell_type": "code",
   "execution_count": 24,
   "metadata": {},
   "outputs": [
    {
     "name": "stdout",
     "output_type": "stream",
     "text": [
      "2023-04-01 00:00:00 <class 'datetime.datetime'>\n",
      "2023-04-01 <class 'datetime.date'>\n"
     ]
    }
   ],
   "source": [
    "tekstine_data = \"2023-04-01\"\n",
    "objektine_data = datetime.strptime(tekstine_data, \"%Y-%m-%d\")\n",
    "print(objektine_data, type(objektine_data))\n",
    "print(objektine_data.date(), type(objektine_data.date()))"
   ]
  },
  {
   "cell_type": "code",
   "execution_count": 25,
   "metadata": {},
   "outputs": [
    {
     "name": "stdout",
     "output_type": "stream",
     "text": [
      "Monday\n"
     ]
    }
   ],
   "source": [
    "print(dabar.strftime(\"%A\"))"
   ]
  },
  {
   "cell_type": "code",
   "execution_count": 32,
   "metadata": {},
   "outputs": [
    {
     "name": "stdout",
     "output_type": "stream",
     "text": [
      "2023-04-24 13:06:03.729917\n",
      "1682330763.729917\n"
     ]
    }
   ],
   "source": [
    "import time\n",
    "\n",
    "print(dabar)\n",
    "laiko_zyme = time.mktime(dabar.timetuple())\n",
    "laiko_zyme = float(f\"{int(laiko_zyme)}.{dabar.microsecond}\")\n",
    "print(laiko_zyme)"
   ]
  },
  {
   "cell_type": "code",
   "execution_count": 33,
   "metadata": {},
   "outputs": [
    {
     "name": "stdout",
     "output_type": "stream",
     "text": [
      "2023-04-24 13:06:03.729917\n"
     ]
    }
   ],
   "source": [
    "naujas_dabar = datetime.fromtimestamp(laiko_zyme)\n",
    "print(naujas_dabar)"
   ]
  }
 ],
 "metadata": {
  "kernelspec": {
   "display_name": "venv",
   "language": "python",
   "name": "python3"
  },
  "language_info": {
   "codemirror_mode": {
    "name": "ipython",
    "version": 3
   },
   "file_extension": ".py",
   "mimetype": "text/x-python",
   "name": "python",
   "nbconvert_exporter": "python",
   "pygments_lexer": "ipython3",
   "version": "3.8.10"
  },
  "orig_nbformat": 4
 },
 "nbformat": 4,
 "nbformat_minor": 2
}
