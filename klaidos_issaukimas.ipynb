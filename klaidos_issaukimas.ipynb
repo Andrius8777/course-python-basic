{
 "cells": [
  {
   "cell_type": "code",
   "execution_count": 10,
   "metadata": {},
   "outputs": [
    {
     "name": "stdout",
     "output_type": "stream",
     "text": [
      "Klaida: Ivestas neigiamas skaicius: -20.0 \n",
      "<class '__main__.Skaiciaus_tipas'>\n",
      "Skaicius ivestas teisingas 7.0\n"
     ]
    }
   ],
   "source": [
    "class Skaiciaus_tipas(ValueError):\n",
    "    pass\n",
    "\n",
    "\n",
    "while True:\n",
    "    try:\n",
    "        ivestis = float(input(\"Iveskite skaiciu\"))\n",
    "        if ivestis <= 0:\n",
    "            raise Skaiciaus_tipas(\"Ivestas neigiamas skaicius\")\n",
    "        else:\n",
    "            print(f'Skaicius ivestas teisingas {ivestis}')\n",
    "        break\n",
    "    except Skaiciaus_tipas as error:\n",
    "        print(f'Klaida: {error}: {ivestis} \\n{error.__class__}') \n"
   ]
  }
 ],
 "metadata": {
  "kernelspec": {
   "display_name": "venv",
   "language": "python",
   "name": "python3"
  },
  "language_info": {
   "codemirror_mode": {
    "name": "ipython",
    "version": 3
   },
   "file_extension": ".py",
   "mimetype": "text/x-python",
   "name": "python",
   "nbconvert_exporter": "python",
   "pygments_lexer": "ipython3",
   "version": "3.12.1"
  }
 },
 "nbformat": 4,
 "nbformat_minor": 2
}
