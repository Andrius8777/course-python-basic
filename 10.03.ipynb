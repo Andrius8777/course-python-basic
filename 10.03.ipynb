{
 "cells": [
  {
   "cell_type": "code",
   "execution_count": 1,
   "metadata": {},
   "outputs": [
    {
     "name": "stdout",
     "output_type": "stream",
     "text": [
      "10\n",
      "20\n",
      "4\n",
      "10\n"
     ]
    }
   ],
   "source": [
    "1#uzduotis\n",
    "sarasas = [10, 20, 5, 4, 10]\n",
    "lyginiai = filter(lambda x: x % 2 == 0, sarasas)\n",
    "iteratorius = iter(lyginiai)\n",
    "while True:\n",
    "    try:\n",
    "        skaiciai = next(iteratorius)\n",
    "        print(skaiciai)\n",
    "    except StopIteration:\n",
    "        break\n"
   ]
  },
  {
   "cell_type": "code",
   "execution_count": 12,
   "metadata": {},
   "outputs": [
    {
     "name": "stdout",
     "output_type": "stream",
     "text": [
      "BMW\n",
      "Mazda\n"
     ]
    }
   ],
   "source": [
    "#2uzduotis\n",
    "zodynas = {'audi': 1, \"BMW\": 5, 'Mazda': 6}\n",
    "mano_iter = iter(zodynas.items())\n",
    "while True:\n",
    "    try:\n",
    "        modelis, serija = next(mano_iter)\n",
    "        if serija >= 4:\n",
    "            print(modelis)\n",
    "    except StopIteration:\n",
    "        break\n",
    "\n",
    "\n",
    "\n"
   ]
  },
  {
   "cell_type": "code",
   "execution_count": 1,
   "metadata": {},
   "outputs": [
    {
     "name": "stdout",
     "output_type": "stream",
     "text": [
      "5\n",
      "7\n",
      "3\n",
      "3\n",
      "10\n",
      "7\n"
     ]
    }
   ],
   "source": [
    "#3 uzduotis\n",
    "\n",
    "tekstas = \"Labas pasauli čia yra pavyzdinis tekstas\"\n",
    "zodziu_ilgiai = (len(zodis) for zodis in tekstas.split())\n",
    "\n",
    "for ilgis in zodziu_ilgiai:\n",
    "    print(ilgis)\n",
    "\n",
    "\n"
   ]
  }
 ],
 "metadata": {
  "kernelspec": {
   "display_name": "venv",
   "language": "python",
   "name": "python3"
  },
  "language_info": {
   "codemirror_mode": {
    "name": "ipython",
    "version": 3
   },
   "file_extension": ".py",
   "mimetype": "text/x-python",
   "name": "python",
   "nbconvert_exporter": "python",
   "pygments_lexer": "ipython3",
   "version": "3.12.1"
  }
 },
 "nbformat": 4,
 "nbformat_minor": 2
}
