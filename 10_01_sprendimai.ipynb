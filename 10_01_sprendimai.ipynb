{
 "cells": [
  {
   "cell_type": "code",
   "execution_count": 5,
   "metadata": {},
   "outputs": [
    {
     "name": "stdout",
     "output_type": "stream",
     "text": [
      "4920000\n"
     ]
    }
   ],
   "source": [
    "# 2 uzduotis\n",
    "from functools import reduce\n",
    "import statistics\n",
    "\n",
    "skaiciai = [2, 5, 10, 20, 30, 82]\n",
    "\n",
    "sandauga = reduce(lambda x, y: x*y, skaiciai)\n",
    "print(sandauga)\n",
    "\n",
    "\n"
   ]
  },
  {
   "cell_type": "code",
   "execution_count": null,
   "metadata": {},
   "outputs": [],
   "source": [
    "# 3 uzduotis\n",
    "\n",
    "print(sum(skaiciai))\n",
    "print(max(skaiciai))\n",
    "print(min(skaiciai))\n",
    "print(statistics.mean(skaiciai))\n",
    "print(statistics.median(skaiciai))"
   ]
  },
  {
   "cell_type": "code",
   "execution_count": 7,
   "metadata": {},
   "outputs": [
    {
     "name": "stdout",
     "output_type": "stream",
     "text": [
      "[30, 10, 82, 2, 5, 20]\n"
     ]
    }
   ],
   "source": [
    "# 4uzduotis\n",
    "\n",
    "rusiavimas = sorted(skaiciai, key=lambda x: x % 3)\n",
    "print(rusiavimas)\n"
   ]
  },
  {
   "cell_type": "code",
   "execution_count": 11,
   "metadata": {},
   "outputs": [
    {
     "name": "stdout",
     "output_type": "stream",
     "text": [
      "28.8\n",
      "28.8\n"
     ]
    }
   ],
   "source": [
    "#5 uzduotis\n",
    "kitas_sprendimas = reduce(lambda x, y: x + y, filter(lambda x: x % 2 == 0, skaiciai)) / len(list(filter(lambda x: x % 2 == 0, skaiciai)))\n",
    "print(kitas_sprendimas)\n",
    "    \n",
    "lyginiai = filter(lambda x: x % 2 == 0, skaiciai)\n",
    "\n",
    "print(statistics.mean(list(lyginiai)))"
   ]
  },
  {
   "cell_type": "code",
   "execution_count": 4,
   "metadata": {},
   "outputs": [
    {
     "name": "stdout",
     "output_type": "stream",
     "text": [
      "[40, 60, 164]\n"
     ]
    }
   ],
   "source": [
    "#1 uzduotis\n",
    "skaiciai = [2, 5, 10, 20, 30, 82]\n",
    "didesni_uz_10 = filter(lambda x: x > 10, skaiciai)\n",
    "didinimas_double = map(lambda x: x* 2, didesni_uz_10)\n",
    "print(list(didinimas_double))\n"
   ]
  }
 ],
 "metadata": {
  "kernelspec": {
   "display_name": "venv",
   "language": "python",
   "name": "python3"
  },
  "language_info": {
   "codemirror_mode": {
    "name": "ipython",
    "version": 3
   },
   "file_extension": ".py",
   "mimetype": "text/x-python",
   "name": "python",
   "nbconvert_exporter": "python",
   "pygments_lexer": "ipython3",
   "version": "3.12.1"
  }
 },
 "nbformat": 4,
 "nbformat_minor": 2
}
